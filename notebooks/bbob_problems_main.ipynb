{
 "cells": [
  {
   "cell_type": "code",
   "execution_count": 1,
   "id": "bc96cc7a-8648-4dfd-a2b5-f64dff4f30c6",
   "metadata": {
    "ExecuteTime": {
     "end_time": "2025-08-08T15:16:42.631293Z",
     "start_time": "2025-08-08T15:16:42.602029Z"
    }
   },
   "outputs": [],
   "source": [
    "import sys\n",
    "sys.path.append('/mnt/new_home/ronedr/evolution-strategy-baselines-comparison')"
   ]
  },
  {
   "cell_type": "code",
   "execution_count": 2,
   "id": "1d5a2858-24f6-4907-94cd-b2957a8d862e",
   "metadata": {
    "ExecuteTime": {
     "end_time": "2025-08-08T15:16:56.566539Z",
     "start_time": "2025-08-08T15:16:43.222315Z"
    }
   },
   "outputs": [],
   "source": [
    "from tqdm import tqdm\n",
    "from evosax.problems import BBOBProblem as Problem, bbob_fns\n",
    "from experiment.run_experiments import run_experiment_permutations"
   ]
  },
  {
   "cell_type": "code",
   "execution_count": 3,
   "id": "b7167a5e-feb0-4096-a817-04f91625c884",
   "metadata": {
    "ExecuteTime": {
     "end_time": "2025-08-08T15:16:56.595961Z",
     "start_time": "2025-08-08T15:16:56.569061Z"
    }
   },
   "outputs": [],
   "source": [
    "num_dims = 2\n",
    "es_dict = {\n",
    "    \"SimpleES\": {},\n",
    "    \"LES\": {},\n",
    "    \"DES\": {},\n",
    "    \"EvoTF_ES\": {},\n",
    "    \"PGPE\": {},\n",
    "    \"Open_ES\": {},\n",
    "    \"SNES\": {},\n",
    "    \"Sep_CMA_ES\": {},\n",
    "    \"CMA_ES\": {},\n",
    "}\n",
    "\n",
    "num_generations = 8_192\n",
    "population_size = 1_024\n",
    "seeds = list(range(0, 5))\n",
    "result_dir = \"../experiment_results\"\n",
    "problems_bbob_fns = list(bbob_fns.keys())"
   ]
  },
  {
   "cell_type": "code",
   "execution_count": 4,
   "id": "2208eb8b-8e36-4758-87b7-93d1201b7357",
   "metadata": {
    "ExecuteTime": {
     "end_time": "2025-08-08T15:17:30.660358Z",
     "start_time": "2025-08-08T15:16:57.830220Z"
    }
   },
   "outputs": [
    {
     "name": "stderr",
     "output_type": "stream",
     "text": [
      "Loading Problems ..:   0%|          | 0/24 [00:00<?, ?it/s]"
     ]
    },
    {
     "name": "stdout",
     "output_type": "stream",
     "text": [
      "Successfully loaded: sphere\n"
     ]
    },
    {
     "name": "stderr",
     "output_type": "stream",
     "text": [
      "\n",
      "Running ES algorithms:   0%|          | 0/1 [00:00<?, ?it/s]\u001b[A\n",
      "Running ES algorithms: 100%|██████████| 1/1 [00:00<00:00,  9.55it/s]\u001b[A\n"
     ]
    },
    {
     "name": "stdout",
     "output_type": "stream",
     "text": [
      "there is experiment results. [../experiment_results/BBOBProblem/sphere/SimpleES/0.json]\n"
     ]
    },
    {
     "name": "stderr",
     "output_type": "stream",
     "text": [
      "\n",
      "Running ES algorithms:   0%|          | 0/1 [00:00<?, ?it/s]\u001b[A"
     ]
    },
    {
     "name": "stdout",
     "output_type": "stream",
     "text": [
      "running the experiment ... [../experiment_results/BBOBProblem/sphere/SimpleES/1.json]\n"
     ]
    },
    {
     "name": "stderr",
     "output_type": "stream",
     "text": [
      "\n",
      "Running ES algorithms: 100%|██████████| 1/1 [00:15<00:00, 15.30s/it]\u001b[A\n",
      "\n",
      "Running ES algorithms:   0%|          | 0/1 [00:00<?, ?it/s]\u001b[A"
     ]
    },
    {
     "name": "stdout",
     "output_type": "stream",
     "text": [
      "running the experiment ... [../experiment_results/BBOBProblem/sphere/SimpleES/2.json]\n"
     ]
    },
    {
     "name": "stderr",
     "output_type": "stream",
     "text": [
      "\n",
      "Running ES algorithms: 100%|██████████| 1/1 [00:12<00:00, 12.67s/it]\u001b[A\n",
      "\n",
      "Running ES algorithms:   0%|          | 0/1 [00:00<?, ?it/s]\u001b[A"
     ]
    },
    {
     "name": "stdout",
     "output_type": "stream",
     "text": [
      "running the experiment ... [../experiment_results/BBOBProblem/sphere/SimpleES/3.json]\n"
     ]
    },
    {
     "name": "stderr",
     "output_type": "stream",
     "text": [
      "\n",
      "Running ES algorithms: 100%|██████████| 1/1 [00:12<00:00, 12.66s/it]\u001b[A\n",
      "\n",
      "Running ES algorithms:   0%|          | 0/1 [00:00<?, ?it/s]\u001b[A"
     ]
    },
    {
     "name": "stdout",
     "output_type": "stream",
     "text": [
      "running the experiment ... [../experiment_results/BBOBProblem/sphere/SimpleES/4.json]\n"
     ]
    },
    {
     "name": "stderr",
     "output_type": "stream",
     "text": [
      "\n",
      "Running ES algorithms: 100%|██████████| 1/1 [00:12<00:00, 12.65s/it]\u001b[A\n",
      "\n",
      "Running ES algorithms:   0%|          | 0/1 [00:00<?, ?it/s]\u001b[A"
     ]
    },
    {
     "name": "stdout",
     "output_type": "stream",
     "text": [
      "running the experiment ... [../experiment_results/BBOBProblem/sphere/LearnedES/0.json]\n"
     ]
    },
    {
     "name": "stderr",
     "output_type": "stream",
     "text": [
      "\n",
      "Running ES algorithms: 100%|██████████| 1/1 [00:15<00:00, 15.10s/it]\u001b[A\n",
      "\n",
      "Running ES algorithms:   0%|          | 0/1 [00:00<?, ?it/s]\u001b[A"
     ]
    },
    {
     "name": "stdout",
     "output_type": "stream",
     "text": [
      "running the experiment ... [../experiment_results/BBOBProblem/sphere/LearnedES/1.json]\n"
     ]
    },
    {
     "name": "stderr",
     "output_type": "stream",
     "text": [
      "\n",
      "Running ES algorithms: 100%|██████████| 1/1 [00:14<00:00, 14.38s/it]\u001b[A\n",
      "\n",
      "Running ES algorithms:   0%|          | 0/1 [00:00<?, ?it/s]\u001b[A"
     ]
    },
    {
     "name": "stdout",
     "output_type": "stream",
     "text": [
      "running the experiment ... [../experiment_results/BBOBProblem/sphere/LearnedES/2.json]\n"
     ]
    },
    {
     "name": "stderr",
     "output_type": "stream",
     "text": [
      "\n",
      "Running ES algorithms: 100%|██████████| 1/1 [00:14<00:00, 14.17s/it]\u001b[A\n",
      "\n",
      "Running ES algorithms:   0%|          | 0/1 [00:00<?, ?it/s]\u001b[A"
     ]
    },
    {
     "name": "stdout",
     "output_type": "stream",
     "text": [
      "running the experiment ... [../experiment_results/BBOBProblem/sphere/LearnedES/3.json]\n"
     ]
    },
    {
     "name": "stderr",
     "output_type": "stream",
     "text": [
      "\n",
      "Running ES algorithms: 100%|██████████| 1/1 [00:14<00:00, 14.32s/it]\u001b[A\n",
      "\n",
      "Running ES algorithms:   0%|          | 0/1 [00:00<?, ?it/s]\u001b[A"
     ]
    },
    {
     "name": "stdout",
     "output_type": "stream",
     "text": [
      "running the experiment ... [../experiment_results/BBOBProblem/sphere/LearnedES/4.json]\n"
     ]
    },
    {
     "name": "stderr",
     "output_type": "stream",
     "text": [
      "\n",
      "Running ES algorithms: 100%|██████████| 1/1 [00:14<00:00, 14.40s/it]\u001b[A\n",
      "\n",
      "Running ES algorithms:   0%|          | 0/1 [00:00<?, ?it/s]\u001b[A"
     ]
    },
    {
     "name": "stdout",
     "output_type": "stream",
     "text": [
      "running the experiment ... [../experiment_results/BBOBProblem/sphere/DiscoveredES/0.json]\n"
     ]
    },
    {
     "name": "stderr",
     "output_type": "stream",
     "text": [
      "\n",
      "Running ES algorithms: 100%|██████████| 1/1 [00:12<00:00, 12.95s/it]\u001b[A\n",
      "\n",
      "Running ES algorithms:   0%|          | 0/1 [00:00<?, ?it/s]\u001b[A"
     ]
    },
    {
     "name": "stdout",
     "output_type": "stream",
     "text": [
      "running the experiment ... [../experiment_results/BBOBProblem/sphere/DiscoveredES/1.json]\n"
     ]
    },
    {
     "name": "stderr",
     "output_type": "stream",
     "text": [
      "\n",
      "Running ES algorithms: 100%|██████████| 1/1 [00:12<00:00, 12.75s/it]\u001b[A\n",
      "\n",
      "Running ES algorithms:   0%|          | 0/1 [00:00<?, ?it/s]\u001b[A"
     ]
    },
    {
     "name": "stdout",
     "output_type": "stream",
     "text": [
      "running the experiment ... [../experiment_results/BBOBProblem/sphere/DiscoveredES/2.json]\n"
     ]
    },
    {
     "name": "stderr",
     "output_type": "stream",
     "text": [
      "\n",
      "Running ES algorithms: 100%|██████████| 1/1 [00:12<00:00, 12.36s/it]\u001b[A\n",
      "\n",
      "Running ES algorithms:   0%|          | 0/1 [00:00<?, ?it/s]\u001b[A"
     ]
    },
    {
     "name": "stdout",
     "output_type": "stream",
     "text": [
      "running the experiment ... [../experiment_results/BBOBProblem/sphere/DiscoveredES/3.json]\n"
     ]
    },
    {
     "name": "stderr",
     "output_type": "stream",
     "text": [
      "\n",
      "Running ES algorithms: 100%|██████████| 1/1 [00:12<00:00, 12.57s/it]\u001b[A\n",
      "\n",
      "Running ES algorithms:   0%|          | 0/1 [00:00<?, ?it/s]\u001b[A"
     ]
    },
    {
     "name": "stdout",
     "output_type": "stream",
     "text": [
      "running the experiment ... [../experiment_results/BBOBProblem/sphere/DiscoveredES/4.json]\n"
     ]
    },
    {
     "name": "stderr",
     "output_type": "stream",
     "text": [
      "\n",
      "Running ES algorithms: 100%|██████████| 1/1 [00:12<00:00, 12.53s/it]\u001b[A\n",
      "\n",
      "Running ES algorithms:   0%|          | 0/1 [00:00<?, ?it/s]\u001b[A"
     ]
    },
    {
     "name": "stdout",
     "output_type": "stream",
     "text": [
      "running the experiment ... [../experiment_results/BBOBProblem/sphere/EvoTF_ES/0.json]\n"
     ]
    },
    {
     "name": "stderr",
     "output_type": "stream",
     "text": [
      "\n",
      "Running ES algorithms: 100%|██████████| 1/1 [00:31<00:00, 31.53s/it]\u001b[A\n",
      "\n",
      "Running ES algorithms:   0%|          | 0/1 [00:00<?, ?it/s]\u001b[A"
     ]
    },
    {
     "name": "stdout",
     "output_type": "stream",
     "text": [
      "running the experiment ... [../experiment_results/BBOBProblem/sphere/EvoTF_ES/1.json]\n"
     ]
    },
    {
     "name": "stderr",
     "output_type": "stream",
     "text": [
      "\n",
      "Running ES algorithms: 100%|██████████| 1/1 [00:28<00:00, 28.03s/it]\u001b[A\n",
      "\n",
      "Running ES algorithms:   0%|          | 0/1 [00:00<?, ?it/s]\u001b[A"
     ]
    },
    {
     "name": "stdout",
     "output_type": "stream",
     "text": [
      "running the experiment ... [../experiment_results/BBOBProblem/sphere/EvoTF_ES/2.json]\n"
     ]
    },
    {
     "name": "stderr",
     "output_type": "stream",
     "text": [
      "\n",
      "Running ES algorithms: 100%|██████████| 1/1 [00:28<00:00, 28.06s/it]\u001b[A\n",
      "\n",
      "Running ES algorithms:   0%|          | 0/1 [00:00<?, ?it/s]\u001b[A"
     ]
    },
    {
     "name": "stdout",
     "output_type": "stream",
     "text": [
      "running the experiment ... [../experiment_results/BBOBProblem/sphere/EvoTF_ES/3.json]\n"
     ]
    },
    {
     "name": "stderr",
     "output_type": "stream",
     "text": [
      "\n",
      "Running ES algorithms: 100%|██████████| 1/1 [00:27<00:00, 27.99s/it]\u001b[A\n",
      "\n",
      "Running ES algorithms:   0%|          | 0/1 [00:00<?, ?it/s]\u001b[A"
     ]
    },
    {
     "name": "stdout",
     "output_type": "stream",
     "text": [
      "running the experiment ... [../experiment_results/BBOBProblem/sphere/EvoTF_ES/4.json]\n"
     ]
    },
    {
     "name": "stderr",
     "output_type": "stream",
     "text": [
      "\n",
      "Running ES algorithms: 100%|██████████| 1/1 [00:27<00:00, 27.97s/it]\u001b[A\n",
      "\n",
      "Running ES algorithms:   0%|          | 0/1 [00:00<?, ?it/s]\u001b[A"
     ]
    },
    {
     "name": "stdout",
     "output_type": "stream",
     "text": [
      "running the experiment ... [../experiment_results/BBOBProblem/sphere/PGPE/0.json]\n"
     ]
    },
    {
     "name": "stderr",
     "output_type": "stream",
     "text": [
      "\n",
      "Running ES algorithms: 100%|██████████| 1/1 [00:13<00:00, 13.05s/it]\u001b[A\n",
      "\n",
      "Running ES algorithms:   0%|          | 0/1 [00:00<?, ?it/s]\u001b[A"
     ]
    },
    {
     "name": "stdout",
     "output_type": "stream",
     "text": [
      "running the experiment ... [../experiment_results/BBOBProblem/sphere/PGPE/1.json]\n"
     ]
    },
    {
     "name": "stderr",
     "output_type": "stream",
     "text": [
      "\n",
      "Running ES algorithms: 100%|██████████| 1/1 [00:12<00:00, 12.98s/it]\u001b[A\n",
      "\n",
      "Running ES algorithms:   0%|          | 0/1 [00:00<?, ?it/s]\u001b[A"
     ]
    },
    {
     "name": "stdout",
     "output_type": "stream",
     "text": [
      "running the experiment ... [../experiment_results/BBOBProblem/sphere/PGPE/2.json]\n"
     ]
    },
    {
     "name": "stderr",
     "output_type": "stream",
     "text": [
      "\n",
      "Running ES algorithms: 100%|██████████| 1/1 [00:13<00:00, 13.13s/it]\u001b[A\n",
      "\n",
      "Running ES algorithms:   0%|          | 0/1 [00:00<?, ?it/s]\u001b[A"
     ]
    },
    {
     "name": "stdout",
     "output_type": "stream",
     "text": [
      "running the experiment ... [../experiment_results/BBOBProblem/sphere/PGPE/3.json]\n"
     ]
    },
    {
     "name": "stderr",
     "output_type": "stream",
     "text": [
      "\n",
      "Running ES algorithms: 100%|██████████| 1/1 [00:13<00:00, 13.07s/it]\u001b[A\n",
      "\n",
      "Running ES algorithms:   0%|          | 0/1 [00:00<?, ?it/s]\u001b[A"
     ]
    },
    {
     "name": "stdout",
     "output_type": "stream",
     "text": [
      "running the experiment ... [../experiment_results/BBOBProblem/sphere/PGPE/4.json]\n"
     ]
    },
    {
     "name": "stderr",
     "output_type": "stream",
     "text": [
      "\n",
      "Running ES algorithms: 100%|██████████| 1/1 [00:12<00:00, 12.88s/it]\u001b[A\n",
      "\n",
      "Running ES algorithms:   0%|          | 0/1 [00:00<?, ?it/s]\u001b[A"
     ]
    },
    {
     "name": "stdout",
     "output_type": "stream",
     "text": [
      "running the experiment ... [../experiment_results/BBOBProblem/sphere/Open_ES/0.json]\n"
     ]
    },
    {
     "name": "stderr",
     "output_type": "stream",
     "text": [
      "\n",
      "Running ES algorithms: 100%|██████████| 1/1 [00:12<00:00, 12.10s/it]\u001b[A\n",
      "\n",
      "Running ES algorithms:   0%|          | 0/1 [00:00<?, ?it/s]\u001b[A"
     ]
    },
    {
     "name": "stdout",
     "output_type": "stream",
     "text": [
      "running the experiment ... [../experiment_results/BBOBProblem/sphere/Open_ES/1.json]\n"
     ]
    },
    {
     "name": "stderr",
     "output_type": "stream",
     "text": [
      "\n",
      "Running ES algorithms: 100%|██████████| 1/1 [00:11<00:00, 11.95s/it]\u001b[A\n",
      "\n",
      "Running ES algorithms:   0%|          | 0/1 [00:00<?, ?it/s]\u001b[A"
     ]
    },
    {
     "name": "stdout",
     "output_type": "stream",
     "text": [
      "running the experiment ... [../experiment_results/BBOBProblem/sphere/Open_ES/2.json]\n"
     ]
    },
    {
     "name": "stderr",
     "output_type": "stream",
     "text": [
      "\n",
      "Running ES algorithms: 100%|██████████| 1/1 [00:12<00:00, 12.09s/it]\u001b[A\n",
      "\n",
      "Running ES algorithms:   0%|          | 0/1 [00:00<?, ?it/s]\u001b[A"
     ]
    },
    {
     "name": "stdout",
     "output_type": "stream",
     "text": [
      "running the experiment ... [../experiment_results/BBOBProblem/sphere/Open_ES/3.json]\n"
     ]
    },
    {
     "name": "stderr",
     "output_type": "stream",
     "text": [
      "\n",
      "Running ES algorithms: 100%|██████████| 1/1 [00:11<00:00, 11.89s/it]\u001b[A\n",
      "\n",
      "Running ES algorithms:   0%|          | 0/1 [00:00<?, ?it/s]\u001b[A"
     ]
    },
    {
     "name": "stdout",
     "output_type": "stream",
     "text": [
      "running the experiment ... [../experiment_results/BBOBProblem/sphere/Open_ES/4.json]\n"
     ]
    },
    {
     "name": "stderr",
     "output_type": "stream",
     "text": [
      "\n",
      "Running ES algorithms: 100%|██████████| 1/1 [00:12<00:00, 12.22s/it]\u001b[A\n",
      "\n",
      "Running ES algorithms:   0%|          | 0/1 [00:00<?, ?it/s]\u001b[A"
     ]
    },
    {
     "name": "stdout",
     "output_type": "stream",
     "text": [
      "running the experiment ... [../experiment_results/BBOBProblem/sphere/SNES/0.json]\n"
     ]
    },
    {
     "name": "stderr",
     "output_type": "stream",
     "text": [
      "\n",
      "Running ES algorithms: 100%|██████████| 1/1 [00:12<00:00, 12.84s/it]\u001b[A\n",
      "\n",
      "Running ES algorithms:   0%|          | 0/1 [00:00<?, ?it/s]\u001b[A"
     ]
    },
    {
     "name": "stdout",
     "output_type": "stream",
     "text": [
      "running the experiment ... [../experiment_results/BBOBProblem/sphere/SNES/1.json]\n"
     ]
    },
    {
     "name": "stderr",
     "output_type": "stream",
     "text": [
      "\n",
      "Running ES algorithms: 100%|██████████| 1/1 [00:12<00:00, 12.32s/it]\u001b[A\n",
      "\n",
      "Running ES algorithms:   0%|          | 0/1 [00:00<?, ?it/s]\u001b[A"
     ]
    },
    {
     "name": "stdout",
     "output_type": "stream",
     "text": [
      "running the experiment ... [../experiment_results/BBOBProblem/sphere/SNES/2.json]\n"
     ]
    },
    {
     "name": "stderr",
     "output_type": "stream",
     "text": [
      "\n",
      "Running ES algorithms: 100%|██████████| 1/1 [00:12<00:00, 12.59s/it]\u001b[A\n",
      "\n",
      "Running ES algorithms:   0%|          | 0/1 [00:00<?, ?it/s]\u001b[A"
     ]
    },
    {
     "name": "stdout",
     "output_type": "stream",
     "text": [
      "running the experiment ... [../experiment_results/BBOBProblem/sphere/SNES/3.json]\n"
     ]
    },
    {
     "name": "stderr",
     "output_type": "stream",
     "text": [
      "\n",
      "Running ES algorithms: 100%|██████████| 1/1 [00:12<00:00, 12.22s/it]\u001b[A\n",
      "\n",
      "Running ES algorithms:   0%|          | 0/1 [00:00<?, ?it/s]\u001b[A"
     ]
    },
    {
     "name": "stdout",
     "output_type": "stream",
     "text": [
      "running the experiment ... [../experiment_results/BBOBProblem/sphere/SNES/4.json]\n"
     ]
    },
    {
     "name": "stderr",
     "output_type": "stream",
     "text": [
      "\n",
      "Running ES algorithms: 100%|██████████| 1/1 [00:12<00:00, 12.40s/it]\u001b[A\n",
      "\n",
      "Running ES algorithms:   0%|          | 0/1 [00:00<?, ?it/s]\u001b[A"
     ]
    },
    {
     "name": "stdout",
     "output_type": "stream",
     "text": [
      "running the experiment ... [../experiment_results/BBOBProblem/sphere/Sep_CMA_ES/0.json]\n"
     ]
    },
    {
     "name": "stderr",
     "output_type": "stream",
     "text": [
      "\n",
      "Running ES algorithms: 100%|██████████| 1/1 [00:14<00:00, 14.38s/it]\u001b[A\n",
      "\n",
      "Running ES algorithms:   0%|          | 0/1 [00:00<?, ?it/s]\u001b[A"
     ]
    },
    {
     "name": "stdout",
     "output_type": "stream",
     "text": [
      "running the experiment ... [../experiment_results/BBOBProblem/sphere/Sep_CMA_ES/1.json]\n"
     ]
    },
    {
     "name": "stderr",
     "output_type": "stream",
     "text": [
      "\n",
      "Running ES algorithms: 100%|██████████| 1/1 [00:13<00:00, 13.61s/it]\u001b[A\n",
      "\n",
      "Running ES algorithms:   0%|          | 0/1 [00:00<?, ?it/s]\u001b[A"
     ]
    },
    {
     "name": "stdout",
     "output_type": "stream",
     "text": [
      "running the experiment ... [../experiment_results/BBOBProblem/sphere/Sep_CMA_ES/2.json]\n"
     ]
    },
    {
     "name": "stderr",
     "output_type": "stream",
     "text": [
      "\n",
      "Running ES algorithms: 100%|██████████| 1/1 [00:13<00:00, 13.60s/it]\u001b[A\n",
      "\n",
      "Running ES algorithms:   0%|          | 0/1 [00:00<?, ?it/s]\u001b[A"
     ]
    },
    {
     "name": "stdout",
     "output_type": "stream",
     "text": [
      "running the experiment ... [../experiment_results/BBOBProblem/sphere/Sep_CMA_ES/3.json]\n"
     ]
    },
    {
     "name": "stderr",
     "output_type": "stream",
     "text": [
      "\n",
      "Running ES algorithms: 100%|██████████| 1/1 [00:13<00:00, 13.36s/it]\u001b[A\n",
      "\n",
      "Running ES algorithms:   0%|          | 0/1 [00:00<?, ?it/s]\u001b[A"
     ]
    },
    {
     "name": "stdout",
     "output_type": "stream",
     "text": [
      "running the experiment ... [../experiment_results/BBOBProblem/sphere/Sep_CMA_ES/4.json]\n"
     ]
    },
    {
     "name": "stderr",
     "output_type": "stream",
     "text": [
      "\n",
      "Running ES algorithms: 100%|██████████| 1/1 [00:13<00:00, 13.60s/it]\u001b[A\n",
      "\n",
      "Running ES algorithms:   0%|          | 0/1 [00:00<?, ?it/s]\u001b[A"
     ]
    },
    {
     "name": "stdout",
     "output_type": "stream",
     "text": [
      "running the experiment ... [../experiment_results/BBOBProblem/sphere/CMA_ES/0.json]\n"
     ]
    },
    {
     "name": "stderr",
     "output_type": "stream",
     "text": [
      "\n",
      "Running ES algorithms: 100%|██████████| 1/1 [00:17<00:00, 17.42s/it]\u001b[A\n",
      "\n",
      "Running ES algorithms:   0%|          | 0/1 [00:00<?, ?it/s]\u001b[A"
     ]
    },
    {
     "name": "stdout",
     "output_type": "stream",
     "text": [
      "running the experiment ... [../experiment_results/BBOBProblem/sphere/CMA_ES/1.json]\n"
     ]
    },
    {
     "name": "stderr",
     "output_type": "stream",
     "text": [
      "\n",
      "Running ES algorithms: 100%|██████████| 1/1 [00:15<00:00, 15.58s/it]\u001b[A\n",
      "\n",
      "Running ES algorithms:   0%|          | 0/1 [00:00<?, ?it/s]\u001b[A"
     ]
    },
    {
     "name": "stdout",
     "output_type": "stream",
     "text": [
      "running the experiment ... [../experiment_results/BBOBProblem/sphere/CMA_ES/2.json]\n"
     ]
    },
    {
     "name": "stderr",
     "output_type": "stream",
     "text": [
      "\n",
      "Running ES algorithms: 100%|██████████| 1/1 [00:15<00:00, 15.30s/it]\u001b[A\n",
      "\n",
      "Running ES algorithms:   0%|          | 0/1 [00:00<?, ?it/s]\u001b[A"
     ]
    },
    {
     "name": "stdout",
     "output_type": "stream",
     "text": [
      "running the experiment ... [../experiment_results/BBOBProblem/sphere/CMA_ES/3.json]\n"
     ]
    },
    {
     "name": "stderr",
     "output_type": "stream",
     "text": [
      "\n",
      "Running ES algorithms: 100%|██████████| 1/1 [00:15<00:00, 15.54s/it]\u001b[A\n",
      "\n",
      "Running ES algorithms:   0%|          | 0/1 [00:00<?, ?it/s]\u001b[A"
     ]
    },
    {
     "name": "stdout",
     "output_type": "stream",
     "text": [
      "running the experiment ... [../experiment_results/BBOBProblem/sphere/CMA_ES/4.json]\n"
     ]
    },
    {
     "name": "stderr",
     "output_type": "stream",
     "text": [
      "\n",
      "Running ES algorithms: 100%|██████████| 1/1 [00:15<00:00, 15.36s/it]\u001b[A\n",
      "Loading Problems ..:   4%|▍         | 1/24 [11:11<4:17:18, 671.22s/it]"
     ]
    },
    {
     "name": "stdout",
     "output_type": "stream",
     "text": [
      "Successfully loaded: ellipsoidal\n"
     ]
    },
    {
     "name": "stderr",
     "output_type": "stream",
     "text": [
      "\n",
      "Running ES algorithms:   0%|          | 0/1 [00:00<?, ?it/s]\u001b[A"
     ]
    },
    {
     "name": "stdout",
     "output_type": "stream",
     "text": [
      "running the experiment ... [../experiment_results/BBOBProblem/ellipsoidal/SimpleES/0.json]\n"
     ]
    },
    {
     "name": "stderr",
     "output_type": "stream",
     "text": [
      "\n",
      "Running ES algorithms: 100%|██████████| 1/1 [00:12<00:00, 12.76s/it]\u001b[A\n",
      "\n",
      "Running ES algorithms:   0%|          | 0/1 [00:00<?, ?it/s]\u001b[A"
     ]
    },
    {
     "name": "stdout",
     "output_type": "stream",
     "text": [
      "running the experiment ... [../experiment_results/BBOBProblem/ellipsoidal/SimpleES/1.json]\n"
     ]
    },
    {
     "name": "stderr",
     "output_type": "stream",
     "text": [
      "\n",
      "Running ES algorithms: 100%|██████████| 1/1 [00:12<00:00, 12.35s/it]\u001b[A\n",
      "\n",
      "Running ES algorithms:   0%|          | 0/1 [00:00<?, ?it/s]\u001b[A"
     ]
    },
    {
     "name": "stdout",
     "output_type": "stream",
     "text": [
      "running the experiment ... [../experiment_results/BBOBProblem/ellipsoidal/SimpleES/2.json]\n"
     ]
    },
    {
     "name": "stderr",
     "output_type": "stream",
     "text": [
      "\n",
      "Running ES algorithms: 100%|██████████| 1/1 [00:12<00:00, 12.61s/it]\u001b[A\n",
      "\n",
      "Running ES algorithms:   0%|          | 0/1 [00:00<?, ?it/s]\u001b[A"
     ]
    },
    {
     "name": "stdout",
     "output_type": "stream",
     "text": [
      "running the experiment ... [../experiment_results/BBOBProblem/ellipsoidal/SimpleES/3.json]\n"
     ]
    },
    {
     "name": "stderr",
     "output_type": "stream",
     "text": [
      "\n",
      "Running ES algorithms: 100%|██████████| 1/1 [00:12<00:00, 12.56s/it]\u001b[A\n",
      "\n",
      "Running ES algorithms:   0%|          | 0/1 [00:00<?, ?it/s]\u001b[A"
     ]
    },
    {
     "name": "stdout",
     "output_type": "stream",
     "text": [
      "running the experiment ... [../experiment_results/BBOBProblem/ellipsoidal/SimpleES/4.json]\n"
     ]
    },
    {
     "name": "stderr",
     "output_type": "stream",
     "text": [
      "\n",
      "Running ES algorithms: 100%|██████████| 1/1 [00:12<00:00, 12.35s/it]\u001b[A\n",
      "\n",
      "Running ES algorithms:   0%|          | 0/1 [00:00<?, ?it/s]\u001b[A"
     ]
    },
    {
     "name": "stdout",
     "output_type": "stream",
     "text": [
      "running the experiment ... [../experiment_results/BBOBProblem/ellipsoidal/LearnedES/0.json]\n"
     ]
    },
    {
     "name": "stderr",
     "output_type": "stream",
     "text": [
      "\n",
      "Running ES algorithms: 100%|██████████| 1/1 [00:14<00:00, 14.28s/it]\u001b[A\n",
      "\n",
      "Running ES algorithms:   0%|          | 0/1 [00:00<?, ?it/s]\u001b[A"
     ]
    },
    {
     "name": "stdout",
     "output_type": "stream",
     "text": [
      "running the experiment ... [../experiment_results/BBOBProblem/ellipsoidal/LearnedES/1.json]\n"
     ]
    },
    {
     "name": "stderr",
     "output_type": "stream",
     "text": [
      "\n",
      "Running ES algorithms: 100%|██████████| 1/1 [00:13<00:00, 13.99s/it]\u001b[A\n",
      "\n",
      "Running ES algorithms:   0%|          | 0/1 [00:00<?, ?it/s]\u001b[A"
     ]
    },
    {
     "name": "stdout",
     "output_type": "stream",
     "text": [
      "running the experiment ... [../experiment_results/BBOBProblem/ellipsoidal/LearnedES/2.json]\n"
     ]
    },
    {
     "name": "stderr",
     "output_type": "stream",
     "text": [
      "\n",
      "Running ES algorithms: 100%|██████████| 1/1 [00:14<00:00, 14.36s/it]\u001b[A\n",
      "\n",
      "Running ES algorithms:   0%|          | 0/1 [00:00<?, ?it/s]\u001b[A"
     ]
    },
    {
     "name": "stdout",
     "output_type": "stream",
     "text": [
      "running the experiment ... [../experiment_results/BBOBProblem/ellipsoidal/LearnedES/3.json]\n"
     ]
    },
    {
     "name": "stderr",
     "output_type": "stream",
     "text": [
      "\n",
      "Running ES algorithms: 100%|██████████| 1/1 [00:14<00:00, 14.06s/it]\u001b[A\n",
      "\n",
      "Running ES algorithms:   0%|          | 0/1 [00:00<?, ?it/s]\u001b[A"
     ]
    },
    {
     "name": "stdout",
     "output_type": "stream",
     "text": [
      "running the experiment ... [../experiment_results/BBOBProblem/ellipsoidal/LearnedES/4.json]\n"
     ]
    },
    {
     "name": "stderr",
     "output_type": "stream",
     "text": [
      "\n",
      "Running ES algorithms: 100%|██████████| 1/1 [00:14<00:00, 14.41s/it]\u001b[A\n",
      "\n",
      "Running ES algorithms:   0%|          | 0/1 [00:00<?, ?it/s]\u001b[A"
     ]
    },
    {
     "name": "stdout",
     "output_type": "stream",
     "text": [
      "running the experiment ... [../experiment_results/BBOBProblem/ellipsoidal/DiscoveredES/0.json]\n"
     ]
    },
    {
     "name": "stderr",
     "output_type": "stream",
     "text": [
      "\n",
      "Running ES algorithms: 100%|██████████| 1/1 [00:12<00:00, 12.47s/it]\u001b[A\n",
      "\n",
      "Running ES algorithms:   0%|          | 0/1 [00:00<?, ?it/s]\u001b[A"
     ]
    },
    {
     "name": "stdout",
     "output_type": "stream",
     "text": [
      "running the experiment ... [../experiment_results/BBOBProblem/ellipsoidal/DiscoveredES/1.json]\n"
     ]
    },
    {
     "name": "stderr",
     "output_type": "stream",
     "text": [
      "\n",
      "Running ES algorithms: 100%|██████████| 1/1 [00:12<00:00, 12.62s/it]\u001b[A\n",
      "\n",
      "Running ES algorithms:   0%|          | 0/1 [00:00<?, ?it/s]\u001b[A"
     ]
    },
    {
     "name": "stdout",
     "output_type": "stream",
     "text": [
      "running the experiment ... [../experiment_results/BBOBProblem/ellipsoidal/DiscoveredES/2.json]\n"
     ]
    },
    {
     "name": "stderr",
     "output_type": "stream",
     "text": [
      "\n",
      "Running ES algorithms: 100%|██████████| 1/1 [00:12<00:00, 12.32s/it]\u001b[A\n",
      "\n",
      "Running ES algorithms:   0%|          | 0/1 [00:00<?, ?it/s]\u001b[A"
     ]
    },
    {
     "name": "stdout",
     "output_type": "stream",
     "text": [
      "running the experiment ... [../experiment_results/BBOBProblem/ellipsoidal/DiscoveredES/3.json]\n"
     ]
    },
    {
     "name": "stderr",
     "output_type": "stream",
     "text": [
      "\n",
      "Running ES algorithms: 100%|██████████| 1/1 [00:12<00:00, 12.69s/it]\u001b[A\n",
      "\n",
      "Running ES algorithms:   0%|          | 0/1 [00:00<?, ?it/s]\u001b[A"
     ]
    },
    {
     "name": "stdout",
     "output_type": "stream",
     "text": [
      "running the experiment ... [../experiment_results/BBOBProblem/ellipsoidal/DiscoveredES/4.json]\n"
     ]
    },
    {
     "name": "stderr",
     "output_type": "stream",
     "text": [
      "\n",
      "Running ES algorithms: 100%|██████████| 1/1 [00:12<00:00, 12.40s/it]\u001b[A\n",
      "\n",
      "Running ES algorithms:   0%|          | 0/1 [00:00<?, ?it/s]\u001b[A"
     ]
    },
    {
     "name": "stdout",
     "output_type": "stream",
     "text": [
      "running the experiment ... [../experiment_results/BBOBProblem/ellipsoidal/EvoTF_ES/0.json]\n"
     ]
    },
    {
     "name": "stderr",
     "output_type": "stream",
     "text": [
      "\n",
      "Running ES algorithms: 100%|██████████| 1/1 [00:28<00:00, 28.08s/it]\u001b[A\n",
      "\n",
      "Running ES algorithms:   0%|          | 0/1 [00:00<?, ?it/s]\u001b[A"
     ]
    },
    {
     "name": "stdout",
     "output_type": "stream",
     "text": [
      "running the experiment ... [../experiment_results/BBOBProblem/ellipsoidal/EvoTF_ES/1.json]\n"
     ]
    },
    {
     "name": "stderr",
     "output_type": "stream",
     "text": [
      "\n",
      "Running ES algorithms: 100%|██████████| 1/1 [00:27<00:00, 27.43s/it]\u001b[A\n",
      "\n",
      "Running ES algorithms:   0%|          | 0/1 [00:00<?, ?it/s]\u001b[A"
     ]
    },
    {
     "name": "stdout",
     "output_type": "stream",
     "text": [
      "running the experiment ... [../experiment_results/BBOBProblem/ellipsoidal/EvoTF_ES/2.json]\n"
     ]
    },
    {
     "name": "stderr",
     "output_type": "stream",
     "text": [
      "\n",
      "Running ES algorithms: 100%|██████████| 1/1 [00:28<00:00, 28.07s/it]\u001b[A\n",
      "\n",
      "Running ES algorithms:   0%|          | 0/1 [00:00<?, ?it/s]\u001b[A"
     ]
    },
    {
     "name": "stdout",
     "output_type": "stream",
     "text": [
      "running the experiment ... [../experiment_results/BBOBProblem/ellipsoidal/EvoTF_ES/3.json]\n"
     ]
    },
    {
     "name": "stderr",
     "output_type": "stream",
     "text": [
      "\n",
      "Running ES algorithms: 100%|██████████| 1/1 [00:28<00:00, 28.16s/it]\u001b[A\n",
      "\n",
      "Running ES algorithms:   0%|          | 0/1 [00:00<?, ?it/s]\u001b[A"
     ]
    },
    {
     "name": "stdout",
     "output_type": "stream",
     "text": [
      "running the experiment ... [../experiment_results/BBOBProblem/ellipsoidal/EvoTF_ES/4.json]\n"
     ]
    },
    {
     "name": "stderr",
     "output_type": "stream",
     "text": [
      "\n",
      "Running ES algorithms: 100%|██████████| 1/1 [00:27<00:00, 27.91s/it]\u001b[A\n",
      "\n",
      "Running ES algorithms:   0%|          | 0/1 [00:00<?, ?it/s]\u001b[A"
     ]
    },
    {
     "name": "stdout",
     "output_type": "stream",
     "text": [
      "running the experiment ... [../experiment_results/BBOBProblem/ellipsoidal/PGPE/0.json]\n"
     ]
    },
    {
     "name": "stderr",
     "output_type": "stream",
     "text": [
      "\n",
      "Running ES algorithms: 100%|██████████| 1/1 [00:13<00:00, 13.56s/it]\u001b[A\n",
      "\n",
      "Running ES algorithms:   0%|          | 0/1 [00:00<?, ?it/s]\u001b[A"
     ]
    },
    {
     "name": "stdout",
     "output_type": "stream",
     "text": [
      "running the experiment ... [../experiment_results/BBOBProblem/ellipsoidal/PGPE/1.json]\n"
     ]
    },
    {
     "name": "stderr",
     "output_type": "stream",
     "text": [
      "\n",
      "Running ES algorithms: 100%|██████████| 1/1 [00:13<00:00, 13.26s/it]\u001b[A\n",
      "\n",
      "Running ES algorithms:   0%|          | 0/1 [00:00<?, ?it/s]\u001b[A"
     ]
    },
    {
     "name": "stdout",
     "output_type": "stream",
     "text": [
      "running the experiment ... [../experiment_results/BBOBProblem/ellipsoidal/PGPE/2.json]\n"
     ]
    },
    {
     "name": "stderr",
     "output_type": "stream",
     "text": [
      "\n",
      "Running ES algorithms: 100%|██████████| 1/1 [00:13<00:00, 13.21s/it]\u001b[A\n",
      "\n",
      "Running ES algorithms:   0%|          | 0/1 [00:00<?, ?it/s]\u001b[A"
     ]
    },
    {
     "name": "stdout",
     "output_type": "stream",
     "text": [
      "running the experiment ... [../experiment_results/BBOBProblem/ellipsoidal/PGPE/3.json]\n"
     ]
    },
    {
     "name": "stderr",
     "output_type": "stream",
     "text": [
      "\n",
      "Running ES algorithms: 100%|██████████| 1/1 [00:13<00:00, 13.60s/it]\u001b[A\n",
      "\n",
      "Running ES algorithms:   0%|          | 0/1 [00:00<?, ?it/s]\u001b[A"
     ]
    },
    {
     "name": "stdout",
     "output_type": "stream",
     "text": [
      "running the experiment ... [../experiment_results/BBOBProblem/ellipsoidal/PGPE/4.json]\n"
     ]
    },
    {
     "name": "stderr",
     "output_type": "stream",
     "text": [
      "\n",
      "Running ES algorithms: 100%|██████████| 1/1 [00:13<00:00, 13.26s/it]\u001b[A\n",
      "\n",
      "Running ES algorithms:   0%|          | 0/1 [00:00<?, ?it/s]\u001b[A"
     ]
    },
    {
     "name": "stdout",
     "output_type": "stream",
     "text": [
      "running the experiment ... [../experiment_results/BBOBProblem/ellipsoidal/Open_ES/0.json]\n"
     ]
    },
    {
     "name": "stderr",
     "output_type": "stream",
     "text": [
      "\n",
      "Running ES algorithms: 100%|██████████| 1/1 [00:12<00:00, 12.56s/it]\u001b[A\n",
      "\n",
      "Running ES algorithms:   0%|          | 0/1 [00:00<?, ?it/s]\u001b[A"
     ]
    },
    {
     "name": "stdout",
     "output_type": "stream",
     "text": [
      "running the experiment ... [../experiment_results/BBOBProblem/ellipsoidal/Open_ES/1.json]\n"
     ]
    },
    {
     "name": "stderr",
     "output_type": "stream",
     "text": [
      "\n",
      "Running ES algorithms: 100%|██████████| 1/1 [00:12<00:00, 12.31s/it]\u001b[A\n",
      "\n",
      "Running ES algorithms:   0%|          | 0/1 [00:00<?, ?it/s]\u001b[A"
     ]
    },
    {
     "name": "stdout",
     "output_type": "stream",
     "text": [
      "running the experiment ... [../experiment_results/BBOBProblem/ellipsoidal/Open_ES/2.json]\n"
     ]
    },
    {
     "name": "stderr",
     "output_type": "stream",
     "text": [
      "\n",
      "Running ES algorithms: 100%|██████████| 1/1 [00:12<00:00, 12.49s/it]\u001b[A\n",
      "\n",
      "Running ES algorithms:   0%|          | 0/1 [00:00<?, ?it/s]\u001b[A"
     ]
    },
    {
     "name": "stdout",
     "output_type": "stream",
     "text": [
      "running the experiment ... [../experiment_results/BBOBProblem/ellipsoidal/Open_ES/3.json]\n"
     ]
    },
    {
     "name": "stderr",
     "output_type": "stream",
     "text": [
      "\n",
      "Running ES algorithms: 100%|██████████| 1/1 [00:12<00:00, 12.19s/it]\u001b[A\n",
      "\n",
      "Running ES algorithms:   0%|          | 0/1 [00:00<?, ?it/s]\u001b[A"
     ]
    },
    {
     "name": "stdout",
     "output_type": "stream",
     "text": [
      "running the experiment ... [../experiment_results/BBOBProblem/ellipsoidal/Open_ES/4.json]\n"
     ]
    },
    {
     "name": "stderr",
     "output_type": "stream",
     "text": [
      "\n",
      "Running ES algorithms: 100%|██████████| 1/1 [00:12<00:00, 12.23s/it]\u001b[A\n",
      "\n",
      "Running ES algorithms:   0%|          | 0/1 [00:00<?, ?it/s]\u001b[A"
     ]
    },
    {
     "name": "stdout",
     "output_type": "stream",
     "text": [
      "running the experiment ... [../experiment_results/BBOBProblem/ellipsoidal/SNES/0.json]\n"
     ]
    },
    {
     "name": "stderr",
     "output_type": "stream",
     "text": [
      "\n",
      "Running ES algorithms: 100%|██████████| 1/1 [00:12<00:00, 12.93s/it]\u001b[A\n",
      "\n",
      "Running ES algorithms:   0%|          | 0/1 [00:00<?, ?it/s]\u001b[A"
     ]
    },
    {
     "name": "stdout",
     "output_type": "stream",
     "text": [
      "running the experiment ... [../experiment_results/BBOBProblem/ellipsoidal/SNES/1.json]\n"
     ]
    },
    {
     "name": "stderr",
     "output_type": "stream",
     "text": [
      "\n",
      "Running ES algorithms: 100%|██████████| 1/1 [00:12<00:00, 12.57s/it]\u001b[A\n",
      "\n",
      "Running ES algorithms:   0%|          | 0/1 [00:00<?, ?it/s]\u001b[A"
     ]
    },
    {
     "name": "stdout",
     "output_type": "stream",
     "text": [
      "running the experiment ... [../experiment_results/BBOBProblem/ellipsoidal/SNES/2.json]\n"
     ]
    },
    {
     "name": "stderr",
     "output_type": "stream",
     "text": [
      "\n",
      "Running ES algorithms: 100%|██████████| 1/1 [00:12<00:00, 12.86s/it]\u001b[A\n",
      "\n",
      "Running ES algorithms:   0%|          | 0/1 [00:00<?, ?it/s]\u001b[A"
     ]
    },
    {
     "name": "stdout",
     "output_type": "stream",
     "text": [
      "running the experiment ... [../experiment_results/BBOBProblem/ellipsoidal/SNES/3.json]\n"
     ]
    },
    {
     "name": "stderr",
     "output_type": "stream",
     "text": [
      "\n",
      "Running ES algorithms: 100%|██████████| 1/1 [00:12<00:00, 12.54s/it]\u001b[A\n",
      "\n",
      "Running ES algorithms:   0%|          | 0/1 [00:00<?, ?it/s]\u001b[A"
     ]
    },
    {
     "name": "stdout",
     "output_type": "stream",
     "text": [
      "running the experiment ... [../experiment_results/BBOBProblem/ellipsoidal/SNES/4.json]\n"
     ]
    },
    {
     "name": "stderr",
     "output_type": "stream",
     "text": [
      "\n",
      "Running ES algorithms: 100%|██████████| 1/1 [00:12<00:00, 12.88s/it]\u001b[A\n",
      "\n",
      "Running ES algorithms:   0%|          | 0/1 [00:00<?, ?it/s]\u001b[A"
     ]
    },
    {
     "name": "stdout",
     "output_type": "stream",
     "text": [
      "running the experiment ... [../experiment_results/BBOBProblem/ellipsoidal/Sep_CMA_ES/0.json]\n"
     ]
    },
    {
     "name": "stderr",
     "output_type": "stream",
     "text": [
      "\n",
      "Running ES algorithms: 100%|██████████| 1/1 [00:13<00:00, 13.85s/it]\u001b[A\n",
      "\n",
      "Running ES algorithms:   0%|          | 0/1 [00:00<?, ?it/s]\u001b[A"
     ]
    },
    {
     "name": "stdout",
     "output_type": "stream",
     "text": [
      "running the experiment ... [../experiment_results/BBOBProblem/ellipsoidal/Sep_CMA_ES/1.json]\n"
     ]
    },
    {
     "name": "stderr",
     "output_type": "stream",
     "text": [
      "\n",
      "Running ES algorithms: 100%|██████████| 1/1 [00:13<00:00, 13.79s/it]\u001b[A\n",
      "\n",
      "Running ES algorithms:   0%|          | 0/1 [00:00<?, ?it/s]\u001b[A"
     ]
    },
    {
     "name": "stdout",
     "output_type": "stream",
     "text": [
      "running the experiment ... [../experiment_results/BBOBProblem/ellipsoidal/Sep_CMA_ES/2.json]\n"
     ]
    },
    {
     "name": "stderr",
     "output_type": "stream",
     "text": [
      "\n",
      "Running ES algorithms: 100%|██████████| 1/1 [00:14<00:00, 14.07s/it]\u001b[A\n",
      "\n",
      "Running ES algorithms:   0%|          | 0/1 [00:00<?, ?it/s]\u001b[A"
     ]
    },
    {
     "name": "stdout",
     "output_type": "stream",
     "text": [
      "running the experiment ... [../experiment_results/BBOBProblem/ellipsoidal/Sep_CMA_ES/3.json]\n"
     ]
    },
    {
     "name": "stderr",
     "output_type": "stream",
     "text": [
      "\n",
      "Running ES algorithms: 100%|██████████| 1/1 [00:13<00:00, 13.76s/it]\u001b[A\n",
      "\n",
      "Running ES algorithms:   0%|          | 0/1 [00:00<?, ?it/s]\u001b[A"
     ]
    },
    {
     "name": "stdout",
     "output_type": "stream",
     "text": [
      "running the experiment ... [../experiment_results/BBOBProblem/ellipsoidal/Sep_CMA_ES/4.json]\n"
     ]
    },
    {
     "name": "stderr",
     "output_type": "stream",
     "text": [
      "\n",
      "Running ES algorithms: 100%|██████████| 1/1 [00:14<00:00, 14.08s/it]\u001b[A\n",
      "\n",
      "Running ES algorithms:   0%|          | 0/1 [00:00<?, ?it/s]\u001b[A"
     ]
    },
    {
     "name": "stdout",
     "output_type": "stream",
     "text": [
      "running the experiment ... [../experiment_results/BBOBProblem/ellipsoidal/CMA_ES/0.json]\n"
     ]
    },
    {
     "name": "stderr",
     "output_type": "stream",
     "text": [
      "\n",
      "Running ES algorithms: 100%|██████████| 1/1 [00:15<00:00, 15.74s/it]\u001b[A\n",
      "\n",
      "Running ES algorithms:   0%|          | 0/1 [00:00<?, ?it/s]\u001b[A"
     ]
    },
    {
     "name": "stdout",
     "output_type": "stream",
     "text": [
      "running the experiment ... [../experiment_results/BBOBProblem/ellipsoidal/CMA_ES/1.json]\n"
     ]
    },
    {
     "name": "stderr",
     "output_type": "stream",
     "text": [
      "\n",
      "Running ES algorithms: 100%|██████████| 1/1 [00:15<00:00, 15.78s/it]\u001b[A\n",
      "\n",
      "Running ES algorithms:   0%|          | 0/1 [00:00<?, ?it/s]\u001b[A"
     ]
    },
    {
     "name": "stdout",
     "output_type": "stream",
     "text": [
      "running the experiment ... [../experiment_results/BBOBProblem/ellipsoidal/CMA_ES/2.json]\n"
     ]
    },
    {
     "name": "stderr",
     "output_type": "stream",
     "text": [
      "\n",
      "Running ES algorithms: 100%|██████████| 1/1 [00:16<00:00, 16.04s/it]\u001b[A\n",
      "\n",
      "Running ES algorithms:   0%|          | 0/1 [00:00<?, ?it/s]\u001b[A"
     ]
    },
    {
     "name": "stdout",
     "output_type": "stream",
     "text": [
      "running the experiment ... [../experiment_results/BBOBProblem/ellipsoidal/CMA_ES/3.json]\n"
     ]
    },
    {
     "name": "stderr",
     "output_type": "stream",
     "text": [
      "\n",
      "Running ES algorithms: 100%|██████████| 1/1 [00:15<00:00, 15.74s/it]\u001b[A\n",
      "\n",
      "Running ES algorithms:   0%|          | 0/1 [00:00<?, ?it/s]\u001b[A"
     ]
    },
    {
     "name": "stdout",
     "output_type": "stream",
     "text": [
      "running the experiment ... [../experiment_results/BBOBProblem/ellipsoidal/CMA_ES/4.json]\n"
     ]
    },
    {
     "name": "stderr",
     "output_type": "stream",
     "text": [
      "\n",
      "Running ES algorithms: 100%|██████████| 1/1 [00:15<00:00, 15.98s/it]\u001b[A\n",
      "Loading Problems ..:   8%|▊         | 2/24 [22:30<4:07:50, 675.92s/it]"
     ]
    },
    {
     "name": "stdout",
     "output_type": "stream",
     "text": [
      "Successfully loaded: rastrigin\n"
     ]
    },
    {
     "name": "stderr",
     "output_type": "stream",
     "text": [
      "\n",
      "Running ES algorithms:   0%|          | 0/1 [00:00<?, ?it/s]\u001b[A"
     ]
    },
    {
     "name": "stdout",
     "output_type": "stream",
     "text": [
      "running the experiment ... [../experiment_results/BBOBProblem/rastrigin/SimpleES/0.json]\n"
     ]
    },
    {
     "name": "stderr",
     "output_type": "stream",
     "text": [
      "\n",
      "Running ES algorithms: 100%|██████████| 1/1 [00:13<00:00, 13.16s/it]\u001b[A\n",
      "\n",
      "Running ES algorithms:   0%|          | 0/1 [00:00<?, ?it/s]\u001b[A"
     ]
    },
    {
     "name": "stdout",
     "output_type": "stream",
     "text": [
      "running the experiment ... [../experiment_results/BBOBProblem/rastrigin/SimpleES/1.json]\n"
     ]
    },
    {
     "name": "stderr",
     "output_type": "stream",
     "text": [
      "\n",
      "Running ES algorithms: 100%|██████████| 1/1 [00:13<00:00, 13.00s/it]\u001b[A\n",
      "\n",
      "Running ES algorithms:   0%|          | 0/1 [00:00<?, ?it/s]\u001b[A"
     ]
    },
    {
     "name": "stdout",
     "output_type": "stream",
     "text": [
      "running the experiment ... [../experiment_results/BBOBProblem/rastrigin/SimpleES/2.json]\n"
     ]
    },
    {
     "name": "stderr",
     "output_type": "stream",
     "text": [
      "\n",
      "Running ES algorithms: 100%|██████████| 1/1 [00:12<00:00, 12.74s/it]\u001b[A\n",
      "\n",
      "Running ES algorithms:   0%|          | 0/1 [00:00<?, ?it/s]\u001b[A"
     ]
    },
    {
     "name": "stdout",
     "output_type": "stream",
     "text": [
      "running the experiment ... [../experiment_results/BBOBProblem/rastrigin/SimpleES/3.json]\n"
     ]
    },
    {
     "name": "stderr",
     "output_type": "stream",
     "text": [
      "\n",
      "Running ES algorithms: 100%|██████████| 1/1 [00:12<00:00, 12.63s/it]\u001b[A\n",
      "\n",
      "Running ES algorithms:   0%|          | 0/1 [00:00<?, ?it/s]\u001b[A"
     ]
    },
    {
     "name": "stdout",
     "output_type": "stream",
     "text": [
      "running the experiment ... [../experiment_results/BBOBProblem/rastrigin/SimpleES/4.json]\n"
     ]
    },
    {
     "name": "stderr",
     "output_type": "stream",
     "text": [
      "\n",
      "Running ES algorithms: 100%|██████████| 1/1 [00:12<00:00, 12.97s/it]\u001b[A\n",
      "\n",
      "Running ES algorithms:   0%|          | 0/1 [00:00<?, ?it/s]\u001b[A"
     ]
    },
    {
     "name": "stdout",
     "output_type": "stream",
     "text": [
      "running the experiment ... [../experiment_results/BBOBProblem/rastrigin/LearnedES/0.json]\n"
     ]
    },
    {
     "name": "stderr",
     "output_type": "stream",
     "text": [
      "\n",
      "Running ES algorithms: 100%|██████████| 1/1 [00:14<00:00, 14.49s/it]\u001b[A\n",
      "\n",
      "Running ES algorithms:   0%|          | 0/1 [00:00<?, ?it/s]\u001b[A"
     ]
    },
    {
     "name": "stdout",
     "output_type": "stream",
     "text": [
      "running the experiment ... [../experiment_results/BBOBProblem/rastrigin/LearnedES/1.json]\n"
     ]
    },
    {
     "name": "stderr",
     "output_type": "stream",
     "text": [
      "\n",
      "Running ES algorithms: 100%|██████████| 1/1 [00:14<00:00, 14.79s/it]\u001b[A\n",
      "\n",
      "Running ES algorithms:   0%|          | 0/1 [00:00<?, ?it/s]\u001b[A"
     ]
    },
    {
     "name": "stdout",
     "output_type": "stream",
     "text": [
      "running the experiment ... [../experiment_results/BBOBProblem/rastrigin/LearnedES/2.json]\n"
     ]
    },
    {
     "name": "stderr",
     "output_type": "stream",
     "text": [
      "\n",
      "Running ES algorithms: 100%|██████████| 1/1 [00:14<00:00, 14.42s/it]\u001b[A\n",
      "\n",
      "Running ES algorithms:   0%|          | 0/1 [00:00<?, ?it/s]\u001b[A"
     ]
    },
    {
     "name": "stdout",
     "output_type": "stream",
     "text": [
      "running the experiment ... [../experiment_results/BBOBProblem/rastrigin/LearnedES/3.json]\n"
     ]
    },
    {
     "name": "stderr",
     "output_type": "stream",
     "text": [
      "\n",
      "Running ES algorithms: 100%|██████████| 1/1 [00:14<00:00, 14.58s/it]\u001b[A\n",
      "\n",
      "Running ES algorithms:   0%|          | 0/1 [00:00<?, ?it/s]\u001b[A"
     ]
    },
    {
     "name": "stdout",
     "output_type": "stream",
     "text": [
      "running the experiment ... [../experiment_results/BBOBProblem/rastrigin/LearnedES/4.json]\n"
     ]
    },
    {
     "name": "stderr",
     "output_type": "stream",
     "text": [
      "\n",
      "Running ES algorithms: 100%|██████████| 1/1 [00:14<00:00, 14.98s/it]\u001b[A\n",
      "\n",
      "Running ES algorithms:   0%|          | 0/1 [00:00<?, ?it/s]\u001b[A"
     ]
    },
    {
     "name": "stdout",
     "output_type": "stream",
     "text": [
      "running the experiment ... [../experiment_results/BBOBProblem/rastrigin/DiscoveredES/0.json]\n"
     ]
    },
    {
     "name": "stderr",
     "output_type": "stream",
     "text": [
      "\n",
      "Running ES algorithms: 100%|██████████| 1/1 [00:12<00:00, 12.64s/it]\u001b[A\n",
      "\n",
      "Running ES algorithms:   0%|          | 0/1 [00:00<?, ?it/s]\u001b[A"
     ]
    },
    {
     "name": "stdout",
     "output_type": "stream",
     "text": [
      "running the experiment ... [../experiment_results/BBOBProblem/rastrigin/DiscoveredES/1.json]\n"
     ]
    },
    {
     "name": "stderr",
     "output_type": "stream",
     "text": [
      "\n",
      "Running ES algorithms: 100%|██████████| 1/1 [00:13<00:00, 13.01s/it]\u001b[A\n",
      "\n",
      "Running ES algorithms:   0%|          | 0/1 [00:00<?, ?it/s]\u001b[A"
     ]
    },
    {
     "name": "stdout",
     "output_type": "stream",
     "text": [
      "running the experiment ... [../experiment_results/BBOBProblem/rastrigin/DiscoveredES/2.json]\n"
     ]
    },
    {
     "name": "stderr",
     "output_type": "stream",
     "text": [
      "\n",
      "Running ES algorithms: 100%|██████████| 1/1 [00:12<00:00, 12.70s/it]\u001b[A\n",
      "\n",
      "Running ES algorithms:   0%|          | 0/1 [00:00<?, ?it/s]\u001b[A"
     ]
    },
    {
     "name": "stdout",
     "output_type": "stream",
     "text": [
      "running the experiment ... [../experiment_results/BBOBProblem/rastrigin/DiscoveredES/3.json]\n"
     ]
    },
    {
     "name": "stderr",
     "output_type": "stream",
     "text": [
      "\n",
      "Running ES algorithms: 100%|██████████| 1/1 [00:12<00:00, 12.60s/it]\u001b[A\n",
      "\n",
      "Running ES algorithms:   0%|          | 0/1 [00:00<?, ?it/s]\u001b[A"
     ]
    },
    {
     "name": "stdout",
     "output_type": "stream",
     "text": [
      "running the experiment ... [../experiment_results/BBOBProblem/rastrigin/DiscoveredES/4.json]\n"
     ]
    },
    {
     "name": "stderr",
     "output_type": "stream",
     "text": [
      "\n",
      "Running ES algorithms: 100%|██████████| 1/1 [00:12<00:00, 12.91s/it]\u001b[A\n",
      "\n",
      "Running ES algorithms:   0%|          | 0/1 [00:00<?, ?it/s]\u001b[A"
     ]
    },
    {
     "name": "stdout",
     "output_type": "stream",
     "text": [
      "running the experiment ... [../experiment_results/BBOBProblem/rastrigin/EvoTF_ES/0.json]\n"
     ]
    },
    {
     "name": "stderr",
     "output_type": "stream",
     "text": [
      "\n",
      "Running ES algorithms: 100%|██████████| 1/1 [00:27<00:00, 27.56s/it]\u001b[A\n",
      "\n",
      "Running ES algorithms:   0%|          | 0/1 [00:00<?, ?it/s]\u001b[A"
     ]
    },
    {
     "name": "stdout",
     "output_type": "stream",
     "text": [
      "running the experiment ... [../experiment_results/BBOBProblem/rastrigin/EvoTF_ES/1.json]\n"
     ]
    },
    {
     "name": "stderr",
     "output_type": "stream",
     "text": [
      "\n",
      "Running ES algorithms: 100%|██████████| 1/1 [00:27<00:00, 27.90s/it]\u001b[A\n",
      "\n",
      "Running ES algorithms:   0%|          | 0/1 [00:00<?, ?it/s]\u001b[A"
     ]
    },
    {
     "name": "stdout",
     "output_type": "stream",
     "text": [
      "running the experiment ... [../experiment_results/BBOBProblem/rastrigin/EvoTF_ES/2.json]\n"
     ]
    },
    {
     "name": "stderr",
     "output_type": "stream",
     "text": [
      "\n",
      "Running ES algorithms: 100%|██████████| 1/1 [00:27<00:00, 27.55s/it]\u001b[A\n",
      "\n",
      "Running ES algorithms:   0%|          | 0/1 [00:00<?, ?it/s]\u001b[A"
     ]
    },
    {
     "name": "stdout",
     "output_type": "stream",
     "text": [
      "running the experiment ... [../experiment_results/BBOBProblem/rastrigin/EvoTF_ES/3.json]\n"
     ]
    },
    {
     "name": "stderr",
     "output_type": "stream",
     "text": [
      "\n",
      "Running ES algorithms: 100%|██████████| 1/1 [00:27<00:00, 27.95s/it]\u001b[A\n",
      "\n",
      "Running ES algorithms:   0%|          | 0/1 [00:00<?, ?it/s]\u001b[A"
     ]
    },
    {
     "name": "stdout",
     "output_type": "stream",
     "text": [
      "running the experiment ... [../experiment_results/BBOBProblem/rastrigin/EvoTF_ES/4.json]\n"
     ]
    },
    {
     "name": "stderr",
     "output_type": "stream",
     "text": [
      "\n",
      "Running ES algorithms: 100%|██████████| 1/1 [00:27<00:00, 27.71s/it]\u001b[A\n",
      "\n",
      "Running ES algorithms:   0%|          | 0/1 [00:00<?, ?it/s]\u001b[A"
     ]
    },
    {
     "name": "stdout",
     "output_type": "stream",
     "text": [
      "running the experiment ... [../experiment_results/BBOBProblem/rastrigin/PGPE/0.json]\n"
     ]
    },
    {
     "name": "stderr",
     "output_type": "stream",
     "text": [
      "\n",
      "Running ES algorithms: 100%|██████████| 1/1 [00:13<00:00, 13.03s/it]\u001b[A\n",
      "\n",
      "Running ES algorithms:   0%|          | 0/1 [00:00<?, ?it/s]\u001b[A"
     ]
    },
    {
     "name": "stdout",
     "output_type": "stream",
     "text": [
      "running the experiment ... [../experiment_results/BBOBProblem/rastrigin/PGPE/1.json]\n"
     ]
    },
    {
     "name": "stderr",
     "output_type": "stream",
     "text": [
      "\n",
      "Running ES algorithms: 100%|██████████| 1/1 [00:13<00:00, 13.41s/it]\u001b[A\n",
      "\n",
      "Running ES algorithms:   0%|          | 0/1 [00:00<?, ?it/s]\u001b[A"
     ]
    },
    {
     "name": "stdout",
     "output_type": "stream",
     "text": [
      "running the experiment ... [../experiment_results/BBOBProblem/rastrigin/PGPE/2.json]\n"
     ]
    },
    {
     "name": "stderr",
     "output_type": "stream",
     "text": [
      "\n",
      "Running ES algorithms: 100%|██████████| 1/1 [00:13<00:00, 13.03s/it]\u001b[A\n",
      "\n",
      "Running ES algorithms:   0%|          | 0/1 [00:00<?, ?it/s]\u001b[A"
     ]
    },
    {
     "name": "stdout",
     "output_type": "stream",
     "text": [
      "running the experiment ... [../experiment_results/BBOBProblem/rastrigin/PGPE/3.json]\n"
     ]
    },
    {
     "name": "stderr",
     "output_type": "stream",
     "text": [
      "\n",
      "Running ES algorithms: 100%|██████████| 1/1 [00:13<00:00, 13.39s/it]\u001b[A\n",
      "\n",
      "Running ES algorithms:   0%|          | 0/1 [00:00<?, ?it/s]\u001b[A"
     ]
    },
    {
     "name": "stdout",
     "output_type": "stream",
     "text": [
      "running the experiment ... [../experiment_results/BBOBProblem/rastrigin/PGPE/4.json]\n"
     ]
    },
    {
     "name": "stderr",
     "output_type": "stream",
     "text": [
      "\n",
      "Running ES algorithms: 100%|██████████| 1/1 [00:12<00:00, 13.00s/it]\u001b[A\n",
      "\n",
      "Running ES algorithms:   0%|          | 0/1 [00:00<?, ?it/s]\u001b[A"
     ]
    },
    {
     "name": "stdout",
     "output_type": "stream",
     "text": [
      "running the experiment ... [../experiment_results/BBOBProblem/rastrigin/Open_ES/0.json]\n"
     ]
    },
    {
     "name": "stderr",
     "output_type": "stream",
     "text": [
      "\n",
      "Running ES algorithms: 100%|██████████| 1/1 [00:12<00:00, 12.11s/it]\u001b[A\n",
      "\n",
      "Running ES algorithms:   0%|          | 0/1 [00:00<?, ?it/s]\u001b[A"
     ]
    },
    {
     "name": "stdout",
     "output_type": "stream",
     "text": [
      "running the experiment ... [../experiment_results/BBOBProblem/rastrigin/Open_ES/1.json]\n"
     ]
    },
    {
     "name": "stderr",
     "output_type": "stream",
     "text": [
      "\n",
      "Running ES algorithms: 100%|██████████| 1/1 [00:12<00:00, 12.08s/it]\u001b[A\n",
      "\n",
      "Running ES algorithms:   0%|          | 0/1 [00:00<?, ?it/s]\u001b[A"
     ]
    },
    {
     "name": "stdout",
     "output_type": "stream",
     "text": [
      "running the experiment ... [../experiment_results/BBOBProblem/rastrigin/Open_ES/2.json]\n"
     ]
    },
    {
     "name": "stderr",
     "output_type": "stream",
     "text": [
      "\n",
      "Running ES algorithms: 100%|██████████| 1/1 [00:12<00:00, 12.41s/it]\u001b[A\n",
      "\n",
      "Running ES algorithms:   0%|          | 0/1 [00:00<?, ?it/s]\u001b[A"
     ]
    },
    {
     "name": "stdout",
     "output_type": "stream",
     "text": [
      "running the experiment ... [../experiment_results/BBOBProblem/rastrigin/Open_ES/3.json]\n"
     ]
    },
    {
     "name": "stderr",
     "output_type": "stream",
     "text": [
      "\n",
      "Running ES algorithms: 100%|██████████| 1/1 [00:12<00:00, 12.11s/it]\u001b[A\n",
      "\n",
      "Running ES algorithms:   0%|          | 0/1 [00:00<?, ?it/s]\u001b[A"
     ]
    },
    {
     "name": "stdout",
     "output_type": "stream",
     "text": [
      "running the experiment ... [../experiment_results/BBOBProblem/rastrigin/Open_ES/4.json]\n"
     ]
    },
    {
     "name": "stderr",
     "output_type": "stream",
     "text": [
      "\n",
      "Running ES algorithms: 100%|██████████| 1/1 [00:12<00:00, 12.43s/it]\u001b[A\n",
      "\n",
      "Running ES algorithms:   0%|          | 0/1 [00:00<?, ?it/s]\u001b[A"
     ]
    },
    {
     "name": "stdout",
     "output_type": "stream",
     "text": [
      "running the experiment ... [../experiment_results/BBOBProblem/rastrigin/SNES/0.json]\n"
     ]
    },
    {
     "name": "stderr",
     "output_type": "stream",
     "text": [
      "\n",
      "Running ES algorithms: 100%|██████████| 1/1 [00:12<00:00, 12.31s/it]\u001b[A\n",
      "\n",
      "Running ES algorithms:   0%|          | 0/1 [00:00<?, ?it/s]\u001b[A"
     ]
    },
    {
     "name": "stdout",
     "output_type": "stream",
     "text": [
      "running the experiment ... [../experiment_results/BBOBProblem/rastrigin/SNES/1.json]\n"
     ]
    },
    {
     "name": "stderr",
     "output_type": "stream",
     "text": [
      "\n",
      "Running ES algorithms: 100%|██████████| 1/1 [00:12<00:00, 12.40s/it]\u001b[A\n",
      "\n",
      "Running ES algorithms:   0%|          | 0/1 [00:00<?, ?it/s]\u001b[A"
     ]
    },
    {
     "name": "stdout",
     "output_type": "stream",
     "text": [
      "running the experiment ... [../experiment_results/BBOBProblem/rastrigin/SNES/2.json]\n"
     ]
    },
    {
     "name": "stderr",
     "output_type": "stream",
     "text": [
      "\n",
      "Running ES algorithms: 100%|██████████| 1/1 [00:12<00:00, 12.61s/it]\u001b[A\n",
      "\n",
      "Running ES algorithms:   0%|          | 0/1 [00:00<?, ?it/s]\u001b[A"
     ]
    },
    {
     "name": "stdout",
     "output_type": "stream",
     "text": [
      "running the experiment ... [../experiment_results/BBOBProblem/rastrigin/SNES/3.json]\n"
     ]
    },
    {
     "name": "stderr",
     "output_type": "stream",
     "text": [
      "\n",
      "Running ES algorithms: 100%|██████████| 1/1 [00:12<00:00, 12.03s/it]\u001b[A\n",
      "\n",
      "Running ES algorithms:   0%|          | 0/1 [00:00<?, ?it/s]\u001b[A"
     ]
    },
    {
     "name": "stdout",
     "output_type": "stream",
     "text": [
      "running the experiment ... [../experiment_results/BBOBProblem/rastrigin/SNES/4.json]\n"
     ]
    },
    {
     "name": "stderr",
     "output_type": "stream",
     "text": [
      "\n",
      "Running ES algorithms: 100%|██████████| 1/1 [00:12<00:00, 12.08s/it]\u001b[A\n",
      "\n",
      "Running ES algorithms:   0%|          | 0/1 [00:00<?, ?it/s]\u001b[A"
     ]
    },
    {
     "name": "stdout",
     "output_type": "stream",
     "text": [
      "running the experiment ... [../experiment_results/BBOBProblem/rastrigin/Sep_CMA_ES/0.json]\n"
     ]
    },
    {
     "name": "stderr",
     "output_type": "stream",
     "text": [
      "\n",
      "Running ES algorithms: 100%|██████████| 1/1 [00:13<00:00, 13.25s/it]\u001b[A\n",
      "\n",
      "Running ES algorithms:   0%|          | 0/1 [00:00<?, ?it/s]\u001b[A"
     ]
    },
    {
     "name": "stdout",
     "output_type": "stream",
     "text": [
      "running the experiment ... [../experiment_results/BBOBProblem/rastrigin/Sep_CMA_ES/1.json]\n"
     ]
    },
    {
     "name": "stderr",
     "output_type": "stream",
     "text": [
      "\n",
      "Running ES algorithms: 100%|██████████| 1/1 [00:13<00:00, 13.64s/it]\u001b[A\n",
      "\n",
      "Running ES algorithms:   0%|          | 0/1 [00:00<?, ?it/s]\u001b[A"
     ]
    },
    {
     "name": "stdout",
     "output_type": "stream",
     "text": [
      "running the experiment ... [../experiment_results/BBOBProblem/rastrigin/Sep_CMA_ES/2.json]\n"
     ]
    },
    {
     "name": "stderr",
     "output_type": "stream",
     "text": [
      "\n",
      "Running ES algorithms: 100%|██████████| 1/1 [00:13<00:00, 13.24s/it]\u001b[A\n",
      "\n",
      "Running ES algorithms:   0%|          | 0/1 [00:00<?, ?it/s]\u001b[A"
     ]
    },
    {
     "name": "stdout",
     "output_type": "stream",
     "text": [
      "running the experiment ... [../experiment_results/BBOBProblem/rastrigin/Sep_CMA_ES/3.json]\n"
     ]
    },
    {
     "name": "stderr",
     "output_type": "stream",
     "text": [
      "\n",
      "Running ES algorithms: 100%|██████████| 1/1 [00:13<00:00, 13.62s/it]\u001b[A\n",
      "\n",
      "Running ES algorithms:   0%|          | 0/1 [00:00<?, ?it/s]\u001b[A"
     ]
    },
    {
     "name": "stdout",
     "output_type": "stream",
     "text": [
      "running the experiment ... [../experiment_results/BBOBProblem/rastrigin/Sep_CMA_ES/4.json]\n"
     ]
    },
    {
     "name": "stderr",
     "output_type": "stream",
     "text": [
      "\n",
      "Running ES algorithms: 100%|██████████| 1/1 [00:13<00:00, 13.29s/it]\u001b[A\n",
      "\n",
      "Running ES algorithms:   0%|          | 0/1 [00:00<?, ?it/s]\u001b[A"
     ]
    },
    {
     "name": "stdout",
     "output_type": "stream",
     "text": [
      "running the experiment ... [../experiment_results/BBOBProblem/rastrigin/CMA_ES/0.json]\n"
     ]
    },
    {
     "name": "stderr",
     "output_type": "stream",
     "text": [
      "\n",
      "Running ES algorithms: 100%|██████████| 1/1 [00:15<00:00, 15.11s/it]\u001b[A\n",
      "\n",
      "Running ES algorithms:   0%|          | 0/1 [00:00<?, ?it/s]\u001b[A"
     ]
    },
    {
     "name": "stdout",
     "output_type": "stream",
     "text": [
      "running the experiment ... [../experiment_results/BBOBProblem/rastrigin/CMA_ES/1.json]\n"
     ]
    },
    {
     "name": "stderr",
     "output_type": "stream",
     "text": [
      "\n",
      "Running ES algorithms: 100%|██████████| 1/1 [00:15<00:00, 15.40s/it]\u001b[A\n",
      "\n",
      "Running ES algorithms:   0%|          | 0/1 [00:00<?, ?it/s]\u001b[A"
     ]
    },
    {
     "name": "stdout",
     "output_type": "stream",
     "text": [
      "running the experiment ... [../experiment_results/BBOBProblem/rastrigin/CMA_ES/2.json]\n"
     ]
    },
    {
     "name": "stderr",
     "output_type": "stream",
     "text": [
      "\n",
      "Running ES algorithms: 100%|██████████| 1/1 [00:15<00:00, 15.08s/it]\u001b[A\n",
      "\n",
      "Running ES algorithms:   0%|          | 0/1 [00:00<?, ?it/s]\u001b[A"
     ]
    },
    {
     "name": "stdout",
     "output_type": "stream",
     "text": [
      "running the experiment ... [../experiment_results/BBOBProblem/rastrigin/CMA_ES/3.json]\n"
     ]
    },
    {
     "name": "stderr",
     "output_type": "stream",
     "text": [
      "\n",
      "Running ES algorithms: 100%|██████████| 1/1 [00:15<00:00, 15.16s/it]\u001b[A\n",
      "\n",
      "Running ES algorithms:   0%|          | 0/1 [00:00<?, ?it/s]\u001b[A"
     ]
    },
    {
     "name": "stdout",
     "output_type": "stream",
     "text": [
      "running the experiment ... [../experiment_results/BBOBProblem/rastrigin/CMA_ES/4.json]\n"
     ]
    },
    {
     "name": "stderr",
     "output_type": "stream",
     "text": [
      "\n",
      "Running ES algorithms: 100%|██████████| 1/1 [00:15<00:00, 15.45s/it]\u001b[A\n",
      "Loading Problems ..:  12%|█▎        | 3/24 [33:44<3:56:17, 675.11s/it]"
     ]
    },
    {
     "name": "stdout",
     "output_type": "stream",
     "text": [
      "Successfully loaded: bueche_rastrigin\n"
     ]
    },
    {
     "name": "stderr",
     "output_type": "stream",
     "text": [
      "\n",
      "Running ES algorithms:   0%|          | 0/1 [00:00<?, ?it/s]\u001b[A"
     ]
    },
    {
     "name": "stdout",
     "output_type": "stream",
     "text": [
      "running the experiment ... [../experiment_results/BBOBProblem/bueche_rastrigin/SimpleES/0.json]\n"
     ]
    },
    {
     "name": "stderr",
     "output_type": "stream",
     "text": [
      "\n",
      "Running ES algorithms: 100%|██████████| 1/1 [00:12<00:00, 12.32s/it]\u001b[A\n",
      "\n",
      "Running ES algorithms:   0%|          | 0/1 [00:00<?, ?it/s]\u001b[A"
     ]
    },
    {
     "name": "stdout",
     "output_type": "stream",
     "text": [
      "running the experiment ... [../experiment_results/BBOBProblem/bueche_rastrigin/SimpleES/1.json]\n"
     ]
    },
    {
     "name": "stderr",
     "output_type": "stream",
     "text": [
      "\n",
      "Running ES algorithms: 100%|██████████| 1/1 [00:12<00:00, 12.14s/it]\u001b[A\n",
      "\n",
      "Running ES algorithms:   0%|          | 0/1 [00:00<?, ?it/s]\u001b[A"
     ]
    },
    {
     "name": "stdout",
     "output_type": "stream",
     "text": [
      "running the experiment ... [../experiment_results/BBOBProblem/bueche_rastrigin/SimpleES/2.json]\n"
     ]
    },
    {
     "name": "stderr",
     "output_type": "stream",
     "text": [
      "\n",
      "Running ES algorithms: 100%|██████████| 1/1 [00:12<00:00, 12.18s/it]\u001b[A\n",
      "\n",
      "Running ES algorithms:   0%|          | 0/1 [00:00<?, ?it/s]\u001b[A"
     ]
    },
    {
     "name": "stdout",
     "output_type": "stream",
     "text": [
      "running the experiment ... [../experiment_results/BBOBProblem/bueche_rastrigin/SimpleES/3.json]\n"
     ]
    },
    {
     "name": "stderr",
     "output_type": "stream",
     "text": [
      "\n",
      "Running ES algorithms: 100%|██████████| 1/1 [00:12<00:00, 12.55s/it]\u001b[A\n",
      "\n",
      "Running ES algorithms:   0%|          | 0/1 [00:00<?, ?it/s]\u001b[A"
     ]
    },
    {
     "name": "stdout",
     "output_type": "stream",
     "text": [
      "running the experiment ... [../experiment_results/BBOBProblem/bueche_rastrigin/SimpleES/4.json]\n"
     ]
    },
    {
     "name": "stderr",
     "output_type": "stream",
     "text": [
      "\n",
      "Running ES algorithms: 100%|██████████| 1/1 [00:12<00:00, 12.17s/it]\u001b[A\n",
      "\n",
      "Running ES algorithms:   0%|          | 0/1 [00:00<?, ?it/s]\u001b[A"
     ]
    },
    {
     "name": "stdout",
     "output_type": "stream",
     "text": [
      "running the experiment ... [../experiment_results/BBOBProblem/bueche_rastrigin/LearnedES/0.json]\n"
     ]
    },
    {
     "name": "stderr",
     "output_type": "stream",
     "text": [
      "\n",
      "Running ES algorithms: 100%|██████████| 1/1 [00:14<00:00, 14.26s/it]\u001b[A\n",
      "\n",
      "Running ES algorithms:   0%|          | 0/1 [00:00<?, ?it/s]\u001b[A"
     ]
    },
    {
     "name": "stdout",
     "output_type": "stream",
     "text": [
      "running the experiment ... [../experiment_results/BBOBProblem/bueche_rastrigin/LearnedES/1.json]\n"
     ]
    },
    {
     "name": "stderr",
     "output_type": "stream",
     "text": [
      "\n",
      "Running ES algorithms: 100%|██████████| 1/1 [00:13<00:00, 13.89s/it]\u001b[A\n",
      "\n",
      "Running ES algorithms:   0%|          | 0/1 [00:00<?, ?it/s]\u001b[A"
     ]
    },
    {
     "name": "stdout",
     "output_type": "stream",
     "text": [
      "running the experiment ... [../experiment_results/BBOBProblem/bueche_rastrigin/LearnedES/2.json]\n"
     ]
    },
    {
     "name": "stderr",
     "output_type": "stream",
     "text": [
      "\n",
      "Running ES algorithms: 100%|██████████| 1/1 [00:13<00:00, 13.86s/it]\u001b[A\n",
      "\n",
      "Running ES algorithms:   0%|          | 0/1 [00:00<?, ?it/s]\u001b[A"
     ]
    },
    {
     "name": "stdout",
     "output_type": "stream",
     "text": [
      "running the experiment ... [../experiment_results/BBOBProblem/bueche_rastrigin/LearnedES/3.json]\n"
     ]
    },
    {
     "name": "stderr",
     "output_type": "stream",
     "text": [
      "\n",
      "Running ES algorithms: 100%|██████████| 1/1 [00:14<00:00, 14.24s/it]\u001b[A\n",
      "\n",
      "Running ES algorithms:   0%|          | 0/1 [00:00<?, ?it/s]\u001b[A"
     ]
    },
    {
     "name": "stdout",
     "output_type": "stream",
     "text": [
      "running the experiment ... [../experiment_results/BBOBProblem/bueche_rastrigin/LearnedES/4.json]\n"
     ]
    },
    {
     "name": "stderr",
     "output_type": "stream",
     "text": [
      "\n",
      "Running ES algorithms: 100%|██████████| 1/1 [00:13<00:00, 13.85s/it]\u001b[A\n",
      "\n",
      "Running ES algorithms:   0%|          | 0/1 [00:00<?, ?it/s]\u001b[A"
     ]
    },
    {
     "name": "stdout",
     "output_type": "stream",
     "text": [
      "running the experiment ... [../experiment_results/BBOBProblem/bueche_rastrigin/DiscoveredES/0.json]\n"
     ]
    },
    {
     "name": "stderr",
     "output_type": "stream",
     "text": [
      "\n",
      "Running ES algorithms: 100%|██████████| 1/1 [00:12<00:00, 12.15s/it]\u001b[A\n",
      "\n",
      "Running ES algorithms:   0%|          | 0/1 [00:00<?, ?it/s]\u001b[A"
     ]
    },
    {
     "name": "stdout",
     "output_type": "stream",
     "text": [
      "running the experiment ... [../experiment_results/BBOBProblem/bueche_rastrigin/DiscoveredES/1.json]\n"
     ]
    },
    {
     "name": "stderr",
     "output_type": "stream",
     "text": [
      "\n",
      "Running ES algorithms: 100%|██████████| 1/1 [00:12<00:00, 12.16s/it]\u001b[A\n",
      "\n",
      "Running ES algorithms:   0%|          | 0/1 [00:00<?, ?it/s]\u001b[A"
     ]
    },
    {
     "name": "stdout",
     "output_type": "stream",
     "text": [
      "running the experiment ... [../experiment_results/BBOBProblem/bueche_rastrigin/DiscoveredES/2.json]\n"
     ]
    },
    {
     "name": "stderr",
     "output_type": "stream",
     "text": [
      "\n",
      "Running ES algorithms: 100%|██████████| 1/1 [00:12<00:00, 12.50s/it]\u001b[A\n",
      "\n",
      "Running ES algorithms:   0%|          | 0/1 [00:00<?, ?it/s]\u001b[A"
     ]
    },
    {
     "name": "stdout",
     "output_type": "stream",
     "text": [
      "running the experiment ... [../experiment_results/BBOBProblem/bueche_rastrigin/DiscoveredES/3.json]\n"
     ]
    },
    {
     "name": "stderr",
     "output_type": "stream",
     "text": [
      "\n",
      "Running ES algorithms: 100%|██████████| 1/1 [00:12<00:00, 12.23s/it]\u001b[A\n",
      "\n",
      "Running ES algorithms:   0%|          | 0/1 [00:00<?, ?it/s]\u001b[A"
     ]
    },
    {
     "name": "stdout",
     "output_type": "stream",
     "text": [
      "running the experiment ... [../experiment_results/BBOBProblem/bueche_rastrigin/DiscoveredES/4.json]\n"
     ]
    },
    {
     "name": "stderr",
     "output_type": "stream",
     "text": [
      "\n",
      "Running ES algorithms: 100%|██████████| 1/1 [00:12<00:00, 12.26s/it]\u001b[A\n",
      "\n",
      "Running ES algorithms:   0%|          | 0/1 [00:00<?, ?it/s]\u001b[A"
     ]
    },
    {
     "name": "stdout",
     "output_type": "stream",
     "text": [
      "running the experiment ... [../experiment_results/BBOBProblem/bueche_rastrigin/EvoTF_ES/0.json]\n"
     ]
    },
    {
     "name": "stderr",
     "output_type": "stream",
     "text": [
      "\n",
      "Running ES algorithms: 100%|██████████| 1/1 [00:28<00:00, 28.18s/it]\u001b[A\n",
      "\n",
      "Running ES algorithms:   0%|          | 0/1 [00:00<?, ?it/s]\u001b[A"
     ]
    },
    {
     "name": "stdout",
     "output_type": "stream",
     "text": [
      "running the experiment ... [../experiment_results/BBOBProblem/bueche_rastrigin/EvoTF_ES/1.json]\n"
     ]
    },
    {
     "name": "stderr",
     "output_type": "stream",
     "text": [
      "\n",
      "Running ES algorithms: 100%|██████████| 1/1 [00:27<00:00, 27.50s/it]\u001b[A\n",
      "\n",
      "Running ES algorithms:   0%|          | 0/1 [00:00<?, ?it/s]\u001b[A"
     ]
    },
    {
     "name": "stdout",
     "output_type": "stream",
     "text": [
      "running the experiment ... [../experiment_results/BBOBProblem/bueche_rastrigin/EvoTF_ES/2.json]\n"
     ]
    },
    {
     "name": "stderr",
     "output_type": "stream",
     "text": [
      "\n",
      "Running ES algorithms: 100%|██████████| 1/1 [00:28<00:00, 28.07s/it]\u001b[A\n",
      "\n",
      "Running ES algorithms:   0%|          | 0/1 [00:00<?, ?it/s]\u001b[A"
     ]
    },
    {
     "name": "stdout",
     "output_type": "stream",
     "text": [
      "running the experiment ... [../experiment_results/BBOBProblem/bueche_rastrigin/EvoTF_ES/3.json]\n"
     ]
    },
    {
     "name": "stderr",
     "output_type": "stream",
     "text": [
      "\n",
      "Running ES algorithms: 100%|██████████| 1/1 [00:27<00:00, 27.64s/it]\u001b[A\n",
      "\n",
      "Running ES algorithms:   0%|          | 0/1 [00:00<?, ?it/s]\u001b[A"
     ]
    },
    {
     "name": "stdout",
     "output_type": "stream",
     "text": [
      "running the experiment ... [../experiment_results/BBOBProblem/bueche_rastrigin/EvoTF_ES/4.json]\n"
     ]
    },
    {
     "name": "stderr",
     "output_type": "stream",
     "text": [
      "\n",
      "Running ES algorithms: 100%|██████████| 1/1 [00:27<00:00, 27.57s/it]\u001b[A\n",
      "\n",
      "Running ES algorithms:   0%|          | 0/1 [00:00<?, ?it/s]\u001b[A"
     ]
    },
    {
     "name": "stdout",
     "output_type": "stream",
     "text": [
      "running the experiment ... [../experiment_results/BBOBProblem/bueche_rastrigin/PGPE/0.json]\n"
     ]
    },
    {
     "name": "stderr",
     "output_type": "stream",
     "text": [
      "\n",
      "Running ES algorithms: 100%|██████████| 1/1 [00:13<00:00, 13.16s/it]\u001b[A\n",
      "\n",
      "Running ES algorithms:   0%|          | 0/1 [00:00<?, ?it/s]\u001b[A"
     ]
    },
    {
     "name": "stdout",
     "output_type": "stream",
     "text": [
      "running the experiment ... [../experiment_results/BBOBProblem/bueche_rastrigin/PGPE/1.json]\n"
     ]
    },
    {
     "name": "stderr",
     "output_type": "stream",
     "text": [
      "\n",
      "Running ES algorithms: 100%|██████████| 1/1 [00:12<00:00, 12.65s/it]\u001b[A\n",
      "\n",
      "Running ES algorithms:   0%|          | 0/1 [00:00<?, ?it/s]\u001b[A"
     ]
    },
    {
     "name": "stdout",
     "output_type": "stream",
     "text": [
      "running the experiment ... [../experiment_results/BBOBProblem/bueche_rastrigin/PGPE/2.json]\n"
     ]
    },
    {
     "name": "stderr",
     "output_type": "stream",
     "text": [
      "\n",
      "Running ES algorithms: 100%|██████████| 1/1 [00:12<00:00, 12.61s/it]\u001b[A\n",
      "\n",
      "Running ES algorithms:   0%|          | 0/1 [00:00<?, ?it/s]\u001b[A"
     ]
    },
    {
     "name": "stdout",
     "output_type": "stream",
     "text": [
      "running the experiment ... [../experiment_results/BBOBProblem/bueche_rastrigin/PGPE/3.json]\n"
     ]
    },
    {
     "name": "stderr",
     "output_type": "stream",
     "text": [
      "\n",
      "Running ES algorithms: 100%|██████████| 1/1 [00:13<00:00, 13.03s/it]\u001b[A\n",
      "\n",
      "Running ES algorithms:   0%|          | 0/1 [00:00<?, ?it/s]\u001b[A"
     ]
    },
    {
     "name": "stdout",
     "output_type": "stream",
     "text": [
      "running the experiment ... [../experiment_results/BBOBProblem/bueche_rastrigin/PGPE/4.json]\n"
     ]
    },
    {
     "name": "stderr",
     "output_type": "stream",
     "text": [
      "\n",
      "Running ES algorithms: 100%|██████████| 1/1 [00:12<00:00, 12.66s/it]\u001b[A\n",
      "\n",
      "Running ES algorithms:   0%|          | 0/1 [00:00<?, ?it/s]\u001b[A"
     ]
    },
    {
     "name": "stdout",
     "output_type": "stream",
     "text": [
      "running the experiment ... [../experiment_results/BBOBProblem/bueche_rastrigin/Open_ES/0.json]\n"
     ]
    },
    {
     "name": "stderr",
     "output_type": "stream",
     "text": [
      "\n",
      "Running ES algorithms: 100%|██████████| 1/1 [00:11<00:00, 11.71s/it]\u001b[A\n",
      "\n",
      "Running ES algorithms:   0%|          | 0/1 [00:00<?, ?it/s]\u001b[A"
     ]
    },
    {
     "name": "stdout",
     "output_type": "stream",
     "text": [
      "running the experiment ... [../experiment_results/BBOBProblem/bueche_rastrigin/Open_ES/1.json]\n"
     ]
    },
    {
     "name": "stderr",
     "output_type": "stream",
     "text": [
      "\n",
      "Running ES algorithms: 100%|██████████| 1/1 [00:11<00:00, 11.82s/it]\u001b[A\n",
      "\n",
      "Running ES algorithms:   0%|          | 0/1 [00:00<?, ?it/s]\u001b[A"
     ]
    },
    {
     "name": "stdout",
     "output_type": "stream",
     "text": [
      "running the experiment ... [../experiment_results/BBOBProblem/bueche_rastrigin/Open_ES/2.json]\n"
     ]
    },
    {
     "name": "stderr",
     "output_type": "stream",
     "text": [
      "\n",
      "Running ES algorithms: 100%|██████████| 1/1 [00:12<00:00, 12.23s/it]\u001b[A\n",
      "\n",
      "Running ES algorithms:   0%|          | 0/1 [00:00<?, ?it/s]\u001b[A"
     ]
    },
    {
     "name": "stdout",
     "output_type": "stream",
     "text": [
      "running the experiment ... [../experiment_results/BBOBProblem/bueche_rastrigin/Open_ES/3.json]\n"
     ]
    },
    {
     "name": "stderr",
     "output_type": "stream",
     "text": [
      "\n",
      "Running ES algorithms: 100%|██████████| 1/1 [00:11<00:00, 11.87s/it]\u001b[A\n",
      "\n",
      "Running ES algorithms:   0%|          | 0/1 [00:00<?, ?it/s]\u001b[A"
     ]
    },
    {
     "name": "stdout",
     "output_type": "stream",
     "text": [
      "running the experiment ... [../experiment_results/BBOBProblem/bueche_rastrigin/Open_ES/4.json]\n"
     ]
    },
    {
     "name": "stderr",
     "output_type": "stream",
     "text": [
      "\n",
      "Running ES algorithms: 100%|██████████| 1/1 [00:11<00:00, 11.77s/it]\u001b[A\n",
      "\n",
      "Running ES algorithms:   0%|          | 0/1 [00:00<?, ?it/s]\u001b[A"
     ]
    },
    {
     "name": "stdout",
     "output_type": "stream",
     "text": [
      "running the experiment ... [../experiment_results/BBOBProblem/bueche_rastrigin/SNES/0.json]\n"
     ]
    },
    {
     "name": "stderr",
     "output_type": "stream",
     "text": [
      "\n",
      "Running ES algorithms: 100%|██████████| 1/1 [00:12<00:00, 12.48s/it]\u001b[A\n",
      "\n",
      "Running ES algorithms:   0%|          | 0/1 [00:00<?, ?it/s]\u001b[A"
     ]
    },
    {
     "name": "stdout",
     "output_type": "stream",
     "text": [
      "running the experiment ... [../experiment_results/BBOBProblem/bueche_rastrigin/SNES/1.json]\n"
     ]
    },
    {
     "name": "stderr",
     "output_type": "stream",
     "text": [
      "\n",
      "Running ES algorithms: 100%|██████████| 1/1 [00:12<00:00, 12.36s/it]\u001b[A\n",
      "\n",
      "Running ES algorithms:   0%|          | 0/1 [00:00<?, ?it/s]\u001b[A"
     ]
    },
    {
     "name": "stdout",
     "output_type": "stream",
     "text": [
      "running the experiment ... [../experiment_results/BBOBProblem/bueche_rastrigin/SNES/2.json]\n"
     ]
    },
    {
     "name": "stderr",
     "output_type": "stream",
     "text": [
      "\n",
      "Running ES algorithms: 100%|██████████| 1/1 [00:12<00:00, 12.17s/it]\u001b[A\n",
      "\n",
      "Running ES algorithms:   0%|          | 0/1 [00:00<?, ?it/s]\u001b[A"
     ]
    },
    {
     "name": "stdout",
     "output_type": "stream",
     "text": [
      "running the experiment ... [../experiment_results/BBOBProblem/bueche_rastrigin/SNES/3.json]\n"
     ]
    },
    {
     "name": "stderr",
     "output_type": "stream",
     "text": [
      "\n",
      "Running ES algorithms: 100%|██████████| 1/1 [00:12<00:00, 12.05s/it]\u001b[A\n",
      "\n",
      "Running ES algorithms:   0%|          | 0/1 [00:00<?, ?it/s]\u001b[A"
     ]
    },
    {
     "name": "stdout",
     "output_type": "stream",
     "text": [
      "running the experiment ... [../experiment_results/BBOBProblem/bueche_rastrigin/SNES/4.json]\n"
     ]
    },
    {
     "name": "stderr",
     "output_type": "stream",
     "text": [
      "\n",
      "Running ES algorithms: 100%|██████████| 1/1 [00:12<00:00, 12.61s/it]\u001b[A\n",
      "\n",
      "Running ES algorithms:   0%|          | 0/1 [00:00<?, ?it/s]\u001b[A"
     ]
    },
    {
     "name": "stdout",
     "output_type": "stream",
     "text": [
      "running the experiment ... [../experiment_results/BBOBProblem/bueche_rastrigin/Sep_CMA_ES/0.json]\n"
     ]
    },
    {
     "name": "stderr",
     "output_type": "stream",
     "text": [
      "\n",
      "Running ES algorithms: 100%|██████████| 1/1 [00:13<00:00, 13.31s/it]\u001b[A\n",
      "\n",
      "Running ES algorithms:   0%|          | 0/1 [00:00<?, ?it/s]\u001b[A"
     ]
    },
    {
     "name": "stdout",
     "output_type": "stream",
     "text": [
      "running the experiment ... [../experiment_results/BBOBProblem/bueche_rastrigin/Sep_CMA_ES/1.json]\n"
     ]
    },
    {
     "name": "stderr",
     "output_type": "stream",
     "text": [
      "\n",
      "Running ES algorithms: 100%|██████████| 1/1 [00:13<00:00, 13.21s/it]\u001b[A\n",
      "\n",
      "Running ES algorithms:   0%|          | 0/1 [00:00<?, ?it/s]\u001b[A"
     ]
    },
    {
     "name": "stdout",
     "output_type": "stream",
     "text": [
      "running the experiment ... [../experiment_results/BBOBProblem/bueche_rastrigin/Sep_CMA_ES/2.json]\n"
     ]
    },
    {
     "name": "stderr",
     "output_type": "stream",
     "text": [
      "\n",
      "Running ES algorithms: 100%|██████████| 1/1 [00:13<00:00, 13.28s/it]\u001b[A\n",
      "\n",
      "Running ES algorithms:   0%|          | 0/1 [00:00<?, ?it/s]\u001b[A"
     ]
    },
    {
     "name": "stdout",
     "output_type": "stream",
     "text": [
      "running the experiment ... [../experiment_results/BBOBProblem/bueche_rastrigin/Sep_CMA_ES/3.json]\n"
     ]
    },
    {
     "name": "stderr",
     "output_type": "stream",
     "text": [
      "\n",
      "Running ES algorithms: 100%|██████████| 1/1 [00:13<00:00, 13.73s/it]\u001b[A\n",
      "\n",
      "Running ES algorithms:   0%|          | 0/1 [00:00<?, ?it/s]\u001b[A"
     ]
    },
    {
     "name": "stdout",
     "output_type": "stream",
     "text": [
      "running the experiment ... [../experiment_results/BBOBProblem/bueche_rastrigin/Sep_CMA_ES/4.json]\n"
     ]
    },
    {
     "name": "stderr",
     "output_type": "stream",
     "text": [
      "\n",
      "Running ES algorithms: 100%|██████████| 1/1 [00:13<00:00, 13.23s/it]\u001b[A\n",
      "\n",
      "Running ES algorithms:   0%|          | 0/1 [00:00<?, ?it/s]\u001b[A"
     ]
    },
    {
     "name": "stdout",
     "output_type": "stream",
     "text": [
      "running the experiment ... [../experiment_results/BBOBProblem/bueche_rastrigin/CMA_ES/0.json]\n"
     ]
    },
    {
     "name": "stderr",
     "output_type": "stream",
     "text": [
      "\n",
      "Running ES algorithms: 100%|██████████| 1/1 [00:15<00:00, 15.08s/it]\u001b[A\n",
      "\n",
      "Running ES algorithms:   0%|          | 0/1 [00:00<?, ?it/s]\u001b[A"
     ]
    },
    {
     "name": "stdout",
     "output_type": "stream",
     "text": [
      "running the experiment ... [../experiment_results/BBOBProblem/bueche_rastrigin/CMA_ES/1.json]\n"
     ]
    },
    {
     "name": "stderr",
     "output_type": "stream",
     "text": [
      "\n",
      "Running ES algorithms: 100%|██████████| 1/1 [00:15<00:00, 15.52s/it]\u001b[A\n",
      "\n",
      "Running ES algorithms:   0%|          | 0/1 [00:00<?, ?it/s]\u001b[A"
     ]
    },
    {
     "name": "stdout",
     "output_type": "stream",
     "text": [
      "running the experiment ... [../experiment_results/BBOBProblem/bueche_rastrigin/CMA_ES/2.json]\n"
     ]
    },
    {
     "name": "stderr",
     "output_type": "stream",
     "text": [
      "\n",
      "Running ES algorithms: 100%|██████████| 1/1 [00:15<00:00, 15.12s/it]\u001b[A\n",
      "\n",
      "Running ES algorithms:   0%|          | 0/1 [00:00<?, ?it/s]\u001b[A"
     ]
    },
    {
     "name": "stdout",
     "output_type": "stream",
     "text": [
      "running the experiment ... [../experiment_results/BBOBProblem/bueche_rastrigin/CMA_ES/3.json]\n"
     ]
    },
    {
     "name": "stderr",
     "output_type": "stream",
     "text": [
      "\n",
      "Running ES algorithms: 100%|██████████| 1/1 [00:15<00:00, 15.06s/it]\u001b[A\n",
      "\n",
      "Running ES algorithms:   0%|          | 0/1 [00:00<?, ?it/s]\u001b[A"
     ]
    },
    {
     "name": "stdout",
     "output_type": "stream",
     "text": [
      "running the experiment ... [../experiment_results/BBOBProblem/bueche_rastrigin/CMA_ES/4.json]\n"
     ]
    },
    {
     "name": "stderr",
     "output_type": "stream",
     "text": [
      "\n",
      "Running ES algorithms: 100%|██████████| 1/1 [00:15<00:00, 15.40s/it]\u001b[A\n",
      "Loading Problems ..:  17%|█▋        | 4/24 [44:46<3:43:17, 669.89s/it]"
     ]
    },
    {
     "name": "stdout",
     "output_type": "stream",
     "text": [
      "Successfully loaded: linear_slope\n"
     ]
    },
    {
     "name": "stderr",
     "output_type": "stream",
     "text": [
      "\n",
      "Running ES algorithms:   0%|          | 0/1 [00:00<?, ?it/s]\u001b[A"
     ]
    },
    {
     "name": "stdout",
     "output_type": "stream",
     "text": [
      "running the experiment ... [../experiment_results/BBOBProblem/linear_slope/SimpleES/0.json]\n"
     ]
    },
    {
     "name": "stderr",
     "output_type": "stream",
     "text": [
      "\n",
      "Running ES algorithms: 100%|██████████| 1/1 [00:12<00:00, 12.74s/it]\u001b[A\n",
      "\n",
      "Running ES algorithms:   0%|          | 0/1 [00:00<?, ?it/s]\u001b[A"
     ]
    },
    {
     "name": "stdout",
     "output_type": "stream",
     "text": [
      "running the experiment ... [../experiment_results/BBOBProblem/linear_slope/SimpleES/1.json]\n"
     ]
    },
    {
     "name": "stderr",
     "output_type": "stream",
     "text": [
      "\n",
      "Running ES algorithms: 100%|██████████| 1/1 [00:12<00:00, 12.23s/it]\u001b[A\n",
      "\n",
      "Running ES algorithms:   0%|          | 0/1 [00:00<?, ?it/s]\u001b[A"
     ]
    },
    {
     "name": "stdout",
     "output_type": "stream",
     "text": [
      "running the experiment ... [../experiment_results/BBOBProblem/linear_slope/SimpleES/2.json]\n"
     ]
    },
    {
     "name": "stderr",
     "output_type": "stream",
     "text": [
      "\n",
      "Running ES algorithms: 100%|██████████| 1/1 [00:12<00:00, 12.19s/it]\u001b[A\n",
      "\n",
      "Running ES algorithms:   0%|          | 0/1 [00:00<?, ?it/s]\u001b[A"
     ]
    },
    {
     "name": "stdout",
     "output_type": "stream",
     "text": [
      "running the experiment ... [../experiment_results/BBOBProblem/linear_slope/SimpleES/3.json]\n"
     ]
    },
    {
     "name": "stderr",
     "output_type": "stream",
     "text": [
      "\n",
      "Running ES algorithms: 100%|██████████| 1/1 [00:12<00:00, 12.61s/it]\u001b[A\n",
      "\n",
      "Running ES algorithms:   0%|          | 0/1 [00:00<?, ?it/s]\u001b[A"
     ]
    },
    {
     "name": "stdout",
     "output_type": "stream",
     "text": [
      "running the experiment ... [../experiment_results/BBOBProblem/linear_slope/SimpleES/4.json]\n"
     ]
    },
    {
     "name": "stderr",
     "output_type": "stream",
     "text": [
      "\n",
      "Running ES algorithms: 100%|██████████| 1/1 [00:12<00:00, 12.08s/it]\u001b[A\n",
      "\n",
      "Running ES algorithms:   0%|          | 0/1 [00:00<?, ?it/s]\u001b[A"
     ]
    },
    {
     "name": "stdout",
     "output_type": "stream",
     "text": [
      "running the experiment ... [../experiment_results/BBOBProblem/linear_slope/LearnedES/0.json]\n"
     ]
    },
    {
     "name": "stderr",
     "output_type": "stream",
     "text": [
      "\n",
      "Running ES algorithms: 100%|██████████| 1/1 [00:13<00:00, 13.84s/it]\u001b[A\n",
      "\n",
      "Running ES algorithms:   0%|          | 0/1 [00:00<?, ?it/s]\u001b[A"
     ]
    },
    {
     "name": "stdout",
     "output_type": "stream",
     "text": [
      "running the experiment ... [../experiment_results/BBOBProblem/linear_slope/LearnedES/1.json]\n"
     ]
    },
    {
     "name": "stderr",
     "output_type": "stream",
     "text": [
      "\n",
      "Running ES algorithms: 100%|██████████| 1/1 [00:13<00:00, 13.80s/it]\u001b[A\n",
      "\n",
      "Running ES algorithms:   0%|          | 0/1 [00:00<?, ?it/s]\u001b[A"
     ]
    },
    {
     "name": "stdout",
     "output_type": "stream",
     "text": [
      "running the experiment ... [../experiment_results/BBOBProblem/linear_slope/LearnedES/2.json]\n"
     ]
    },
    {
     "name": "stderr",
     "output_type": "stream",
     "text": [
      "\n",
      "Running ES algorithms: 100%|██████████| 1/1 [00:14<00:00, 14.32s/it]\u001b[A\n",
      "\n",
      "Running ES algorithms:   0%|          | 0/1 [00:00<?, ?it/s]\u001b[A"
     ]
    },
    {
     "name": "stdout",
     "output_type": "stream",
     "text": [
      "running the experiment ... [../experiment_results/BBOBProblem/linear_slope/LearnedES/3.json]\n"
     ]
    },
    {
     "name": "stderr",
     "output_type": "stream",
     "text": [
      "\n",
      "Running ES algorithms: 100%|██████████| 1/1 [00:13<00:00, 13.91s/it]\u001b[A\n",
      "\n",
      "Running ES algorithms:   0%|          | 0/1 [00:00<?, ?it/s]\u001b[A"
     ]
    },
    {
     "name": "stdout",
     "output_type": "stream",
     "text": [
      "running the experiment ... [../experiment_results/BBOBProblem/linear_slope/LearnedES/4.json]\n"
     ]
    },
    {
     "name": "stderr",
     "output_type": "stream",
     "text": [
      "\n",
      "Running ES algorithms: 100%|██████████| 1/1 [00:13<00:00, 13.92s/it]\u001b[A\n",
      "\n",
      "Running ES algorithms:   0%|          | 0/1 [00:00<?, ?it/s]\u001b[A"
     ]
    },
    {
     "name": "stdout",
     "output_type": "stream",
     "text": [
      "running the experiment ... [../experiment_results/BBOBProblem/linear_slope/DiscoveredES/0.json]\n"
     ]
    },
    {
     "name": "stderr",
     "output_type": "stream",
     "text": [
      "\n",
      "Running ES algorithms: 100%|██████████| 1/1 [00:12<00:00, 12.12s/it]\u001b[A\n",
      "\n",
      "Running ES algorithms:   0%|          | 0/1 [00:00<?, ?it/s]\u001b[A"
     ]
    },
    {
     "name": "stdout",
     "output_type": "stream",
     "text": [
      "running the experiment ... [../experiment_results/BBOBProblem/linear_slope/DiscoveredES/1.json]\n"
     ]
    },
    {
     "name": "stderr",
     "output_type": "stream",
     "text": [
      "\n",
      "Running ES algorithms: 100%|██████████| 1/1 [00:12<00:00, 12.57s/it]\u001b[A\n",
      "\n",
      "Running ES algorithms:   0%|          | 0/1 [00:00<?, ?it/s]\u001b[A"
     ]
    },
    {
     "name": "stdout",
     "output_type": "stream",
     "text": [
      "running the experiment ... [../experiment_results/BBOBProblem/linear_slope/DiscoveredES/2.json]\n"
     ]
    },
    {
     "name": "stderr",
     "output_type": "stream",
     "text": [
      "\n",
      "Running ES algorithms: 100%|██████████| 1/1 [00:12<00:00, 12.22s/it]\u001b[A\n",
      "\n",
      "Running ES algorithms:   0%|          | 0/1 [00:00<?, ?it/s]\u001b[A"
     ]
    },
    {
     "name": "stdout",
     "output_type": "stream",
     "text": [
      "running the experiment ... [../experiment_results/BBOBProblem/linear_slope/DiscoveredES/3.json]\n"
     ]
    },
    {
     "name": "stderr",
     "output_type": "stream",
     "text": [
      "\n",
      "Running ES algorithms: 100%|██████████| 1/1 [00:12<00:00, 12.40s/it]\u001b[A\n",
      "\n",
      "Running ES algorithms:   0%|          | 0/1 [00:00<?, ?it/s]\u001b[A"
     ]
    },
    {
     "name": "stdout",
     "output_type": "stream",
     "text": [
      "running the experiment ... [../experiment_results/BBOBProblem/linear_slope/DiscoveredES/4.json]\n"
     ]
    },
    {
     "name": "stderr",
     "output_type": "stream",
     "text": [
      "\n",
      "Running ES algorithms: 100%|██████████| 1/1 [00:12<00:00, 12.26s/it]\u001b[A\n",
      "\n",
      "Running ES algorithms:   0%|          | 0/1 [00:00<?, ?it/s]\u001b[A"
     ]
    },
    {
     "name": "stdout",
     "output_type": "stream",
     "text": [
      "running the experiment ... [../experiment_results/BBOBProblem/linear_slope/EvoTF_ES/0.json]\n"
     ]
    },
    {
     "name": "stderr",
     "output_type": "stream",
     "text": [
      "\n",
      "Running ES algorithms: 100%|██████████| 1/1 [00:27<00:00, 27.99s/it]\u001b[A\n",
      "\n",
      "Running ES algorithms:   0%|          | 0/1 [00:00<?, ?it/s]\u001b[A"
     ]
    },
    {
     "name": "stdout",
     "output_type": "stream",
     "text": [
      "running the experiment ... [../experiment_results/BBOBProblem/linear_slope/EvoTF_ES/1.json]\n"
     ]
    },
    {
     "name": "stderr",
     "output_type": "stream",
     "text": [
      "\n",
      "Running ES algorithms: 100%|██████████| 1/1 [00:27<00:00, 27.56s/it]\u001b[A\n",
      "\n",
      "Running ES algorithms:   0%|          | 0/1 [00:00<?, ?it/s]\u001b[A"
     ]
    },
    {
     "name": "stdout",
     "output_type": "stream",
     "text": [
      "running the experiment ... [../experiment_results/BBOBProblem/linear_slope/EvoTF_ES/2.json]\n"
     ]
    },
    {
     "name": "stderr",
     "output_type": "stream",
     "text": [
      "\n",
      "Running ES algorithms: 100%|██████████| 1/1 [00:27<00:00, 27.58s/it]\u001b[A\n",
      "\n",
      "Running ES algorithms:   0%|          | 0/1 [00:00<?, ?it/s]\u001b[A"
     ]
    },
    {
     "name": "stdout",
     "output_type": "stream",
     "text": [
      "running the experiment ... [../experiment_results/BBOBProblem/linear_slope/EvoTF_ES/3.json]\n"
     ]
    },
    {
     "name": "stderr",
     "output_type": "stream",
     "text": [
      "\n",
      "Running ES algorithms: 100%|██████████| 1/1 [00:27<00:00, 27.99s/it]\u001b[A\n",
      "\n",
      "Running ES algorithms:   0%|          | 0/1 [00:00<?, ?it/s]\u001b[A"
     ]
    },
    {
     "name": "stdout",
     "output_type": "stream",
     "text": [
      "running the experiment ... [../experiment_results/BBOBProblem/linear_slope/EvoTF_ES/4.json]\n"
     ]
    },
    {
     "name": "stderr",
     "output_type": "stream",
     "text": [
      "\n",
      "Running ES algorithms: 100%|██████████| 1/1 [00:27<00:00, 27.61s/it]\u001b[A\n",
      "\n",
      "Running ES algorithms:   0%|          | 0/1 [00:00<?, ?it/s]\u001b[A"
     ]
    },
    {
     "name": "stdout",
     "output_type": "stream",
     "text": [
      "running the experiment ... [../experiment_results/BBOBProblem/linear_slope/PGPE/0.json]\n"
     ]
    },
    {
     "name": "stderr",
     "output_type": "stream",
     "text": [
      "\n",
      "Running ES algorithms: 100%|██████████| 1/1 [00:13<00:00, 13.08s/it]\u001b[A\n",
      "\n",
      "Running ES algorithms:   0%|          | 0/1 [00:00<?, ?it/s]\u001b[A"
     ]
    },
    {
     "name": "stdout",
     "output_type": "stream",
     "text": [
      "running the experiment ... [../experiment_results/BBOBProblem/linear_slope/PGPE/1.json]\n"
     ]
    },
    {
     "name": "stderr",
     "output_type": "stream",
     "text": [
      "\n",
      "Running ES algorithms: 100%|██████████| 1/1 [00:13<00:00, 13.54s/it]\u001b[A\n",
      "\n",
      "Running ES algorithms:   0%|          | 0/1 [00:00<?, ?it/s]\u001b[A"
     ]
    },
    {
     "name": "stdout",
     "output_type": "stream",
     "text": [
      "running the experiment ... [../experiment_results/BBOBProblem/linear_slope/PGPE/2.json]\n"
     ]
    },
    {
     "name": "stderr",
     "output_type": "stream",
     "text": [
      "\n",
      "Running ES algorithms: 100%|██████████| 1/1 [00:12<00:00, 13.00s/it]\u001b[A\n",
      "\n",
      "Running ES algorithms:   0%|          | 0/1 [00:00<?, ?it/s]\u001b[A"
     ]
    },
    {
     "name": "stdout",
     "output_type": "stream",
     "text": [
      "running the experiment ... [../experiment_results/BBOBProblem/linear_slope/PGPE/3.json]\n"
     ]
    },
    {
     "name": "stderr",
     "output_type": "stream",
     "text": [
      "\n",
      "Running ES algorithms: 100%|██████████| 1/1 [00:12<00:00, 12.96s/it]\u001b[A\n",
      "\n",
      "Running ES algorithms:   0%|          | 0/1 [00:00<?, ?it/s]\u001b[A"
     ]
    },
    {
     "name": "stdout",
     "output_type": "stream",
     "text": [
      "running the experiment ... [../experiment_results/BBOBProblem/linear_slope/PGPE/4.json]\n"
     ]
    },
    {
     "name": "stderr",
     "output_type": "stream",
     "text": [
      "\n",
      "Running ES algorithms: 100%|██████████| 1/1 [00:12<00:00, 12.99s/it]\u001b[A\n",
      "\n",
      "Running ES algorithms:   0%|          | 0/1 [00:00<?, ?it/s]\u001b[A"
     ]
    },
    {
     "name": "stdout",
     "output_type": "stream",
     "text": [
      "running the experiment ... [../experiment_results/BBOBProblem/linear_slope/Open_ES/0.json]\n"
     ]
    },
    {
     "name": "stderr",
     "output_type": "stream",
     "text": [
      "\n",
      "Running ES algorithms: 100%|██████████| 1/1 [00:12<00:00, 12.85s/it]\u001b[A\n",
      "\n",
      "Running ES algorithms:   0%|          | 0/1 [00:00<?, ?it/s]\u001b[A"
     ]
    },
    {
     "name": "stdout",
     "output_type": "stream",
     "text": [
      "running the experiment ... [../experiment_results/BBOBProblem/linear_slope/Open_ES/1.json]\n"
     ]
    },
    {
     "name": "stderr",
     "output_type": "stream",
     "text": [
      "\n",
      "Running ES algorithms: 100%|██████████| 1/1 [00:12<00:00, 12.02s/it]\u001b[A\n",
      "\n",
      "Running ES algorithms:   0%|          | 0/1 [00:00<?, ?it/s]\u001b[A"
     ]
    },
    {
     "name": "stdout",
     "output_type": "stream",
     "text": [
      "running the experiment ... [../experiment_results/BBOBProblem/linear_slope/Open_ES/2.json]\n"
     ]
    },
    {
     "name": "stderr",
     "output_type": "stream",
     "text": [
      "\n",
      "Running ES algorithms: 100%|██████████| 1/1 [00:12<00:00, 12.05s/it]\u001b[A\n",
      "\n",
      "Running ES algorithms:   0%|          | 0/1 [00:00<?, ?it/s]\u001b[A"
     ]
    },
    {
     "name": "stdout",
     "output_type": "stream",
     "text": [
      "running the experiment ... [../experiment_results/BBOBProblem/linear_slope/Open_ES/3.json]\n"
     ]
    },
    {
     "name": "stderr",
     "output_type": "stream",
     "text": [
      "\n",
      "Running ES algorithms: 100%|██████████| 1/1 [00:11<00:00, 11.96s/it]\u001b[A\n",
      "\n",
      "Running ES algorithms:   0%|          | 0/1 [00:00<?, ?it/s]\u001b[A"
     ]
    },
    {
     "name": "stdout",
     "output_type": "stream",
     "text": [
      "running the experiment ... [../experiment_results/BBOBProblem/linear_slope/Open_ES/4.json]\n"
     ]
    },
    {
     "name": "stderr",
     "output_type": "stream",
     "text": [
      "\n",
      "Running ES algorithms: 100%|██████████| 1/1 [00:12<00:00, 12.52s/it]\u001b[A\n",
      "\n",
      "Running ES algorithms:   0%|          | 0/1 [00:00<?, ?it/s]\u001b[A"
     ]
    },
    {
     "name": "stdout",
     "output_type": "stream",
     "text": [
      "running the experiment ... [../experiment_results/BBOBProblem/linear_slope/SNES/0.json]\n"
     ]
    },
    {
     "name": "stderr",
     "output_type": "stream",
     "text": [
      "\n",
      "Running ES algorithms: 100%|██████████| 1/1 [00:12<00:00, 12.31s/it]\u001b[A\n",
      "\n",
      "Running ES algorithms:   0%|          | 0/1 [00:00<?, ?it/s]\u001b[A"
     ]
    },
    {
     "name": "stdout",
     "output_type": "stream",
     "text": [
      "running the experiment ... [../experiment_results/BBOBProblem/linear_slope/SNES/1.json]\n"
     ]
    },
    {
     "name": "stderr",
     "output_type": "stream",
     "text": [
      "\n",
      "Running ES algorithms: 100%|██████████| 1/1 [00:12<00:00, 12.37s/it]\u001b[A\n",
      "\n",
      "Running ES algorithms:   0%|          | 0/1 [00:00<?, ?it/s]\u001b[A"
     ]
    },
    {
     "name": "stdout",
     "output_type": "stream",
     "text": [
      "running the experiment ... [../experiment_results/BBOBProblem/linear_slope/SNES/2.json]\n"
     ]
    },
    {
     "name": "stderr",
     "output_type": "stream",
     "text": [
      "\n",
      "Running ES algorithms: 100%|██████████| 1/1 [00:12<00:00, 12.38s/it]\u001b[A\n",
      "\n",
      "Running ES algorithms:   0%|          | 0/1 [00:00<?, ?it/s]\u001b[A"
     ]
    },
    {
     "name": "stdout",
     "output_type": "stream",
     "text": [
      "running the experiment ... [../experiment_results/BBOBProblem/linear_slope/SNES/3.json]\n"
     ]
    },
    {
     "name": "stderr",
     "output_type": "stream",
     "text": [
      "\n",
      "Running ES algorithms: 100%|██████████| 1/1 [00:12<00:00, 12.27s/it]\u001b[A\n",
      "\n",
      "Running ES algorithms:   0%|          | 0/1 [00:00<?, ?it/s]\u001b[A"
     ]
    },
    {
     "name": "stdout",
     "output_type": "stream",
     "text": [
      "running the experiment ... [../experiment_results/BBOBProblem/linear_slope/SNES/4.json]\n"
     ]
    },
    {
     "name": "stderr",
     "output_type": "stream",
     "text": [
      "\n",
      "Running ES algorithms: 100%|██████████| 1/1 [00:12<00:00, 12.90s/it]\u001b[A\n",
      "\n",
      "Running ES algorithms:   0%|          | 0/1 [00:00<?, ?it/s]\u001b[A"
     ]
    },
    {
     "name": "stdout",
     "output_type": "stream",
     "text": [
      "running the experiment ... [../experiment_results/BBOBProblem/linear_slope/Sep_CMA_ES/0.json]\n"
     ]
    },
    {
     "name": "stderr",
     "output_type": "stream",
     "text": [
      "\n",
      "Running ES algorithms: 100%|██████████| 1/1 [00:13<00:00, 13.56s/it]\u001b[A\n",
      "\n",
      "Running ES algorithms:   0%|          | 0/1 [00:00<?, ?it/s]\u001b[A"
     ]
    },
    {
     "name": "stdout",
     "output_type": "stream",
     "text": [
      "running the experiment ... [../experiment_results/BBOBProblem/linear_slope/Sep_CMA_ES/1.json]\n"
     ]
    },
    {
     "name": "stderr",
     "output_type": "stream",
     "text": [
      "\n",
      "Running ES algorithms: 100%|██████████| 1/1 [00:13<00:00, 13.60s/it]\u001b[A\n",
      "\n",
      "Running ES algorithms:   0%|          | 0/1 [00:00<?, ?it/s]\u001b[A"
     ]
    },
    {
     "name": "stdout",
     "output_type": "stream",
     "text": [
      "running the experiment ... [../experiment_results/BBOBProblem/linear_slope/Sep_CMA_ES/2.json]\n"
     ]
    },
    {
     "name": "stderr",
     "output_type": "stream",
     "text": [
      "\n",
      "Running ES algorithms: 100%|██████████| 1/1 [00:13<00:00, 13.60s/it]\u001b[A\n",
      "\n",
      "Running ES algorithms:   0%|          | 0/1 [00:00<?, ?it/s]\u001b[A"
     ]
    },
    {
     "name": "stdout",
     "output_type": "stream",
     "text": [
      "running the experiment ... [../experiment_results/BBOBProblem/linear_slope/Sep_CMA_ES/3.json]\n"
     ]
    },
    {
     "name": "stderr",
     "output_type": "stream",
     "text": [
      "\n",
      "Running ES algorithms: 100%|██████████| 1/1 [00:14<00:00, 14.13s/it]\u001b[A\n",
      "\n",
      "Running ES algorithms:   0%|          | 0/1 [00:00<?, ?it/s]\u001b[A"
     ]
    },
    {
     "name": "stdout",
     "output_type": "stream",
     "text": [
      "running the experiment ... [../experiment_results/BBOBProblem/linear_slope/Sep_CMA_ES/4.json]\n"
     ]
    },
    {
     "name": "stderr",
     "output_type": "stream",
     "text": [
      "\n",
      "Running ES algorithms: 100%|██████████| 1/1 [00:13<00:00, 13.55s/it]\u001b[A\n",
      "\n",
      "Running ES algorithms:   0%|          | 0/1 [00:00<?, ?it/s]\u001b[A"
     ]
    },
    {
     "name": "stdout",
     "output_type": "stream",
     "text": [
      "running the experiment ... [../experiment_results/BBOBProblem/linear_slope/CMA_ES/0.json]\n"
     ]
    },
    {
     "name": "stderr",
     "output_type": "stream",
     "text": [
      "\n",
      "Running ES algorithms: 100%|██████████| 1/1 [00:15<00:00, 15.40s/it]\u001b[A\n",
      "\n",
      "Running ES algorithms:   0%|          | 0/1 [00:00<?, ?it/s]\u001b[A"
     ]
    },
    {
     "name": "stdout",
     "output_type": "stream",
     "text": [
      "running the experiment ... [../experiment_results/BBOBProblem/linear_slope/CMA_ES/1.json]\n"
     ]
    },
    {
     "name": "stderr",
     "output_type": "stream",
     "text": [
      "\n",
      "Running ES algorithms: 100%|██████████| 1/1 [00:15<00:00, 15.45s/it]\u001b[A\n",
      "\n",
      "Running ES algorithms:   0%|          | 0/1 [00:00<?, ?it/s]\u001b[A"
     ]
    },
    {
     "name": "stdout",
     "output_type": "stream",
     "text": [
      "running the experiment ... [../experiment_results/BBOBProblem/linear_slope/CMA_ES/2.json]\n"
     ]
    },
    {
     "name": "stderr",
     "output_type": "stream",
     "text": [
      "\n",
      "Running ES algorithms: 100%|██████████| 1/1 [00:16<00:00, 16.00s/it]\u001b[A\n",
      "\n",
      "Running ES algorithms:   0%|          | 0/1 [00:00<?, ?it/s]\u001b[A"
     ]
    },
    {
     "name": "stdout",
     "output_type": "stream",
     "text": [
      "running the experiment ... [../experiment_results/BBOBProblem/linear_slope/CMA_ES/3.json]\n"
     ]
    },
    {
     "name": "stderr",
     "output_type": "stream",
     "text": [
      "\n",
      "Running ES algorithms: 100%|██████████| 1/1 [00:15<00:00, 15.46s/it]\u001b[A\n",
      "\n",
      "Running ES algorithms:   0%|          | 0/1 [00:00<?, ?it/s]\u001b[A"
     ]
    },
    {
     "name": "stdout",
     "output_type": "stream",
     "text": [
      "running the experiment ... [../experiment_results/BBOBProblem/linear_slope/CMA_ES/4.json]\n"
     ]
    },
    {
     "name": "stderr",
     "output_type": "stream",
     "text": [
      "\n",
      "Running ES algorithms: 100%|██████████| 1/1 [00:15<00:00, 15.41s/it]\u001b[A\n",
      "Loading Problems ..:  21%|██        | 5/24 [55:55<3:32:03, 669.67s/it]"
     ]
    },
    {
     "name": "stdout",
     "output_type": "stream",
     "text": [
      "Successfully loaded: attractive_sector\n"
     ]
    },
    {
     "name": "stderr",
     "output_type": "stream",
     "text": [
      "\n",
      "Running ES algorithms:   0%|          | 0/1 [00:00<?, ?it/s]\u001b[A"
     ]
    },
    {
     "name": "stdout",
     "output_type": "stream",
     "text": [
      "running the experiment ... [../experiment_results/BBOBProblem/attractive_sector/SimpleES/0.json]\n"
     ]
    },
    {
     "name": "stderr",
     "output_type": "stream",
     "text": [
      "\n",
      "Running ES algorithms: 100%|██████████| 1/1 [00:13<00:00, 13.43s/it]\u001b[A\n",
      "\n",
      "Running ES algorithms:   0%|          | 0/1 [00:00<?, ?it/s]\u001b[A"
     ]
    },
    {
     "name": "stdout",
     "output_type": "stream",
     "text": [
      "running the experiment ... [../experiment_results/BBOBProblem/attractive_sector/SimpleES/1.json]\n"
     ]
    },
    {
     "name": "stderr",
     "output_type": "stream",
     "text": [
      "\n",
      "Running ES algorithms: 100%|██████████| 1/1 [00:13<00:00, 13.29s/it]\u001b[A\n",
      "\n",
      "Running ES algorithms:   0%|          | 0/1 [00:00<?, ?it/s]\u001b[A"
     ]
    },
    {
     "name": "stdout",
     "output_type": "stream",
     "text": [
      "running the experiment ... [../experiment_results/BBOBProblem/attractive_sector/SimpleES/2.json]\n"
     ]
    },
    {
     "name": "stderr",
     "output_type": "stream",
     "text": [
      "\n",
      "Running ES algorithms: 100%|██████████| 1/1 [00:12<00:00, 12.71s/it]\u001b[A\n",
      "\n",
      "Running ES algorithms:   0%|          | 0/1 [00:00<?, ?it/s]\u001b[A"
     ]
    },
    {
     "name": "stdout",
     "output_type": "stream",
     "text": [
      "running the experiment ... [../experiment_results/BBOBProblem/attractive_sector/SimpleES/3.json]\n"
     ]
    },
    {
     "name": "stderr",
     "output_type": "stream",
     "text": [
      "\n",
      "Running ES algorithms: 100%|██████████| 1/1 [00:12<00:00, 12.75s/it]\u001b[A\n",
      "\n",
      "Running ES algorithms:   0%|          | 0/1 [00:00<?, ?it/s]\u001b[A"
     ]
    },
    {
     "name": "stdout",
     "output_type": "stream",
     "text": [
      "running the experiment ... [../experiment_results/BBOBProblem/attractive_sector/SimpleES/4.json]\n"
     ]
    },
    {
     "name": "stderr",
     "output_type": "stream",
     "text": [
      "\n",
      "Running ES algorithms: 100%|██████████| 1/1 [00:12<00:00, 12.76s/it]\u001b[A\n",
      "\n",
      "Running ES algorithms:   0%|          | 0/1 [00:00<?, ?it/s]\u001b[A"
     ]
    },
    {
     "name": "stdout",
     "output_type": "stream",
     "text": [
      "running the experiment ... [../experiment_results/BBOBProblem/attractive_sector/LearnedES/0.json]\n"
     ]
    },
    {
     "name": "stderr",
     "output_type": "stream",
     "text": [
      "\n",
      "Running ES algorithms: 100%|██████████| 1/1 [00:14<00:00, 14.41s/it]\u001b[A\n",
      "\n",
      "Running ES algorithms:   0%|          | 0/1 [00:00<?, ?it/s]\u001b[A"
     ]
    },
    {
     "name": "stdout",
     "output_type": "stream",
     "text": [
      "running the experiment ... [../experiment_results/BBOBProblem/attractive_sector/LearnedES/1.json]\n"
     ]
    },
    {
     "name": "stderr",
     "output_type": "stream",
     "text": [
      "\n",
      "Running ES algorithms: 100%|██████████| 1/1 [00:14<00:00, 14.95s/it]\u001b[A\n",
      "\n",
      "Running ES algorithms:   0%|          | 0/1 [00:00<?, ?it/s]\u001b[A"
     ]
    },
    {
     "name": "stdout",
     "output_type": "stream",
     "text": [
      "running the experiment ... [../experiment_results/BBOBProblem/attractive_sector/LearnedES/2.json]\n"
     ]
    },
    {
     "name": "stderr",
     "output_type": "stream",
     "text": [
      "\n",
      "Running ES algorithms: 100%|██████████| 1/1 [00:14<00:00, 14.37s/it]\u001b[A\n",
      "\n",
      "Running ES algorithms:   0%|          | 0/1 [00:00<?, ?it/s]\u001b[A"
     ]
    },
    {
     "name": "stdout",
     "output_type": "stream",
     "text": [
      "running the experiment ... [../experiment_results/BBOBProblem/attractive_sector/LearnedES/3.json]\n"
     ]
    },
    {
     "name": "stderr",
     "output_type": "stream",
     "text": [
      "\n",
      "Running ES algorithms: 100%|██████████| 1/1 [00:14<00:00, 14.63s/it]\u001b[A\n",
      "\n",
      "Running ES algorithms:   0%|          | 0/1 [00:00<?, ?it/s]\u001b[A"
     ]
    },
    {
     "name": "stdout",
     "output_type": "stream",
     "text": [
      "running the experiment ... [../experiment_results/BBOBProblem/attractive_sector/LearnedES/4.json]\n"
     ]
    },
    {
     "name": "stderr",
     "output_type": "stream",
     "text": [
      "\n",
      "Running ES algorithms: 100%|██████████| 1/1 [00:14<00:00, 14.52s/it]\u001b[A\n",
      "\n",
      "Running ES algorithms:   0%|          | 0/1 [00:00<?, ?it/s]\u001b[A"
     ]
    },
    {
     "name": "stdout",
     "output_type": "stream",
     "text": [
      "running the experiment ... [../experiment_results/BBOBProblem/attractive_sector/DiscoveredES/0.json]\n"
     ]
    },
    {
     "name": "stderr",
     "output_type": "stream",
     "text": [
      "\n",
      "Running ES algorithms: 100%|██████████| 1/1 [00:13<00:00, 13.44s/it]\u001b[A\n",
      "\n",
      "Running ES algorithms:   0%|          | 0/1 [00:00<?, ?it/s]\u001b[A"
     ]
    },
    {
     "name": "stdout",
     "output_type": "stream",
     "text": [
      "running the experiment ... [../experiment_results/BBOBProblem/attractive_sector/DiscoveredES/1.json]\n"
     ]
    },
    {
     "name": "stderr",
     "output_type": "stream",
     "text": [
      "\n",
      "Running ES algorithms: 100%|██████████| 1/1 [00:12<00:00, 12.69s/it]\u001b[A\n",
      "\n",
      "Running ES algorithms:   0%|          | 0/1 [00:00<?, ?it/s]\u001b[A"
     ]
    },
    {
     "name": "stdout",
     "output_type": "stream",
     "text": [
      "running the experiment ... [../experiment_results/BBOBProblem/attractive_sector/DiscoveredES/2.json]\n"
     ]
    },
    {
     "name": "stderr",
     "output_type": "stream",
     "text": [
      "\n",
      "Running ES algorithms: 100%|██████████| 1/1 [00:12<00:00, 12.67s/it]\u001b[A\n",
      "\n",
      "Running ES algorithms:   0%|          | 0/1 [00:00<?, ?it/s]\u001b[A"
     ]
    },
    {
     "name": "stdout",
     "output_type": "stream",
     "text": [
      "running the experiment ... [../experiment_results/BBOBProblem/attractive_sector/DiscoveredES/3.json]\n"
     ]
    },
    {
     "name": "stderr",
     "output_type": "stream",
     "text": [
      "\n",
      "Running ES algorithms: 100%|██████████| 1/1 [00:12<00:00, 12.72s/it]\u001b[A\n",
      "\n",
      "Running ES algorithms:   0%|          | 0/1 [00:00<?, ?it/s]\u001b[A"
     ]
    },
    {
     "name": "stdout",
     "output_type": "stream",
     "text": [
      "running the experiment ... [../experiment_results/BBOBProblem/attractive_sector/DiscoveredES/4.json]\n"
     ]
    },
    {
     "name": "stderr",
     "output_type": "stream",
     "text": [
      "\n",
      "Running ES algorithms: 100%|██████████| 1/1 [00:13<00:00, 13.33s/it]\u001b[A\n",
      "\n",
      "Running ES algorithms:   0%|          | 0/1 [00:00<?, ?it/s]\u001b[A"
     ]
    },
    {
     "name": "stdout",
     "output_type": "stream",
     "text": [
      "running the experiment ... [../experiment_results/BBOBProblem/attractive_sector/EvoTF_ES/0.json]\n"
     ]
    },
    {
     "name": "stderr",
     "output_type": "stream",
     "text": [
      "\n",
      "Running ES algorithms: 100%|██████████| 1/1 [00:27<00:00, 27.71s/it]\u001b[A\n",
      "\n",
      "Running ES algorithms:   0%|          | 0/1 [00:00<?, ?it/s]\u001b[A"
     ]
    },
    {
     "name": "stdout",
     "output_type": "stream",
     "text": [
      "running the experiment ... [../experiment_results/BBOBProblem/attractive_sector/EvoTF_ES/1.json]\n"
     ]
    },
    {
     "name": "stderr",
     "output_type": "stream",
     "text": [
      "\n",
      "Running ES algorithms: 100%|██████████| 1/1 [00:27<00:00, 27.71s/it]\u001b[A\n",
      "\n",
      "Running ES algorithms:   0%|          | 0/1 [00:00<?, ?it/s]\u001b[A"
     ]
    },
    {
     "name": "stdout",
     "output_type": "stream",
     "text": [
      "running the experiment ... [../experiment_results/BBOBProblem/attractive_sector/EvoTF_ES/2.json]\n"
     ]
    },
    {
     "name": "stderr",
     "output_type": "stream",
     "text": [
      "\n",
      "Running ES algorithms: 100%|██████████| 1/1 [00:28<00:00, 28.41s/it]\u001b[A\n",
      "\n",
      "Running ES algorithms:   0%|          | 0/1 [00:00<?, ?it/s]\u001b[A"
     ]
    },
    {
     "name": "stdout",
     "output_type": "stream",
     "text": [
      "running the experiment ... [../experiment_results/BBOBProblem/attractive_sector/EvoTF_ES/3.json]\n"
     ]
    },
    {
     "name": "stderr",
     "output_type": "stream",
     "text": [
      "\n",
      "Running ES algorithms: 100%|██████████| 1/1 [00:27<00:00, 27.79s/it]\u001b[A\n",
      "\n",
      "Running ES algorithms:   0%|          | 0/1 [00:00<?, ?it/s]\u001b[A"
     ]
    },
    {
     "name": "stdout",
     "output_type": "stream",
     "text": [
      "running the experiment ... [../experiment_results/BBOBProblem/attractive_sector/EvoTF_ES/4.json]\n"
     ]
    },
    {
     "name": "stderr",
     "output_type": "stream",
     "text": [
      "\n",
      "Running ES algorithms: 100%|██████████| 1/1 [00:27<00:00, 27.86s/it]\u001b[A\n",
      "\n",
      "Running ES algorithms:   0%|          | 0/1 [00:00<?, ?it/s]\u001b[A"
     ]
    },
    {
     "name": "stdout",
     "output_type": "stream",
     "text": [
      "running the experiment ... [../experiment_results/BBOBProblem/attractive_sector/PGPE/0.json]\n"
     ]
    },
    {
     "name": "stderr",
     "output_type": "stream",
     "text": [
      "\n",
      "Running ES algorithms: 100%|██████████| 1/1 [00:13<00:00, 13.33s/it]\u001b[A\n",
      "\n",
      "Running ES algorithms:   0%|          | 0/1 [00:00<?, ?it/s]\u001b[A"
     ]
    },
    {
     "name": "stdout",
     "output_type": "stream",
     "text": [
      "running the experiment ... [../experiment_results/BBOBProblem/attractive_sector/PGPE/1.json]\n"
     ]
    },
    {
     "name": "stderr",
     "output_type": "stream",
     "text": [
      "\n",
      "Running ES algorithms: 100%|██████████| 1/1 [00:13<00:00, 13.93s/it]\u001b[A\n",
      "\n",
      "Running ES algorithms:   0%|          | 0/1 [00:00<?, ?it/s]\u001b[A"
     ]
    },
    {
     "name": "stdout",
     "output_type": "stream",
     "text": [
      "running the experiment ... [../experiment_results/BBOBProblem/attractive_sector/PGPE/2.json]\n"
     ]
    },
    {
     "name": "stderr",
     "output_type": "stream",
     "text": [
      "\n",
      "Running ES algorithms: 100%|██████████| 1/1 [00:13<00:00, 13.36s/it]\u001b[A\n",
      "\n",
      "Running ES algorithms:   0%|          | 0/1 [00:00<?, ?it/s]\u001b[A"
     ]
    },
    {
     "name": "stdout",
     "output_type": "stream",
     "text": [
      "running the experiment ... [../experiment_results/BBOBProblem/attractive_sector/PGPE/3.json]\n"
     ]
    },
    {
     "name": "stderr",
     "output_type": "stream",
     "text": [
      "\n",
      "Running ES algorithms: 100%|██████████| 1/1 [00:13<00:00, 13.25s/it]\u001b[A\n",
      "\n",
      "Running ES algorithms:   0%|          | 0/1 [00:00<?, ?it/s]\u001b[A"
     ]
    },
    {
     "name": "stdout",
     "output_type": "stream",
     "text": [
      "running the experiment ... [../experiment_results/BBOBProblem/attractive_sector/PGPE/4.json]\n"
     ]
    },
    {
     "name": "stderr",
     "output_type": "stream",
     "text": [
      "\n",
      "Running ES algorithms: 100%|██████████| 1/1 [00:13<00:00, 13.27s/it]\u001b[A\n",
      "\n",
      "Running ES algorithms:   0%|          | 0/1 [00:00<?, ?it/s]\u001b[A"
     ]
    },
    {
     "name": "stdout",
     "output_type": "stream",
     "text": [
      "running the experiment ... [../experiment_results/BBOBProblem/attractive_sector/Open_ES/0.json]\n"
     ]
    },
    {
     "name": "stderr",
     "output_type": "stream",
     "text": [
      "\n",
      "Running ES algorithms: 100%|██████████| 1/1 [00:12<00:00, 12.31s/it]\u001b[A\n",
      "\n",
      "Running ES algorithms:   0%|          | 0/1 [00:00<?, ?it/s]\u001b[A"
     ]
    },
    {
     "name": "stdout",
     "output_type": "stream",
     "text": [
      "running the experiment ... [../experiment_results/BBOBProblem/attractive_sector/Open_ES/1.json]\n"
     ]
    },
    {
     "name": "stderr",
     "output_type": "stream",
     "text": [
      "\n",
      "Running ES algorithms: 100%|██████████| 1/1 [00:12<00:00, 12.97s/it]\u001b[A\n",
      "\n",
      "Running ES algorithms:   0%|          | 0/1 [00:00<?, ?it/s]\u001b[A"
     ]
    },
    {
     "name": "stdout",
     "output_type": "stream",
     "text": [
      "running the experiment ... [../experiment_results/BBOBProblem/attractive_sector/Open_ES/2.json]\n"
     ]
    },
    {
     "name": "stderr",
     "output_type": "stream",
     "text": [
      "\n",
      "Running ES algorithms: 100%|██████████| 1/1 [00:12<00:00, 12.24s/it]\u001b[A\n",
      "\n",
      "Running ES algorithms:   0%|          | 0/1 [00:00<?, ?it/s]\u001b[A"
     ]
    },
    {
     "name": "stdout",
     "output_type": "stream",
     "text": [
      "running the experiment ... [../experiment_results/BBOBProblem/attractive_sector/Open_ES/3.json]\n"
     ]
    },
    {
     "name": "stderr",
     "output_type": "stream",
     "text": [
      "\n",
      "Running ES algorithms: 100%|██████████| 1/1 [00:12<00:00, 12.41s/it]\u001b[A\n",
      "\n",
      "Running ES algorithms:   0%|          | 0/1 [00:00<?, ?it/s]\u001b[A"
     ]
    },
    {
     "name": "stdout",
     "output_type": "stream",
     "text": [
      "running the experiment ... [../experiment_results/BBOBProblem/attractive_sector/Open_ES/4.json]\n"
     ]
    },
    {
     "name": "stderr",
     "output_type": "stream",
     "text": [
      "\n",
      "Running ES algorithms: 100%|██████████| 1/1 [00:12<00:00, 12.31s/it]\u001b[A\n",
      "\n",
      "Running ES algorithms:   0%|          | 0/1 [00:00<?, ?it/s]\u001b[A"
     ]
    },
    {
     "name": "stdout",
     "output_type": "stream",
     "text": [
      "running the experiment ... [../experiment_results/BBOBProblem/attractive_sector/SNES/0.json]\n"
     ]
    },
    {
     "name": "stderr",
     "output_type": "stream",
     "text": [
      "\n",
      "Running ES algorithms: 100%|██████████| 1/1 [00:12<00:00, 12.64s/it]\u001b[A\n",
      "\n",
      "Running ES algorithms:   0%|          | 0/1 [00:00<?, ?it/s]\u001b[A"
     ]
    },
    {
     "name": "stdout",
     "output_type": "stream",
     "text": [
      "running the experiment ... [../experiment_results/BBOBProblem/attractive_sector/SNES/1.json]\n"
     ]
    },
    {
     "name": "stderr",
     "output_type": "stream",
     "text": [
      "\n",
      "Running ES algorithms: 100%|██████████| 1/1 [00:13<00:00, 13.20s/it]\u001b[A\n",
      "\n",
      "Running ES algorithms:   0%|          | 0/1 [00:00<?, ?it/s]\u001b[A"
     ]
    },
    {
     "name": "stdout",
     "output_type": "stream",
     "text": [
      "running the experiment ... [../experiment_results/BBOBProblem/attractive_sector/SNES/2.json]\n"
     ]
    },
    {
     "name": "stderr",
     "output_type": "stream",
     "text": [
      "\n",
      "Running ES algorithms: 100%|██████████| 1/1 [00:12<00:00, 12.67s/it]\u001b[A\n",
      "\n",
      "Running ES algorithms:   0%|          | 0/1 [00:00<?, ?it/s]\u001b[A"
     ]
    },
    {
     "name": "stdout",
     "output_type": "stream",
     "text": [
      "running the experiment ... [../experiment_results/BBOBProblem/attractive_sector/SNES/3.json]\n"
     ]
    },
    {
     "name": "stderr",
     "output_type": "stream",
     "text": [
      "\n",
      "Running ES algorithms: 100%|██████████| 1/1 [00:12<00:00, 12.58s/it]\u001b[A\n",
      "\n",
      "Running ES algorithms:   0%|          | 0/1 [00:00<?, ?it/s]\u001b[A"
     ]
    },
    {
     "name": "stdout",
     "output_type": "stream",
     "text": [
      "running the experiment ... [../experiment_results/BBOBProblem/attractive_sector/SNES/4.json]\n"
     ]
    },
    {
     "name": "stderr",
     "output_type": "stream",
     "text": [
      "\n",
      "Running ES algorithms: 100%|██████████| 1/1 [00:12<00:00, 12.53s/it]\u001b[A\n",
      "\n",
      "Running ES algorithms:   0%|          | 0/1 [00:00<?, ?it/s]\u001b[A"
     ]
    },
    {
     "name": "stdout",
     "output_type": "stream",
     "text": [
      "running the experiment ... [../experiment_results/BBOBProblem/attractive_sector/Sep_CMA_ES/0.json]\n"
     ]
    },
    {
     "name": "stderr",
     "output_type": "stream",
     "text": [
      "\n",
      "Running ES algorithms: 100%|██████████| 1/1 [00:13<00:00, 13.84s/it]\u001b[A\n",
      "\n",
      "Running ES algorithms:   0%|          | 0/1 [00:00<?, ?it/s]\u001b[A"
     ]
    },
    {
     "name": "stdout",
     "output_type": "stream",
     "text": [
      "running the experiment ... [../experiment_results/BBOBProblem/attractive_sector/Sep_CMA_ES/1.json]\n"
     ]
    },
    {
     "name": "stderr",
     "output_type": "stream",
     "text": [
      "\n",
      "Running ES algorithms: 100%|██████████| 1/1 [00:14<00:00, 14.47s/it]\u001b[A\n",
      "\n",
      "Running ES algorithms:   0%|          | 0/1 [00:00<?, ?it/s]\u001b[A"
     ]
    },
    {
     "name": "stdout",
     "output_type": "stream",
     "text": [
      "running the experiment ... [../experiment_results/BBOBProblem/attractive_sector/Sep_CMA_ES/2.json]\n"
     ]
    },
    {
     "name": "stderr",
     "output_type": "stream",
     "text": [
      "\n",
      "Running ES algorithms: 100%|██████████| 1/1 [00:13<00:00, 13.85s/it]\u001b[A\n",
      "\n",
      "Running ES algorithms:   0%|          | 0/1 [00:00<?, ?it/s]\u001b[A"
     ]
    },
    {
     "name": "stdout",
     "output_type": "stream",
     "text": [
      "running the experiment ... [../experiment_results/BBOBProblem/attractive_sector/Sep_CMA_ES/3.json]\n"
     ]
    },
    {
     "name": "stderr",
     "output_type": "stream",
     "text": [
      "\n",
      "Running ES algorithms: 100%|██████████| 1/1 [00:13<00:00, 13.95s/it]\u001b[A\n",
      "\n",
      "Running ES algorithms:   0%|          | 0/1 [00:00<?, ?it/s]\u001b[A"
     ]
    },
    {
     "name": "stdout",
     "output_type": "stream",
     "text": [
      "running the experiment ... [../experiment_results/BBOBProblem/attractive_sector/Sep_CMA_ES/4.json]\n"
     ]
    },
    {
     "name": "stderr",
     "output_type": "stream",
     "text": [
      "\n",
      "Running ES algorithms: 100%|██████████| 1/1 [00:13<00:00, 13.78s/it]\u001b[A\n",
      "\n",
      "Running ES algorithms:   0%|          | 0/1 [00:00<?, ?it/s]\u001b[A"
     ]
    },
    {
     "name": "stdout",
     "output_type": "stream",
     "text": [
      "running the experiment ... [../experiment_results/BBOBProblem/attractive_sector/CMA_ES/0.json]\n"
     ]
    },
    {
     "name": "stderr",
     "output_type": "stream",
     "text": [
      "\n",
      "Running ES algorithms: 100%|██████████| 1/1 [00:15<00:00, 15.40s/it]\u001b[A\n",
      "\n",
      "Running ES algorithms:   0%|          | 0/1 [00:00<?, ?it/s]\u001b[A"
     ]
    },
    {
     "name": "stdout",
     "output_type": "stream",
     "text": [
      "running the experiment ... [../experiment_results/BBOBProblem/attractive_sector/CMA_ES/1.json]\n"
     ]
    },
    {
     "name": "stderr",
     "output_type": "stream",
     "text": [
      "\n",
      "Running ES algorithms: 100%|██████████| 1/1 [00:15<00:00, 15.93s/it]\u001b[A\n",
      "\n",
      "Running ES algorithms:   0%|          | 0/1 [00:00<?, ?it/s]\u001b[A"
     ]
    },
    {
     "name": "stdout",
     "output_type": "stream",
     "text": [
      "running the experiment ... [../experiment_results/BBOBProblem/attractive_sector/CMA_ES/2.json]\n"
     ]
    },
    {
     "name": "stderr",
     "output_type": "stream",
     "text": [
      "\n",
      "Running ES algorithms: 100%|██████████| 1/1 [00:15<00:00, 15.56s/it]\u001b[A\n",
      "\n",
      "Running ES algorithms:   0%|          | 0/1 [00:00<?, ?it/s]\u001b[A"
     ]
    },
    {
     "name": "stdout",
     "output_type": "stream",
     "text": [
      "running the experiment ... [../experiment_results/BBOBProblem/attractive_sector/CMA_ES/3.json]\n"
     ]
    },
    {
     "name": "stderr",
     "output_type": "stream",
     "text": [
      "\n",
      "Running ES algorithms: 100%|██████████| 1/1 [00:15<00:00, 15.29s/it]\u001b[A\n",
      "\n",
      "Running ES algorithms:   0%|          | 0/1 [00:00<?, ?it/s]\u001b[A"
     ]
    },
    {
     "name": "stdout",
     "output_type": "stream",
     "text": [
      "running the experiment ... [../experiment_results/BBOBProblem/attractive_sector/CMA_ES/4.json]\n"
     ]
    },
    {
     "name": "stderr",
     "output_type": "stream",
     "text": [
      "\n",
      "Running ES algorithms: 100%|██████████| 1/1 [00:15<00:00, 15.31s/it]\u001b[A\n",
      "Loading Problems ..:  25%|██▌       | 6/24 [1:07:20<3:22:25, 674.77s/it]"
     ]
    },
    {
     "name": "stdout",
     "output_type": "stream",
     "text": [
      "Successfully loaded: step_ellipsoidal\n"
     ]
    },
    {
     "name": "stderr",
     "output_type": "stream",
     "text": [
      "\n",
      "Running ES algorithms:   0%|          | 0/1 [00:00<?, ?it/s]\u001b[A"
     ]
    },
    {
     "name": "stdout",
     "output_type": "stream",
     "text": [
      "running the experiment ... [../experiment_results/BBOBProblem/step_ellipsoidal/SimpleES/0.json]\n"
     ]
    },
    {
     "name": "stderr",
     "output_type": "stream",
     "text": [
      "\n",
      "Running ES algorithms: 100%|██████████| 1/1 [00:12<00:00, 12.70s/it]\u001b[A\n",
      "\n",
      "Running ES algorithms:   0%|          | 0/1 [00:00<?, ?it/s]\u001b[A"
     ]
    },
    {
     "name": "stdout",
     "output_type": "stream",
     "text": [
      "running the experiment ... [../experiment_results/BBOBProblem/step_ellipsoidal/SimpleES/1.json]\n"
     ]
    },
    {
     "name": "stderr",
     "output_type": "stream",
     "text": [
      "\n",
      "Running ES algorithms: 100%|██████████| 1/1 [00:13<00:00, 13.19s/it]\u001b[A\n",
      "\n",
      "Running ES algorithms:   0%|          | 0/1 [00:00<?, ?it/s]\u001b[A"
     ]
    },
    {
     "name": "stdout",
     "output_type": "stream",
     "text": [
      "running the experiment ... [../experiment_results/BBOBProblem/step_ellipsoidal/SimpleES/2.json]\n"
     ]
    },
    {
     "name": "stderr",
     "output_type": "stream",
     "text": [
      "\n",
      "Running ES algorithms: 100%|██████████| 1/1 [00:12<00:00, 12.49s/it]\u001b[A\n",
      "\n",
      "Running ES algorithms:   0%|          | 0/1 [00:00<?, ?it/s]\u001b[A"
     ]
    },
    {
     "name": "stdout",
     "output_type": "stream",
     "text": [
      "running the experiment ... [../experiment_results/BBOBProblem/step_ellipsoidal/SimpleES/3.json]\n"
     ]
    },
    {
     "name": "stderr",
     "output_type": "stream",
     "text": [
      "\n",
      "Running ES algorithms: 100%|██████████| 1/1 [00:12<00:00, 12.41s/it]\u001b[A\n",
      "\n",
      "Running ES algorithms:   0%|          | 0/1 [00:00<?, ?it/s]\u001b[A"
     ]
    },
    {
     "name": "stdout",
     "output_type": "stream",
     "text": [
      "running the experiment ... [../experiment_results/BBOBProblem/step_ellipsoidal/SimpleES/4.json]\n"
     ]
    },
    {
     "name": "stderr",
     "output_type": "stream",
     "text": [
      "\n",
      "Running ES algorithms: 100%|██████████| 1/1 [00:12<00:00, 12.50s/it]\u001b[A\n",
      "\n",
      "Running ES algorithms:   0%|          | 0/1 [00:00<?, ?it/s]\u001b[A"
     ]
    },
    {
     "name": "stdout",
     "output_type": "stream",
     "text": [
      "running the experiment ... [../experiment_results/BBOBProblem/step_ellipsoidal/LearnedES/0.json]\n"
     ]
    },
    {
     "name": "stderr",
     "output_type": "stream",
     "text": [
      "\n",
      "Running ES algorithms: 100%|██████████| 1/1 [00:14<00:00, 14.03s/it]\u001b[A\n",
      "\n",
      "Running ES algorithms:   0%|          | 0/1 [00:00<?, ?it/s]\u001b[A"
     ]
    },
    {
     "name": "stdout",
     "output_type": "stream",
     "text": [
      "running the experiment ... [../experiment_results/BBOBProblem/step_ellipsoidal/LearnedES/1.json]\n"
     ]
    },
    {
     "name": "stderr",
     "output_type": "stream",
     "text": [
      "\n",
      "Running ES algorithms: 100%|██████████| 1/1 [00:14<00:00, 14.71s/it]\u001b[A\n",
      "\n",
      "Running ES algorithms:   0%|          | 0/1 [00:00<?, ?it/s]\u001b[A"
     ]
    },
    {
     "name": "stdout",
     "output_type": "stream",
     "text": [
      "running the experiment ... [../experiment_results/BBOBProblem/step_ellipsoidal/LearnedES/2.json]\n"
     ]
    },
    {
     "name": "stderr",
     "output_type": "stream",
     "text": [
      "\n",
      "Running ES algorithms: 100%|██████████| 1/1 [00:14<00:00, 14.13s/it]\u001b[A\n",
      "\n",
      "Running ES algorithms:   0%|          | 0/1 [00:00<?, ?it/s]\u001b[A"
     ]
    },
    {
     "name": "stdout",
     "output_type": "stream",
     "text": [
      "running the experiment ... [../experiment_results/BBOBProblem/step_ellipsoidal/LearnedES/3.json]\n"
     ]
    },
    {
     "name": "stderr",
     "output_type": "stream",
     "text": [
      "\n",
      "Running ES algorithms: 100%|██████████| 1/1 [00:14<00:00, 14.18s/it]\u001b[A\n",
      "\n",
      "Running ES algorithms:   0%|          | 0/1 [00:00<?, ?it/s]\u001b[A"
     ]
    },
    {
     "name": "stdout",
     "output_type": "stream",
     "text": [
      "running the experiment ... [../experiment_results/BBOBProblem/step_ellipsoidal/LearnedES/4.json]\n"
     ]
    },
    {
     "name": "stderr",
     "output_type": "stream",
     "text": [
      "\n",
      "Running ES algorithms: 100%|██████████| 1/1 [00:14<00:00, 14.08s/it]\u001b[A\n",
      "\n",
      "Running ES algorithms:   0%|          | 0/1 [00:00<?, ?it/s]\u001b[A"
     ]
    },
    {
     "name": "stdout",
     "output_type": "stream",
     "text": [
      "running the experiment ... [../experiment_results/BBOBProblem/step_ellipsoidal/DiscoveredES/0.json]\n"
     ]
    },
    {
     "name": "stderr",
     "output_type": "stream",
     "text": [
      "\n",
      "Running ES algorithms: 100%|██████████| 1/1 [00:12<00:00, 12.42s/it]\u001b[A\n",
      "\n",
      "Running ES algorithms:   0%|          | 0/1 [00:00<?, ?it/s]\u001b[A"
     ]
    },
    {
     "name": "stdout",
     "output_type": "stream",
     "text": [
      "running the experiment ... [../experiment_results/BBOBProblem/step_ellipsoidal/DiscoveredES/1.json]\n"
     ]
    },
    {
     "name": "stderr",
     "output_type": "stream",
     "text": [
      "\n",
      "Running ES algorithms: 100%|██████████| 1/1 [00:13<00:00, 13.04s/it]\u001b[A\n",
      "\n",
      "Running ES algorithms:   0%|          | 0/1 [00:00<?, ?it/s]\u001b[A"
     ]
    },
    {
     "name": "stdout",
     "output_type": "stream",
     "text": [
      "running the experiment ... [../experiment_results/BBOBProblem/step_ellipsoidal/DiscoveredES/2.json]\n"
     ]
    },
    {
     "name": "stderr",
     "output_type": "stream",
     "text": [
      "\n",
      "Running ES algorithms: 100%|██████████| 1/1 [00:12<00:00, 12.41s/it]\u001b[A\n",
      "\n",
      "Running ES algorithms:   0%|          | 0/1 [00:00<?, ?it/s]\u001b[A"
     ]
    },
    {
     "name": "stdout",
     "output_type": "stream",
     "text": [
      "running the experiment ... [../experiment_results/BBOBProblem/step_ellipsoidal/DiscoveredES/3.json]\n"
     ]
    },
    {
     "name": "stderr",
     "output_type": "stream",
     "text": [
      "\n",
      "Running ES algorithms: 100%|██████████| 1/1 [00:12<00:00, 12.38s/it]\u001b[A\n",
      "\n",
      "Running ES algorithms:   0%|          | 0/1 [00:00<?, ?it/s]\u001b[A"
     ]
    },
    {
     "name": "stdout",
     "output_type": "stream",
     "text": [
      "running the experiment ... [../experiment_results/BBOBProblem/step_ellipsoidal/DiscoveredES/4.json]\n"
     ]
    },
    {
     "name": "stderr",
     "output_type": "stream",
     "text": [
      "\n",
      "Running ES algorithms: 100%|██████████| 1/1 [00:12<00:00, 12.49s/it]\u001b[A\n",
      "\n",
      "Running ES algorithms:   0%|          | 0/1 [00:00<?, ?it/s]\u001b[A"
     ]
    },
    {
     "name": "stdout",
     "output_type": "stream",
     "text": [
      "running the experiment ... [../experiment_results/BBOBProblem/step_ellipsoidal/EvoTF_ES/0.json]\n"
     ]
    },
    {
     "name": "stderr",
     "output_type": "stream",
     "text": [
      "\n",
      "Running ES algorithms: 100%|██████████| 1/1 [00:27<00:00, 27.65s/it]\u001b[A\n",
      "\n",
      "Running ES algorithms:   0%|          | 0/1 [00:00<?, ?it/s]\u001b[A"
     ]
    },
    {
     "name": "stdout",
     "output_type": "stream",
     "text": [
      "running the experiment ... [../experiment_results/BBOBProblem/step_ellipsoidal/EvoTF_ES/1.json]\n"
     ]
    },
    {
     "name": "stderr",
     "output_type": "stream",
     "text": [
      "\n",
      "Running ES algorithms: 100%|██████████| 1/1 [00:28<00:00, 28.55s/it]\u001b[A\n",
      "\n",
      "Running ES algorithms:   0%|          | 0/1 [00:00<?, ?it/s]\u001b[A"
     ]
    },
    {
     "name": "stdout",
     "output_type": "stream",
     "text": [
      "running the experiment ... [../experiment_results/BBOBProblem/step_ellipsoidal/EvoTF_ES/2.json]\n"
     ]
    },
    {
     "name": "stderr",
     "output_type": "stream",
     "text": [
      "\n",
      "Running ES algorithms: 100%|██████████| 1/1 [00:27<00:00, 27.77s/it]\u001b[A\n",
      "\n",
      "Running ES algorithms:   0%|          | 0/1 [00:00<?, ?it/s]\u001b[A"
     ]
    },
    {
     "name": "stdout",
     "output_type": "stream",
     "text": [
      "running the experiment ... [../experiment_results/BBOBProblem/step_ellipsoidal/EvoTF_ES/3.json]\n"
     ]
    },
    {
     "name": "stderr",
     "output_type": "stream",
     "text": [
      "\n",
      "Running ES algorithms: 100%|██████████| 1/1 [00:28<00:00, 28.01s/it]\u001b[A\n",
      "\n",
      "Running ES algorithms:   0%|          | 0/1 [00:00<?, ?it/s]\u001b[A"
     ]
    },
    {
     "name": "stdout",
     "output_type": "stream",
     "text": [
      "running the experiment ... [../experiment_results/BBOBProblem/step_ellipsoidal/EvoTF_ES/4.json]\n"
     ]
    },
    {
     "name": "stderr",
     "output_type": "stream",
     "text": [
      "\n",
      "Running ES algorithms: 100%|██████████| 1/1 [00:28<00:00, 28.41s/it]\u001b[A\n",
      "\n",
      "Running ES algorithms:   0%|          | 0/1 [00:00<?, ?it/s]\u001b[A"
     ]
    },
    {
     "name": "stdout",
     "output_type": "stream",
     "text": [
      "running the experiment ... [../experiment_results/BBOBProblem/step_ellipsoidal/PGPE/0.json]\n"
     ]
    },
    {
     "name": "stderr",
     "output_type": "stream",
     "text": [
      "\n",
      "Running ES algorithms: 100%|██████████| 1/1 [00:12<00:00, 12.92s/it]\u001b[A\n",
      "\n",
      "Running ES algorithms:   0%|          | 0/1 [00:00<?, ?it/s]\u001b[A"
     ]
    },
    {
     "name": "stdout",
     "output_type": "stream",
     "text": [
      "running the experiment ... [../experiment_results/BBOBProblem/step_ellipsoidal/PGPE/1.json]\n"
     ]
    },
    {
     "name": "stderr",
     "output_type": "stream",
     "text": [
      "\n",
      "Running ES algorithms: 100%|██████████| 1/1 [00:12<00:00, 12.98s/it]\u001b[A\n",
      "\n",
      "Running ES algorithms:   0%|          | 0/1 [00:00<?, ?it/s]\u001b[A"
     ]
    },
    {
     "name": "stdout",
     "output_type": "stream",
     "text": [
      "running the experiment ... [../experiment_results/BBOBProblem/step_ellipsoidal/PGPE/2.json]\n"
     ]
    },
    {
     "name": "stderr",
     "output_type": "stream",
     "text": [
      "\n",
      "Running ES algorithms: 100%|██████████| 1/1 [00:13<00:00, 13.03s/it]\u001b[A\n",
      "\n",
      "Running ES algorithms:   0%|          | 0/1 [00:00<?, ?it/s]\u001b[A"
     ]
    },
    {
     "name": "stdout",
     "output_type": "stream",
     "text": [
      "running the experiment ... [../experiment_results/BBOBProblem/step_ellipsoidal/PGPE/3.json]\n"
     ]
    },
    {
     "name": "stderr",
     "output_type": "stream",
     "text": [
      "\n",
      "Running ES algorithms: 100%|██████████| 1/1 [00:12<00:00, 12.89s/it]\u001b[A\n",
      "\n",
      "Running ES algorithms:   0%|          | 0/1 [00:00<?, ?it/s]\u001b[A"
     ]
    },
    {
     "name": "stdout",
     "output_type": "stream",
     "text": [
      "running the experiment ... [../experiment_results/BBOBProblem/step_ellipsoidal/PGPE/4.json]\n"
     ]
    },
    {
     "name": "stderr",
     "output_type": "stream",
     "text": [
      "\n",
      "Running ES algorithms: 100%|██████████| 1/1 [00:12<00:00, 12.93s/it]\u001b[A\n",
      "\n",
      "Running ES algorithms:   0%|          | 0/1 [00:00<?, ?it/s]\u001b[A"
     ]
    },
    {
     "name": "stdout",
     "output_type": "stream",
     "text": [
      "running the experiment ... [../experiment_results/BBOBProblem/step_ellipsoidal/Open_ES/0.json]\n"
     ]
    },
    {
     "name": "stderr",
     "output_type": "stream",
     "text": [
      "\n",
      "Running ES algorithms: 100%|██████████| 1/1 [00:12<00:00, 12.71s/it]\u001b[A\n",
      "\n",
      "Running ES algorithms:   0%|          | 0/1 [00:00<?, ?it/s]\u001b[A"
     ]
    },
    {
     "name": "stdout",
     "output_type": "stream",
     "text": [
      "running the experiment ... [../experiment_results/BBOBProblem/step_ellipsoidal/Open_ES/1.json]\n"
     ]
    },
    {
     "name": "stderr",
     "output_type": "stream",
     "text": [
      "\n",
      "Running ES algorithms: 100%|██████████| 1/1 [00:12<00:00, 12.06s/it]\u001b[A\n",
      "\n",
      "Running ES algorithms:   0%|          | 0/1 [00:00<?, ?it/s]\u001b[A"
     ]
    },
    {
     "name": "stdout",
     "output_type": "stream",
     "text": [
      "running the experiment ... [../experiment_results/BBOBProblem/step_ellipsoidal/Open_ES/2.json]\n"
     ]
    },
    {
     "name": "stderr",
     "output_type": "stream",
     "text": [
      "\n",
      "Running ES algorithms: 100%|██████████| 1/1 [00:12<00:00, 12.04s/it]\u001b[A\n",
      "\n",
      "Running ES algorithms:   0%|          | 0/1 [00:00<?, ?it/s]\u001b[A"
     ]
    },
    {
     "name": "stdout",
     "output_type": "stream",
     "text": [
      "running the experiment ... [../experiment_results/BBOBProblem/step_ellipsoidal/Open_ES/3.json]\n"
     ]
    },
    {
     "name": "stderr",
     "output_type": "stream",
     "text": [
      "\n",
      "Running ES algorithms: 100%|██████████| 1/1 [00:12<00:00, 12.17s/it]\u001b[A\n",
      "\n",
      "Running ES algorithms:   0%|          | 0/1 [00:00<?, ?it/s]\u001b[A"
     ]
    },
    {
     "name": "stdout",
     "output_type": "stream",
     "text": [
      "running the experiment ... [../experiment_results/BBOBProblem/step_ellipsoidal/Open_ES/4.json]\n"
     ]
    },
    {
     "name": "stderr",
     "output_type": "stream",
     "text": [
      "\n",
      "Running ES algorithms: 100%|██████████| 1/1 [00:12<00:00, 12.17s/it]\u001b[A\n",
      "\n",
      "Running ES algorithms:   0%|          | 0/1 [00:00<?, ?it/s]\u001b[A"
     ]
    },
    {
     "name": "stdout",
     "output_type": "stream",
     "text": [
      "running the experiment ... [../experiment_results/BBOBProblem/step_ellipsoidal/SNES/0.json]\n"
     ]
    },
    {
     "name": "stderr",
     "output_type": "stream",
     "text": [
      "\n",
      "Running ES algorithms: 100%|██████████| 1/1 [00:13<00:00, 13.00s/it]\u001b[A\n",
      "\n",
      "Running ES algorithms:   0%|          | 0/1 [00:00<?, ?it/s]\u001b[A"
     ]
    },
    {
     "name": "stdout",
     "output_type": "stream",
     "text": [
      "running the experiment ... [../experiment_results/BBOBProblem/step_ellipsoidal/SNES/1.json]\n"
     ]
    },
    {
     "name": "stderr",
     "output_type": "stream",
     "text": [
      "\n",
      "Running ES algorithms: 100%|██████████| 1/1 [00:12<00:00, 12.36s/it]\u001b[A\n",
      "\n",
      "Running ES algorithms:   0%|          | 0/1 [00:00<?, ?it/s]\u001b[A"
     ]
    },
    {
     "name": "stdout",
     "output_type": "stream",
     "text": [
      "running the experiment ... [../experiment_results/BBOBProblem/step_ellipsoidal/SNES/2.json]\n"
     ]
    },
    {
     "name": "stderr",
     "output_type": "stream",
     "text": [
      "\n",
      "Running ES algorithms: 100%|██████████| 1/1 [00:12<00:00, 12.33s/it]\u001b[A\n",
      "\n",
      "Running ES algorithms:   0%|          | 0/1 [00:00<?, ?it/s]\u001b[A"
     ]
    },
    {
     "name": "stdout",
     "output_type": "stream",
     "text": [
      "running the experiment ... [../experiment_results/BBOBProblem/step_ellipsoidal/SNES/3.json]\n"
     ]
    },
    {
     "name": "stderr",
     "output_type": "stream",
     "text": [
      "\n",
      "Running ES algorithms: 100%|██████████| 1/1 [00:12<00:00, 12.33s/it]\u001b[A\n",
      "\n",
      "Running ES algorithms:   0%|          | 0/1 [00:00<?, ?it/s]\u001b[A"
     ]
    },
    {
     "name": "stdout",
     "output_type": "stream",
     "text": [
      "running the experiment ... [../experiment_results/BBOBProblem/step_ellipsoidal/SNES/4.json]\n"
     ]
    },
    {
     "name": "stderr",
     "output_type": "stream",
     "text": [
      "\n",
      "Running ES algorithms: 100%|██████████| 1/1 [00:12<00:00, 12.40s/it]\u001b[A\n",
      "\n",
      "Running ES algorithms:   0%|          | 0/1 [00:00<?, ?it/s]\u001b[A"
     ]
    },
    {
     "name": "stdout",
     "output_type": "stream",
     "text": [
      "running the experiment ... [../experiment_results/BBOBProblem/step_ellipsoidal/Sep_CMA_ES/0.json]\n"
     ]
    },
    {
     "name": "stderr",
     "output_type": "stream",
     "text": [
      "\n",
      "Running ES algorithms: 100%|██████████| 1/1 [00:13<00:00, 13.45s/it]\u001b[A\n",
      "\n",
      "Running ES algorithms:   0%|          | 0/1 [00:00<?, ?it/s]\u001b[A"
     ]
    },
    {
     "name": "stdout",
     "output_type": "stream",
     "text": [
      "running the experiment ... [../experiment_results/BBOBProblem/step_ellipsoidal/Sep_CMA_ES/1.json]\n"
     ]
    },
    {
     "name": "stderr",
     "output_type": "stream",
     "text": [
      "\n",
      "Running ES algorithms: 100%|██████████| 1/1 [00:14<00:00, 14.19s/it]\u001b[A\n",
      "\n",
      "Running ES algorithms:   0%|          | 0/1 [00:00<?, ?it/s]\u001b[A"
     ]
    },
    {
     "name": "stdout",
     "output_type": "stream",
     "text": [
      "running the experiment ... [../experiment_results/BBOBProblem/step_ellipsoidal/Sep_CMA_ES/2.json]\n"
     ]
    },
    {
     "name": "stderr",
     "output_type": "stream",
     "text": [
      "\n",
      "Running ES algorithms: 100%|██████████| 1/1 [00:13<00:00, 13.48s/it]\u001b[A\n",
      "\n",
      "Running ES algorithms:   0%|          | 0/1 [00:00<?, ?it/s]\u001b[A"
     ]
    },
    {
     "name": "stdout",
     "output_type": "stream",
     "text": [
      "running the experiment ... [../experiment_results/BBOBProblem/step_ellipsoidal/Sep_CMA_ES/3.json]\n"
     ]
    },
    {
     "name": "stderr",
     "output_type": "stream",
     "text": [
      "\n",
      "Running ES algorithms: 100%|██████████| 1/1 [00:13<00:00, 13.44s/it]\u001b[A\n",
      "\n",
      "Running ES algorithms:   0%|          | 0/1 [00:00<?, ?it/s]\u001b[A"
     ]
    },
    {
     "name": "stdout",
     "output_type": "stream",
     "text": [
      "running the experiment ... [../experiment_results/BBOBProblem/step_ellipsoidal/Sep_CMA_ES/4.json]\n"
     ]
    },
    {
     "name": "stderr",
     "output_type": "stream",
     "text": [
      "\n",
      "Running ES algorithms: 100%|██████████| 1/1 [00:13<00:00, 13.43s/it]\u001b[A\n",
      "\n",
      "Running ES algorithms:   0%|          | 0/1 [00:00<?, ?it/s]\u001b[A"
     ]
    },
    {
     "name": "stdout",
     "output_type": "stream",
     "text": [
      "running the experiment ... [../experiment_results/BBOBProblem/step_ellipsoidal/CMA_ES/0.json]\n"
     ]
    },
    {
     "name": "stderr",
     "output_type": "stream",
     "text": [
      "\n",
      "Running ES algorithms: 100%|██████████| 1/1 [00:15<00:00, 15.52s/it]\u001b[A\n",
      "\n",
      "Running ES algorithms:   0%|          | 0/1 [00:00<?, ?it/s]\u001b[A"
     ]
    },
    {
     "name": "stdout",
     "output_type": "stream",
     "text": [
      "running the experiment ... [../experiment_results/BBOBProblem/step_ellipsoidal/CMA_ES/1.json]\n"
     ]
    },
    {
     "name": "stderr",
     "output_type": "stream",
     "text": [
      "\n",
      "Running ES algorithms: 100%|██████████| 1/1 [00:16<00:00, 16.02s/it]\u001b[A\n",
      "\n",
      "Running ES algorithms:   0%|          | 0/1 [00:00<?, ?it/s]\u001b[A"
     ]
    },
    {
     "name": "stdout",
     "output_type": "stream",
     "text": [
      "running the experiment ... [../experiment_results/BBOBProblem/step_ellipsoidal/CMA_ES/2.json]\n"
     ]
    },
    {
     "name": "stderr",
     "output_type": "stream",
     "text": [
      "\n",
      "Running ES algorithms: 100%|██████████| 1/1 [00:15<00:00, 15.28s/it]\u001b[A\n",
      "\n",
      "Running ES algorithms:   0%|          | 0/1 [00:00<?, ?it/s]\u001b[A"
     ]
    },
    {
     "name": "stdout",
     "output_type": "stream",
     "text": [
      "running the experiment ... [../experiment_results/BBOBProblem/step_ellipsoidal/CMA_ES/3.json]\n"
     ]
    },
    {
     "name": "stderr",
     "output_type": "stream",
     "text": [
      "\n",
      "Running ES algorithms: 100%|██████████| 1/1 [00:15<00:00, 15.26s/it]\u001b[A\n",
      "\n",
      "Running ES algorithms:   0%|          | 0/1 [00:00<?, ?it/s]\u001b[A"
     ]
    },
    {
     "name": "stdout",
     "output_type": "stream",
     "text": [
      "running the experiment ... [../experiment_results/BBOBProblem/step_ellipsoidal/CMA_ES/4.json]\n"
     ]
    },
    {
     "name": "stderr",
     "output_type": "stream",
     "text": [
      "\n",
      "Running ES algorithms: 100%|██████████| 1/1 [00:15<00:00, 15.28s/it]\u001b[A\n",
      "Loading Problems ..:  29%|██▉       | 7/24 [1:18:33<3:11:02, 674.28s/it]"
     ]
    },
    {
     "name": "stdout",
     "output_type": "stream",
     "text": [
      "Successfully loaded: rosenbrock\n"
     ]
    },
    {
     "name": "stderr",
     "output_type": "stream",
     "text": [
      "\n",
      "Running ES algorithms:   0%|          | 0/1 [00:00<?, ?it/s]\u001b[A"
     ]
    },
    {
     "name": "stdout",
     "output_type": "stream",
     "text": [
      "running the experiment ... [../experiment_results/BBOBProblem/rosenbrock/SimpleES/0.json]\n"
     ]
    },
    {
     "name": "stderr",
     "output_type": "stream",
     "text": [
      "\n",
      "Running ES algorithms: 100%|██████████| 1/1 [00:12<00:00, 12.29s/it]\u001b[A\n",
      "\n",
      "Running ES algorithms:   0%|          | 0/1 [00:00<?, ?it/s]\u001b[A"
     ]
    },
    {
     "name": "stdout",
     "output_type": "stream",
     "text": [
      "running the experiment ... [../experiment_results/BBOBProblem/rosenbrock/SimpleES/1.json]\n"
     ]
    },
    {
     "name": "stderr",
     "output_type": "stream",
     "text": [
      "\n",
      "Running ES algorithms: 100%|██████████| 1/1 [00:12<00:00, 12.24s/it]\u001b[A\n",
      "\n",
      "Running ES algorithms:   0%|          | 0/1 [00:00<?, ?it/s]\u001b[A"
     ]
    },
    {
     "name": "stdout",
     "output_type": "stream",
     "text": [
      "running the experiment ... [../experiment_results/BBOBProblem/rosenbrock/SimpleES/2.json]\n"
     ]
    },
    {
     "name": "stderr",
     "output_type": "stream",
     "text": [
      "\n",
      "Running ES algorithms: 100%|██████████| 1/1 [00:12<00:00, 12.83s/it]\u001b[A\n",
      "\n",
      "Running ES algorithms:   0%|          | 0/1 [00:00<?, ?it/s]\u001b[A"
     ]
    },
    {
     "name": "stdout",
     "output_type": "stream",
     "text": [
      "running the experiment ... [../experiment_results/BBOBProblem/rosenbrock/SimpleES/3.json]\n"
     ]
    },
    {
     "name": "stderr",
     "output_type": "stream",
     "text": [
      "\n",
      "Running ES algorithms: 100%|██████████| 1/1 [00:12<00:00, 12.16s/it]\u001b[A\n",
      "\n",
      "Running ES algorithms:   0%|          | 0/1 [00:00<?, ?it/s]\u001b[A"
     ]
    },
    {
     "name": "stdout",
     "output_type": "stream",
     "text": [
      "running the experiment ... [../experiment_results/BBOBProblem/rosenbrock/SimpleES/4.json]\n"
     ]
    },
    {
     "name": "stderr",
     "output_type": "stream",
     "text": [
      "\n",
      "Running ES algorithms: 100%|██████████| 1/1 [00:12<00:00, 12.23s/it]\u001b[A\n",
      "\n",
      "Running ES algorithms:   0%|          | 0/1 [00:00<?, ?it/s]\u001b[A"
     ]
    },
    {
     "name": "stdout",
     "output_type": "stream",
     "text": [
      "running the experiment ... [../experiment_results/BBOBProblem/rosenbrock/LearnedES/0.json]\n"
     ]
    },
    {
     "name": "stderr",
     "output_type": "stream",
     "text": [
      "\n",
      "Running ES algorithms: 100%|██████████| 1/1 [00:13<00:00, 13.95s/it]\u001b[A\n",
      "\n",
      "Running ES algorithms:   0%|          | 0/1 [00:00<?, ?it/s]\u001b[A"
     ]
    },
    {
     "name": "stdout",
     "output_type": "stream",
     "text": [
      "running the experiment ... [../experiment_results/BBOBProblem/rosenbrock/LearnedES/1.json]\n"
     ]
    },
    {
     "name": "stderr",
     "output_type": "stream",
     "text": [
      "\n",
      "Running ES algorithms: 100%|██████████| 1/1 [00:13<00:00, 13.88s/it]\u001b[A\n",
      "\n",
      "Running ES algorithms:   0%|          | 0/1 [00:00<?, ?it/s]\u001b[A"
     ]
    },
    {
     "name": "stdout",
     "output_type": "stream",
     "text": [
      "running the experiment ... [../experiment_results/BBOBProblem/rosenbrock/LearnedES/2.json]\n"
     ]
    },
    {
     "name": "stderr",
     "output_type": "stream",
     "text": [
      "\n",
      "Running ES algorithms: 100%|██████████| 1/1 [00:14<00:00, 14.51s/it]\u001b[A\n",
      "\n",
      "Running ES algorithms:   0%|          | 0/1 [00:00<?, ?it/s]\u001b[A"
     ]
    },
    {
     "name": "stdout",
     "output_type": "stream",
     "text": [
      "running the experiment ... [../experiment_results/BBOBProblem/rosenbrock/LearnedES/3.json]\n"
     ]
    },
    {
     "name": "stderr",
     "output_type": "stream",
     "text": [
      "\n",
      "Running ES algorithms: 100%|██████████| 1/1 [00:13<00:00, 13.78s/it]\u001b[A\n",
      "\n",
      "Running ES algorithms:   0%|          | 0/1 [00:00<?, ?it/s]\u001b[A"
     ]
    },
    {
     "name": "stdout",
     "output_type": "stream",
     "text": [
      "running the experiment ... [../experiment_results/BBOBProblem/rosenbrock/LearnedES/4.json]\n"
     ]
    },
    {
     "name": "stderr",
     "output_type": "stream",
     "text": [
      "\n",
      "Running ES algorithms: 100%|██████████| 1/1 [00:13<00:00, 13.93s/it]\u001b[A\n",
      "\n",
      "Running ES algorithms:   0%|          | 0/1 [00:00<?, ?it/s]\u001b[A"
     ]
    },
    {
     "name": "stdout",
     "output_type": "stream",
     "text": [
      "running the experiment ... [../experiment_results/BBOBProblem/rosenbrock/DiscoveredES/0.json]\n"
     ]
    },
    {
     "name": "stderr",
     "output_type": "stream",
     "text": [
      "\n",
      "Running ES algorithms: 100%|██████████| 1/1 [00:12<00:00, 12.17s/it]\u001b[A\n",
      "\n",
      "Running ES algorithms:   0%|          | 0/1 [00:00<?, ?it/s]\u001b[A"
     ]
    },
    {
     "name": "stdout",
     "output_type": "stream",
     "text": [
      "running the experiment ... [../experiment_results/BBOBProblem/rosenbrock/DiscoveredES/1.json]\n"
     ]
    },
    {
     "name": "stderr",
     "output_type": "stream",
     "text": [
      "\n",
      "Running ES algorithms: 100%|██████████| 1/1 [00:12<00:00, 12.40s/it]\u001b[A\n",
      "\n",
      "Running ES algorithms:   0%|          | 0/1 [00:00<?, ?it/s]\u001b[A"
     ]
    },
    {
     "name": "stdout",
     "output_type": "stream",
     "text": [
      "running the experiment ... [../experiment_results/BBOBProblem/rosenbrock/DiscoveredES/2.json]\n"
     ]
    },
    {
     "name": "stderr",
     "output_type": "stream",
     "text": [
      "\n",
      "Running ES algorithms: 100%|██████████| 1/1 [00:12<00:00, 12.17s/it]\u001b[A\n",
      "\n",
      "Running ES algorithms:   0%|          | 0/1 [00:00<?, ?it/s]\u001b[A"
     ]
    },
    {
     "name": "stdout",
     "output_type": "stream",
     "text": [
      "running the experiment ... [../experiment_results/BBOBProblem/rosenbrock/DiscoveredES/3.json]\n"
     ]
    },
    {
     "name": "stderr",
     "output_type": "stream",
     "text": [
      "\n",
      "Running ES algorithms: 100%|██████████| 1/1 [00:12<00:00, 12.85s/it]\u001b[A\n",
      "\n",
      "Running ES algorithms:   0%|          | 0/1 [00:00<?, ?it/s]\u001b[A"
     ]
    },
    {
     "name": "stdout",
     "output_type": "stream",
     "text": [
      "running the experiment ... [../experiment_results/BBOBProblem/rosenbrock/DiscoveredES/4.json]\n"
     ]
    },
    {
     "name": "stderr",
     "output_type": "stream",
     "text": [
      "\n",
      "Running ES algorithms: 100%|██████████| 1/1 [00:12<00:00, 12.17s/it]\u001b[A\n",
      "\n",
      "Running ES algorithms:   0%|          | 0/1 [00:00<?, ?it/s]\u001b[A"
     ]
    },
    {
     "name": "stdout",
     "output_type": "stream",
     "text": [
      "running the experiment ... [../experiment_results/BBOBProblem/rosenbrock/EvoTF_ES/0.json]\n"
     ]
    },
    {
     "name": "stderr",
     "output_type": "stream",
     "text": [
      "\n",
      "Running ES algorithms: 100%|██████████| 1/1 [00:27<00:00, 27.54s/it]\u001b[A\n",
      "\n",
      "Running ES algorithms:   0%|          | 0/1 [00:00<?, ?it/s]\u001b[A"
     ]
    },
    {
     "name": "stdout",
     "output_type": "stream",
     "text": [
      "running the experiment ... [../experiment_results/BBOBProblem/rosenbrock/EvoTF_ES/1.json]\n"
     ]
    },
    {
     "name": "stderr",
     "output_type": "stream",
     "text": [
      "\n",
      "Running ES algorithms: 100%|██████████| 1/1 [00:27<00:00, 27.46s/it]\u001b[A\n",
      "\n",
      "Running ES algorithms:   0%|          | 0/1 [00:00<?, ?it/s]\u001b[A"
     ]
    },
    {
     "name": "stdout",
     "output_type": "stream",
     "text": [
      "running the experiment ... [../experiment_results/BBOBProblem/rosenbrock/EvoTF_ES/2.json]\n"
     ]
    },
    {
     "name": "stderr",
     "output_type": "stream",
     "text": [
      "\n",
      "Running ES algorithms: 100%|██████████| 1/1 [00:28<00:00, 28.31s/it]\u001b[A\n",
      "\n",
      "Running ES algorithms:   0%|          | 0/1 [00:00<?, ?it/s]\u001b[A"
     ]
    },
    {
     "name": "stdout",
     "output_type": "stream",
     "text": [
      "running the experiment ... [../experiment_results/BBOBProblem/rosenbrock/EvoTF_ES/3.json]\n"
     ]
    },
    {
     "name": "stderr",
     "output_type": "stream",
     "text": [
      "\n",
      "Running ES algorithms: 100%|██████████| 1/1 [00:27<00:00, 27.59s/it]\u001b[A\n",
      "\n",
      "Running ES algorithms:   0%|          | 0/1 [00:00<?, ?it/s]\u001b[A"
     ]
    },
    {
     "name": "stdout",
     "output_type": "stream",
     "text": [
      "running the experiment ... [../experiment_results/BBOBProblem/rosenbrock/EvoTF_ES/4.json]\n"
     ]
    },
    {
     "name": "stderr",
     "output_type": "stream",
     "text": [
      "\n",
      "Running ES algorithms: 100%|██████████| 1/1 [00:27<00:00, 27.68s/it]\u001b[A\n",
      "\n",
      "Running ES algorithms:   0%|          | 0/1 [00:00<?, ?it/s]\u001b[A"
     ]
    },
    {
     "name": "stdout",
     "output_type": "stream",
     "text": [
      "running the experiment ... [../experiment_results/BBOBProblem/rosenbrock/PGPE/0.json]\n"
     ]
    },
    {
     "name": "stderr",
     "output_type": "stream",
     "text": [
      "\n",
      "Running ES algorithms: 100%|██████████| 1/1 [00:12<00:00, 12.71s/it]\u001b[A\n",
      "\n",
      "Running ES algorithms:   0%|          | 0/1 [00:00<?, ?it/s]\u001b[A"
     ]
    },
    {
     "name": "stdout",
     "output_type": "stream",
     "text": [
      "running the experiment ... [../experiment_results/BBOBProblem/rosenbrock/PGPE/1.json]\n"
     ]
    },
    {
     "name": "stderr",
     "output_type": "stream",
     "text": [
      "\n",
      "Running ES algorithms: 100%|██████████| 1/1 [00:12<00:00, 12.74s/it]\u001b[A\n",
      "\n",
      "Running ES algorithms:   0%|          | 0/1 [00:00<?, ?it/s]\u001b[A"
     ]
    },
    {
     "name": "stdout",
     "output_type": "stream",
     "text": [
      "running the experiment ... [../experiment_results/BBOBProblem/rosenbrock/PGPE/2.json]\n"
     ]
    },
    {
     "name": "stderr",
     "output_type": "stream",
     "text": [
      "\n",
      "Running ES algorithms: 100%|██████████| 1/1 [00:13<00:00, 13.41s/it]\u001b[A\n",
      "\n",
      "Running ES algorithms:   0%|          | 0/1 [00:00<?, ?it/s]\u001b[A"
     ]
    },
    {
     "name": "stdout",
     "output_type": "stream",
     "text": [
      "running the experiment ... [../experiment_results/BBOBProblem/rosenbrock/PGPE/3.json]\n"
     ]
    },
    {
     "name": "stderr",
     "output_type": "stream",
     "text": [
      "\n",
      "Running ES algorithms: 100%|██████████| 1/1 [00:12<00:00, 12.62s/it]\u001b[A\n",
      "\n",
      "Running ES algorithms:   0%|          | 0/1 [00:00<?, ?it/s]\u001b[A"
     ]
    },
    {
     "name": "stdout",
     "output_type": "stream",
     "text": [
      "running the experiment ... [../experiment_results/BBOBProblem/rosenbrock/PGPE/4.json]\n"
     ]
    },
    {
     "name": "stderr",
     "output_type": "stream",
     "text": [
      "\n",
      "Running ES algorithms: 100%|██████████| 1/1 [00:12<00:00, 12.61s/it]\u001b[A\n",
      "\n",
      "Running ES algorithms:   0%|          | 0/1 [00:00<?, ?it/s]\u001b[A"
     ]
    },
    {
     "name": "stdout",
     "output_type": "stream",
     "text": [
      "running the experiment ... [../experiment_results/BBOBProblem/rosenbrock/Open_ES/0.json]\n"
     ]
    },
    {
     "name": "stderr",
     "output_type": "stream",
     "text": [
      "\n",
      "Running ES algorithms: 100%|██████████| 1/1 [00:11<00:00, 11.79s/it]\u001b[A\n",
      "\n",
      "Running ES algorithms:   0%|          | 0/1 [00:00<?, ?it/s]\u001b[A"
     ]
    },
    {
     "name": "stdout",
     "output_type": "stream",
     "text": [
      "running the experiment ... [../experiment_results/BBOBProblem/rosenbrock/Open_ES/1.json]\n"
     ]
    },
    {
     "name": "stderr",
     "output_type": "stream",
     "text": [
      "\n",
      "Running ES algorithms: 100%|██████████| 1/1 [00:11<00:00, 11.73s/it]\u001b[A\n",
      "\n",
      "Running ES algorithms:   0%|          | 0/1 [00:00<?, ?it/s]\u001b[A"
     ]
    },
    {
     "name": "stdout",
     "output_type": "stream",
     "text": [
      "running the experiment ... [../experiment_results/BBOBProblem/rosenbrock/Open_ES/2.json]\n"
     ]
    },
    {
     "name": "stderr",
     "output_type": "stream",
     "text": [
      "\n",
      "Running ES algorithms: 100%|██████████| 1/1 [00:11<00:00, 11.77s/it]\u001b[A\n",
      "\n",
      "Running ES algorithms:   0%|          | 0/1 [00:00<?, ?it/s]\u001b[A"
     ]
    },
    {
     "name": "stdout",
     "output_type": "stream",
     "text": [
      "running the experiment ... [../experiment_results/BBOBProblem/rosenbrock/Open_ES/3.json]\n"
     ]
    },
    {
     "name": "stderr",
     "output_type": "stream",
     "text": [
      "\n",
      "Running ES algorithms: 100%|██████████| 1/1 [00:12<00:00, 12.64s/it]\u001b[A\n",
      "\n",
      "Running ES algorithms:   0%|          | 0/1 [00:00<?, ?it/s]\u001b[A"
     ]
    },
    {
     "name": "stdout",
     "output_type": "stream",
     "text": [
      "running the experiment ... [../experiment_results/BBOBProblem/rosenbrock/Open_ES/4.json]\n"
     ]
    },
    {
     "name": "stderr",
     "output_type": "stream",
     "text": [
      "\n",
      "Running ES algorithms: 100%|██████████| 1/1 [00:11<00:00, 11.84s/it]\u001b[A\n",
      "\n",
      "Running ES algorithms:   0%|          | 0/1 [00:00<?, ?it/s]\u001b[A"
     ]
    },
    {
     "name": "stdout",
     "output_type": "stream",
     "text": [
      "running the experiment ... [../experiment_results/BBOBProblem/rosenbrock/SNES/0.json]\n"
     ]
    },
    {
     "name": "stderr",
     "output_type": "stream",
     "text": [
      "\n",
      "Running ES algorithms: 100%|██████████| 1/1 [00:12<00:00, 12.06s/it]\u001b[A\n",
      "\n",
      "Running ES algorithms:   0%|          | 0/1 [00:00<?, ?it/s]\u001b[A"
     ]
    },
    {
     "name": "stdout",
     "output_type": "stream",
     "text": [
      "running the experiment ... [../experiment_results/BBOBProblem/rosenbrock/SNES/1.json]\n"
     ]
    },
    {
     "name": "stderr",
     "output_type": "stream",
     "text": [
      "\n",
      "Running ES algorithms: 100%|██████████| 1/1 [00:12<00:00, 12.10s/it]\u001b[A\n",
      "\n",
      "Running ES algorithms:   0%|          | 0/1 [00:00<?, ?it/s]\u001b[A"
     ]
    },
    {
     "name": "stdout",
     "output_type": "stream",
     "text": [
      "running the experiment ... [../experiment_results/BBOBProblem/rosenbrock/SNES/2.json]\n"
     ]
    },
    {
     "name": "stderr",
     "output_type": "stream",
     "text": [
      "\n",
      "Running ES algorithms: 100%|██████████| 1/1 [00:12<00:00, 12.07s/it]\u001b[A\n",
      "\n",
      "Running ES algorithms:   0%|          | 0/1 [00:00<?, ?it/s]\u001b[A"
     ]
    },
    {
     "name": "stdout",
     "output_type": "stream",
     "text": [
      "running the experiment ... [../experiment_results/BBOBProblem/rosenbrock/SNES/3.json]\n"
     ]
    },
    {
     "name": "stderr",
     "output_type": "stream",
     "text": [
      "\n",
      "Running ES algorithms: 100%|██████████| 1/1 [00:11<00:00, 11.97s/it]\u001b[A\n",
      "\n",
      "Running ES algorithms:   0%|          | 0/1 [00:00<?, ?it/s]\u001b[A"
     ]
    },
    {
     "name": "stdout",
     "output_type": "stream",
     "text": [
      "running the experiment ... [../experiment_results/BBOBProblem/rosenbrock/SNES/4.json]\n"
     ]
    },
    {
     "name": "stderr",
     "output_type": "stream",
     "text": [
      "\n",
      "Running ES algorithms: 100%|██████████| 1/1 [00:12<00:00, 12.78s/it]\u001b[A\n",
      "\n",
      "Running ES algorithms:   0%|          | 0/1 [00:00<?, ?it/s]\u001b[A"
     ]
    },
    {
     "name": "stdout",
     "output_type": "stream",
     "text": [
      "running the experiment ... [../experiment_results/BBOBProblem/rosenbrock/Sep_CMA_ES/0.json]\n"
     ]
    },
    {
     "name": "stderr",
     "output_type": "stream",
     "text": [
      "\n",
      "Running ES algorithms: 100%|██████████| 1/1 [00:13<00:00, 13.24s/it]\u001b[A\n",
      "\n",
      "Running ES algorithms:   0%|          | 0/1 [00:00<?, ?it/s]\u001b[A"
     ]
    },
    {
     "name": "stdout",
     "output_type": "stream",
     "text": [
      "running the experiment ... [../experiment_results/BBOBProblem/rosenbrock/Sep_CMA_ES/1.json]\n"
     ]
    },
    {
     "name": "stderr",
     "output_type": "stream",
     "text": [
      "\n",
      "Running ES algorithms: 100%|██████████| 1/1 [00:13<00:00, 13.18s/it]\u001b[A\n",
      "\n",
      "Running ES algorithms:   0%|          | 0/1 [00:00<?, ?it/s]\u001b[A"
     ]
    },
    {
     "name": "stdout",
     "output_type": "stream",
     "text": [
      "running the experiment ... [../experiment_results/BBOBProblem/rosenbrock/Sep_CMA_ES/2.json]\n"
     ]
    },
    {
     "name": "stderr",
     "output_type": "stream",
     "text": [
      "\n",
      "Running ES algorithms: 100%|██████████| 1/1 [00:13<00:00, 13.17s/it]\u001b[A\n",
      "\n",
      "Running ES algorithms:   0%|          | 0/1 [00:00<?, ?it/s]\u001b[A"
     ]
    },
    {
     "name": "stdout",
     "output_type": "stream",
     "text": [
      "running the experiment ... [../experiment_results/BBOBProblem/rosenbrock/Sep_CMA_ES/3.json]\n"
     ]
    },
    {
     "name": "stderr",
     "output_type": "stream",
     "text": [
      "\n",
      "Running ES algorithms: 100%|██████████| 1/1 [00:13<00:00, 13.22s/it]\u001b[A\n",
      "\n",
      "Running ES algorithms:   0%|          | 0/1 [00:00<?, ?it/s]\u001b[A"
     ]
    },
    {
     "name": "stdout",
     "output_type": "stream",
     "text": [
      "running the experiment ... [../experiment_results/BBOBProblem/rosenbrock/Sep_CMA_ES/4.json]\n"
     ]
    },
    {
     "name": "stderr",
     "output_type": "stream",
     "text": [
      "\n",
      "Running ES algorithms: 100%|██████████| 1/1 [00:13<00:00, 13.18s/it]\u001b[A\n",
      "\n",
      "Running ES algorithms:   0%|          | 0/1 [00:00<?, ?it/s]\u001b[A"
     ]
    },
    {
     "name": "stdout",
     "output_type": "stream",
     "text": [
      "running the experiment ... [../experiment_results/BBOBProblem/rosenbrock/CMA_ES/0.json]\n"
     ]
    },
    {
     "name": "stderr",
     "output_type": "stream",
     "text": [
      "\n",
      "Running ES algorithms: 100%|██████████| 1/1 [00:15<00:00, 15.73s/it]\u001b[A\n",
      "\n",
      "Running ES algorithms:   0%|          | 0/1 [00:00<?, ?it/s]\u001b[A"
     ]
    },
    {
     "name": "stdout",
     "output_type": "stream",
     "text": [
      "running the experiment ... [../experiment_results/BBOBProblem/rosenbrock/CMA_ES/1.json]\n"
     ]
    },
    {
     "name": "stderr",
     "output_type": "stream",
     "text": [
      "\n",
      "Running ES algorithms: 100%|██████████| 1/1 [00:15<00:00, 15.01s/it]\u001b[A\n",
      "\n",
      "Running ES algorithms:   0%|          | 0/1 [00:00<?, ?it/s]\u001b[A"
     ]
    },
    {
     "name": "stdout",
     "output_type": "stream",
     "text": [
      "running the experiment ... [../experiment_results/BBOBProblem/rosenbrock/CMA_ES/2.json]\n"
     ]
    },
    {
     "name": "stderr",
     "output_type": "stream",
     "text": [
      "\n",
      "Running ES algorithms: 100%|██████████| 1/1 [00:15<00:00, 15.08s/it]\u001b[A\n",
      "\n",
      "Running ES algorithms:   0%|          | 0/1 [00:00<?, ?it/s]\u001b[A"
     ]
    },
    {
     "name": "stdout",
     "output_type": "stream",
     "text": [
      "running the experiment ... [../experiment_results/BBOBProblem/rosenbrock/CMA_ES/3.json]\n"
     ]
    },
    {
     "name": "stderr",
     "output_type": "stream",
     "text": [
      "\n",
      "Running ES algorithms: 100%|██████████| 1/1 [00:15<00:00, 15.01s/it]\u001b[A\n",
      "\n",
      "Running ES algorithms:   0%|          | 0/1 [00:00<?, ?it/s]\u001b[A"
     ]
    },
    {
     "name": "stdout",
     "output_type": "stream",
     "text": [
      "running the experiment ... [../experiment_results/BBOBProblem/rosenbrock/CMA_ES/4.json]\n"
     ]
    },
    {
     "name": "stderr",
     "output_type": "stream",
     "text": [
      "\n",
      "Running ES algorithms: 100%|██████████| 1/1 [00:15<00:00, 15.05s/it]\u001b[A\n",
      "Loading Problems ..:  33%|███▎      | 8/24 [1:29:34<2:58:40, 670.00s/it]"
     ]
    },
    {
     "name": "stdout",
     "output_type": "stream",
     "text": [
      "Successfully loaded: rosenbrock_rotated\n"
     ]
    },
    {
     "name": "stderr",
     "output_type": "stream",
     "text": [
      "\n",
      "Running ES algorithms:   0%|          | 0/1 [00:00<?, ?it/s]\u001b[A"
     ]
    },
    {
     "name": "stdout",
     "output_type": "stream",
     "text": [
      "running the experiment ... [../experiment_results/BBOBProblem/rosenbrock_rotated/SimpleES/0.json]\n"
     ]
    },
    {
     "name": "stderr",
     "output_type": "stream",
     "text": [
      "\n",
      "Running ES algorithms: 100%|██████████| 1/1 [00:12<00:00, 12.56s/it]\u001b[A\n",
      "\n",
      "Running ES algorithms:   0%|          | 0/1 [00:00<?, ?it/s]\u001b[A"
     ]
    },
    {
     "name": "stdout",
     "output_type": "stream",
     "text": [
      "running the experiment ... [../experiment_results/BBOBProblem/rosenbrock_rotated/SimpleES/1.json]\n"
     ]
    },
    {
     "name": "stderr",
     "output_type": "stream",
     "text": [
      "\n",
      "Running ES algorithms: 100%|██████████| 1/1 [00:13<00:00, 13.08s/it]IOPub message rate exceeded.\n",
      "The Jupyter server will temporarily stop sending output\n",
      "to the client in order to avoid crashing it.\n",
      "To change this limit, set the config variable\n",
      "`--ServerApp.iopub_msg_rate_limit`.\n",
      "\n",
      "Current values:\n",
      "ServerApp.iopub_msg_rate_limit=1000.0 (msgs/sec)\n",
      "ServerApp.rate_limit_window=3.0 (secs)\n",
      "\n"
     ]
    }
   ],
   "source": [
    "for bbob_fn in tqdm(problems_bbob_fns, desc=\"Loading Problems ..\"):\n",
    "    try:\n",
    "        problem = Problem(fn_name=bbob_fn, num_dims=num_dims)\n",
    "        print(\"Successfully loaded:\", bbob_fn)\n",
    "        for es in es_dict:\n",
    "            for seed in seeds:\n",
    "                run_experiment_permutations(problems=[problem],\n",
    "                                            es_dict={es: es_dict[es]},\n",
    "                                            num_generations=num_generations,\n",
    "                                            population_size=population_size,\n",
    "                                            seed=seed,\n",
    "                                            result_dir=result_dir,\n",
    "                                            run_again_if_exist=False)\n",
    "    except Exception as e:\n",
    "        print(\"Failed to load:\", bbob_fn, e)\n",
    "        continue"
   ]
  },
  {
   "cell_type": "code",
   "execution_count": null,
   "id": "c848c968-d72e-4d23-b050-c88ea2e113b2",
   "metadata": {},
   "outputs": [],
   "source": []
  }
 ],
 "metadata": {
  "kernelspec": {
   "display_name": "ronedr_es",
   "language": "python",
   "name": "ronedr_es_env"
  },
  "language_info": {
   "codemirror_mode": {
    "name": "ipython",
    "version": 3
   },
   "file_extension": ".py",
   "mimetype": "text/x-python",
   "name": "python",
   "nbconvert_exporter": "python",
   "pygments_lexer": "ipython3",
   "version": "3.11.7"
  }
 },
 "nbformat": 4,
 "nbformat_minor": 5
}
