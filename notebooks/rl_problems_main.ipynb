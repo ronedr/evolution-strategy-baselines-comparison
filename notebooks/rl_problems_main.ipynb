{
 "cells": [
  {
   "cell_type": "code",
   "execution_count": 1,
   "id": "b9a9bbc0-7ac5-41dd-a86a-53a3815db1e5",
   "metadata": {
    "ExecuteTime": {
     "end_time": "2025-07-27T20:32:34.270643Z",
     "start_time": "2025-07-27T20:32:34.229836Z"
    }
   },
   "outputs": [],
   "source": [
    "import sys\n",
    "sys.path.append('/mnt/new_home/ronedr/evolution-strategy-baselines-comparison')"
   ]
  },
  {
   "cell_type": "code",
   "execution_count": 2,
   "id": "546c57de037e0c46",
   "metadata": {
    "ExecuteTime": {
     "end_time": "2025-07-27T20:32:40.174826Z",
     "start_time": "2025-07-27T20:32:34.270936Z"
    }
   },
   "outputs": [],
   "source": [
    "from tqdm import tqdm\n",
    "import gymnax\n",
    "from evosax.problems import GymnaxProblem as Problem\n",
    "from evosax.problems.networks import MLP\n",
    "import jax\n",
    "from utils.problem_utils import get_problem_settings\n",
    "from experiment.run_experiments import run_experiment_permutations"
   ]
  },
  {
   "cell_type": "code",
   "execution_count": 3,
   "id": "b35076e453198a11",
   "metadata": {
    "ExecuteTime": {
     "end_time": "2025-07-27T20:32:40.199650Z",
     "start_time": "2025-07-27T20:32:40.174826Z"
    }
   },
   "outputs": [],
   "source": [
    "es_dict = {\n",
    "    \"LES\": {},\n",
    "    \"SimpleES\": {},\n",
    "    \"PGPE\": {},\n",
    "    \"Open_ES\": {},\n",
    "    \"SNES\": {},\n",
    "    \"Sep_CMA_ES\": {},\n",
    "    \"CMA_ES\": {}\n",
    "}\n",
    "\n",
    "num_generations = 1000\n",
    "population_size = 128\n",
    "seed = 0\n",
    "\n",
    "result_dir = \"../experiment_results\""
   ]
  },
  {
   "cell_type": "code",
   "execution_count": 4,
   "id": "ed71d091470424",
   "metadata": {
    "ExecuteTime": {
     "start_time": "2025-07-27T20:32:40.580219Z"
    }
   },
   "outputs": [
    {
     "name": "stderr",
     "output_type": "stream",
     "text": [
      "Loading Problems ..:   0%|          | 0/20 [00:00<?, ?it/s]"
     ]
    },
    {
     "name": "stdout",
     "output_type": "stream",
     "text": [
      "Successfully loaded: MountainCarContinuous-v0\n"
     ]
    },
    {
     "name": "stderr",
     "output_type": "stream",
     "text": [
      "Loading Problems ..:   5%|▌         | 1/20 [00:03<01:14,  3.92s/it]"
     ]
    },
    {
     "name": "stdout",
     "output_type": "stream",
     "text": [
      "../experiment_results/GymnaxProblem/MountainCarContinuous-v0/LearnedES.json\n",
      "Path exists\n",
      "../experiment_results/GymnaxProblem/MountainCarContinuous-v0/SimpleES.json\n",
      "Path exists\n",
      "../experiment_results/GymnaxProblem/MountainCarContinuous-v0/PGPE.json\n",
      "Path exists\n",
      "../experiment_results/GymnaxProblem/MountainCarContinuous-v0/Open_ES.json\n",
      "Path exists\n",
      "../experiment_results/GymnaxProblem/MountainCarContinuous-v0/SNES.json\n",
      "Path exists\n",
      "../experiment_results/GymnaxProblem/MountainCarContinuous-v0/Sep_CMA_ES.json\n",
      "Path exists\n",
      "../experiment_results/GymnaxProblem/MountainCarContinuous-v0/CMA_ES.json\n",
      "Path exists\n"
     ]
    },
    {
     "name": "stderr",
     "output_type": "stream",
     "text": [
      "/home/ronedr/.local/lib/python3.11/site-packages/jax/_src/ops/scatter.py:93: FutureWarning: scatter inputs have incompatible types: cannot safely cast value from dtype=int32 to dtype=bool with jax_numpy_dtype_promotion='standard'. In future JAX releases this will result in an error.\n",
      "  warnings.warn(\n",
      "Loading Problems ..:  10%|█         | 2/20 [00:05<00:45,  2.53s/it]"
     ]
    },
    {
     "name": "stdout",
     "output_type": "stream",
     "text": [
      "Failed to load: Asterix-MinAtar Incompatible shapes for broadcasting: shapes=[(5,), (10, 10)]\n"
     ]
    },
    {
     "name": "stderr",
     "output_type": "stream",
     "text": [
      "/home/ronedr/.local/lib/python3.11/site-packages/jax/_src/ops/scatter.py:93: FutureWarning: scatter inputs have incompatible types: cannot safely cast value from dtype=float32 to dtype=bool with jax_numpy_dtype_promotion='standard'. In future JAX releases this will result in an error.\n",
      "  warnings.warn(\n",
      "Loading Problems ..:  15%|█▌        | 3/20 [00:06<00:33,  1.95s/it]"
     ]
    },
    {
     "name": "stdout",
     "output_type": "stream",
     "text": [
      "Failed to load: Breakout-MinAtar select `which` must be scalar or have the same shape as cases, got `which` shape (10, 10) but case shape ().\n"
     ]
    },
    {
     "name": "stderr",
     "output_type": "stream",
     "text": [
      "/home/ronedr/.local/lib/python3.11/site-packages/gymnax/environments/minatar/freeway.py:278: UserWarning: Explicitly requested dtype <class 'jax.numpy.int64'> requested in array is not available, and will be truncated to dtype int32. To enable more dtypes, set the jax_enable_x64 configuration option or the JAX_ENABLE_X64 shell environment variable. See https://github.com/jax-ml/jax#current-gotchas for more.\n",
      "  return jnp.array(cars, dtype=jnp.int_)\n",
      "Loading Problems ..:  20%|██        | 4/20 [00:10<00:40,  2.51s/it]"
     ]
    },
    {
     "name": "stdout",
     "output_type": "stream",
     "text": [
      "Failed to load: Freeway-MinAtar select `which` must be scalar or have the same shape as cases, got `which` shape (10, 10) but case shape ().\n"
     ]
    },
    {
     "name": "stderr",
     "output_type": "stream",
     "text": [
      "Loading Problems ..:  25%|██▌       | 5/20 [00:11<00:29,  1.95s/it]"
     ]
    },
    {
     "name": "stdout",
     "output_type": "stream",
     "text": [
      "Failed to load: SpaceInvaders-MinAtar select `which` must be scalar or have the same shape as cases, got `which` shape (10, 10) but case shape ().\n"
     ]
    },
    {
     "name": "stderr",
     "output_type": "stream",
     "text": [
      "Loading Problems ..:  30%|███       | 6/20 [00:12<00:23,  1.70s/it]"
     ]
    },
    {
     "name": "stdout",
     "output_type": "stream",
     "text": [
      "Failed to load: Catch-bsuite select cases must have the same shapes, got [(10,), ()].\n"
     ]
    },
    {
     "name": "stderr",
     "output_type": "stream",
     "text": [
      "Loading Problems ..:  35%|███▌      | 7/20 [00:13<00:20,  1.56s/it]"
     ]
    },
    {
     "name": "stdout",
     "output_type": "stream",
     "text": [
      "Failed to load: DeepSea-bsuite select `which` must be scalar or have the same shape as cases, got `which` shape (8,) but case shape ().\n",
      "Successfully loaded: MemoryChain-bsuite\n"
     ]
    },
    {
     "name": "stderr",
     "output_type": "stream",
     "text": [
      "Loading Problems ..:  40%|████      | 8/20 [00:16<00:23,  1.94s/it]"
     ]
    },
    {
     "name": "stdout",
     "output_type": "stream",
     "text": [
      "../experiment_results/GymnaxProblem/MemoryChain-bsuite/LearnedES.json\n",
      "Path exists\n",
      "../experiment_results/GymnaxProblem/MemoryChain-bsuite/SimpleES.json\n",
      "Path exists\n",
      "../experiment_results/GymnaxProblem/MemoryChain-bsuite/PGPE.json\n",
      "Path exists\n",
      "../experiment_results/GymnaxProblem/MemoryChain-bsuite/Open_ES.json\n",
      "Path exists\n",
      "../experiment_results/GymnaxProblem/MemoryChain-bsuite/SNES.json\n",
      "Path exists\n",
      "../experiment_results/GymnaxProblem/MemoryChain-bsuite/Sep_CMA_ES.json\n",
      "Path exists\n",
      "../experiment_results/GymnaxProblem/MemoryChain-bsuite/CMA_ES.json\n",
      "Path exists\n",
      "Successfully loaded: UmbrellaChain-bsuite\n"
     ]
    },
    {
     "name": "stderr",
     "output_type": "stream",
     "text": [
      "Loading Problems ..:  45%|████▌     | 9/20 [00:18<00:22,  2.09s/it]"
     ]
    },
    {
     "name": "stdout",
     "output_type": "stream",
     "text": [
      "../experiment_results/GymnaxProblem/UmbrellaChain-bsuite/LearnedES.json\n",
      "Path exists\n",
      "../experiment_results/GymnaxProblem/UmbrellaChain-bsuite/SimpleES.json\n",
      "Path exists\n",
      "../experiment_results/GymnaxProblem/UmbrellaChain-bsuite/PGPE.json\n",
      "Path exists\n",
      "../experiment_results/GymnaxProblem/UmbrellaChain-bsuite/Open_ES.json\n",
      "Path exists\n",
      "../experiment_results/GymnaxProblem/UmbrellaChain-bsuite/SNES.json\n",
      "Path exists\n",
      "../experiment_results/GymnaxProblem/UmbrellaChain-bsuite/Sep_CMA_ES.json\n",
      "Path exists\n",
      "../experiment_results/GymnaxProblem/UmbrellaChain-bsuite/CMA_ES.json\n",
      "Path exists\n",
      "Successfully loaded: DiscountingChain-bsuite\n",
      "../experiment_results/GymnaxProblem/DiscountingChain-bsuite/LearnedES.json\n",
      "Path exists\n",
      "../experiment_results/GymnaxProblem/DiscountingChain-bsuite/SimpleES.json\n",
      "Path exists\n",
      "../experiment_results/GymnaxProblem/DiscountingChain-bsuite/PGPE.json\n",
      "Path exists\n",
      "../experiment_results/GymnaxProblem/DiscountingChain-bsuite/Open_ES.json\n",
      "Path exists\n",
      "../experiment_results/GymnaxProblem/DiscountingChain-bsuite/SNES.json\n",
      "Path exists\n",
      "../experiment_results/GymnaxProblem/DiscountingChain-bsuite/Sep_CMA_ES.json\n",
      "Path exists\n",
      "../experiment_results/GymnaxProblem/DiscountingChain-bsuite/CMA_ES.json\n",
      "Path does not exist\n"
     ]
    },
    {
     "name": "stderr",
     "output_type": "stream",
     "text": [
      "\n",
      "Running ES algorithms:   0%|          | 0/1 [00:00<?, ?it/s]\u001b[A\n",
      "Running ES algorithms: 100%|██████████| 1/1 [06:32<00:00, 392.38s/it]\u001b[A\n",
      "Loading Problems ..:  50%|█████     | 10/20 [06:52<20:31, 123.12s/it]"
     ]
    },
    {
     "name": "stdout",
     "output_type": "stream",
     "text": [
      "Successfully run experiments.\n"
     ]
    },
    {
     "name": "stderr",
     "output_type": "stream",
     "text": [
      "Loading Problems ..:  55%|█████▌    | 11/20 [07:00<13:09, 87.76s/it] "
     ]
    },
    {
     "name": "stdout",
     "output_type": "stream",
     "text": [
      "Failed to load: MNISTBandit-bsuite select `which` must be scalar or have the same shape as cases, got `which` shape (28,) but case shape ().\n"
     ]
    },
    {
     "name": "stderr",
     "output_type": "stream",
     "text": [
      "Loading Problems ..:  60%|██████    | 12/20 [07:01<08:11, 61.47s/it]"
     ]
    },
    {
     "name": "stdout",
     "output_type": "stream",
     "text": [
      "Failed to load: SimpleBandit-bsuite Too many indices: 0-dimensional array indexed with 1 regular index.\n"
     ]
    },
    {
     "name": "stderr",
     "output_type": "stream",
     "text": [
      "/home/ronedr/.local/lib/python3.11/site-packages/jax/_src/numpy/array_methods.py:122: UserWarning: Explicitly requested dtype <class 'jax.numpy.int64'> requested in astype is not available, and will be truncated to dtype int32. To enable more dtypes, set the jax_enable_x64 configuration option or the JAX_ENABLE_X64 shell environment variable. See https://github.com/jax-ml/jax#current-gotchas for more.\n",
      "  return lax_numpy.astype(self, dtype, copy=copy, device=device)\n"
     ]
    },
    {
     "name": "stdout",
     "output_type": "stream",
     "text": [
      "Successfully loaded: FourRooms-misc\n",
      "../experiment_results/GymnaxProblem/FourRooms-misc/LearnedES.json\n",
      "Path does not exist\n"
     ]
    },
    {
     "name": "stderr",
     "output_type": "stream",
     "text": [
      "\n",
      "Running ES algorithms:   0%|          | 0/1 [00:00<?, ?it/s]\u001b[A\n",
      "Running ES algorithms: 100%|██████████| 1/1 [00:22<00:00, 22.16s/it]\u001b[A\n"
     ]
    },
    {
     "name": "stdout",
     "output_type": "stream",
     "text": [
      "Successfully run experiments.\n",
      "../experiment_results/GymnaxProblem/FourRooms-misc/SimpleES.json\n",
      "Path does not exist\n"
     ]
    },
    {
     "name": "stderr",
     "output_type": "stream",
     "text": [
      "\n",
      "Running ES algorithms:   0%|          | 0/1 [00:00<?, ?it/s]\u001b[A\n",
      "Running ES algorithms: 100%|██████████| 1/1 [00:17<00:00, 17.28s/it]\u001b[A\n"
     ]
    },
    {
     "name": "stdout",
     "output_type": "stream",
     "text": [
      "Successfully run experiments.\n",
      "../experiment_results/GymnaxProblem/FourRooms-misc/PGPE.json\n",
      "Path does not exist\n"
     ]
    },
    {
     "name": "stderr",
     "output_type": "stream",
     "text": [
      "\n",
      "Running ES algorithms:   0%|          | 0/1 [00:00<?, ?it/s]\u001b[A\n",
      "Running ES algorithms: 100%|██████████| 1/1 [00:17<00:00, 17.52s/it]\u001b[A\n"
     ]
    },
    {
     "name": "stdout",
     "output_type": "stream",
     "text": [
      "Successfully run experiments.\n",
      "../experiment_results/GymnaxProblem/FourRooms-misc/Open_ES.json\n",
      "Path does not exist\n"
     ]
    },
    {
     "name": "stderr",
     "output_type": "stream",
     "text": [
      "\n",
      "Running ES algorithms:   0%|          | 0/1 [00:00<?, ?it/s]\u001b[A\n",
      "Running ES algorithms: 100%|██████████| 1/1 [00:17<00:00, 17.32s/it]\u001b[A\n"
     ]
    },
    {
     "name": "stdout",
     "output_type": "stream",
     "text": [
      "Successfully run experiments.\n",
      "../experiment_results/GymnaxProblem/FourRooms-misc/SNES.json\n",
      "Path does not exist\n"
     ]
    },
    {
     "name": "stderr",
     "output_type": "stream",
     "text": [
      "\n",
      "Running ES algorithms:   0%|          | 0/1 [00:00<?, ?it/s]\u001b[A\n",
      "Running ES algorithms: 100%|██████████| 1/1 [00:17<00:00, 17.45s/it]\u001b[A\n"
     ]
    },
    {
     "name": "stdout",
     "output_type": "stream",
     "text": [
      "Successfully run experiments.\n",
      "../experiment_results/GymnaxProblem/FourRooms-misc/Sep_CMA_ES.json\n",
      "Path does not exist\n"
     ]
    },
    {
     "name": "stderr",
     "output_type": "stream",
     "text": [
      "\n",
      "Running ES algorithms:   0%|          | 0/1 [00:00<?, ?it/s]\u001b[A\n",
      "Running ES algorithms: 100%|██████████| 1/1 [00:17<00:00, 17.91s/it]\u001b[A\n"
     ]
    },
    {
     "name": "stdout",
     "output_type": "stream",
     "text": [
      "Successfully run experiments.\n",
      "../experiment_results/GymnaxProblem/FourRooms-misc/CMA_ES.json\n",
      "Path does not exist\n"
     ]
    },
    {
     "name": "stderr",
     "output_type": "stream",
     "text": [
      "\n",
      "Running ES algorithms:   0%|          | 0/1 [00:00<?, ?it/s]\u001b[A\n",
      "Running ES algorithms: 100%|██████████| 1/1 [07:00<00:00, 420.73s/it]\u001b[A\n",
      "Loading Problems ..:  65%|██████▌   | 13/20 [15:57<23:54, 204.99s/it]"
     ]
    },
    {
     "name": "stdout",
     "output_type": "stream",
     "text": [
      "Successfully run experiments.\n",
      "Successfully loaded: MetaMaze-misc\n",
      "../experiment_results/GymnaxProblem/MetaMaze-misc/LearnedES.json\n",
      "Path does not exist\n"
     ]
    },
    {
     "name": "stderr",
     "output_type": "stream",
     "text": [
      "\n",
      "Running ES algorithms:   0%|          | 0/1 [00:00<?, ?it/s]\u001b[A\n",
      "Running ES algorithms: 100%|██████████| 1/1 [00:14<00:00, 14.56s/it]\u001b[A\n"
     ]
    },
    {
     "name": "stdout",
     "output_type": "stream",
     "text": [
      "Successfully run experiments.\n",
      "../experiment_results/GymnaxProblem/MetaMaze-misc/SimpleES.json\n",
      "Path does not exist\n"
     ]
    },
    {
     "name": "stderr",
     "output_type": "stream",
     "text": [
      "\n",
      "Running ES algorithms:   0%|          | 0/1 [00:00<?, ?it/s]\u001b[A\n",
      "Running ES algorithms: 100%|██████████| 1/1 [00:11<00:00, 11.34s/it]\u001b[A\n"
     ]
    },
    {
     "name": "stdout",
     "output_type": "stream",
     "text": [
      "Successfully run experiments.\n",
      "../experiment_results/GymnaxProblem/MetaMaze-misc/PGPE.json\n",
      "Path does not exist\n"
     ]
    },
    {
     "name": "stderr",
     "output_type": "stream",
     "text": [
      "\n",
      "Running ES algorithms:   0%|          | 0/1 [00:00<?, ?it/s]\u001b[A\n",
      "Running ES algorithms: 100%|██████████| 1/1 [00:11<00:00, 11.20s/it]\u001b[A\n"
     ]
    },
    {
     "name": "stdout",
     "output_type": "stream",
     "text": [
      "Successfully run experiments.\n",
      "../experiment_results/GymnaxProblem/MetaMaze-misc/Open_ES.json\n",
      "Path does not exist\n"
     ]
    },
    {
     "name": "stderr",
     "output_type": "stream",
     "text": [
      "\n",
      "Running ES algorithms:   0%|          | 0/1 [00:00<?, ?it/s]\u001b[A\n",
      "Running ES algorithms: 100%|██████████| 1/1 [00:10<00:00, 11.00s/it]\u001b[A\n"
     ]
    },
    {
     "name": "stdout",
     "output_type": "stream",
     "text": [
      "Successfully run experiments.\n",
      "../experiment_results/GymnaxProblem/MetaMaze-misc/SNES.json\n",
      "Path does not exist\n"
     ]
    },
    {
     "name": "stderr",
     "output_type": "stream",
     "text": [
      "\n",
      "Running ES algorithms:   0%|          | 0/1 [00:00<?, ?it/s]\u001b[A\n",
      "Running ES algorithms: 100%|██████████| 1/1 [00:10<00:00, 10.92s/it]\u001b[A\n"
     ]
    },
    {
     "name": "stdout",
     "output_type": "stream",
     "text": [
      "Successfully run experiments.\n",
      "../experiment_results/GymnaxProblem/MetaMaze-misc/Sep_CMA_ES.json\n",
      "Path does not exist\n"
     ]
    },
    {
     "name": "stderr",
     "output_type": "stream",
     "text": [
      "\n",
      "Running ES algorithms:   0%|          | 0/1 [00:00<?, ?it/s]\u001b[A\n",
      "Running ES algorithms: 100%|██████████| 1/1 [00:11<00:00, 11.53s/it]\u001b[A\n"
     ]
    },
    {
     "name": "stdout",
     "output_type": "stream",
     "text": [
      "Successfully run experiments.\n",
      "../experiment_results/GymnaxProblem/MetaMaze-misc/CMA_ES.json\n",
      "Path does not exist\n"
     ]
    },
    {
     "name": "stderr",
     "output_type": "stream",
     "text": [
      "\n",
      "Running ES algorithms:   0%|          | 0/1 [00:00<?, ?it/s]\u001b[A\n",
      "Running ES algorithms: 100%|██████████| 1/1 [09:57<00:00, 597.69s/it]\u001b[A\n",
      "Loading Problems ..:  70%|███████   | 14/20 [27:08<34:35, 345.87s/it]"
     ]
    },
    {
     "name": "stdout",
     "output_type": "stream",
     "text": [
      "Successfully run experiments.\n",
      "Successfully loaded: PointRobot-misc\n",
      "../experiment_results/GymnaxProblem/PointRobot-misc/LearnedES.json\n",
      "Path does not exist\n"
     ]
    },
    {
     "name": "stderr",
     "output_type": "stream",
     "text": [
      "\n",
      "Running ES algorithms:   0%|          | 0/1 [00:00<?, ?it/s]\u001b[A\n",
      "Running ES algorithms: 100%|██████████| 1/1 [00:11<00:00, 11.63s/it]\u001b[A\n"
     ]
    },
    {
     "name": "stdout",
     "output_type": "stream",
     "text": [
      "Successfully run experiments.\n",
      "../experiment_results/GymnaxProblem/PointRobot-misc/SimpleES.json\n",
      "Path does not exist\n"
     ]
    },
    {
     "name": "stderr",
     "output_type": "stream",
     "text": [
      "\n",
      "Running ES algorithms:   0%|          | 0/1 [00:00<?, ?it/s]\u001b[A\n",
      "Running ES algorithms: 100%|██████████| 1/1 [00:08<00:00,  8.13s/it]\u001b[A\n"
     ]
    },
    {
     "name": "stdout",
     "output_type": "stream",
     "text": [
      "Successfully run experiments.\n",
      "../experiment_results/GymnaxProblem/PointRobot-misc/PGPE.json\n",
      "Path does not exist\n"
     ]
    },
    {
     "name": "stderr",
     "output_type": "stream",
     "text": [
      "\n",
      "Running ES algorithms:   0%|          | 0/1 [00:00<?, ?it/s]\u001b[A\n",
      "Running ES algorithms: 100%|██████████| 1/1 [00:08<00:00,  8.51s/it]\u001b[A\n"
     ]
    },
    {
     "name": "stdout",
     "output_type": "stream",
     "text": [
      "Successfully run experiments.\n",
      "../experiment_results/GymnaxProblem/PointRobot-misc/Open_ES.json\n",
      "Path does not exist\n"
     ]
    },
    {
     "name": "stderr",
     "output_type": "stream",
     "text": [
      "\n",
      "Running ES algorithms:   0%|          | 0/1 [00:00<?, ?it/s]\u001b[A\n",
      "Running ES algorithms: 100%|██████████| 1/1 [00:08<00:00,  8.12s/it]\u001b[A\n"
     ]
    },
    {
     "name": "stdout",
     "output_type": "stream",
     "text": [
      "Successfully run experiments.\n",
      "../experiment_results/GymnaxProblem/PointRobot-misc/SNES.json\n",
      "Path does not exist\n"
     ]
    },
    {
     "name": "stderr",
     "output_type": "stream",
     "text": [
      "\n",
      "Running ES algorithms:   0%|          | 0/1 [00:00<?, ?it/s]\u001b[A\n",
      "Running ES algorithms: 100%|██████████| 1/1 [00:08<00:00,  8.16s/it]\u001b[A\n"
     ]
    },
    {
     "name": "stdout",
     "output_type": "stream",
     "text": [
      "Successfully run experiments.\n",
      "../experiment_results/GymnaxProblem/PointRobot-misc/Sep_CMA_ES.json\n",
      "Path does not exist\n"
     ]
    },
    {
     "name": "stderr",
     "output_type": "stream",
     "text": [
      "\n",
      "Running ES algorithms:   0%|          | 0/1 [00:00<?, ?it/s]\u001b[A\n",
      "Running ES algorithms: 100%|██████████| 1/1 [00:08<00:00,  8.63s/it]\u001b[A\n"
     ]
    },
    {
     "name": "stdout",
     "output_type": "stream",
     "text": [
      "Successfully run experiments.\n",
      "../experiment_results/GymnaxProblem/PointRobot-misc/CMA_ES.json\n",
      "Path does not exist\n"
     ]
    },
    {
     "name": "stderr",
     "output_type": "stream",
     "text": [
      "\n",
      "Running ES algorithms:   0%|          | 0/1 [00:00<?, ?it/s]\u001b[A\n",
      "Running ES algorithms: 100%|██████████| 1/1 [07:17<00:00, 437.76s/it]\u001b[A\n",
      "Loading Problems ..:  75%|███████▌  | 15/20 [35:22<32:33, 390.64s/it]"
     ]
    },
    {
     "name": "stdout",
     "output_type": "stream",
     "text": [
      "Successfully run experiments.\n",
      "Successfully loaded: BernoulliBandit-misc\n",
      "../experiment_results/GymnaxProblem/BernoulliBandit-misc/LearnedES.json\n",
      "Path does not exist\n"
     ]
    },
    {
     "name": "stderr",
     "output_type": "stream",
     "text": [
      "\n",
      "Running ES algorithms:   0%|          | 0/1 [00:00<?, ?it/s]\u001b[A\n",
      "Loading Problems ..:  80%|████████  | 16/20 [35:25<18:15, 273.88s/it]"
     ]
    },
    {
     "name": "stdout",
     "output_type": "stream",
     "text": [
      "Failed to load: BernoulliBandit-misc Shapes must be 1D sequences of concrete values of integer type, got (1, 100.0).\n",
      "Successfully loaded: GaussianBandit-misc\n",
      "../experiment_results/GymnaxProblem/GaussianBandit-misc/LearnedES.json\n",
      "Path does not exist\n"
     ]
    },
    {
     "name": "stderr",
     "output_type": "stream",
     "text": [
      "\n",
      "Running ES algorithms:   0%|          | 0/1 [00:00<?, ?it/s]\u001b[A\n",
      "Running ES algorithms: 100%|██████████| 1/1 [00:09<00:00,  9.26s/it]\u001b[A\n"
     ]
    },
    {
     "name": "stdout",
     "output_type": "stream",
     "text": [
      "Successfully run experiments.\n",
      "../experiment_results/GymnaxProblem/GaussianBandit-misc/SimpleES.json\n",
      "Path does not exist\n"
     ]
    },
    {
     "name": "stderr",
     "output_type": "stream",
     "text": [
      "\n",
      "Running ES algorithms:   0%|          | 0/1 [00:00<?, ?it/s]\u001b[A\n",
      "Running ES algorithms: 100%|██████████| 1/1 [00:06<00:00,  6.79s/it]\u001b[A\n"
     ]
    },
    {
     "name": "stdout",
     "output_type": "stream",
     "text": [
      "Successfully run experiments.\n",
      "../experiment_results/GymnaxProblem/GaussianBandit-misc/PGPE.json\n",
      "Path does not exist\n"
     ]
    },
    {
     "name": "stderr",
     "output_type": "stream",
     "text": [
      "\n",
      "Running ES algorithms:   0%|          | 0/1 [00:00<?, ?it/s]\u001b[A\n",
      "Running ES algorithms: 100%|██████████| 1/1 [00:07<00:00,  7.27s/it]\u001b[A\n"
     ]
    },
    {
     "name": "stdout",
     "output_type": "stream",
     "text": [
      "Successfully run experiments.\n",
      "../experiment_results/GymnaxProblem/GaussianBandit-misc/Open_ES.json\n",
      "Path does not exist\n"
     ]
    },
    {
     "name": "stderr",
     "output_type": "stream",
     "text": [
      "\n",
      "Running ES algorithms:   0%|          | 0/1 [00:00<?, ?it/s]\u001b[A\n",
      "Running ES algorithms: 100%|██████████| 1/1 [00:06<00:00,  6.67s/it]\u001b[A\n"
     ]
    },
    {
     "name": "stdout",
     "output_type": "stream",
     "text": [
      "Successfully run experiments.\n",
      "../experiment_results/GymnaxProblem/GaussianBandit-misc/SNES.json\n",
      "Path does not exist\n"
     ]
    },
    {
     "name": "stderr",
     "output_type": "stream",
     "text": [
      "\n",
      "Running ES algorithms:   0%|          | 0/1 [00:00<?, ?it/s]\u001b[A\n",
      "Running ES algorithms: 100%|██████████| 1/1 [00:06<00:00,  6.85s/it]\u001b[A\n"
     ]
    },
    {
     "name": "stdout",
     "output_type": "stream",
     "text": [
      "Successfully run experiments.\n",
      "../experiment_results/GymnaxProblem/GaussianBandit-misc/Sep_CMA_ES.json\n",
      "Path does not exist\n"
     ]
    },
    {
     "name": "stderr",
     "output_type": "stream",
     "text": [
      "\n",
      "Running ES algorithms:   0%|          | 0/1 [00:00<?, ?it/s]\u001b[A\n",
      "Running ES algorithms: 100%|██████████| 1/1 [00:07<00:00,  7.52s/it]\u001b[A\n"
     ]
    },
    {
     "name": "stdout",
     "output_type": "stream",
     "text": [
      "Successfully run experiments.\n",
      "../experiment_results/GymnaxProblem/GaussianBandit-misc/CMA_ES.json\n",
      "Path does not exist\n"
     ]
    },
    {
     "name": "stderr",
     "output_type": "stream",
     "text": [
      "\n",
      "Running ES algorithms:   0%|          | 0/1 [00:00<?, ?it/s]\u001b[A\n",
      "Running ES algorithms: 100%|██████████| 1/1 [06:46<00:00, 406.90s/it]\u001b[A\n",
      "Loading Problems ..:  85%|████████▌ | 17/20 [42:58<16:23, 327.75s/it]"
     ]
    },
    {
     "name": "stdout",
     "output_type": "stream",
     "text": [
      "Successfully run experiments.\n",
      "Successfully loaded: Reacher-misc\n",
      "../experiment_results/GymnaxProblem/Reacher-misc/LearnedES.json\n",
      "Path does not exist\n"
     ]
    },
    {
     "name": "stderr",
     "output_type": "stream",
     "text": [
      "\n",
      "Running ES algorithms:   0%|          | 0/1 [00:00<?, ?it/s]\u001b[A\n",
      "Running ES algorithms: 100%|██████████| 1/1 [00:11<00:00, 11.17s/it]\u001b[A\n"
     ]
    },
    {
     "name": "stdout",
     "output_type": "stream",
     "text": [
      "Successfully run experiments.\n",
      "../experiment_results/GymnaxProblem/Reacher-misc/SimpleES.json\n",
      "Path does not exist\n"
     ]
    },
    {
     "name": "stderr",
     "output_type": "stream",
     "text": [
      "\n",
      "Running ES algorithms:   0%|          | 0/1 [00:00<?, ?it/s]\u001b[A\n",
      "Running ES algorithms: 100%|██████████| 1/1 [00:07<00:00,  7.84s/it]\u001b[A\n"
     ]
    },
    {
     "name": "stdout",
     "output_type": "stream",
     "text": [
      "Successfully run experiments.\n",
      "../experiment_results/GymnaxProblem/Reacher-misc/PGPE.json\n",
      "Path does not exist\n"
     ]
    },
    {
     "name": "stderr",
     "output_type": "stream",
     "text": [
      "\n",
      "Running ES algorithms:   0%|          | 0/1 [00:00<?, ?it/s]\u001b[A\n",
      "Running ES algorithms: 100%|██████████| 1/1 [00:07<00:00,  7.93s/it]\u001b[A\n"
     ]
    },
    {
     "name": "stdout",
     "output_type": "stream",
     "text": [
      "Successfully run experiments.\n",
      "../experiment_results/GymnaxProblem/Reacher-misc/Open_ES.json\n",
      "Path does not exist\n"
     ]
    },
    {
     "name": "stderr",
     "output_type": "stream",
     "text": [
      "\n",
      "Running ES algorithms:   0%|          | 0/1 [00:00<?, ?it/s]\u001b[A\n",
      "Running ES algorithms: 100%|██████████| 1/1 [00:07<00:00,  7.75s/it]\u001b[A\n"
     ]
    },
    {
     "name": "stdout",
     "output_type": "stream",
     "text": [
      "Successfully run experiments.\n",
      "../experiment_results/GymnaxProblem/Reacher-misc/SNES.json\n",
      "Path does not exist\n"
     ]
    },
    {
     "name": "stderr",
     "output_type": "stream",
     "text": [
      "\n",
      "Running ES algorithms:   0%|          | 0/1 [00:00<?, ?it/s]\u001b[A\n",
      "Running ES algorithms: 100%|██████████| 1/1 [00:07<00:00,  7.66s/it]\u001b[A\n"
     ]
    },
    {
     "name": "stdout",
     "output_type": "stream",
     "text": [
      "Successfully run experiments.\n",
      "../experiment_results/GymnaxProblem/Reacher-misc/Sep_CMA_ES.json\n",
      "Path does not exist\n"
     ]
    },
    {
     "name": "stderr",
     "output_type": "stream",
     "text": [
      "\n",
      "Running ES algorithms:   0%|          | 0/1 [00:00<?, ?it/s]\u001b[A\n",
      "Running ES algorithms: 100%|██████████| 1/1 [00:08<00:00,  8.23s/it]\u001b[A\n"
     ]
    },
    {
     "name": "stdout",
     "output_type": "stream",
     "text": [
      "Successfully run experiments.\n",
      "../experiment_results/GymnaxProblem/Reacher-misc/CMA_ES.json\n",
      "Path does not exist\n"
     ]
    },
    {
     "name": "stderr",
     "output_type": "stream",
     "text": [
      "\n",
      "Running ES algorithms:   0%|          | 0/1 [00:00<?, ?it/s]\u001b[A\n",
      "Running ES algorithms: 100%|██████████| 1/1 [07:47<00:00, 467.36s/it]\u001b[A\n",
      "Loading Problems ..:  90%|█████████ | 18/20 [51:39<12:51, 385.68s/it]"
     ]
    },
    {
     "name": "stdout",
     "output_type": "stream",
     "text": [
      "Successfully run experiments.\n",
      "Successfully loaded: Swimmer-misc\n",
      "../experiment_results/GymnaxProblem/Swimmer-misc/LearnedES.json\n",
      "Path does not exist\n"
     ]
    },
    {
     "name": "stderr",
     "output_type": "stream",
     "text": [
      "\n",
      "Running ES algorithms:   0%|          | 0/1 [00:00<?, ?it/s]\u001b[A\n",
      "Running ES algorithms: 100%|██████████| 1/1 [00:23<00:00, 23.86s/it]\u001b[A\n"
     ]
    },
    {
     "name": "stdout",
     "output_type": "stream",
     "text": [
      "Successfully run experiments.\n",
      "../experiment_results/GymnaxProblem/Swimmer-misc/SimpleES.json\n",
      "Path does not exist\n"
     ]
    },
    {
     "name": "stderr",
     "output_type": "stream",
     "text": [
      "\n",
      "Running ES algorithms:   0%|          | 0/1 [00:00<?, ?it/s]\u001b[A\n",
      "Running ES algorithms: 100%|██████████| 1/1 [00:20<00:00, 20.74s/it]\u001b[A\n"
     ]
    },
    {
     "name": "stdout",
     "output_type": "stream",
     "text": [
      "Successfully run experiments.\n",
      "../experiment_results/GymnaxProblem/Swimmer-misc/PGPE.json\n",
      "Path does not exist\n"
     ]
    },
    {
     "name": "stderr",
     "output_type": "stream",
     "text": [
      "\n",
      "Running ES algorithms:   0%|          | 0/1 [00:00<?, ?it/s]\u001b[A\n",
      "Running ES algorithms: 100%|██████████| 1/1 [00:21<00:00, 21.18s/it]\u001b[A\n"
     ]
    },
    {
     "name": "stdout",
     "output_type": "stream",
     "text": [
      "Successfully run experiments.\n",
      "../experiment_results/GymnaxProblem/Swimmer-misc/Open_ES.json\n",
      "Path does not exist\n"
     ]
    },
    {
     "name": "stderr",
     "output_type": "stream",
     "text": [
      "\n",
      "Running ES algorithms:   0%|          | 0/1 [00:00<?, ?it/s]\u001b[A\n",
      "Running ES algorithms: 100%|██████████| 1/1 [00:20<00:00, 20.54s/it]\u001b[A\n"
     ]
    },
    {
     "name": "stdout",
     "output_type": "stream",
     "text": [
      "Successfully run experiments.\n",
      "../experiment_results/GymnaxProblem/Swimmer-misc/SNES.json\n",
      "Path does not exist\n"
     ]
    },
    {
     "name": "stderr",
     "output_type": "stream",
     "text": [
      "\n",
      "Running ES algorithms:   0%|          | 0/1 [00:00<?, ?it/s]\u001b[A\n",
      "Running ES algorithms: 100%|██████████| 1/1 [00:20<00:00, 20.82s/it]\u001b[A\n"
     ]
    },
    {
     "name": "stdout",
     "output_type": "stream",
     "text": [
      "Successfully run experiments.\n",
      "../experiment_results/GymnaxProblem/Swimmer-misc/Sep_CMA_ES.json\n",
      "Path does not exist\n"
     ]
    },
    {
     "name": "stderr",
     "output_type": "stream",
     "text": [
      "\n",
      "Running ES algorithms:   0%|          | 0/1 [00:00<?, ?it/s]\u001b[A\n",
      "Running ES algorithms: 100%|██████████| 1/1 [00:21<00:00, 21.22s/it]\u001b[A\n"
     ]
    },
    {
     "name": "stdout",
     "output_type": "stream",
     "text": [
      "Successfully run experiments.\n",
      "../experiment_results/GymnaxProblem/Swimmer-misc/CMA_ES.json\n",
      "Path does not exist\n"
     ]
    },
    {
     "name": "stderr",
     "output_type": "stream",
     "text": [
      "\n",
      "Running ES algorithms:   0%|          | 0/1 [00:00<?, ?it/s]\u001b[A\n",
      "Running ES algorithms: 100%|██████████| 1/1 [09:56<00:00, 596.23s/it]\u001b[A\n",
      "Loading Problems ..:  95%|█████████▌| 19/20 [1:03:46<08:08, 488.30s/it]"
     ]
    },
    {
     "name": "stdout",
     "output_type": "stream",
     "text": [
      "Successfully run experiments.\n"
     ]
    },
    {
     "name": "stderr",
     "output_type": "stream",
     "text": [
      "Loading Problems ..: 100%|██████████| 20/20 [1:03:47<00:00, 191.36s/it]"
     ]
    },
    {
     "name": "stdout",
     "output_type": "stream",
     "text": [
      "Failed to load: Pong-misc select cases must have the same shapes, got [(30, 40), ()].\n"
     ]
    },
    {
     "name": "stderr",
     "output_type": "stream",
     "text": [
      "\n"
     ]
    }
   ],
   "source": [
    "import jax\n",
    "import os\n",
    "from utils.problem_utils import get_problem_name\n",
    "from evosax.algorithms import algorithms\n",
    "\n",
    "for env_name in tqdm(gymnax.registered_envs[4:], desc=\"Loading Problems ..\"):\n",
    "    try:\n",
    "        action_num, out_fn = get_problem_settings(env_name)\n",
    "        problem = Problem(\n",
    "            env_name=env_name,\n",
    "            policy=MLP(\n",
    "                layer_sizes=(64, 64, action_num),\n",
    "                output_fn=out_fn,\n",
    "            )\n",
    "        )\n",
    "        print(\"Successfully loaded:\", env_name)\n",
    "        for es in es_dict:\n",
    "            key = jax.random.key(seed)\n",
    "            es_path = f\"{result_dir}/{get_problem_name(problem)}/{algorithms[es](population_size=population_size, solution=problem.sample(key)).__class__.__name__}.json\"\n",
    "            print(es_path)\n",
    "            if os.path.exists(es_path):\n",
    "                print(\"Path exists\")\n",
    "            else:\n",
    "                print(\"Path does not exist\")\n",
    "                run_experiment_permutations(problems=[problem],\n",
    "                                            es_dict={es: {}},\n",
    "                                            num_generations=num_generations,\n",
    "                                            population_size=population_size,\n",
    "                                            seed=seed,\n",
    "                                            result_dir=result_dir)\n",
    "                print(\"Successfully run experiments.\")\n",
    "    except Exception as e:\n",
    "        print(\"Failed to load:\", env_name, e)\n",
    "        continue"
   ]
  },
  {
   "cell_type": "code",
   "execution_count": null,
   "id": "edeca49d-6f26-4117-be41-2c6e1ac0ad7e",
   "metadata": {},
   "outputs": [],
   "source": []
  }
 ],
 "metadata": {
  "kernelspec": {
   "display_name": "ronedr_es",
   "language": "python",
   "name": "ronedr_es_env"
  },
  "language_info": {
   "codemirror_mode": {
    "name": "ipython",
    "version": 3
   },
   "file_extension": ".py",
   "mimetype": "text/x-python",
   "name": "python",
   "nbconvert_exporter": "python",
   "pygments_lexer": "ipython3",
   "version": "3.11.7"
  }
 },
 "nbformat": 4,
 "nbformat_minor": 5
}
