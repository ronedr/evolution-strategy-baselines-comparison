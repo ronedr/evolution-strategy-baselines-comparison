{
 "cells": [
  {
   "cell_type": "code",
   "execution_count": 1,
   "id": "f737e819-4932-465e-aeb5-b76dbd37316d",
   "metadata": {},
   "outputs": [],
   "source": [
    "import sys\n",
    "sys.path.append('/mnt/new_home/ronedr/evolution-strategy-baselines-comparison')"
   ]
  },
  {
   "cell_type": "code",
   "execution_count": 2,
   "id": "7efb354f109e76ad",
   "metadata": {
    "ExecuteTime": {
     "end_time": "2025-07-25T15:39:02.921057Z",
     "start_time": "2025-07-25T15:36:31.669865Z"
    }
   },
   "outputs": [
    {
     "name": "stderr",
     "output_type": "stream",
     "text": [
      "Loading Problems ..:   0%|          | 0/12 [00:00<?, ?it/s]2025-07-26 23:41:44.557928: W external/xla/xla/service/platform_util.cc:211] unable to create StreamExecutor for CUDA:0: : CUDA_ERROR_OUT_OF_MEMORY: out of memory\n",
      "Loading Problems ..:   0%|          | 0/12 [00:00<?, ?it/s]\n"
     ]
    },
    {
     "ename": "RuntimeError",
     "evalue": "Unable to initialize backend 'cuda': INTERNAL: no supported devices found for platform CUDA (you may need to uninstall the failing plugin package, or set JAX_PLATFORMS=cpu to skip this backend.)",
     "output_type": "error",
     "traceback": [
      "\u001b[0;31m---------------------------------------------------------------------------\u001b[0m",
      "\u001b[0;31mXlaRuntimeError\u001b[0m                           Traceback (most recent call last)",
      "File \u001b[0;32m~/.local/lib/python3.11/site-packages/jax/_src/xla_bridge.py:914\u001b[0m, in \u001b[0;36mbackends\u001b[0;34m()\u001b[0m\n\u001b[1;32m    912\u001b[0m   \u001b[38;5;28;01mcontinue\u001b[39;00m\n\u001b[0;32m--> 914\u001b[0m backend \u001b[38;5;241m=\u001b[39m _init_backend(platform)\n\u001b[1;32m    915\u001b[0m _backends[platform] \u001b[38;5;241m=\u001b[39m backend\n",
      "File \u001b[0;32m~/.local/lib/python3.11/site-packages/jax/_src/xla_bridge.py:1000\u001b[0m, in \u001b[0;36m_init_backend\u001b[0;34m(platform)\u001b[0m\n\u001b[1;32m    999\u001b[0m logger\u001b[38;5;241m.\u001b[39mdebug(\u001b[38;5;124m\"\u001b[39m\u001b[38;5;124mInitializing backend \u001b[39m\u001b[38;5;124m'\u001b[39m\u001b[38;5;132;01m%s\u001b[39;00m\u001b[38;5;124m'\u001b[39m\u001b[38;5;124m\"\u001b[39m, platform)\n\u001b[0;32m-> 1000\u001b[0m backend \u001b[38;5;241m=\u001b[39m registration\u001b[38;5;241m.\u001b[39mfactory()\n\u001b[1;32m   1001\u001b[0m \u001b[38;5;66;03m# TODO(skye): consider raising more descriptive errors directly from backend\u001b[39;00m\n\u001b[1;32m   1002\u001b[0m \u001b[38;5;66;03m# factories instead of returning None.\u001b[39;00m\n",
      "File \u001b[0;32m~/.local/lib/python3.11/site-packages/jax/_src/xla_bridge.py:692\u001b[0m, in \u001b[0;36mregister_plugin.<locals>.factory\u001b[0;34m()\u001b[0m\n\u001b[1;32m    691\u001b[0m \u001b[38;5;28;01mif\u001b[39;00m distributed\u001b[38;5;241m.\u001b[39mglobal_state\u001b[38;5;241m.\u001b[39mclient \u001b[38;5;129;01mis\u001b[39;00m \u001b[38;5;28;01mNone\u001b[39;00m:\n\u001b[0;32m--> 692\u001b[0m   \u001b[38;5;28;01mreturn\u001b[39;00m xla_client\u001b[38;5;241m.\u001b[39mmake_c_api_client(plugin_name, updated_options, \u001b[38;5;28;01mNone\u001b[39;00m)\n\u001b[1;32m    694\u001b[0m distribute_options \u001b[38;5;241m=\u001b[39m {\n\u001b[1;32m    695\u001b[0m     \u001b[38;5;124m'\u001b[39m\u001b[38;5;124mnode_id\u001b[39m\u001b[38;5;124m'\u001b[39m: distributed\u001b[38;5;241m.\u001b[39mglobal_state\u001b[38;5;241m.\u001b[39mprocess_id,\n\u001b[1;32m    696\u001b[0m     \u001b[38;5;124m'\u001b[39m\u001b[38;5;124mnum_nodes\u001b[39m\u001b[38;5;124m'\u001b[39m: distributed\u001b[38;5;241m.\u001b[39mglobal_state\u001b[38;5;241m.\u001b[39mnum_processes,\n\u001b[1;32m    697\u001b[0m }\n",
      "File \u001b[0;32m~/.local/lib/python3.11/site-packages/jaxlib/xla_client.py:207\u001b[0m, in \u001b[0;36mmake_c_api_client\u001b[0;34m(plugin_name, options, distributed_client)\u001b[0m\n\u001b[1;32m    206\u001b[0m   options \u001b[38;5;241m=\u001b[39m {}\n\u001b[0;32m--> 207\u001b[0m \u001b[38;5;28;01mreturn\u001b[39;00m _xla\u001b[38;5;241m.\u001b[39mget_c_api_client(plugin_name, options, distributed_client)\n",
      "\u001b[0;31mXlaRuntimeError\u001b[0m: INTERNAL: no supported devices found for platform CUDA",
      "\nDuring handling of the above exception, another exception occurred:\n",
      "\u001b[0;31mRuntimeError\u001b[0m                              Traceback (most recent call last)",
      "Cell \u001b[0;32mIn[2], line 10\u001b[0m\n\u001b[1;32m      8\u001b[0m problems \u001b[38;5;241m=\u001b[39m []\n\u001b[1;32m      9\u001b[0m \u001b[38;5;28;01mfor\u001b[39;00m env_name \u001b[38;5;129;01min\u001b[39;00m tqdm(\u001b[38;5;28mlist\u001b[39m(brax_envs\u001b[38;5;241m.\u001b[39m_envs\u001b[38;5;241m.\u001b[39mkeys()), desc\u001b[38;5;241m=\u001b[39m\u001b[38;5;124m\"\u001b[39m\u001b[38;5;124mLoading Problems ..\u001b[39m\u001b[38;5;124m\"\u001b[39m):\n\u001b[0;32m---> 10\u001b[0m     action_num, out_fn \u001b[38;5;241m=\u001b[39m get_problem_settings(env_name)\n\u001b[1;32m     11\u001b[0m     \u001b[38;5;28;01mtry\u001b[39;00m:\n\u001b[1;32m     12\u001b[0m         problems\u001b[38;5;241m.\u001b[39mappend(Problem(\n\u001b[1;32m     13\u001b[0m             env_name\u001b[38;5;241m=\u001b[39menv_name,\n\u001b[1;32m     14\u001b[0m             policy\u001b[38;5;241m=\u001b[39mMLP(\n\u001b[0;32m   (...)\u001b[0m\n\u001b[1;32m     19\u001b[0m             env_kwargs\u001b[38;5;241m=\u001b[39m{\u001b[38;5;124m\"\u001b[39m\u001b[38;5;124mbackend\u001b[39m\u001b[38;5;124m\"\u001b[39m: \u001b[38;5;124m\"\u001b[39m\u001b[38;5;124mgeneralized\u001b[39m\u001b[38;5;124m\"\u001b[39m},\n\u001b[1;32m     20\u001b[0m         ))\n",
      "File \u001b[0;32m/mnt/new_home/ronedr/evolution-strategy-baselines-comparison/utils/problem_utils.py:33\u001b[0m, in \u001b[0;36mget_problem_settings\u001b[0;34m(env_name)\u001b[0m\n\u001b[1;32m     31\u001b[0m \u001b[38;5;66;03m# Brax environments (via gymnax wrapper)\u001b[39;00m\n\u001b[1;32m     32\u001b[0m \u001b[38;5;28;01mif\u001b[39;00m env_name \u001b[38;5;129;01min\u001b[39;00m \u001b[38;5;28mlist\u001b[39m(brax_envs\u001b[38;5;241m.\u001b[39m_envs\u001b[38;5;241m.\u001b[39mkeys()):\n\u001b[0;32m---> 33\u001b[0m     env \u001b[38;5;241m=\u001b[39m brax_envs\u001b[38;5;241m.\u001b[39m_envs[env_name]()\n\u001b[1;32m     34\u001b[0m     num_actions \u001b[38;5;241m=\u001b[39m env\u001b[38;5;241m.\u001b[39maction_size\n\u001b[1;32m     35\u001b[0m     output_fn \u001b[38;5;241m=\u001b[39m tanh_output_fn  \u001b[38;5;66;03m# continuous control in Brax\u001b[39;00m\n",
      "File \u001b[0;32m~/.local/lib/python3.11/site-packages/brax/envs/ant.py:162\u001b[0m, in \u001b[0;36mAnt.__init__\u001b[0;34m(self, ctrl_cost_weight, use_contact_forces, contact_cost_weight, healthy_reward, terminate_when_unhealthy, healthy_z_range, contact_force_range, reset_noise_scale, exclude_current_positions_from_observation, backend, **kwargs)\u001b[0m\n\u001b[1;32m    147\u001b[0m \u001b[38;5;28;01mdef\u001b[39;00m \u001b[38;5;21m__init__\u001b[39m(\n\u001b[1;32m    148\u001b[0m     \u001b[38;5;28mself\u001b[39m,\n\u001b[1;32m    149\u001b[0m     ctrl_cost_weight\u001b[38;5;241m=\u001b[39m\u001b[38;5;241m0.5\u001b[39m,\n\u001b[0;32m   (...)\u001b[0m\n\u001b[1;32m    159\u001b[0m     \u001b[38;5;241m*\u001b[39m\u001b[38;5;241m*\u001b[39mkwargs,\n\u001b[1;32m    160\u001b[0m ):\n\u001b[1;32m    161\u001b[0m   path \u001b[38;5;241m=\u001b[39m epath\u001b[38;5;241m.\u001b[39mresource_path(\u001b[38;5;124m'\u001b[39m\u001b[38;5;124mbrax\u001b[39m\u001b[38;5;124m'\u001b[39m) \u001b[38;5;241m/\u001b[39m \u001b[38;5;124m'\u001b[39m\u001b[38;5;124menvs/assets/ant.xml\u001b[39m\u001b[38;5;124m'\u001b[39m\n\u001b[0;32m--> 162\u001b[0m   sys \u001b[38;5;241m=\u001b[39m mjcf\u001b[38;5;241m.\u001b[39mload(path)\n\u001b[1;32m    164\u001b[0m   n_frames \u001b[38;5;241m=\u001b[39m \u001b[38;5;241m5\u001b[39m\n\u001b[1;32m    166\u001b[0m   \u001b[38;5;28;01mif\u001b[39;00m backend \u001b[38;5;129;01min\u001b[39;00m [\u001b[38;5;124m'\u001b[39m\u001b[38;5;124mspring\u001b[39m\u001b[38;5;124m'\u001b[39m, \u001b[38;5;124m'\u001b[39m\u001b[38;5;124mpositional\u001b[39m\u001b[38;5;124m'\u001b[39m]:\n",
      "File \u001b[0;32m~/.local/lib/python3.11/site-packages/brax/io/mjcf.py:519\u001b[0m, in \u001b[0;36mload\u001b[0;34m(path)\u001b[0m\n\u001b[1;32m    517\u001b[0m \u001b[38;5;250m\u001b[39m\u001b[38;5;124;03m\"\"\"Loads a brax system from a MuJoCo mjcf file path.\"\"\"\u001b[39;00m\n\u001b[1;32m    518\u001b[0m mj \u001b[38;5;241m=\u001b[39m load_mjmodel(path)\n\u001b[0;32m--> 519\u001b[0m \u001b[38;5;28;01mreturn\u001b[39;00m load_model(mj)\n",
      "File \u001b[0;32m~/.local/lib/python3.11/site-packages/brax/io/mjcf.py:448\u001b[0m, in \u001b[0;36mload_model\u001b[0;34m(mj)\u001b[0m\n\u001b[1;32m    445\u001b[0m   link\u001b[38;5;241m.\u001b[39mtransform\u001b[38;5;241m.\u001b[39mpos[free_idx] \u001b[38;5;241m=\u001b[39m np\u001b[38;5;241m.\u001b[39mzeros(\u001b[38;5;241m3\u001b[39m)\n\u001b[1;32m    446\u001b[0m   link\u001b[38;5;241m.\u001b[39mtransform\u001b[38;5;241m.\u001b[39mrot[free_idx] \u001b[38;5;241m=\u001b[39m np\u001b[38;5;241m.\u001b[39marray([\u001b[38;5;241m1.0\u001b[39m, \u001b[38;5;241m0.0\u001b[39m, \u001b[38;5;241m0.0\u001b[39m, \u001b[38;5;241m0.0\u001b[39m])\n\u001b[0;32m--> 448\u001b[0m mjx_model \u001b[38;5;241m=\u001b[39m mjx\u001b[38;5;241m.\u001b[39mput_model(mj)\n\u001b[1;32m    450\u001b[0m sys \u001b[38;5;241m=\u001b[39m System(  \u001b[38;5;66;03m# pytype: disable=wrong-arg-types  # jax-ndarray\u001b[39;00m\n\u001b[1;32m    451\u001b[0m     gravity\u001b[38;5;241m=\u001b[39mmj\u001b[38;5;241m.\u001b[39mopt\u001b[38;5;241m.\u001b[39mgravity,\n\u001b[1;32m    452\u001b[0m     viscosity\u001b[38;5;241m=\u001b[39mmj\u001b[38;5;241m.\u001b[39mopt\u001b[38;5;241m.\u001b[39mviscosity,\n\u001b[0;32m   (...)\u001b[0m\n\u001b[1;32m    475\u001b[0m     \u001b[38;5;241m*\u001b[39m\u001b[38;5;241m*\u001b[39mmjx_model\u001b[38;5;241m.\u001b[39m\u001b[38;5;18m__dict__\u001b[39m,\n\u001b[1;32m    476\u001b[0m )\n\u001b[1;32m    478\u001b[0m sys \u001b[38;5;241m=\u001b[39m jax\u001b[38;5;241m.\u001b[39mtree\u001b[38;5;241m.\u001b[39mmap(jp\u001b[38;5;241m.\u001b[39marray, sys)\n",
      "File \u001b[0;32m~/.local/lib/python3.11/site-packages/mujoco/mjx/_src/io.py:216\u001b[0m, in \u001b[0;36mput_model\u001b[0;34m(m, device, _full_compat)\u001b[0m\n\u001b[1;32m    212\u001b[0m   fields[\u001b[38;5;124m'\u001b[39m\u001b[38;5;124mmesh_convex\u001b[39m\u001b[38;5;124m'\u001b[39m] \u001b[38;5;241m=\u001b[39m \u001b[38;5;28mtuple\u001b[39m(fields[\u001b[38;5;124m'\u001b[39m\u001b[38;5;124mmesh_convex\u001b[39m\u001b[38;5;124m'\u001b[39m])\n\u001b[1;32m    214\u001b[0m model \u001b[38;5;241m=\u001b[39m types\u001b[38;5;241m.\u001b[39mModel(\u001b[38;5;241m*\u001b[39m\u001b[38;5;241m*\u001b[39m{k: copy\u001b[38;5;241m.\u001b[39mcopy(v) \u001b[38;5;28;01mfor\u001b[39;00m k, v \u001b[38;5;129;01min\u001b[39;00m fields\u001b[38;5;241m.\u001b[39mitems()})\n\u001b[0;32m--> 216\u001b[0m model \u001b[38;5;241m=\u001b[39m jax\u001b[38;5;241m.\u001b[39mdevice_put(model, device\u001b[38;5;241m=\u001b[39mdevice)\n\u001b[1;32m    217\u001b[0m \u001b[38;5;28;01mreturn\u001b[39;00m _strip_weak_type(model)\n",
      "File \u001b[0;32m~/.local/lib/python3.11/site-packages/jax/_src/api.py:2359\u001b[0m, in \u001b[0;36mdevice_put\u001b[0;34m(x, device, src, donate, may_alias)\u001b[0m\n\u001b[1;32m   2357\u001b[0m \u001b[38;5;28;01mfor\u001b[39;00m xf, d \u001b[38;5;129;01min\u001b[39;00m \u001b[38;5;28mzip\u001b[39m(x_flat, device_flat):\n\u001b[1;32m   2358\u001b[0m   _check_sharding(shaped_abstractify(xf), d)\n\u001b[0;32m-> 2359\u001b[0m out_flat \u001b[38;5;241m=\u001b[39m dispatch\u001b[38;5;241m.\u001b[39mdevice_put_p\u001b[38;5;241m.\u001b[39mbind(\n\u001b[1;32m   2360\u001b[0m     \u001b[38;5;241m*\u001b[39mx_flat, devices\u001b[38;5;241m=\u001b[39mdevice_flat, srcs\u001b[38;5;241m=\u001b[39msrc_flat,\n\u001b[1;32m   2361\u001b[0m     copy_semantics\u001b[38;5;241m=\u001b[39mcopy_semantics)\n\u001b[1;32m   2362\u001b[0m \u001b[38;5;28;01mreturn\u001b[39;00m tree_unflatten(treedef, out_flat)\n",
      "File \u001b[0;32m~/.local/lib/python3.11/site-packages/jax/_src/core.py:502\u001b[0m, in \u001b[0;36mPrimitive.bind\u001b[0;34m(self, *args, **params)\u001b[0m\n\u001b[1;32m    500\u001b[0m \u001b[38;5;28;01mdef\u001b[39;00m \u001b[38;5;21mbind\u001b[39m(\u001b[38;5;28mself\u001b[39m, \u001b[38;5;241m*\u001b[39margs, \u001b[38;5;241m*\u001b[39m\u001b[38;5;241m*\u001b[39mparams):\n\u001b[1;32m    501\u001b[0m   args \u001b[38;5;241m=\u001b[39m args \u001b[38;5;28;01mif\u001b[39;00m \u001b[38;5;28mself\u001b[39m\u001b[38;5;241m.\u001b[39mskip_canonicalization \u001b[38;5;28;01melse\u001b[39;00m \u001b[38;5;28mmap\u001b[39m(canonicalize_value, args)\n\u001b[0;32m--> 502\u001b[0m   \u001b[38;5;28;01mreturn\u001b[39;00m \u001b[38;5;28mself\u001b[39m\u001b[38;5;241m.\u001b[39m_true_bind(\u001b[38;5;241m*\u001b[39margs, \u001b[38;5;241m*\u001b[39m\u001b[38;5;241m*\u001b[39mparams)\n",
      "File \u001b[0;32m~/.local/lib/python3.11/site-packages/jax/_src/core.py:520\u001b[0m, in \u001b[0;36mPrimitive._true_bind\u001b[0;34m(self, *args, **params)\u001b[0m\n\u001b[1;32m    518\u001b[0m trace_ctx\u001b[38;5;241m.\u001b[39mset_trace(eval_trace)\n\u001b[1;32m    519\u001b[0m \u001b[38;5;28;01mtry\u001b[39;00m:\n\u001b[0;32m--> 520\u001b[0m   \u001b[38;5;28;01mreturn\u001b[39;00m \u001b[38;5;28mself\u001b[39m\u001b[38;5;241m.\u001b[39mbind_with_trace(prev_trace, args, params)\n\u001b[1;32m    521\u001b[0m \u001b[38;5;28;01mfinally\u001b[39;00m:\n\u001b[1;32m    522\u001b[0m   trace_ctx\u001b[38;5;241m.\u001b[39mset_trace(prev_trace)\n",
      "File \u001b[0;32m~/.local/lib/python3.11/site-packages/jax/_src/core.py:525\u001b[0m, in \u001b[0;36mPrimitive.bind_with_trace\u001b[0;34m(self, trace, args, params)\u001b[0m\n\u001b[1;32m    524\u001b[0m \u001b[38;5;28;01mdef\u001b[39;00m \u001b[38;5;21mbind_with_trace\u001b[39m(\u001b[38;5;28mself\u001b[39m, trace, args, params):\n\u001b[0;32m--> 525\u001b[0m   \u001b[38;5;28;01mreturn\u001b[39;00m trace\u001b[38;5;241m.\u001b[39mprocess_primitive(\u001b[38;5;28mself\u001b[39m, args, params)\n",
      "File \u001b[0;32m~/.local/lib/python3.11/site-packages/jax/_src/core.py:1024\u001b[0m, in \u001b[0;36mEvalTrace.process_primitive\u001b[0;34m(self, primitive, args, params)\u001b[0m\n\u001b[1;32m   1022\u001b[0m       \u001b[38;5;28;01mreturn\u001b[39;00m primitive\u001b[38;5;241m.\u001b[39mbind_with_trace(arg\u001b[38;5;241m.\u001b[39m_trace, args, params)\n\u001b[1;32m   1023\u001b[0m check_eval_args(args)\n\u001b[0;32m-> 1024\u001b[0m \u001b[38;5;28;01mreturn\u001b[39;00m primitive\u001b[38;5;241m.\u001b[39mimpl(\u001b[38;5;241m*\u001b[39margs, \u001b[38;5;241m*\u001b[39m\u001b[38;5;241m*\u001b[39mparams)\n",
      "File \u001b[0;32m~/.local/lib/python3.11/site-packages/jax/_src/dispatch.py:546\u001b[0m, in \u001b[0;36m_batched_device_put_impl\u001b[0;34m(devices, srcs, copy_semantics, *xs)\u001b[0m\n\u001b[1;32m    544\u001b[0m dsa_indices, dsa_xs, dsa_shardings, dsa_copy_semantics \u001b[38;5;241m=\u001b[39m [], [], [], []\n\u001b[1;32m    545\u001b[0m \u001b[38;5;28;01mfor\u001b[39;00m i, (x, device, src, cp) \u001b[38;5;129;01min\u001b[39;00m \u001b[38;5;28menumerate\u001b[39m(\u001b[38;5;28mzip\u001b[39m(xs, devices, srcs, copy_semantics)):\n\u001b[0;32m--> 546\u001b[0m   y \u001b[38;5;241m=\u001b[39m _device_put_impl(x, device\u001b[38;5;241m=\u001b[39mdevice, src\u001b[38;5;241m=\u001b[39msrc, copy\u001b[38;5;241m=\u001b[39mcp)\n\u001b[1;32m    547\u001b[0m   \u001b[38;5;28;01mif\u001b[39;00m \u001b[38;5;28misinstance\u001b[39m(y, _DeferredShardArg):\n\u001b[1;32m    548\u001b[0m     dsa_indices\u001b[38;5;241m.\u001b[39mappend(i)\n",
      "File \u001b[0;32m~/.local/lib/python3.11/site-packages/jax/_src/dispatch.py:535\u001b[0m, in \u001b[0;36m_device_put_impl\u001b[0;34m(x, device, src, copy)\u001b[0m\n\u001b[1;32m    530\u001b[0m     \u001b[38;5;28;01mreturn\u001b[39;00m _device_put_sharding_impl(x, aval, l\u001b[38;5;241m.\u001b[39msharding, copy)\n\u001b[1;32m    531\u001b[0m   \u001b[38;5;28;01mreturn\u001b[39;00m api\u001b[38;5;241m.\u001b[39mjit(\n\u001b[1;32m    532\u001b[0m       _identity_fn, out_shardings\u001b[38;5;241m=\u001b[39ml,\n\u001b[1;32m    533\u001b[0m       donate_argnums\u001b[38;5;241m=\u001b[39m(\u001b[38;5;241m0\u001b[39m \u001b[38;5;28;01mif\u001b[39;00m copy \u001b[38;5;241m==\u001b[39m CopySemantics\u001b[38;5;241m.\u001b[39mDONATE \u001b[38;5;28;01melse\u001b[39;00m \u001b[38;5;28;01mNone\u001b[39;00m))(x)\n\u001b[0;32m--> 535\u001b[0m \u001b[38;5;28;01mreturn\u001b[39;00m _device_put_sharding_impl(x, aval, device, copy)\n",
      "File \u001b[0;32m~/.local/lib/python3.11/site-packages/jax/_src/dispatch.py:494\u001b[0m, in \u001b[0;36m_device_put_sharding_impl\u001b[0;34m(x, aval, device, copy)\u001b[0m\n\u001b[1;32m    490\u001b[0m     device \u001b[38;5;241m=\u001b[39m x\u001b[38;5;241m.\u001b[39msharding\u001b[38;5;241m.\u001b[39m_device_assignment[\u001b[38;5;241m0\u001b[39m] \u001b[38;5;28;01mif\u001b[39;00m device \u001b[38;5;129;01mis\u001b[39;00m \u001b[38;5;28;01mNone\u001b[39;00m \u001b[38;5;28;01melse\u001b[39;00m device\n\u001b[1;32m    491\u001b[0m     \u001b[38;5;28;01mreturn\u001b[39;00m pxla\u001b[38;5;241m.\u001b[39mbatched_device_put(aval, SingleDeviceSharding(device), [x],\n\u001b[1;32m    492\u001b[0m                                    [device])\n\u001b[0;32m--> 494\u001b[0m sh \u001b[38;5;241m=\u001b[39m SingleDeviceSharding(pxla\u001b[38;5;241m.\u001b[39mget_default_device()\n\u001b[1;32m    495\u001b[0m                           \u001b[38;5;28;01mif\u001b[39;00m device \u001b[38;5;129;01mis\u001b[39;00m \u001b[38;5;28;01mNone\u001b[39;00m \u001b[38;5;28;01melse\u001b[39;00m device)\n\u001b[1;32m    496\u001b[0m \u001b[38;5;28;01mreturn\u001b[39;00m _DeferredShardArg(x, sh, aval, device \u001b[38;5;129;01mis\u001b[39;00m \u001b[38;5;129;01mnot\u001b[39;00m \u001b[38;5;28;01mNone\u001b[39;00m, copy)\n",
      "File \u001b[0;32m~/.local/lib/python3.11/site-packages/jax/_src/interpreters/pxla.py:1722\u001b[0m, in \u001b[0;36mget_default_device\u001b[0;34m()\u001b[0m\n\u001b[1;32m   1720\u001b[0m   \u001b[38;5;28;01mreturn\u001b[39;00m xb\u001b[38;5;241m.\u001b[39mget_backend(config\u001b[38;5;241m.\u001b[39mdefault_device\u001b[38;5;241m.\u001b[39mvalue)\u001b[38;5;241m.\u001b[39mlocal_devices()[\u001b[38;5;241m0\u001b[39m]\n\u001b[1;32m   1721\u001b[0m \u001b[38;5;28;01melse\u001b[39;00m:\n\u001b[0;32m-> 1722\u001b[0m   \u001b[38;5;28;01mreturn\u001b[39;00m config\u001b[38;5;241m.\u001b[39mdefault_device\u001b[38;5;241m.\u001b[39mvalue \u001b[38;5;129;01mor\u001b[39;00m xb\u001b[38;5;241m.\u001b[39mlocal_devices()[\u001b[38;5;241m0\u001b[39m]\n",
      "File \u001b[0;32m~/.local/lib/python3.11/site-packages/jax/_src/xla_bridge.py:1172\u001b[0m, in \u001b[0;36mlocal_devices\u001b[0;34m(process_index, backend, host_id)\u001b[0m\n\u001b[1;32m   1170\u001b[0m   process_index \u001b[38;5;241m=\u001b[39m host_id\n\u001b[1;32m   1171\u001b[0m \u001b[38;5;28;01mif\u001b[39;00m process_index \u001b[38;5;129;01mis\u001b[39;00m \u001b[38;5;28;01mNone\u001b[39;00m:\n\u001b[0;32m-> 1172\u001b[0m   process_index \u001b[38;5;241m=\u001b[39m get_backend(backend)\u001b[38;5;241m.\u001b[39mprocess_index()\n\u001b[1;32m   1173\u001b[0m \u001b[38;5;28;01mif\u001b[39;00m \u001b[38;5;129;01mnot\u001b[39;00m (\u001b[38;5;241m0\u001b[39m \u001b[38;5;241m<\u001b[39m\u001b[38;5;241m=\u001b[39m process_index \u001b[38;5;241m<\u001b[39m process_count(backend)):\n\u001b[1;32m   1174\u001b[0m   \u001b[38;5;28;01mraise\u001b[39;00m \u001b[38;5;167;01mValueError\u001b[39;00m(\u001b[38;5;124mf\u001b[39m\u001b[38;5;124m\"\u001b[39m\u001b[38;5;124mUnknown process_index \u001b[39m\u001b[38;5;132;01m{\u001b[39;00mprocess_index\u001b[38;5;132;01m}\u001b[39;00m\u001b[38;5;124m\"\u001b[39m)\n",
      "File \u001b[0;32m~/.local/lib/python3.11/site-packages/jax/_src/xla_bridge.py:1048\u001b[0m, in \u001b[0;36mget_backend\u001b[0;34m(platform)\u001b[0m\n\u001b[1;32m   1044\u001b[0m \u001b[38;5;129m@lru_cache\u001b[39m(maxsize\u001b[38;5;241m=\u001b[39m\u001b[38;5;28;01mNone\u001b[39;00m)  \u001b[38;5;66;03m# don't use util.memoize because there is no X64 dependence.\u001b[39;00m\n\u001b[1;32m   1045\u001b[0m \u001b[38;5;28;01mdef\u001b[39;00m \u001b[38;5;21mget_backend\u001b[39m(\n\u001b[1;32m   1046\u001b[0m     platform: \u001b[38;5;28;01mNone\u001b[39;00m \u001b[38;5;241m|\u001b[39m \u001b[38;5;28mstr\u001b[39m \u001b[38;5;241m|\u001b[39m xla_client\u001b[38;5;241m.\u001b[39mClient \u001b[38;5;241m=\u001b[39m \u001b[38;5;28;01mNone\u001b[39;00m\n\u001b[1;32m   1047\u001b[0m ) \u001b[38;5;241m-\u001b[39m\u001b[38;5;241m>\u001b[39m xla_client\u001b[38;5;241m.\u001b[39mClient:\n\u001b[0;32m-> 1048\u001b[0m   \u001b[38;5;28;01mreturn\u001b[39;00m _get_backend_uncached(platform)\n",
      "File \u001b[0;32m~/.local/lib/python3.11/site-packages/jax/_src/xla_bridge.py:1027\u001b[0m, in \u001b[0;36m_get_backend_uncached\u001b[0;34m(platform)\u001b[0m\n\u001b[1;32m   1023\u001b[0m   \u001b[38;5;28;01mreturn\u001b[39;00m platform\n\u001b[1;32m   1025\u001b[0m platform \u001b[38;5;241m=\u001b[39m (platform \u001b[38;5;129;01mor\u001b[39;00m _XLA_BACKEND\u001b[38;5;241m.\u001b[39mvalue \u001b[38;5;129;01mor\u001b[39;00m _PLATFORM_NAME\u001b[38;5;241m.\u001b[39mvalue \u001b[38;5;129;01mor\u001b[39;00m \u001b[38;5;28;01mNone\u001b[39;00m)\n\u001b[0;32m-> 1027\u001b[0m bs \u001b[38;5;241m=\u001b[39m backends()\n\u001b[1;32m   1028\u001b[0m \u001b[38;5;28;01mif\u001b[39;00m platform \u001b[38;5;129;01mis\u001b[39;00m \u001b[38;5;129;01mnot\u001b[39;00m \u001b[38;5;28;01mNone\u001b[39;00m:\n\u001b[1;32m   1029\u001b[0m   platform \u001b[38;5;241m=\u001b[39m canonicalize_platform(platform)\n",
      "File \u001b[0;32m~/.local/lib/python3.11/site-packages/jax/_src/xla_bridge.py:930\u001b[0m, in \u001b[0;36mbackends\u001b[0;34m()\u001b[0m\n\u001b[1;32m    928\u001b[0m       \u001b[38;5;28;01melse\u001b[39;00m:\n\u001b[1;32m    929\u001b[0m         err_msg \u001b[38;5;241m+\u001b[39m\u001b[38;5;241m=\u001b[39m \u001b[38;5;124m\"\u001b[39m\u001b[38;5;124m (you may need to uninstall the failing plugin package, or set JAX_PLATFORMS=cpu to skip this backend.)\u001b[39m\u001b[38;5;124m\"\u001b[39m\n\u001b[0;32m--> 930\u001b[0m       \u001b[38;5;28;01mraise\u001b[39;00m \u001b[38;5;167;01mRuntimeError\u001b[39;00m(err_msg)\n\u001b[1;32m    932\u001b[0m \u001b[38;5;28;01massert\u001b[39;00m _default_backend \u001b[38;5;129;01mis\u001b[39;00m \u001b[38;5;129;01mnot\u001b[39;00m \u001b[38;5;28;01mNone\u001b[39;00m\n\u001b[1;32m    933\u001b[0m \u001b[38;5;28;01mif\u001b[39;00m \u001b[38;5;129;01mnot\u001b[39;00m config\u001b[38;5;241m.\u001b[39mjax_platforms\u001b[38;5;241m.\u001b[39mvalue:\n",
      "\u001b[0;31mRuntimeError\u001b[0m: Unable to initialize backend 'cuda': INTERNAL: no supported devices found for platform CUDA (you may need to uninstall the failing plugin package, or set JAX_PLATFORMS=cpu to skip this backend.)"
     ]
    }
   ],
   "source": [
    "from tqdm import tqdm\n",
    "import brax.envs as brax_envs\n",
    "from evosax.problems import BraxProblem as Problem\n",
    "from evosax.problems.networks import MLP\n",
    "\n",
    "from utils.problem_utils import get_problem_settings\n",
    "\n",
    "problems = []\n",
    "for env_name in tqdm(list(brax_envs._envs.keys()), desc=\"Loading Problems ..\"):\n",
    "    action_num, out_fn = get_problem_settings(env_name)\n",
    "    try:\n",
    "        problems.append(Problem(\n",
    "            env_name=env_name,\n",
    "            policy=MLP(\n",
    "                layer_sizes=(32, 32, 32, 32, action_num),\n",
    "                output_fn=out_fn,\n",
    "            ),\n",
    "            episode_length=1000,\n",
    "            env_kwargs={\"backend\": \"generalized\"},\n",
    "        ))\n",
    "        print(\"Successfully loaded:\", env_name)\n",
    "    except Exception as e:\n",
    "        print(\"Failed to load:\", env_name, e)\n",
    "        continue\n",
    "\n",
    "es_dict = {\n",
    "    \"LES\": {},\n",
    "    \"SimpleES\": {},\n",
    "    \"PGPE\": {},\n",
    "    \"Open_ES\": {},\n",
    "    \"SNES\": {},\n",
    "    \"Sep_CMA_ES\": {},\n",
    "    \"CMA_ES\": {},\n",
    "}"
   ]
  },
  {
   "cell_type": "code",
   "execution_count": null,
   "id": "a84c4791a6f2078f",
   "metadata": {
    "ExecuteTime": {
     "start_time": "2025-07-20T16:26:44.595254Z"
    }
   },
   "outputs": [
    {
     "name": "stdout",
     "output_type": "stream",
     "text": [
      "Running LES...\n"
     ]
    }
   ],
   "source": [
    "from experiment.run_experiments import run_experiment_permutations\n",
    "\n",
    "num_generations = 512\n",
    "population_size = 256\n",
    "seed = 0\n",
    "\n",
    "result_dir = \"../experiment_results\"\n",
    "\n",
    "run_experiment_permutations(problems=problems,\n",
    "                            es_dict=es_dict,\n",
    "                            num_generations=num_generations,\n",
    "                            population_size=population_size,\n",
    "                            seed=seed,\n",
    "                            result_dir=result_dir)"
   ]
  }
 ],
 "metadata": {
  "kernelspec": {
   "display_name": "ronedr_es",
   "language": "python",
   "name": "ronedr_es_env"
  },
  "language_info": {
   "codemirror_mode": {
    "name": "ipython",
    "version": 3
   },
   "file_extension": ".py",
   "mimetype": "text/x-python",
   "name": "python",
   "nbconvert_exporter": "python",
   "pygments_lexer": "ipython3",
   "version": "3.11.7"
  }
 },
 "nbformat": 4,
 "nbformat_minor": 5
}
