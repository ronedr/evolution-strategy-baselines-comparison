{
 "cells": [
  {
   "cell_type": "code",
   "execution_count": 1,
   "id": "b9a9bbc0-7ac5-41dd-a86a-53a3815db1e5",
   "metadata": {
    "ExecuteTime": {
     "end_time": "2025-08-03T12:39:44.084906Z",
     "start_time": "2025-08-03T12:39:44.046019Z"
    }
   },
   "outputs": [],
   "source": [
    "import sys\n",
    "\n",
    "sys.path.append('/mnt/new_home/ronedr/evolution-strategy-baselines-comparison')"
   ]
  },
  {
   "cell_type": "code",
   "execution_count": 2,
   "id": "546c57de037e0c46",
   "metadata": {
    "ExecuteTime": {
     "end_time": "2025-08-03T12:39:52.316258Z",
     "start_time": "2025-08-03T12:39:44.087432Z"
    }
   },
   "outputs": [],
   "source": [
    "from tqdm import tqdm\n",
    "import gymnax\n",
    "from evosax.problems import GymnaxProblem as Problem\n",
    "from evosax.problems.networks import MLP\n",
    "import jax\n",
    "from utils.problem_utils import get_problem_settings\n",
    "from experiment.run_experiments import run_experiment_permutations"
   ]
  },
  {
   "cell_type": "code",
   "execution_count": 3,
   "id": "b35076e453198a11",
   "metadata": {
    "ExecuteTime": {
     "end_time": "2025-08-03T12:39:52.346360Z",
     "start_time": "2025-08-03T12:39:52.316258Z"
    }
   },
   "outputs": [],
   "source": [
    "es_dict = {\n",
    "    \"SimpleES\": {},\n",
    "    \"LES\": {},\n",
    "    \"DES\": {},\n",
    "    \"EvoTF_ES\": {},\n",
    "    \"PGPE\": {},\n",
    "    \"Open_ES\": {},\n",
    "    \"SNES\": {},\n",
    "    \"Sep_CMA_ES\": {},\n",
    "    \"CMA_ES\": {},\n",
    "}\n",
    "\n",
    "num_generations = 1000\n",
    "population_size = 128\n",
    "seeds = list(range(0, 5))\n",
    "result_dir = \"../experiment_results\"\n",
    "problems_gymnax = gymnax.registered_envs"
   ]
  },
  {
   "cell_type": "code",
   "execution_count": 4,
   "id": "ed71d091470424",
   "metadata": {
    "ExecuteTime": {
     "end_time": "2025-08-03T13:08:50.474270Z",
     "start_time": "2025-08-03T13:08:48.470943Z"
    }
   },
   "outputs": [
    {
     "name": "stderr",
     "output_type": "stream",
     "text": [
      "Loading Problems ..:   0%|          | 0/24 [00:00<?, ?it/s]"
     ]
    },
    {
     "name": "stdout",
     "output_type": "stream",
     "text": [
      "Successfully loaded: CartPole-v1\n"
     ]
    },
    {
     "name": "stderr",
     "output_type": "stream",
     "text": [
      "\n",
      "Running ES algorithms:   0%|          | 0/1 [00:00<?, ?it/s]\u001b[A"
     ]
    },
    {
     "name": "stdout",
     "output_type": "stream",
     "text": [
      "running the experiment ... [../experiment_results/GymnaxProblem/CartPole-v1/SimpleES/0.json]\n"
     ]
    },
    {
     "name": "stderr",
     "output_type": "stream",
     "text": [
      "\n",
      "Running ES algorithms: 100%|██████████| 1/1 [00:38<00:00, 38.46s/it]\u001b[A\n",
      "\n",
      "Running ES algorithms:   0%|          | 0/1 [00:00<?, ?it/s]\u001b[A"
     ]
    },
    {
     "name": "stdout",
     "output_type": "stream",
     "text": [
      "running the experiment ... [../experiment_results/GymnaxProblem/CartPole-v1/SimpleES/1.json]\n"
     ]
    },
    {
     "name": "stderr",
     "output_type": "stream",
     "text": [
      "\n",
      "Running ES algorithms: 100%|██████████| 1/1 [00:32<00:00, 32.71s/it]\u001b[A\n",
      "\n",
      "Running ES algorithms:   0%|          | 0/1 [00:00<?, ?it/s]\u001b[A"
     ]
    },
    {
     "name": "stdout",
     "output_type": "stream",
     "text": [
      "running the experiment ... [../experiment_results/GymnaxProblem/CartPole-v1/SimpleES/2.json]\n"
     ]
    },
    {
     "name": "stderr",
     "output_type": "stream",
     "text": [
      "\n",
      "Running ES algorithms: 100%|██████████| 1/1 [00:32<00:00, 32.66s/it]\u001b[A\n",
      "\n",
      "Running ES algorithms:   0%|          | 0/1 [00:00<?, ?it/s]\u001b[A"
     ]
    },
    {
     "name": "stdout",
     "output_type": "stream",
     "text": [
      "running the experiment ... [../experiment_results/GymnaxProblem/CartPole-v1/SimpleES/3.json]\n"
     ]
    },
    {
     "name": "stderr",
     "output_type": "stream",
     "text": [
      "\n",
      "Running ES algorithms: 100%|██████████| 1/1 [00:32<00:00, 32.85s/it]\u001b[A\n",
      "\n",
      "Running ES algorithms:   0%|          | 0/1 [00:00<?, ?it/s]\u001b[A"
     ]
    },
    {
     "name": "stdout",
     "output_type": "stream",
     "text": [
      "running the experiment ... [../experiment_results/GymnaxProblem/CartPole-v1/SimpleES/4.json]\n"
     ]
    },
    {
     "name": "stderr",
     "output_type": "stream",
     "text": [
      "\n",
      "Running ES algorithms: 100%|██████████| 1/1 [00:33<00:00, 33.06s/it]\u001b[A\n",
      "\n",
      "Running ES algorithms:   0%|          | 0/1 [00:00<?, ?it/s]\u001b[A"
     ]
    },
    {
     "name": "stdout",
     "output_type": "stream",
     "text": [
      "running the experiment ... [../experiment_results/GymnaxProblem/CartPole-v1/LearnedES/0.json]\n"
     ]
    },
    {
     "name": "stderr",
     "output_type": "stream",
     "text": [
      "\n",
      "Running ES algorithms: 100%|██████████| 1/1 [00:33<00:00, 33.80s/it]\u001b[A\n",
      "\n",
      "Running ES algorithms:   0%|          | 0/1 [00:00<?, ?it/s]\u001b[A"
     ]
    },
    {
     "name": "stdout",
     "output_type": "stream",
     "text": [
      "running the experiment ... [../experiment_results/GymnaxProblem/CartPole-v1/LearnedES/1.json]\n"
     ]
    },
    {
     "name": "stderr",
     "output_type": "stream",
     "text": [
      "\n",
      "Running ES algorithms: 100%|██████████| 1/1 [00:33<00:00, 33.42s/it]\u001b[A\n",
      "\n",
      "Running ES algorithms:   0%|          | 0/1 [00:00<?, ?it/s]\u001b[A"
     ]
    },
    {
     "name": "stdout",
     "output_type": "stream",
     "text": [
      "running the experiment ... [../experiment_results/GymnaxProblem/CartPole-v1/LearnedES/2.json]\n"
     ]
    },
    {
     "name": "stderr",
     "output_type": "stream",
     "text": [
      "\n",
      "Running ES algorithms: 100%|██████████| 1/1 [00:33<00:00, 33.45s/it]\u001b[A\n",
      "\n",
      "Running ES algorithms:   0%|          | 0/1 [00:00<?, ?it/s]\u001b[A"
     ]
    },
    {
     "name": "stdout",
     "output_type": "stream",
     "text": [
      "running the experiment ... [../experiment_results/GymnaxProblem/CartPole-v1/LearnedES/3.json]\n"
     ]
    },
    {
     "name": "stderr",
     "output_type": "stream",
     "text": [
      "\n",
      "Running ES algorithms: 100%|██████████| 1/1 [00:33<00:00, 33.48s/it]\u001b[A\n",
      "\n",
      "Running ES algorithms:   0%|          | 0/1 [00:00<?, ?it/s]\u001b[A"
     ]
    },
    {
     "name": "stdout",
     "output_type": "stream",
     "text": [
      "running the experiment ... [../experiment_results/GymnaxProblem/CartPole-v1/LearnedES/4.json]\n"
     ]
    },
    {
     "name": "stderr",
     "output_type": "stream",
     "text": [
      "\n",
      "Running ES algorithms: 100%|██████████| 1/1 [00:33<00:00, 33.46s/it]\u001b[A\n",
      "\n",
      "Running ES algorithms:   0%|          | 0/1 [00:00<?, ?it/s]\u001b[A"
     ]
    },
    {
     "name": "stdout",
     "output_type": "stream",
     "text": [
      "running the experiment ... [../experiment_results/GymnaxProblem/CartPole-v1/DiscoveredES/0.json]\n"
     ]
    },
    {
     "name": "stderr",
     "output_type": "stream",
     "text": [
      "\n",
      "Running ES algorithms: 100%|██████████| 1/1 [00:33<00:00, 33.75s/it]\u001b[A\n",
      "\n",
      "Running ES algorithms:   0%|          | 0/1 [00:00<?, ?it/s]\u001b[A"
     ]
    },
    {
     "name": "stdout",
     "output_type": "stream",
     "text": [
      "running the experiment ... [../experiment_results/GymnaxProblem/CartPole-v1/DiscoveredES/1.json]\n"
     ]
    },
    {
     "name": "stderr",
     "output_type": "stream",
     "text": [
      "\n",
      "Running ES algorithms: 100%|██████████| 1/1 [00:32<00:00, 32.91s/it]\u001b[A\n",
      "\n",
      "Running ES algorithms:   0%|          | 0/1 [00:00<?, ?it/s]\u001b[A"
     ]
    },
    {
     "name": "stdout",
     "output_type": "stream",
     "text": [
      "running the experiment ... [../experiment_results/GymnaxProblem/CartPole-v1/DiscoveredES/2.json]\n"
     ]
    },
    {
     "name": "stderr",
     "output_type": "stream",
     "text": [
      "\n",
      "Running ES algorithms: 100%|██████████| 1/1 [00:33<00:00, 33.33s/it]\u001b[A\n",
      "\n",
      "Running ES algorithms:   0%|          | 0/1 [00:00<?, ?it/s]\u001b[A"
     ]
    },
    {
     "name": "stdout",
     "output_type": "stream",
     "text": [
      "running the experiment ... [../experiment_results/GymnaxProblem/CartPole-v1/DiscoveredES/3.json]\n"
     ]
    },
    {
     "name": "stderr",
     "output_type": "stream",
     "text": [
      "\n",
      "Running ES algorithms: 100%|██████████| 1/1 [00:32<00:00, 32.90s/it]\u001b[A\n",
      "\n",
      "Running ES algorithms:   0%|          | 0/1 [00:00<?, ?it/s]\u001b[A"
     ]
    },
    {
     "name": "stdout",
     "output_type": "stream",
     "text": [
      "running the experiment ... [../experiment_results/GymnaxProblem/CartPole-v1/DiscoveredES/4.json]\n"
     ]
    },
    {
     "name": "stderr",
     "output_type": "stream",
     "text": [
      "\n",
      "Running ES algorithms: 100%|██████████| 1/1 [00:32<00:00, 32.97s/it]\u001b[A\n",
      "\n",
      "Running ES algorithms:   0%|          | 0/1 [00:00<?, ?it/s]\u001b[A"
     ]
    },
    {
     "name": "stdout",
     "output_type": "stream",
     "text": [
      "running the experiment ... [../experiment_results/GymnaxProblem/CartPole-v1/EvoTF_ES/0.json]\n"
     ]
    },
    {
     "name": "stderr",
     "output_type": "stream",
     "text": [
      "2025-08-08 18:48:23.109594: W external/xla/xla/tsl/framework/bfc_allocator.cc:310] Allocator (GPU_0_bfc) ran out of memory trying to allocate 3.53GiB with freed_by_count=0. The caller indicates that this is not a failure, but this may mean that there could be performance gains if more memory were available.\n",
      "Running ES algorithms:   0%|          | 0/1 [00:02<?, ?it/s]\n",
      "Loading Problems ..:   4%|▍         | 1/24 [08:33<3:16:59, 513.88s/it]"
     ]
    },
    {
     "name": "stdout",
     "output_type": "stream",
     "text": [
      "Failed to load: CartPole-v1 RESOURCE_EXHAUSTED: Out of memory while trying to allocate 3793289216 bytes.\n",
      "Successfully loaded: Pendulum-v1\n"
     ]
    },
    {
     "name": "stderr",
     "output_type": "stream",
     "text": [
      "\n",
      "Running ES algorithms:   0%|          | 0/1 [00:00<?, ?it/s]\u001b[A"
     ]
    },
    {
     "name": "stdout",
     "output_type": "stream",
     "text": [
      "running the experiment ... [../experiment_results/GymnaxProblem/Pendulum-v1/SimpleES/0.json]\n"
     ]
    },
    {
     "name": "stderr",
     "output_type": "stream",
     "text": [
      "\n",
      "Running ES algorithms: 100%|██████████| 1/1 [00:15<00:00, 15.05s/it]\u001b[A\n",
      "\n",
      "Running ES algorithms:   0%|          | 0/1 [00:00<?, ?it/s]\u001b[A"
     ]
    },
    {
     "name": "stdout",
     "output_type": "stream",
     "text": [
      "running the experiment ... [../experiment_results/GymnaxProblem/Pendulum-v1/SimpleES/1.json]\n"
     ]
    },
    {
     "name": "stderr",
     "output_type": "stream",
     "text": [
      "\n",
      "Running ES algorithms: 100%|██████████| 1/1 [00:12<00:00, 12.93s/it]\u001b[A\n",
      "\n",
      "Running ES algorithms:   0%|          | 0/1 [00:00<?, ?it/s]\u001b[A"
     ]
    },
    {
     "name": "stdout",
     "output_type": "stream",
     "text": [
      "running the experiment ... [../experiment_results/GymnaxProblem/Pendulum-v1/SimpleES/2.json]\n"
     ]
    },
    {
     "name": "stderr",
     "output_type": "stream",
     "text": [
      "\n",
      "Running ES algorithms: 100%|██████████| 1/1 [00:12<00:00, 12.98s/it]\u001b[A\n",
      "\n",
      "Running ES algorithms:   0%|          | 0/1 [00:00<?, ?it/s]\u001b[A"
     ]
    },
    {
     "name": "stdout",
     "output_type": "stream",
     "text": [
      "running the experiment ... [../experiment_results/GymnaxProblem/Pendulum-v1/SimpleES/3.json]\n"
     ]
    },
    {
     "name": "stderr",
     "output_type": "stream",
     "text": [
      "\n",
      "Running ES algorithms: 100%|██████████| 1/1 [00:12<00:00, 12.86s/it]\u001b[A\n",
      "\n",
      "Running ES algorithms:   0%|          | 0/1 [00:00<?, ?it/s]\u001b[A"
     ]
    },
    {
     "name": "stdout",
     "output_type": "stream",
     "text": [
      "running the experiment ... [../experiment_results/GymnaxProblem/Pendulum-v1/SimpleES/4.json]\n"
     ]
    },
    {
     "name": "stderr",
     "output_type": "stream",
     "text": [
      "\n",
      "Running ES algorithms: 100%|██████████| 1/1 [00:12<00:00, 12.92s/it]\u001b[A\n",
      "\n",
      "Running ES algorithms:   0%|          | 0/1 [00:00<?, ?it/s]\u001b[A"
     ]
    },
    {
     "name": "stdout",
     "output_type": "stream",
     "text": [
      "running the experiment ... [../experiment_results/GymnaxProblem/Pendulum-v1/LearnedES/0.json]\n"
     ]
    },
    {
     "name": "stderr",
     "output_type": "stream",
     "text": [
      "\n",
      "Running ES algorithms: 100%|██████████| 1/1 [00:12<00:00, 12.87s/it]\u001b[A\n",
      "\n",
      "Running ES algorithms:   0%|          | 0/1 [00:00<?, ?it/s]\u001b[A"
     ]
    },
    {
     "name": "stdout",
     "output_type": "stream",
     "text": [
      "running the experiment ... [../experiment_results/GymnaxProblem/Pendulum-v1/LearnedES/1.json]\n"
     ]
    },
    {
     "name": "stderr",
     "output_type": "stream",
     "text": [
      "\n",
      "Running ES algorithms: 100%|██████████| 1/1 [00:13<00:00, 13.16s/it]\u001b[A\n",
      "\n",
      "Running ES algorithms:   0%|          | 0/1 [00:00<?, ?it/s]\u001b[A"
     ]
    },
    {
     "name": "stdout",
     "output_type": "stream",
     "text": [
      "running the experiment ... [../experiment_results/GymnaxProblem/Pendulum-v1/LearnedES/2.json]\n"
     ]
    },
    {
     "name": "stderr",
     "output_type": "stream",
     "text": [
      "\n",
      "Running ES algorithms: 100%|██████████| 1/1 [00:13<00:00, 13.24s/it]\u001b[A\n",
      "\n",
      "Running ES algorithms:   0%|          | 0/1 [00:00<?, ?it/s]\u001b[A"
     ]
    },
    {
     "name": "stdout",
     "output_type": "stream",
     "text": [
      "running the experiment ... [../experiment_results/GymnaxProblem/Pendulum-v1/LearnedES/3.json]\n"
     ]
    },
    {
     "name": "stderr",
     "output_type": "stream",
     "text": [
      "\n",
      "Running ES algorithms: 100%|██████████| 1/1 [00:13<00:00, 13.29s/it]\u001b[A\n",
      "\n",
      "Running ES algorithms:   0%|          | 0/1 [00:00<?, ?it/s]\u001b[A"
     ]
    },
    {
     "name": "stdout",
     "output_type": "stream",
     "text": [
      "running the experiment ... [../experiment_results/GymnaxProblem/Pendulum-v1/LearnedES/4.json]\n"
     ]
    },
    {
     "name": "stderr",
     "output_type": "stream",
     "text": [
      "\n",
      "Running ES algorithms: 100%|██████████| 1/1 [00:12<00:00, 12.94s/it]\u001b[A\n",
      "\n",
      "Running ES algorithms:   0%|          | 0/1 [00:00<?, ?it/s]\u001b[A"
     ]
    },
    {
     "name": "stdout",
     "output_type": "stream",
     "text": [
      "running the experiment ... [../experiment_results/GymnaxProblem/Pendulum-v1/DiscoveredES/0.json]\n"
     ]
    },
    {
     "name": "stderr",
     "output_type": "stream",
     "text": [
      "\n",
      "Running ES algorithms: 100%|██████████| 1/1 [00:12<00:00, 12.99s/it]\u001b[A\n",
      "\n",
      "Running ES algorithms:   0%|          | 0/1 [00:00<?, ?it/s]\u001b[A"
     ]
    },
    {
     "name": "stdout",
     "output_type": "stream",
     "text": [
      "running the experiment ... [../experiment_results/GymnaxProblem/Pendulum-v1/DiscoveredES/1.json]\n"
     ]
    },
    {
     "name": "stderr",
     "output_type": "stream",
     "text": [
      "\n",
      "Running ES algorithms: 100%|██████████| 1/1 [00:12<00:00, 12.73s/it]\u001b[A\n",
      "\n",
      "Running ES algorithms:   0%|          | 0/1 [00:00<?, ?it/s]\u001b[A"
     ]
    },
    {
     "name": "stdout",
     "output_type": "stream",
     "text": [
      "running the experiment ... [../experiment_results/GymnaxProblem/Pendulum-v1/DiscoveredES/2.json]\n"
     ]
    },
    {
     "name": "stderr",
     "output_type": "stream",
     "text": [
      "\n",
      "Running ES algorithms: 100%|██████████| 1/1 [00:12<00:00, 12.60s/it]\u001b[A\n",
      "\n",
      "Running ES algorithms:   0%|          | 0/1 [00:00<?, ?it/s]\u001b[A"
     ]
    },
    {
     "name": "stdout",
     "output_type": "stream",
     "text": [
      "running the experiment ... [../experiment_results/GymnaxProblem/Pendulum-v1/DiscoveredES/3.json]\n"
     ]
    },
    {
     "name": "stderr",
     "output_type": "stream",
     "text": [
      "\n",
      "Running ES algorithms: 100%|██████████| 1/1 [00:12<00:00, 12.47s/it]\u001b[A\n",
      "\n",
      "Running ES algorithms:   0%|          | 0/1 [00:00<?, ?it/s]\u001b[A"
     ]
    },
    {
     "name": "stdout",
     "output_type": "stream",
     "text": [
      "running the experiment ... [../experiment_results/GymnaxProblem/Pendulum-v1/DiscoveredES/4.json]\n"
     ]
    },
    {
     "name": "stderr",
     "output_type": "stream",
     "text": [
      "\n",
      "Running ES algorithms: 100%|██████████| 1/1 [00:12<00:00, 12.81s/it]\u001b[A\n",
      "\n",
      "Running ES algorithms:   0%|          | 0/1 [00:00<?, ?it/s]\u001b[A"
     ]
    },
    {
     "name": "stdout",
     "output_type": "stream",
     "text": [
      "running the experiment ... [../experiment_results/GymnaxProblem/Pendulum-v1/EvoTF_ES/0.json]\n"
     ]
    },
    {
     "name": "stderr",
     "output_type": "stream",
     "text": [
      "2025-08-08 18:51:43.457882: W external/xla/xla/tsl/framework/bfc_allocator.cc:310] Allocator (GPU_0_bfc) ran out of memory trying to allocate 3.43GiB with freed_by_count=0. The caller indicates that this is not a failure, but this may mean that there could be performance gains if more memory were available.\n",
      "Running ES algorithms:   0%|          | 0/1 [00:01<?, ?it/s]\n",
      "Loading Problems ..:   8%|▊         | 2/24 [11:54<2:00:47, 329.44s/it]"
     ]
    },
    {
     "name": "stdout",
     "output_type": "stream",
     "text": [
      "Failed to load: Pendulum-v1 RESOURCE_EXHAUSTED: Out of memory while trying to allocate 3687612416 bytes.\n",
      "Successfully loaded: Acrobot-v1\n"
     ]
    },
    {
     "name": "stderr",
     "output_type": "stream",
     "text": [
      "\n",
      "Running ES algorithms:   0%|          | 0/1 [00:00<?, ?it/s]\u001b[A"
     ]
    },
    {
     "name": "stdout",
     "output_type": "stream",
     "text": [
      "running the experiment ... [../experiment_results/GymnaxProblem/Acrobot-v1/SimpleES/0.json]\n"
     ]
    },
    {
     "name": "stderr",
     "output_type": "stream",
     "text": [
      "\n",
      "Running ES algorithms: 100%|██████████| 1/1 [00:56<00:00, 56.17s/it]\u001b[A\n",
      "\n",
      "Running ES algorithms:   0%|          | 0/1 [00:00<?, ?it/s]\u001b[A"
     ]
    },
    {
     "name": "stdout",
     "output_type": "stream",
     "text": [
      "running the experiment ... [../experiment_results/GymnaxProblem/Acrobot-v1/SimpleES/1.json]\n"
     ]
    },
    {
     "name": "stderr",
     "output_type": "stream",
     "text": [
      "\n",
      "Running ES algorithms: 100%|██████████| 1/1 [00:52<00:00, 52.01s/it]\u001b[A\n",
      "\n",
      "Running ES algorithms:   0%|          | 0/1 [00:00<?, ?it/s]\u001b[A"
     ]
    },
    {
     "name": "stdout",
     "output_type": "stream",
     "text": [
      "running the experiment ... [../experiment_results/GymnaxProblem/Acrobot-v1/SimpleES/2.json]\n"
     ]
    },
    {
     "name": "stderr",
     "output_type": "stream",
     "text": [
      "\n",
      "Running ES algorithms: 100%|██████████| 1/1 [00:51<00:00, 51.84s/it]\u001b[A\n",
      "\n",
      "Running ES algorithms:   0%|          | 0/1 [00:00<?, ?it/s]\u001b[A"
     ]
    },
    {
     "name": "stdout",
     "output_type": "stream",
     "text": [
      "running the experiment ... [../experiment_results/GymnaxProblem/Acrobot-v1/SimpleES/3.json]\n"
     ]
    },
    {
     "name": "stderr",
     "output_type": "stream",
     "text": [
      "\n",
      "Running ES algorithms: 100%|██████████| 1/1 [00:51<00:00, 51.94s/it]\u001b[A\n",
      "\n",
      "Running ES algorithms:   0%|          | 0/1 [00:00<?, ?it/s]\u001b[A"
     ]
    },
    {
     "name": "stdout",
     "output_type": "stream",
     "text": [
      "running the experiment ... [../experiment_results/GymnaxProblem/Acrobot-v1/SimpleES/4.json]\n"
     ]
    },
    {
     "name": "stderr",
     "output_type": "stream",
     "text": [
      "\n",
      "Running ES algorithms: 100%|██████████| 1/1 [00:52<00:00, 52.03s/it]\u001b[A\n",
      "\n",
      "Running ES algorithms:   0%|          | 0/1 [00:00<?, ?it/s]\u001b[A"
     ]
    },
    {
     "name": "stdout",
     "output_type": "stream",
     "text": [
      "running the experiment ... [../experiment_results/GymnaxProblem/Acrobot-v1/LearnedES/0.json]\n"
     ]
    },
    {
     "name": "stderr",
     "output_type": "stream",
     "text": [
      "\n",
      "Running ES algorithms: 100%|██████████| 1/1 [00:52<00:00, 52.35s/it]\u001b[A\n",
      "\n",
      "Running ES algorithms:   0%|          | 0/1 [00:00<?, ?it/s]\u001b[A"
     ]
    },
    {
     "name": "stdout",
     "output_type": "stream",
     "text": [
      "running the experiment ... [../experiment_results/GymnaxProblem/Acrobot-v1/LearnedES/1.json]\n"
     ]
    },
    {
     "name": "stderr",
     "output_type": "stream",
     "text": [
      "\n",
      "Running ES algorithms: 100%|██████████| 1/1 [00:52<00:00, 52.33s/it]\u001b[A\n",
      "\n",
      "Running ES algorithms:   0%|          | 0/1 [00:00<?, ?it/s]\u001b[A"
     ]
    },
    {
     "name": "stdout",
     "output_type": "stream",
     "text": [
      "running the experiment ... [../experiment_results/GymnaxProblem/Acrobot-v1/LearnedES/2.json]\n"
     ]
    },
    {
     "name": "stderr",
     "output_type": "stream",
     "text": [
      "\n",
      "Running ES algorithms: 100%|██████████| 1/1 [00:51<00:00, 51.99s/it]\u001b[A\n",
      "\n",
      "Running ES algorithms:   0%|          | 0/1 [00:00<?, ?it/s]\u001b[A"
     ]
    },
    {
     "name": "stdout",
     "output_type": "stream",
     "text": [
      "running the experiment ... [../experiment_results/GymnaxProblem/Acrobot-v1/LearnedES/3.json]\n"
     ]
    },
    {
     "name": "stderr",
     "output_type": "stream",
     "text": [
      "\n",
      "Running ES algorithms: 100%|██████████| 1/1 [00:52<00:00, 52.14s/it]\u001b[A\n",
      "\n",
      "Running ES algorithms:   0%|          | 0/1 [00:00<?, ?it/s]\u001b[A"
     ]
    },
    {
     "name": "stdout",
     "output_type": "stream",
     "text": [
      "running the experiment ... [../experiment_results/GymnaxProblem/Acrobot-v1/LearnedES/4.json]\n"
     ]
    },
    {
     "name": "stderr",
     "output_type": "stream",
     "text": [
      "\n",
      "Running ES algorithms: 100%|██████████| 1/1 [00:52<00:00, 52.03s/it]\u001b[A\n",
      "\n",
      "Running ES algorithms:   0%|          | 0/1 [00:00<?, ?it/s]\u001b[A"
     ]
    },
    {
     "name": "stdout",
     "output_type": "stream",
     "text": [
      "running the experiment ... [../experiment_results/GymnaxProblem/Acrobot-v1/DiscoveredES/0.json]\n"
     ]
    },
    {
     "name": "stderr",
     "output_type": "stream",
     "text": [
      "\n",
      "Running ES algorithms: 100%|██████████| 1/1 [00:51<00:00, 51.72s/it]\u001b[A\n",
      "\n",
      "Running ES algorithms:   0%|          | 0/1 [00:00<?, ?it/s]\u001b[A"
     ]
    },
    {
     "name": "stdout",
     "output_type": "stream",
     "text": [
      "running the experiment ... [../experiment_results/GymnaxProblem/Acrobot-v1/DiscoveredES/1.json]\n"
     ]
    },
    {
     "name": "stderr",
     "output_type": "stream",
     "text": [
      "\n",
      "Running ES algorithms: 100%|██████████| 1/1 [00:51<00:00, 52.00s/it]\u001b[A\n",
      "\n",
      "Running ES algorithms:   0%|          | 0/1 [00:00<?, ?it/s]\u001b[A"
     ]
    },
    {
     "name": "stdout",
     "output_type": "stream",
     "text": [
      "running the experiment ... [../experiment_results/GymnaxProblem/Acrobot-v1/DiscoveredES/2.json]\n"
     ]
    },
    {
     "name": "stderr",
     "output_type": "stream",
     "text": [
      "\n",
      "Running ES algorithms: 100%|██████████| 1/1 [00:51<00:00, 51.91s/it]\u001b[A\n",
      "\n",
      "Running ES algorithms:   0%|          | 0/1 [00:00<?, ?it/s]\u001b[A"
     ]
    },
    {
     "name": "stdout",
     "output_type": "stream",
     "text": [
      "running the experiment ... [../experiment_results/GymnaxProblem/Acrobot-v1/DiscoveredES/3.json]\n"
     ]
    },
    {
     "name": "stderr",
     "output_type": "stream",
     "text": [
      "\n",
      "Running ES algorithms: 100%|██████████| 1/1 [00:51<00:00, 51.87s/it]\u001b[A\n",
      "\n",
      "Running ES algorithms:   0%|          | 0/1 [00:00<?, ?it/s]\u001b[A"
     ]
    },
    {
     "name": "stdout",
     "output_type": "stream",
     "text": [
      "running the experiment ... [../experiment_results/GymnaxProblem/Acrobot-v1/DiscoveredES/4.json]\n"
     ]
    },
    {
     "name": "stderr",
     "output_type": "stream",
     "text": [
      "\n",
      "Running ES algorithms: 100%|██████████| 1/1 [00:51<00:00, 51.82s/it]\u001b[A\n",
      "\n",
      "Running ES algorithms:   0%|          | 0/1 [00:00<?, ?it/s]\u001b[A"
     ]
    },
    {
     "name": "stdout",
     "output_type": "stream",
     "text": [
      "running the experiment ... [../experiment_results/GymnaxProblem/Acrobot-v1/EvoTF_ES/0.json]\n"
     ]
    },
    {
     "name": "stderr",
     "output_type": "stream",
     "text": [
      "2025-08-08 19:04:55.052022: W external/xla/xla/tsl/framework/bfc_allocator.cc:310] Allocator (GPU_0_bfc) ran out of memory trying to allocate 3.68GiB with freed_by_count=0. The caller indicates that this is not a failure, but this may mean that there could be performance gains if more memory were available.\n",
      "Running ES algorithms:   0%|          | 0/1 [00:01<?, ?it/s]\n",
      "Loading Problems ..:  12%|█▎        | 3/24 [25:05<3:09:09, 540.47s/it]"
     ]
    },
    {
     "name": "stdout",
     "output_type": "stream",
     "text": [
      "Failed to load: Acrobot-v1 RESOURCE_EXHAUSTED: Out of memory while trying to allocate 3951394816 bytes.\n",
      "Successfully loaded: MountainCar-v0\n"
     ]
    },
    {
     "name": "stderr",
     "output_type": "stream",
     "text": [
      "\n",
      "Running ES algorithms:   0%|          | 0/1 [00:00<?, ?it/s]\u001b[A"
     ]
    },
    {
     "name": "stdout",
     "output_type": "stream",
     "text": [
      "running the experiment ... [../experiment_results/GymnaxProblem/MountainCar-v0/SimpleES/0.json]\n"
     ]
    },
    {
     "name": "stderr",
     "output_type": "stream",
     "text": [
      "\n",
      "Running ES algorithms: 100%|██████████| 1/1 [00:14<00:00, 14.18s/it]\u001b[A\n",
      "\n",
      "Running ES algorithms:   0%|          | 0/1 [00:00<?, ?it/s]\u001b[A"
     ]
    },
    {
     "name": "stdout",
     "output_type": "stream",
     "text": [
      "running the experiment ... [../experiment_results/GymnaxProblem/MountainCar-v0/SimpleES/1.json]\n"
     ]
    },
    {
     "name": "stderr",
     "output_type": "stream",
     "text": [
      "\n",
      "Running ES algorithms: 100%|██████████| 1/1 [00:11<00:00, 11.85s/it]\u001b[A\n",
      "\n",
      "Running ES algorithms:   0%|          | 0/1 [00:00<?, ?it/s]\u001b[A"
     ]
    },
    {
     "name": "stdout",
     "output_type": "stream",
     "text": [
      "running the experiment ... [../experiment_results/GymnaxProblem/MountainCar-v0/SimpleES/2.json]\n"
     ]
    },
    {
     "name": "stderr",
     "output_type": "stream",
     "text": [
      "\n",
      "Running ES algorithms: 100%|██████████| 1/1 [00:11<00:00, 11.67s/it]\u001b[A\n",
      "\n",
      "Running ES algorithms:   0%|          | 0/1 [00:00<?, ?it/s]\u001b[A"
     ]
    },
    {
     "name": "stdout",
     "output_type": "stream",
     "text": [
      "running the experiment ... [../experiment_results/GymnaxProblem/MountainCar-v0/SimpleES/3.json]\n"
     ]
    },
    {
     "name": "stderr",
     "output_type": "stream",
     "text": [
      "\n",
      "Running ES algorithms: 100%|██████████| 1/1 [00:11<00:00, 11.62s/it]\u001b[A\n",
      "\n",
      "Running ES algorithms:   0%|          | 0/1 [00:00<?, ?it/s]\u001b[A"
     ]
    },
    {
     "name": "stdout",
     "output_type": "stream",
     "text": [
      "running the experiment ... [../experiment_results/GymnaxProblem/MountainCar-v0/SimpleES/4.json]\n"
     ]
    },
    {
     "name": "stderr",
     "output_type": "stream",
     "text": [
      "\n",
      "Running ES algorithms: 100%|██████████| 1/1 [00:11<00:00, 11.48s/it]\u001b[A\n",
      "\n",
      "Running ES algorithms:   0%|          | 0/1 [00:00<?, ?it/s]\u001b[A"
     ]
    },
    {
     "name": "stdout",
     "output_type": "stream",
     "text": [
      "running the experiment ... [../experiment_results/GymnaxProblem/MountainCar-v0/LearnedES/0.json]\n"
     ]
    },
    {
     "name": "stderr",
     "output_type": "stream",
     "text": [
      "\n",
      "Running ES algorithms: 100%|██████████| 1/1 [00:11<00:00, 11.46s/it]\u001b[A\n",
      "\n",
      "Running ES algorithms:   0%|          | 0/1 [00:00<?, ?it/s]\u001b[A"
     ]
    },
    {
     "name": "stdout",
     "output_type": "stream",
     "text": [
      "running the experiment ... [../experiment_results/GymnaxProblem/MountainCar-v0/LearnedES/1.json]\n"
     ]
    },
    {
     "name": "stderr",
     "output_type": "stream",
     "text": [
      "\n",
      "Running ES algorithms: 100%|██████████| 1/1 [00:11<00:00, 11.73s/it]\u001b[A\n",
      "\n",
      "Running ES algorithms:   0%|          | 0/1 [00:00<?, ?it/s]\u001b[A"
     ]
    },
    {
     "name": "stdout",
     "output_type": "stream",
     "text": [
      "running the experiment ... [../experiment_results/GymnaxProblem/MountainCar-v0/LearnedES/2.json]\n"
     ]
    },
    {
     "name": "stderr",
     "output_type": "stream",
     "text": [
      "\n",
      "Running ES algorithms: 100%|██████████| 1/1 [00:11<00:00, 11.44s/it]\u001b[A\n",
      "\n",
      "Running ES algorithms:   0%|          | 0/1 [00:00<?, ?it/s]\u001b[A"
     ]
    },
    {
     "name": "stdout",
     "output_type": "stream",
     "text": [
      "running the experiment ... [../experiment_results/GymnaxProblem/MountainCar-v0/LearnedES/3.json]\n"
     ]
    },
    {
     "name": "stderr",
     "output_type": "stream",
     "text": [
      "\n",
      "Running ES algorithms: 100%|██████████| 1/1 [00:11<00:00, 11.93s/it]\u001b[A\n",
      "\n",
      "Running ES algorithms:   0%|          | 0/1 [00:00<?, ?it/s]\u001b[A"
     ]
    },
    {
     "name": "stdout",
     "output_type": "stream",
     "text": [
      "running the experiment ... [../experiment_results/GymnaxProblem/MountainCar-v0/LearnedES/4.json]\n"
     ]
    },
    {
     "name": "stderr",
     "output_type": "stream",
     "text": [
      "\n",
      "Running ES algorithms: 100%|██████████| 1/1 [00:12<00:00, 12.05s/it]\u001b[A\n",
      "\n",
      "Running ES algorithms:   0%|          | 0/1 [00:00<?, ?it/s]\u001b[A"
     ]
    },
    {
     "name": "stdout",
     "output_type": "stream",
     "text": [
      "running the experiment ... [../experiment_results/GymnaxProblem/MountainCar-v0/DiscoveredES/0.json]\n"
     ]
    },
    {
     "name": "stderr",
     "output_type": "stream",
     "text": [
      "\n",
      "Running ES algorithms: 100%|██████████| 1/1 [00:11<00:00, 11.63s/it]\u001b[A\n",
      "\n",
      "Running ES algorithms:   0%|          | 0/1 [00:00<?, ?it/s]\u001b[A"
     ]
    },
    {
     "name": "stdout",
     "output_type": "stream",
     "text": [
      "running the experiment ... [../experiment_results/GymnaxProblem/MountainCar-v0/DiscoveredES/1.json]\n"
     ]
    },
    {
     "name": "stderr",
     "output_type": "stream",
     "text": [
      "\n",
      "Running ES algorithms: 100%|██████████| 1/1 [00:11<00:00, 11.49s/it]\u001b[A\n",
      "\n",
      "Running ES algorithms:   0%|          | 0/1 [00:00<?, ?it/s]\u001b[A"
     ]
    },
    {
     "name": "stdout",
     "output_type": "stream",
     "text": [
      "running the experiment ... [../experiment_results/GymnaxProblem/MountainCar-v0/DiscoveredES/2.json]\n"
     ]
    },
    {
     "name": "stderr",
     "output_type": "stream",
     "text": [
      "\n",
      "Running ES algorithms: 100%|██████████| 1/1 [00:11<00:00, 11.35s/it]\u001b[A\n",
      "\n",
      "Running ES algorithms:   0%|          | 0/1 [00:00<?, ?it/s]\u001b[A"
     ]
    },
    {
     "name": "stdout",
     "output_type": "stream",
     "text": [
      "running the experiment ... [../experiment_results/GymnaxProblem/MountainCar-v0/DiscoveredES/3.json]\n"
     ]
    },
    {
     "name": "stderr",
     "output_type": "stream",
     "text": [
      "\n",
      "Running ES algorithms: 100%|██████████| 1/1 [00:11<00:00, 11.86s/it]\u001b[A\n",
      "\n",
      "Running ES algorithms:   0%|          | 0/1 [00:00<?, ?it/s]\u001b[A"
     ]
    },
    {
     "name": "stdout",
     "output_type": "stream",
     "text": [
      "running the experiment ... [../experiment_results/GymnaxProblem/MountainCar-v0/DiscoveredES/4.json]\n"
     ]
    },
    {
     "name": "stderr",
     "output_type": "stream",
     "text": [
      "\n",
      "Running ES algorithms: 100%|██████████| 1/1 [00:11<00:00, 11.93s/it]\u001b[A\n",
      "\n",
      "Running ES algorithms:   0%|          | 0/1 [00:00<?, ?it/s]\u001b[A"
     ]
    },
    {
     "name": "stdout",
     "output_type": "stream",
     "text": [
      "running the experiment ... [../experiment_results/GymnaxProblem/MountainCar-v0/EvoTF_ES/0.json]\n"
     ]
    },
    {
     "name": "stderr",
     "output_type": "stream",
     "text": [
      "2025-08-08 19:07:56.800374: W external/xla/xla/tsl/framework/bfc_allocator.cc:310] Allocator (GPU_0_bfc) ran out of memory trying to allocate 3.48GiB with freed_by_count=0. The caller indicates that this is not a failure, but this may mean that there could be performance gains if more memory were available.\n",
      "Running ES algorithms:   0%|          | 0/1 [00:01<?, ?it/s]\n",
      "Loading Problems ..:  17%|█▋        | 4/24 [28:07<2:12:57, 398.85s/it]"
     ]
    },
    {
     "name": "stdout",
     "output_type": "stream",
     "text": [
      "Failed to load: MountainCar-v0 RESOURCE_EXHAUSTED: Out of memory while trying to allocate 3741679616 bytes.\n",
      "Successfully loaded: MountainCarContinuous-v0\n"
     ]
    },
    {
     "name": "stderr",
     "output_type": "stream",
     "text": [
      "\n",
      "Running ES algorithms:   0%|          | 0/1 [00:00<?, ?it/s]\u001b[A"
     ]
    },
    {
     "name": "stdout",
     "output_type": "stream",
     "text": [
      "running the experiment ... [../experiment_results/GymnaxProblem/MountainCarContinuous-v0/SimpleES/0.json]\n"
     ]
    },
    {
     "name": "stderr",
     "output_type": "stream",
     "text": [
      "\n",
      "Running ES algorithms: 100%|██████████| 1/1 [00:34<00:00, 34.18s/it]\u001b[A\n",
      "\n",
      "Running ES algorithms:   0%|          | 0/1 [00:00<?, ?it/s]\u001b[A"
     ]
    },
    {
     "name": "stdout",
     "output_type": "stream",
     "text": [
      "running the experiment ... [../experiment_results/GymnaxProblem/MountainCarContinuous-v0/SimpleES/1.json]\n"
     ]
    },
    {
     "name": "stderr",
     "output_type": "stream",
     "text": [
      "\n",
      "Running ES algorithms: 100%|██████████| 1/1 [00:30<00:00, 30.59s/it]\u001b[A\n",
      "\n",
      "Running ES algorithms:   0%|          | 0/1 [00:00<?, ?it/s]\u001b[A"
     ]
    },
    {
     "name": "stdout",
     "output_type": "stream",
     "text": [
      "running the experiment ... [../experiment_results/GymnaxProblem/MountainCarContinuous-v0/SimpleES/2.json]\n"
     ]
    },
    {
     "name": "stderr",
     "output_type": "stream",
     "text": [
      "\n",
      "Running ES algorithms: 100%|██████████| 1/1 [00:30<00:00, 30.15s/it]\u001b[A\n",
      "\n",
      "Running ES algorithms:   0%|          | 0/1 [00:00<?, ?it/s]\u001b[A"
     ]
    },
    {
     "name": "stdout",
     "output_type": "stream",
     "text": [
      "running the experiment ... [../experiment_results/GymnaxProblem/MountainCarContinuous-v0/SimpleES/3.json]\n"
     ]
    },
    {
     "name": "stderr",
     "output_type": "stream",
     "text": [
      "\n",
      "Running ES algorithms: 100%|██████████| 1/1 [00:30<00:00, 30.17s/it]\u001b[A\n",
      "\n",
      "Running ES algorithms:   0%|          | 0/1 [00:00<?, ?it/s]\u001b[A"
     ]
    },
    {
     "name": "stdout",
     "output_type": "stream",
     "text": [
      "running the experiment ... [../experiment_results/GymnaxProblem/MountainCarContinuous-v0/SimpleES/4.json]\n"
     ]
    },
    {
     "name": "stderr",
     "output_type": "stream",
     "text": [
      "\n",
      "Running ES algorithms: 100%|██████████| 1/1 [00:30<00:00, 30.93s/it]\u001b[A\n",
      "\n",
      "Running ES algorithms:   0%|          | 0/1 [00:00<?, ?it/s]\u001b[A"
     ]
    },
    {
     "name": "stdout",
     "output_type": "stream",
     "text": [
      "running the experiment ... [../experiment_results/GymnaxProblem/MountainCarContinuous-v0/LearnedES/0.json]\n"
     ]
    },
    {
     "name": "stderr",
     "output_type": "stream",
     "text": [
      "\n",
      "Running ES algorithms: 100%|██████████| 1/1 [00:30<00:00, 30.21s/it]\u001b[A\n",
      "\n",
      "Running ES algorithms:   0%|          | 0/1 [00:00<?, ?it/s]\u001b[A"
     ]
    },
    {
     "name": "stdout",
     "output_type": "stream",
     "text": [
      "running the experiment ... [../experiment_results/GymnaxProblem/MountainCarContinuous-v0/LearnedES/1.json]\n"
     ]
    },
    {
     "name": "stderr",
     "output_type": "stream",
     "text": [
      "\n",
      "Running ES algorithms: 100%|██████████| 1/1 [00:31<00:00, 31.76s/it]\u001b[A\n",
      "\n",
      "Running ES algorithms:   0%|          | 0/1 [00:00<?, ?it/s]\u001b[A"
     ]
    },
    {
     "name": "stdout",
     "output_type": "stream",
     "text": [
      "running the experiment ... [../experiment_results/GymnaxProblem/MountainCarContinuous-v0/LearnedES/2.json]\n"
     ]
    },
    {
     "name": "stderr",
     "output_type": "stream",
     "text": [
      "\n",
      "Running ES algorithms: 100%|██████████| 1/1 [00:30<00:00, 30.35s/it]\u001b[A\n",
      "\n",
      "Running ES algorithms:   0%|          | 0/1 [00:00<?, ?it/s]\u001b[A"
     ]
    },
    {
     "name": "stdout",
     "output_type": "stream",
     "text": [
      "running the experiment ... [../experiment_results/GymnaxProblem/MountainCarContinuous-v0/LearnedES/3.json]\n"
     ]
    },
    {
     "name": "stderr",
     "output_type": "stream",
     "text": [
      "\n",
      "Running ES algorithms: 100%|██████████| 1/1 [00:31<00:00, 31.32s/it]\u001b[A\n",
      "\n",
      "Running ES algorithms:   0%|          | 0/1 [00:00<?, ?it/s]\u001b[A"
     ]
    },
    {
     "name": "stdout",
     "output_type": "stream",
     "text": [
      "running the experiment ... [../experiment_results/GymnaxProblem/MountainCarContinuous-v0/LearnedES/4.json]\n"
     ]
    },
    {
     "name": "stderr",
     "output_type": "stream",
     "text": [
      "\n",
      "Running ES algorithms: 100%|██████████| 1/1 [00:31<00:00, 31.07s/it]\u001b[A\n",
      "\n",
      "Running ES algorithms:   0%|          | 0/1 [00:00<?, ?it/s]\u001b[A"
     ]
    },
    {
     "name": "stdout",
     "output_type": "stream",
     "text": [
      "running the experiment ... [../experiment_results/GymnaxProblem/MountainCarContinuous-v0/DiscoveredES/0.json]\n"
     ]
    },
    {
     "name": "stderr",
     "output_type": "stream",
     "text": [
      "\n",
      "Running ES algorithms: 100%|██████████| 1/1 [00:30<00:00, 30.63s/it]\u001b[A\n",
      "\n",
      "Running ES algorithms:   0%|          | 0/1 [00:00<?, ?it/s]\u001b[A"
     ]
    },
    {
     "name": "stdout",
     "output_type": "stream",
     "text": [
      "running the experiment ... [../experiment_results/GymnaxProblem/MountainCarContinuous-v0/DiscoveredES/1.json]\n"
     ]
    },
    {
     "name": "stderr",
     "output_type": "stream",
     "text": [
      "\n",
      "Running ES algorithms: 100%|██████████| 1/1 [00:29<00:00, 29.78s/it]\u001b[A\n",
      "\n",
      "Running ES algorithms:   0%|          | 0/1 [00:00<?, ?it/s]\u001b[A"
     ]
    },
    {
     "name": "stdout",
     "output_type": "stream",
     "text": [
      "running the experiment ... [../experiment_results/GymnaxProblem/MountainCarContinuous-v0/DiscoveredES/2.json]\n"
     ]
    },
    {
     "name": "stderr",
     "output_type": "stream",
     "text": [
      "\n",
      "Running ES algorithms: 100%|██████████| 1/1 [00:29<00:00, 29.14s/it]\u001b[A\n",
      "\n",
      "Running ES algorithms:   0%|          | 0/1 [00:00<?, ?it/s]\u001b[A"
     ]
    },
    {
     "name": "stdout",
     "output_type": "stream",
     "text": [
      "running the experiment ... [../experiment_results/GymnaxProblem/MountainCarContinuous-v0/DiscoveredES/3.json]\n"
     ]
    },
    {
     "name": "stderr",
     "output_type": "stream",
     "text": [
      "\n",
      "Running ES algorithms: 100%|██████████| 1/1 [00:28<00:00, 28.87s/it]\u001b[A\n",
      "\n",
      "Running ES algorithms:   0%|          | 0/1 [00:00<?, ?it/s]\u001b[A"
     ]
    },
    {
     "name": "stdout",
     "output_type": "stream",
     "text": [
      "running the experiment ... [../experiment_results/GymnaxProblem/MountainCarContinuous-v0/DiscoveredES/4.json]\n"
     ]
    },
    {
     "name": "stderr",
     "output_type": "stream",
     "text": [
      "\n",
      "Running ES algorithms: 100%|██████████| 1/1 [00:29<00:00, 29.46s/it]\u001b[A\n",
      "\n",
      "Running ES algorithms:   0%|          | 0/1 [00:00<?, ?it/s]\u001b[A"
     ]
    },
    {
     "name": "stdout",
     "output_type": "stream",
     "text": [
      "running the experiment ... [../experiment_results/GymnaxProblem/MountainCarContinuous-v0/EvoTF_ES/0.json]\n"
     ]
    },
    {
     "name": "stderr",
     "output_type": "stream",
     "text": [
      "2025-08-08 19:15:39.177483: W external/xla/xla/tsl/framework/bfc_allocator.cc:310] Allocator (GPU_0_bfc) ran out of memory trying to allocate 3.38GiB with freed_by_count=0. The caller indicates that this is not a failure, but this may mean that there could be performance gains if more memory were available.\n",
      "Running ES algorithms:   0%|          | 0/1 [00:01<?, ?it/s]\n",
      "Loading Problems ..:  21%|██        | 5/24 [35:49<2:13:33, 421.76s/it]/home/ronedr/.local/lib/python3.11/site-packages/jax/_src/ops/scatter.py:93: FutureWarning: scatter inputs have incompatible types: cannot safely cast value from dtype=int32 to dtype=bool with jax_numpy_dtype_promotion='standard'. In future JAX releases this will result in an error.\n",
      "  warnings.warn(\n"
     ]
    },
    {
     "name": "stdout",
     "output_type": "stream",
     "text": [
      "Failed to load: MountainCarContinuous-v0 RESOURCE_EXHAUSTED: Out of memory while trying to allocate 3635183616 bytes.\n"
     ]
    },
    {
     "name": "stderr",
     "output_type": "stream",
     "text": [
      "Loading Problems ..:  25%|██▌       | 6/24 [35:51<1:23:41, 278.96s/it]"
     ]
    },
    {
     "name": "stdout",
     "output_type": "stream",
     "text": [
      "Failed to load: Asterix-MinAtar Incompatible shapes for broadcasting: shapes=[(5,), (10, 10)]\n"
     ]
    },
    {
     "name": "stderr",
     "output_type": "stream",
     "text": [
      "/home/ronedr/.local/lib/python3.11/site-packages/jax/_src/ops/scatter.py:93: FutureWarning: scatter inputs have incompatible types: cannot safely cast value from dtype=float32 to dtype=bool with jax_numpy_dtype_promotion='standard'. In future JAX releases this will result in an error.\n",
      "  warnings.warn(\n",
      "Loading Problems ..:  29%|██▉       | 7/24 [35:52<53:17, 188.10s/it]  "
     ]
    },
    {
     "name": "stdout",
     "output_type": "stream",
     "text": [
      "Failed to load: Breakout-MinAtar select `which` must be scalar or have the same shape as cases, got `which` shape (10, 10) but case shape ().\n"
     ]
    },
    {
     "name": "stderr",
     "output_type": "stream",
     "text": [
      "/home/ronedr/.local/lib/python3.11/site-packages/gymnax/environments/minatar/freeway.py:278: UserWarning: Explicitly requested dtype <class 'jax.numpy.int64'> requested in array is not available, and will be truncated to dtype int32. To enable more dtypes, set the jax_enable_x64 configuration option or the JAX_ENABLE_X64 shell environment variable. See https://github.com/jax-ml/jax#current-gotchas for more.\n",
      "  return jnp.array(cars, dtype=jnp.int_)\n",
      "Loading Problems ..:  33%|███▎      | 8/24 [35:58<34:39, 130.00s/it]"
     ]
    },
    {
     "name": "stdout",
     "output_type": "stream",
     "text": [
      "Failed to load: Freeway-MinAtar select `which` must be scalar or have the same shape as cases, got `which` shape (10, 10) but case shape ().\n"
     ]
    },
    {
     "name": "stderr",
     "output_type": "stream",
     "text": [
      "Loading Problems ..:  38%|███▊      | 9/24 [35:59<22:24, 89.65s/it] "
     ]
    },
    {
     "name": "stdout",
     "output_type": "stream",
     "text": [
      "Failed to load: SpaceInvaders-MinAtar select `which` must be scalar or have the same shape as cases, got `which` shape (10, 10) but case shape ().\n"
     ]
    },
    {
     "name": "stderr",
     "output_type": "stream",
     "text": [
      "Loading Problems ..:  42%|████▏     | 10/24 [36:00<14:33, 62.42s/it]"
     ]
    },
    {
     "name": "stdout",
     "output_type": "stream",
     "text": [
      "Failed to load: Catch-bsuite select cases must have the same shapes, got [(10,), ()].\n"
     ]
    },
    {
     "name": "stderr",
     "output_type": "stream",
     "text": [
      "Loading Problems ..:  46%|████▌     | 11/24 [36:01<09:27, 43.68s/it]"
     ]
    },
    {
     "name": "stdout",
     "output_type": "stream",
     "text": [
      "Failed to load: DeepSea-bsuite select `which` must be scalar or have the same shape as cases, got `which` shape (8,) but case shape ().\n",
      "Successfully loaded: MemoryChain-bsuite\n"
     ]
    },
    {
     "name": "stderr",
     "output_type": "stream",
     "text": [
      "\n",
      "Running ES algorithms:   0%|          | 0/1 [00:00<?, ?it/s]\u001b[A"
     ]
    },
    {
     "name": "stdout",
     "output_type": "stream",
     "text": [
      "running the experiment ... [../experiment_results/GymnaxProblem/MemoryChain-bsuite/SimpleES/0.json]\n"
     ]
    },
    {
     "name": "stderr",
     "output_type": "stream",
     "text": [
      "\n",
      "Running ES algorithms: 100%|██████████| 1/1 [01:02<00:00, 62.77s/it]\u001b[A\n",
      "\n",
      "Running ES algorithms:   0%|          | 0/1 [00:00<?, ?it/s]\u001b[A"
     ]
    },
    {
     "name": "stdout",
     "output_type": "stream",
     "text": [
      "running the experiment ... [../experiment_results/GymnaxProblem/MemoryChain-bsuite/SimpleES/1.json]\n"
     ]
    },
    {
     "name": "stderr",
     "output_type": "stream",
     "text": [
      "\n",
      "Running ES algorithms: 100%|██████████| 1/1 [01:00<00:00, 60.40s/it]\u001b[A\n",
      "\n",
      "Running ES algorithms:   0%|          | 0/1 [00:00<?, ?it/s]\u001b[A"
     ]
    },
    {
     "name": "stdout",
     "output_type": "stream",
     "text": [
      "running the experiment ... [../experiment_results/GymnaxProblem/MemoryChain-bsuite/SimpleES/2.json]\n"
     ]
    },
    {
     "name": "stderr",
     "output_type": "stream",
     "text": [
      "\n",
      "Running ES algorithms: 100%|██████████| 1/1 [00:59<00:00, 59.97s/it]\u001b[A\n",
      "\n",
      "Running ES algorithms:   0%|          | 0/1 [00:00<?, ?it/s]\u001b[A"
     ]
    },
    {
     "name": "stdout",
     "output_type": "stream",
     "text": [
      "running the experiment ... [../experiment_results/GymnaxProblem/MemoryChain-bsuite/SimpleES/3.json]\n"
     ]
    },
    {
     "name": "stderr",
     "output_type": "stream",
     "text": [
      "\n",
      "Running ES algorithms: 100%|██████████| 1/1 [00:59<00:00, 59.66s/it]\u001b[A\n",
      "\n",
      "Running ES algorithms:   0%|          | 0/1 [00:00<?, ?it/s]\u001b[A"
     ]
    },
    {
     "name": "stdout",
     "output_type": "stream",
     "text": [
      "running the experiment ... [../experiment_results/GymnaxProblem/MemoryChain-bsuite/SimpleES/4.json]\n"
     ]
    },
    {
     "name": "stderr",
     "output_type": "stream",
     "text": [
      "\n",
      "Running ES algorithms: 100%|██████████| 1/1 [01:00<00:00, 60.65s/it]\u001b[A\n",
      "\n",
      "Running ES algorithms:   0%|          | 0/1 [00:00<?, ?it/s]\u001b[A"
     ]
    },
    {
     "name": "stdout",
     "output_type": "stream",
     "text": [
      "running the experiment ... [../experiment_results/GymnaxProblem/MemoryChain-bsuite/LearnedES/0.json]\n"
     ]
    },
    {
     "name": "stderr",
     "output_type": "stream",
     "text": [
      "\n",
      "Running ES algorithms: 100%|██████████| 1/1 [00:59<00:00, 60.00s/it]\u001b[A\n",
      "\n",
      "Running ES algorithms:   0%|          | 0/1 [00:00<?, ?it/s]\u001b[A"
     ]
    },
    {
     "name": "stdout",
     "output_type": "stream",
     "text": [
      "running the experiment ... [../experiment_results/GymnaxProblem/MemoryChain-bsuite/LearnedES/1.json]\n"
     ]
    },
    {
     "name": "stderr",
     "output_type": "stream",
     "text": [
      "\n",
      "Running ES algorithms: 100%|██████████| 1/1 [00:59<00:00, 59.95s/it]\u001b[A\n",
      "\n",
      "Running ES algorithms:   0%|          | 0/1 [00:00<?, ?it/s]\u001b[A"
     ]
    },
    {
     "name": "stdout",
     "output_type": "stream",
     "text": [
      "running the experiment ... [../experiment_results/GymnaxProblem/MemoryChain-bsuite/LearnedES/2.json]\n"
     ]
    },
    {
     "name": "stderr",
     "output_type": "stream",
     "text": [
      "\n",
      "Running ES algorithms: 100%|██████████| 1/1 [01:00<00:00, 60.28s/it]\u001b[A\n",
      "\n",
      "Running ES algorithms:   0%|          | 0/1 [00:00<?, ?it/s]\u001b[A"
     ]
    },
    {
     "name": "stdout",
     "output_type": "stream",
     "text": [
      "running the experiment ... [../experiment_results/GymnaxProblem/MemoryChain-bsuite/LearnedES/3.json]\n"
     ]
    },
    {
     "name": "stderr",
     "output_type": "stream",
     "text": [
      "\n",
      "Running ES algorithms: 100%|██████████| 1/1 [00:59<00:00, 59.94s/it]\u001b[A\n",
      "\n",
      "Running ES algorithms:   0%|          | 0/1 [00:00<?, ?it/s]\u001b[A"
     ]
    },
    {
     "name": "stdout",
     "output_type": "stream",
     "text": [
      "running the experiment ... [../experiment_results/GymnaxProblem/MemoryChain-bsuite/LearnedES/4.json]\n"
     ]
    },
    {
     "name": "stderr",
     "output_type": "stream",
     "text": [
      "\n",
      "Running ES algorithms: 100%|██████████| 1/1 [00:59<00:00, 59.85s/it]\u001b[A\n",
      "\n",
      "Running ES algorithms:   0%|          | 0/1 [00:00<?, ?it/s]\u001b[A"
     ]
    },
    {
     "name": "stdout",
     "output_type": "stream",
     "text": [
      "running the experiment ... [../experiment_results/GymnaxProblem/MemoryChain-bsuite/DiscoveredES/0.json]\n"
     ]
    },
    {
     "name": "stderr",
     "output_type": "stream",
     "text": [
      "\n",
      "Running ES algorithms: 100%|██████████| 1/1 [00:59<00:00, 59.68s/it]\u001b[A\n",
      "\n",
      "Running ES algorithms:   0%|          | 0/1 [00:00<?, ?it/s]\u001b[A"
     ]
    },
    {
     "name": "stdout",
     "output_type": "stream",
     "text": [
      "running the experiment ... [../experiment_results/GymnaxProblem/MemoryChain-bsuite/DiscoveredES/1.json]\n"
     ]
    },
    {
     "name": "stderr",
     "output_type": "stream",
     "text": [
      "\n",
      "Running ES algorithms: 100%|██████████| 1/1 [00:59<00:00, 59.79s/it]\u001b[A\n",
      "\n",
      "Running ES algorithms:   0%|          | 0/1 [00:00<?, ?it/s]\u001b[A"
     ]
    },
    {
     "name": "stdout",
     "output_type": "stream",
     "text": [
      "running the experiment ... [../experiment_results/GymnaxProblem/MemoryChain-bsuite/DiscoveredES/2.json]\n"
     ]
    },
    {
     "name": "stderr",
     "output_type": "stream",
     "text": [
      "\n",
      "Running ES algorithms: 100%|██████████| 1/1 [00:59<00:00, 59.55s/it]\u001b[A\n",
      "\n",
      "Running ES algorithms:   0%|          | 0/1 [00:00<?, ?it/s]\u001b[A"
     ]
    },
    {
     "name": "stdout",
     "output_type": "stream",
     "text": [
      "running the experiment ... [../experiment_results/GymnaxProblem/MemoryChain-bsuite/DiscoveredES/3.json]\n"
     ]
    },
    {
     "name": "stderr",
     "output_type": "stream",
     "text": [
      "\n",
      "Running ES algorithms: 100%|██████████| 1/1 [00:59<00:00, 59.10s/it]\u001b[A\n",
      "\n",
      "Running ES algorithms:   0%|          | 0/1 [00:00<?, ?it/s]\u001b[A"
     ]
    },
    {
     "name": "stdout",
     "output_type": "stream",
     "text": [
      "running the experiment ... [../experiment_results/GymnaxProblem/MemoryChain-bsuite/DiscoveredES/4.json]\n"
     ]
    },
    {
     "name": "stderr",
     "output_type": "stream",
     "text": [
      "\n",
      "Running ES algorithms: 100%|██████████| 1/1 [01:00<00:00, 60.53s/it]\u001b[A\n",
      "\n",
      "Running ES algorithms:   0%|          | 0/1 [00:00<?, ?it/s]\u001b[A"
     ]
    },
    {
     "name": "stdout",
     "output_type": "stream",
     "text": [
      "running the experiment ... [../experiment_results/GymnaxProblem/MemoryChain-bsuite/EvoTF_ES/0.json]\n"
     ]
    },
    {
     "name": "stderr",
     "output_type": "stream",
     "text": [
      "2025-08-08 19:30:57.747925: W external/xla/xla/tsl/framework/bfc_allocator.cc:310] Allocator (GPU_0_bfc) ran out of memory trying to allocate 3.48GiB with freed_by_count=0. The caller indicates that this is not a failure, but this may mean that there could be performance gains if more memory were available.\n",
      "Running ES algorithms:   0%|          | 0/1 [00:01<?, ?it/s]\n",
      "Loading Problems ..:  50%|█████     | 12/24 [51:08<1:01:14, 306.20s/it]"
     ]
    },
    {
     "name": "stdout",
     "output_type": "stream",
     "text": [
      "Failed to load: MemoryChain-bsuite RESOURCE_EXHAUSTED: Out of memory while trying to allocate 3740860416 bytes.\n",
      "Successfully loaded: UmbrellaChain-bsuite\n"
     ]
    },
    {
     "name": "stderr",
     "output_type": "stream",
     "text": [
      "\n",
      "Running ES algorithms:   0%|          | 0/1 [00:00<?, ?it/s]\u001b[A"
     ]
    },
    {
     "name": "stdout",
     "output_type": "stream",
     "text": [
      "running the experiment ... [../experiment_results/GymnaxProblem/UmbrellaChain-bsuite/SimpleES/0.json]\n"
     ]
    },
    {
     "name": "stderr",
     "output_type": "stream",
     "text": [
      "\n",
      "Running ES algorithms: 100%|██████████| 1/1 [00:14<00:00, 14.23s/it]\u001b[A\n",
      "\n",
      "Running ES algorithms:   0%|          | 0/1 [00:00<?, ?it/s]\u001b[A"
     ]
    },
    {
     "name": "stdout",
     "output_type": "stream",
     "text": [
      "running the experiment ... [../experiment_results/GymnaxProblem/UmbrellaChain-bsuite/SimpleES/1.json]\n"
     ]
    },
    {
     "name": "stderr",
     "output_type": "stream",
     "text": [
      "\n",
      "Running ES algorithms: 100%|██████████| 1/1 [00:10<00:00, 10.76s/it]\u001b[A\n",
      "\n",
      "Running ES algorithms:   0%|          | 0/1 [00:00<?, ?it/s]\u001b[A"
     ]
    },
    {
     "name": "stdout",
     "output_type": "stream",
     "text": [
      "running the experiment ... [../experiment_results/GymnaxProblem/UmbrellaChain-bsuite/SimpleES/2.json]\n"
     ]
    },
    {
     "name": "stderr",
     "output_type": "stream",
     "text": [
      "\n",
      "Running ES algorithms: 100%|██████████| 1/1 [00:10<00:00, 10.78s/it]\u001b[A\n",
      "\n",
      "Running ES algorithms:   0%|          | 0/1 [00:00<?, ?it/s]\u001b[A"
     ]
    },
    {
     "name": "stdout",
     "output_type": "stream",
     "text": [
      "running the experiment ... [../experiment_results/GymnaxProblem/UmbrellaChain-bsuite/SimpleES/3.json]\n"
     ]
    },
    {
     "name": "stderr",
     "output_type": "stream",
     "text": [
      "\n",
      "Running ES algorithms: 100%|██████████| 1/1 [00:10<00:00, 10.70s/it]\u001b[A\n",
      "\n",
      "Running ES algorithms:   0%|          | 0/1 [00:00<?, ?it/s]\u001b[A"
     ]
    },
    {
     "name": "stdout",
     "output_type": "stream",
     "text": [
      "running the experiment ... [../experiment_results/GymnaxProblem/UmbrellaChain-bsuite/SimpleES/4.json]\n"
     ]
    },
    {
     "name": "stderr",
     "output_type": "stream",
     "text": [
      "\n",
      "Running ES algorithms: 100%|██████████| 1/1 [00:10<00:00, 10.80s/it]\u001b[A\n",
      "\n",
      "Running ES algorithms:   0%|          | 0/1 [00:00<?, ?it/s]\u001b[A"
     ]
    },
    {
     "name": "stdout",
     "output_type": "stream",
     "text": [
      "running the experiment ... [../experiment_results/GymnaxProblem/UmbrellaChain-bsuite/LearnedES/0.json]\n"
     ]
    },
    {
     "name": "stderr",
     "output_type": "stream",
     "text": [
      "\n",
      "Running ES algorithms: 100%|██████████| 1/1 [00:11<00:00, 11.11s/it]\u001b[A\n",
      "\n",
      "Running ES algorithms:   0%|          | 0/1 [00:00<?, ?it/s]\u001b[A"
     ]
    },
    {
     "name": "stdout",
     "output_type": "stream",
     "text": [
      "running the experiment ... [../experiment_results/GymnaxProblem/UmbrellaChain-bsuite/LearnedES/1.json]\n"
     ]
    },
    {
     "name": "stderr",
     "output_type": "stream",
     "text": [
      "\n",
      "Running ES algorithms: 100%|██████████| 1/1 [00:11<00:00, 11.06s/it]\u001b[A\n",
      "\n",
      "Running ES algorithms:   0%|          | 0/1 [00:00<?, ?it/s]\u001b[A"
     ]
    },
    {
     "name": "stdout",
     "output_type": "stream",
     "text": [
      "running the experiment ... [../experiment_results/GymnaxProblem/UmbrellaChain-bsuite/LearnedES/2.json]\n"
     ]
    },
    {
     "name": "stderr",
     "output_type": "stream",
     "text": [
      "\n",
      "Running ES algorithms: 100%|██████████| 1/1 [00:11<00:00, 11.10s/it]\u001b[A\n",
      "\n",
      "Running ES algorithms:   0%|          | 0/1 [00:00<?, ?it/s]\u001b[A"
     ]
    },
    {
     "name": "stdout",
     "output_type": "stream",
     "text": [
      "running the experiment ... [../experiment_results/GymnaxProblem/UmbrellaChain-bsuite/LearnedES/3.json]\n"
     ]
    },
    {
     "name": "stderr",
     "output_type": "stream",
     "text": [
      "\n",
      "Running ES algorithms: 100%|██████████| 1/1 [00:11<00:00, 11.07s/it]\u001b[A\n",
      "\n",
      "Running ES algorithms:   0%|          | 0/1 [00:00<?, ?it/s]\u001b[A"
     ]
    },
    {
     "name": "stdout",
     "output_type": "stream",
     "text": [
      "running the experiment ... [../experiment_results/GymnaxProblem/UmbrellaChain-bsuite/LearnedES/4.json]\n"
     ]
    },
    {
     "name": "stderr",
     "output_type": "stream",
     "text": [
      "\n",
      "Running ES algorithms: 100%|██████████| 1/1 [00:10<00:00, 10.97s/it]\u001b[A\n",
      "\n",
      "Running ES algorithms:   0%|          | 0/1 [00:00<?, ?it/s]\u001b[A"
     ]
    },
    {
     "name": "stdout",
     "output_type": "stream",
     "text": [
      "running the experiment ... [../experiment_results/GymnaxProblem/UmbrellaChain-bsuite/DiscoveredES/0.json]\n"
     ]
    },
    {
     "name": "stderr",
     "output_type": "stream",
     "text": [
      "\n",
      "Running ES algorithms: 100%|██████████| 1/1 [00:10<00:00, 10.79s/it]\u001b[A\n",
      "\n",
      "Running ES algorithms:   0%|          | 0/1 [00:00<?, ?it/s]\u001b[A"
     ]
    },
    {
     "name": "stdout",
     "output_type": "stream",
     "text": [
      "running the experiment ... [../experiment_results/GymnaxProblem/UmbrellaChain-bsuite/DiscoveredES/1.json]\n"
     ]
    },
    {
     "name": "stderr",
     "output_type": "stream",
     "text": [
      "\n",
      "Running ES algorithms: 100%|██████████| 1/1 [00:10<00:00, 10.74s/it]\u001b[A\n",
      "\n",
      "Running ES algorithms:   0%|          | 0/1 [00:00<?, ?it/s]\u001b[A"
     ]
    },
    {
     "name": "stdout",
     "output_type": "stream",
     "text": [
      "running the experiment ... [../experiment_results/GymnaxProblem/UmbrellaChain-bsuite/DiscoveredES/2.json]\n"
     ]
    },
    {
     "name": "stderr",
     "output_type": "stream",
     "text": [
      "\n",
      "Running ES algorithms: 100%|██████████| 1/1 [00:10<00:00, 10.66s/it]\u001b[A\n",
      "\n",
      "Running ES algorithms:   0%|          | 0/1 [00:00<?, ?it/s]\u001b[A"
     ]
    },
    {
     "name": "stdout",
     "output_type": "stream",
     "text": [
      "running the experiment ... [../experiment_results/GymnaxProblem/UmbrellaChain-bsuite/DiscoveredES/3.json]\n"
     ]
    },
    {
     "name": "stderr",
     "output_type": "stream",
     "text": [
      "\n",
      "Running ES algorithms: 100%|██████████| 1/1 [00:10<00:00, 10.76s/it]\u001b[A\n",
      "\n",
      "Running ES algorithms:   0%|          | 0/1 [00:00<?, ?it/s]\u001b[A"
     ]
    },
    {
     "name": "stdout",
     "output_type": "stream",
     "text": [
      "running the experiment ... [../experiment_results/GymnaxProblem/UmbrellaChain-bsuite/DiscoveredES/4.json]\n"
     ]
    },
    {
     "name": "stderr",
     "output_type": "stream",
     "text": [
      "\n",
      "Running ES algorithms: 100%|██████████| 1/1 [00:10<00:00, 10.69s/it]\u001b[A\n",
      "\n",
      "Running ES algorithms:   0%|          | 0/1 [00:00<?, ?it/s]\u001b[A"
     ]
    },
    {
     "name": "stdout",
     "output_type": "stream",
     "text": [
      "running the experiment ... [../experiment_results/GymnaxProblem/UmbrellaChain-bsuite/EvoTF_ES/0.json]\n"
     ]
    },
    {
     "name": "stderr",
     "output_type": "stream",
     "text": [
      "2025-08-08 19:33:49.295695: W external/xla/xla/tsl/framework/bfc_allocator.cc:310] Allocator (GPU_0_bfc) ran out of memory trying to allocate 3.48GiB with freed_by_count=0. The caller indicates that this is not a failure, but this may mean that there could be performance gains if more memory were available.\n",
      "Running ES algorithms:   0%|          | 0/1 [00:02<?, ?it/s]\n",
      "Loading Problems ..:  54%|█████▍    | 13/24 [54:00<48:39, 265.41s/it]  "
     ]
    },
    {
     "name": "stdout",
     "output_type": "stream",
     "text": [
      "Failed to load: UmbrellaChain-bsuite RESOURCE_EXHAUSTED: Out of memory while trying to allocate 3740860416 bytes.\n",
      "Successfully loaded: DiscountingChain-bsuite\n"
     ]
    },
    {
     "name": "stderr",
     "output_type": "stream",
     "text": [
      "\n",
      "Running ES algorithms:   0%|          | 0/1 [00:00<?, ?it/s]\u001b[A"
     ]
    },
    {
     "name": "stdout",
     "output_type": "stream",
     "text": [
      "running the experiment ... [../experiment_results/GymnaxProblem/DiscountingChain-bsuite/SimpleES/0.json]\n"
     ]
    },
    {
     "name": "stderr",
     "output_type": "stream",
     "text": [
      "\n",
      "Running ES algorithms: 100%|██████████| 1/1 [00:10<00:00, 10.61s/it]\u001b[A\n",
      "\n",
      "Running ES algorithms:   0%|          | 0/1 [00:00<?, ?it/s]\u001b[A"
     ]
    },
    {
     "name": "stdout",
     "output_type": "stream",
     "text": [
      "running the experiment ... [../experiment_results/GymnaxProblem/DiscountingChain-bsuite/SimpleES/1.json]\n"
     ]
    },
    {
     "name": "stderr",
     "output_type": "stream",
     "text": [
      "\n",
      "Running ES algorithms: 100%|██████████| 1/1 [00:08<00:00,  8.16s/it]\u001b[A\n",
      "\n",
      "Running ES algorithms:   0%|          | 0/1 [00:00<?, ?it/s]\u001b[A"
     ]
    },
    {
     "name": "stdout",
     "output_type": "stream",
     "text": [
      "running the experiment ... [../experiment_results/GymnaxProblem/DiscountingChain-bsuite/SimpleES/2.json]\n"
     ]
    },
    {
     "name": "stderr",
     "output_type": "stream",
     "text": [
      "\n",
      "Running ES algorithms: 100%|██████████| 1/1 [00:08<00:00,  8.31s/it]\u001b[A\n",
      "\n",
      "Running ES algorithms:   0%|          | 0/1 [00:00<?, ?it/s]\u001b[A"
     ]
    },
    {
     "name": "stdout",
     "output_type": "stream",
     "text": [
      "running the experiment ... [../experiment_results/GymnaxProblem/DiscountingChain-bsuite/SimpleES/3.json]\n"
     ]
    },
    {
     "name": "stderr",
     "output_type": "stream",
     "text": [
      "\n",
      "Running ES algorithms: 100%|██████████| 1/1 [00:08<00:00,  8.22s/it]\u001b[A\n",
      "\n",
      "Running ES algorithms:   0%|          | 0/1 [00:00<?, ?it/s]\u001b[A"
     ]
    },
    {
     "name": "stdout",
     "output_type": "stream",
     "text": [
      "running the experiment ... [../experiment_results/GymnaxProblem/DiscountingChain-bsuite/SimpleES/4.json]\n"
     ]
    },
    {
     "name": "stderr",
     "output_type": "stream",
     "text": [
      "\n",
      "Running ES algorithms: 100%|██████████| 1/1 [00:08<00:00,  8.25s/it]\u001b[A\n",
      "\n",
      "Running ES algorithms:   0%|          | 0/1 [00:00<?, ?it/s]\u001b[A"
     ]
    },
    {
     "name": "stdout",
     "output_type": "stream",
     "text": [
      "running the experiment ... [../experiment_results/GymnaxProblem/DiscountingChain-bsuite/LearnedES/0.json]\n"
     ]
    },
    {
     "name": "stderr",
     "output_type": "stream",
     "text": [
      "\n",
      "Running ES algorithms: 100%|██████████| 1/1 [00:08<00:00,  8.20s/it]\u001b[A\n",
      "\n",
      "Running ES algorithms:   0%|          | 0/1 [00:00<?, ?it/s]\u001b[A"
     ]
    },
    {
     "name": "stdout",
     "output_type": "stream",
     "text": [
      "running the experiment ... [../experiment_results/GymnaxProblem/DiscountingChain-bsuite/LearnedES/1.json]\n"
     ]
    },
    {
     "name": "stderr",
     "output_type": "stream",
     "text": [
      "\n",
      "Running ES algorithms: 100%|██████████| 1/1 [00:08<00:00,  8.43s/it]\u001b[A\n",
      "\n",
      "Running ES algorithms:   0%|          | 0/1 [00:00<?, ?it/s]\u001b[A"
     ]
    },
    {
     "name": "stdout",
     "output_type": "stream",
     "text": [
      "running the experiment ... [../experiment_results/GymnaxProblem/DiscountingChain-bsuite/LearnedES/2.json]\n"
     ]
    },
    {
     "name": "stderr",
     "output_type": "stream",
     "text": [
      "\n",
      "Running ES algorithms: 100%|██████████| 1/1 [00:08<00:00,  8.42s/it]\u001b[A\n",
      "\n",
      "Running ES algorithms:   0%|          | 0/1 [00:00<?, ?it/s]\u001b[A"
     ]
    },
    {
     "name": "stdout",
     "output_type": "stream",
     "text": [
      "running the experiment ... [../experiment_results/GymnaxProblem/DiscountingChain-bsuite/LearnedES/3.json]\n"
     ]
    },
    {
     "name": "stderr",
     "output_type": "stream",
     "text": [
      "\n",
      "Running ES algorithms: 100%|██████████| 1/1 [00:08<00:00,  8.43s/it]\u001b[A\n",
      "\n",
      "Running ES algorithms:   0%|          | 0/1 [00:00<?, ?it/s]\u001b[A"
     ]
    },
    {
     "name": "stdout",
     "output_type": "stream",
     "text": [
      "running the experiment ... [../experiment_results/GymnaxProblem/DiscountingChain-bsuite/LearnedES/4.json]\n"
     ]
    },
    {
     "name": "stderr",
     "output_type": "stream",
     "text": [
      "\n",
      "Running ES algorithms: 100%|██████████| 1/1 [00:08<00:00,  8.33s/it]\u001b[A\n",
      "\n",
      "Running ES algorithms:   0%|          | 0/1 [00:00<?, ?it/s]\u001b[A"
     ]
    },
    {
     "name": "stdout",
     "output_type": "stream",
     "text": [
      "running the experiment ... [../experiment_results/GymnaxProblem/DiscountingChain-bsuite/DiscoveredES/0.json]\n"
     ]
    },
    {
     "name": "stderr",
     "output_type": "stream",
     "text": [
      "\n",
      "Running ES algorithms: 100%|██████████| 1/1 [00:08<00:00,  8.32s/it]\u001b[A\n",
      "\n",
      "Running ES algorithms:   0%|          | 0/1 [00:00<?, ?it/s]\u001b[A"
     ]
    },
    {
     "name": "stdout",
     "output_type": "stream",
     "text": [
      "running the experiment ... [../experiment_results/GymnaxProblem/DiscountingChain-bsuite/DiscoveredES/1.json]\n"
     ]
    },
    {
     "name": "stderr",
     "output_type": "stream",
     "text": [
      "\n",
      "Running ES algorithms: 100%|██████████| 1/1 [00:08<00:00,  8.44s/it]\u001b[A\n",
      "\n",
      "Running ES algorithms:   0%|          | 0/1 [00:00<?, ?it/s]\u001b[A"
     ]
    },
    {
     "name": "stdout",
     "output_type": "stream",
     "text": [
      "running the experiment ... [../experiment_results/GymnaxProblem/DiscountingChain-bsuite/DiscoveredES/2.json]\n"
     ]
    },
    {
     "name": "stderr",
     "output_type": "stream",
     "text": [
      "\n",
      "Running ES algorithms: 100%|██████████| 1/1 [00:08<00:00,  8.24s/it]\u001b[A\n",
      "\n",
      "Running ES algorithms:   0%|          | 0/1 [00:00<?, ?it/s]\u001b[A"
     ]
    },
    {
     "name": "stdout",
     "output_type": "stream",
     "text": [
      "running the experiment ... [../experiment_results/GymnaxProblem/DiscountingChain-bsuite/DiscoveredES/3.json]\n"
     ]
    },
    {
     "name": "stderr",
     "output_type": "stream",
     "text": [
      "\n",
      "Running ES algorithms: 100%|██████████| 1/1 [00:08<00:00,  8.43s/it]\u001b[A\n",
      "\n",
      "Running ES algorithms:   0%|          | 0/1 [00:00<?, ?it/s]\u001b[A"
     ]
    },
    {
     "name": "stdout",
     "output_type": "stream",
     "text": [
      "running the experiment ... [../experiment_results/GymnaxProblem/DiscountingChain-bsuite/DiscoveredES/4.json]\n"
     ]
    },
    {
     "name": "stderr",
     "output_type": "stream",
     "text": [
      "\n",
      "Running ES algorithms: 100%|██████████| 1/1 [00:08<00:00,  8.42s/it]\u001b[A\n",
      "\n",
      "Running ES algorithms:   0%|          | 0/1 [00:00<?, ?it/s]\u001b[A"
     ]
    },
    {
     "name": "stdout",
     "output_type": "stream",
     "text": [
      "running the experiment ... [../experiment_results/GymnaxProblem/DiscountingChain-bsuite/EvoTF_ES/0.json]\n"
     ]
    },
    {
     "name": "stderr",
     "output_type": "stream",
     "text": [
      "2025-08-08 19:36:00.263059: W external/xla/xla/tsl/framework/bfc_allocator.cc:310] Allocator (GPU_0_bfc) ran out of memory trying to allocate 3.58GiB with freed_by_count=0. The caller indicates that this is not a failure, but this may mean that there could be performance gains if more memory were available.\n",
      "Running ES algorithms:   0%|          | 0/1 [00:01<?, ?it/s]\n",
      "Loading Problems ..:  58%|█████▊    | 14/24 [56:11<37:28, 224.81s/it]"
     ]
    },
    {
     "name": "stdout",
     "output_type": "stream",
     "text": [
      "Failed to load: DiscountingChain-bsuite RESOURCE_EXHAUSTED: Out of memory while trying to allocate 3848175616 bytes.\n"
     ]
    },
    {
     "name": "stderr",
     "output_type": "stream",
     "text": [
      "Loading Problems ..:  62%|██████▎   | 15/24 [56:19<23:55, 159.53s/it]"
     ]
    },
    {
     "name": "stdout",
     "output_type": "stream",
     "text": [
      "Failed to load: MNISTBandit-bsuite select `which` must be scalar or have the same shape as cases, got `which` shape (28,) but case shape ().\n"
     ]
    },
    {
     "name": "stderr",
     "output_type": "stream",
     "text": [
      "Loading Problems ..:  67%|██████▋   | 16/24 [56:20<14:55, 111.99s/it]"
     ]
    },
    {
     "name": "stdout",
     "output_type": "stream",
     "text": [
      "Failed to load: SimpleBandit-bsuite Too many indices: 0-dimensional array indexed with 1 regular index.\n"
     ]
    },
    {
     "name": "stderr",
     "output_type": "stream",
     "text": [
      "/home/ronedr/.local/lib/python3.11/site-packages/jax/_src/numpy/array_methods.py:122: UserWarning: Explicitly requested dtype <class 'jax.numpy.int64'> requested in astype is not available, and will be truncated to dtype int32. To enable more dtypes, set the jax_enable_x64 configuration option or the JAX_ENABLE_X64 shell environment variable. See https://github.com/jax-ml/jax#current-gotchas for more.\n",
      "  return lax_numpy.astype(self, dtype, copy=copy, device=device)\n"
     ]
    },
    {
     "name": "stdout",
     "output_type": "stream",
     "text": [
      "Successfully loaded: FourRooms-misc\n"
     ]
    },
    {
     "name": "stderr",
     "output_type": "stream",
     "text": [
      "\n",
      "Running ES algorithms:   0%|          | 0/1 [00:00<?, ?it/s]\u001b[A"
     ]
    },
    {
     "name": "stdout",
     "output_type": "stream",
     "text": [
      "running the experiment ... [../experiment_results/GymnaxProblem/FourRooms-misc/SimpleES/0.json]\n"
     ]
    },
    {
     "name": "stderr",
     "output_type": "stream",
     "text": [
      "\n",
      "Running ES algorithms: 100%|██████████| 1/1 [00:38<00:00, 38.53s/it]\u001b[A\n",
      "\n",
      "Running ES algorithms:   0%|          | 0/1 [00:00<?, ?it/s]\u001b[A"
     ]
    },
    {
     "name": "stdout",
     "output_type": "stream",
     "text": [
      "running the experiment ... [../experiment_results/GymnaxProblem/FourRooms-misc/SimpleES/1.json]\n"
     ]
    },
    {
     "name": "stderr",
     "output_type": "stream",
     "text": [
      "\n",
      "Running ES algorithms: 100%|██████████| 1/1 [00:32<00:00, 32.11s/it]\u001b[A\n",
      "\n",
      "Running ES algorithms:   0%|          | 0/1 [00:00<?, ?it/s]\u001b[A"
     ]
    },
    {
     "name": "stdout",
     "output_type": "stream",
     "text": [
      "running the experiment ... [../experiment_results/GymnaxProblem/FourRooms-misc/SimpleES/2.json]\n"
     ]
    },
    {
     "name": "stderr",
     "output_type": "stream",
     "text": [
      "\n",
      "Running ES algorithms: 100%|██████████| 1/1 [00:32<00:00, 32.60s/it]\u001b[A\n",
      "\n",
      "Running ES algorithms:   0%|          | 0/1 [00:00<?, ?it/s]\u001b[A"
     ]
    },
    {
     "name": "stdout",
     "output_type": "stream",
     "text": [
      "running the experiment ... [../experiment_results/GymnaxProblem/FourRooms-misc/SimpleES/3.json]\n"
     ]
    },
    {
     "name": "stderr",
     "output_type": "stream",
     "text": [
      "\n",
      "Running ES algorithms: 100%|██████████| 1/1 [00:31<00:00, 31.94s/it]\u001b[A\n",
      "\n",
      "Running ES algorithms:   0%|          | 0/1 [00:00<?, ?it/s]\u001b[A"
     ]
    },
    {
     "name": "stdout",
     "output_type": "stream",
     "text": [
      "running the experiment ... [../experiment_results/GymnaxProblem/FourRooms-misc/SimpleES/4.json]\n"
     ]
    },
    {
     "name": "stderr",
     "output_type": "stream",
     "text": [
      "\n",
      "Running ES algorithms: 100%|██████████| 1/1 [00:32<00:00, 32.23s/it]\u001b[A\n",
      "\n",
      "Running ES algorithms:   0%|          | 0/1 [00:00<?, ?it/s]\u001b[A"
     ]
    },
    {
     "name": "stdout",
     "output_type": "stream",
     "text": [
      "running the experiment ... [../experiment_results/GymnaxProblem/FourRooms-misc/LearnedES/0.json]\n"
     ]
    },
    {
     "name": "stderr",
     "output_type": "stream",
     "text": [
      "\n",
      "Running ES algorithms: 100%|██████████| 1/1 [00:32<00:00, 32.27s/it]\u001b[A\n",
      "\n",
      "Running ES algorithms:   0%|          | 0/1 [00:00<?, ?it/s]\u001b[A"
     ]
    },
    {
     "name": "stdout",
     "output_type": "stream",
     "text": [
      "running the experiment ... [../experiment_results/GymnaxProblem/FourRooms-misc/LearnedES/1.json]\n"
     ]
    },
    {
     "name": "stderr",
     "output_type": "stream",
     "text": [
      "\n",
      "Running ES algorithms: 100%|██████████| 1/1 [00:33<00:00, 33.03s/it]\u001b[A\n",
      "\n",
      "Running ES algorithms:   0%|          | 0/1 [00:00<?, ?it/s]\u001b[A"
     ]
    },
    {
     "name": "stdout",
     "output_type": "stream",
     "text": [
      "running the experiment ... [../experiment_results/GymnaxProblem/FourRooms-misc/LearnedES/2.json]\n"
     ]
    },
    {
     "name": "stderr",
     "output_type": "stream",
     "text": [
      "\n",
      "Running ES algorithms: 100%|██████████| 1/1 [00:32<00:00, 32.79s/it]\u001b[A\n",
      "\n",
      "Running ES algorithms:   0%|          | 0/1 [00:00<?, ?it/s]\u001b[A"
     ]
    },
    {
     "name": "stdout",
     "output_type": "stream",
     "text": [
      "running the experiment ... [../experiment_results/GymnaxProblem/FourRooms-misc/LearnedES/3.json]\n"
     ]
    },
    {
     "name": "stderr",
     "output_type": "stream",
     "text": [
      "\n",
      "Running ES algorithms: 100%|██████████| 1/1 [00:32<00:00, 32.87s/it]\u001b[A\n",
      "\n",
      "Running ES algorithms:   0%|          | 0/1 [00:00<?, ?it/s]\u001b[A"
     ]
    },
    {
     "name": "stdout",
     "output_type": "stream",
     "text": [
      "running the experiment ... [../experiment_results/GymnaxProblem/FourRooms-misc/LearnedES/4.json]\n"
     ]
    },
    {
     "name": "stderr",
     "output_type": "stream",
     "text": [
      "\n",
      "Running ES algorithms: 100%|██████████| 1/1 [00:33<00:00, 33.24s/it]\u001b[A\n",
      "\n",
      "Running ES algorithms:   0%|          | 0/1 [00:00<?, ?it/s]\u001b[A"
     ]
    },
    {
     "name": "stdout",
     "output_type": "stream",
     "text": [
      "running the experiment ... [../experiment_results/GymnaxProblem/FourRooms-misc/DiscoveredES/0.json]\n"
     ]
    },
    {
     "name": "stderr",
     "output_type": "stream",
     "text": [
      "\n",
      "Running ES algorithms: 100%|██████████| 1/1 [00:32<00:00, 32.16s/it]\u001b[A\n",
      "\n",
      "Running ES algorithms:   0%|          | 0/1 [00:00<?, ?it/s]\u001b[A"
     ]
    },
    {
     "name": "stdout",
     "output_type": "stream",
     "text": [
      "running the experiment ... [../experiment_results/GymnaxProblem/FourRooms-misc/DiscoveredES/1.json]\n"
     ]
    },
    {
     "name": "stderr",
     "output_type": "stream",
     "text": [
      "\n",
      "Running ES algorithms: 100%|██████████| 1/1 [00:32<00:00, 32.41s/it]\u001b[A\n",
      "\n",
      "Running ES algorithms:   0%|          | 0/1 [00:00<?, ?it/s]\u001b[A"
     ]
    },
    {
     "name": "stdout",
     "output_type": "stream",
     "text": [
      "running the experiment ... [../experiment_results/GymnaxProblem/FourRooms-misc/DiscoveredES/2.json]\n"
     ]
    },
    {
     "name": "stderr",
     "output_type": "stream",
     "text": [
      "\n",
      "Running ES algorithms: 100%|██████████| 1/1 [00:32<00:00, 32.72s/it]\u001b[A\n",
      "\n",
      "Running ES algorithms:   0%|          | 0/1 [00:00<?, ?it/s]\u001b[A"
     ]
    },
    {
     "name": "stdout",
     "output_type": "stream",
     "text": [
      "running the experiment ... [../experiment_results/GymnaxProblem/FourRooms-misc/DiscoveredES/3.json]\n"
     ]
    },
    {
     "name": "stderr",
     "output_type": "stream",
     "text": [
      "\n",
      "Running ES algorithms: 100%|██████████| 1/1 [00:32<00:00, 32.54s/it]\u001b[A\n",
      "\n",
      "Running ES algorithms:   0%|          | 0/1 [00:00<?, ?it/s]\u001b[A"
     ]
    },
    {
     "name": "stdout",
     "output_type": "stream",
     "text": [
      "running the experiment ... [../experiment_results/GymnaxProblem/FourRooms-misc/DiscoveredES/4.json]\n"
     ]
    },
    {
     "name": "stderr",
     "output_type": "stream",
     "text": [
      "\n",
      "Running ES algorithms: 100%|██████████| 1/1 [00:32<00:00, 32.86s/it]\u001b[A\n",
      "\n",
      "Running ES algorithms:   0%|          | 0/1 [00:00<?, ?it/s]\u001b[A"
     ]
    },
    {
     "name": "stdout",
     "output_type": "stream",
     "text": [
      "running the experiment ... [../experiment_results/GymnaxProblem/FourRooms-misc/EvoTF_ES/0.json]\n"
     ]
    },
    {
     "name": "stderr",
     "output_type": "stream",
     "text": [
      "2025-08-08 19:44:32.002335: W external/xla/xla/tsl/framework/bfc_allocator.cc:310] Allocator (GPU_0_bfc) ran out of memory trying to allocate 3.63GiB with freed_by_count=0. The caller indicates that this is not a failure, but this may mean that there could be performance gains if more memory were available.\n",
      "Running ES algorithms:   0%|          | 0/1 [00:01<?, ?it/s]\n",
      "Loading Problems ..:  71%|███████   | 17/24 [1:04:42<26:44, 229.24s/it]"
     ]
    },
    {
     "name": "stdout",
     "output_type": "stream",
     "text": [
      "Failed to load: FourRooms-misc RESOURCE_EXHAUSTED: Out of memory while trying to allocate 3899785216 bytes.\n",
      "Successfully loaded: MetaMaze-misc\n"
     ]
    },
    {
     "name": "stderr",
     "output_type": "stream",
     "text": [
      "\n",
      "Running ES algorithms:   0%|          | 0/1 [00:00<?, ?it/s]\u001b[A"
     ]
    },
    {
     "name": "stdout",
     "output_type": "stream",
     "text": [
      "running the experiment ... [../experiment_results/GymnaxProblem/MetaMaze-misc/SimpleES/0.json]\n"
     ]
    },
    {
     "name": "stderr",
     "output_type": "stream",
     "text": [
      "\n",
      "Running ES algorithms: 100%|██████████| 1/1 [00:22<00:00, 22.02s/it]\u001b[A\n",
      "\n",
      "Running ES algorithms:   0%|          | 0/1 [00:00<?, ?it/s]\u001b[A"
     ]
    },
    {
     "name": "stdout",
     "output_type": "stream",
     "text": [
      "running the experiment ... [../experiment_results/GymnaxProblem/MetaMaze-misc/SimpleES/1.json]\n"
     ]
    },
    {
     "name": "stderr",
     "output_type": "stream",
     "text": [
      "\n",
      "Running ES algorithms: 100%|██████████| 1/1 [00:18<00:00, 18.23s/it]\u001b[A\n",
      "\n",
      "Running ES algorithms:   0%|          | 0/1 [00:00<?, ?it/s]\u001b[A"
     ]
    },
    {
     "name": "stdout",
     "output_type": "stream",
     "text": [
      "running the experiment ... [../experiment_results/GymnaxProblem/MetaMaze-misc/SimpleES/2.json]\n"
     ]
    },
    {
     "name": "stderr",
     "output_type": "stream",
     "text": [
      "\n",
      "Running ES algorithms: 100%|██████████| 1/1 [00:18<00:00, 18.61s/it]\u001b[A\n",
      "\n",
      "Running ES algorithms:   0%|          | 0/1 [00:00<?, ?it/s]\u001b[A"
     ]
    },
    {
     "name": "stdout",
     "output_type": "stream",
     "text": [
      "running the experiment ... [../experiment_results/GymnaxProblem/MetaMaze-misc/SimpleES/3.json]\n"
     ]
    },
    {
     "name": "stderr",
     "output_type": "stream",
     "text": [
      "\n",
      "Running ES algorithms: 100%|██████████| 1/1 [00:18<00:00, 18.55s/it]\u001b[A\n",
      "\n",
      "Running ES algorithms:   0%|          | 0/1 [00:00<?, ?it/s]\u001b[A"
     ]
    },
    {
     "name": "stdout",
     "output_type": "stream",
     "text": [
      "running the experiment ... [../experiment_results/GymnaxProblem/MetaMaze-misc/SimpleES/4.json]\n"
     ]
    },
    {
     "name": "stderr",
     "output_type": "stream",
     "text": [
      "\n",
      "Running ES algorithms: 100%|██████████| 1/1 [00:18<00:00, 18.44s/it]\u001b[A\n",
      "\n",
      "Running ES algorithms:   0%|          | 0/1 [00:00<?, ?it/s]\u001b[A"
     ]
    },
    {
     "name": "stdout",
     "output_type": "stream",
     "text": [
      "running the experiment ... [../experiment_results/GymnaxProblem/MetaMaze-misc/LearnedES/0.json]\n"
     ]
    },
    {
     "name": "stderr",
     "output_type": "stream",
     "text": [
      "\n",
      "Running ES algorithms: 100%|██████████| 1/1 [00:18<00:00, 18.88s/it]\u001b[A\n",
      "\n",
      "Running ES algorithms:   0%|          | 0/1 [00:00<?, ?it/s]\u001b[A"
     ]
    },
    {
     "name": "stdout",
     "output_type": "stream",
     "text": [
      "running the experiment ... [../experiment_results/GymnaxProblem/MetaMaze-misc/LearnedES/1.json]\n"
     ]
    },
    {
     "name": "stderr",
     "output_type": "stream",
     "text": [
      "\n",
      "Running ES algorithms: 100%|██████████| 1/1 [00:18<00:00, 18.71s/it]\u001b[A\n",
      "\n",
      "Running ES algorithms:   0%|          | 0/1 [00:00<?, ?it/s]\u001b[A"
     ]
    },
    {
     "name": "stdout",
     "output_type": "stream",
     "text": [
      "running the experiment ... [../experiment_results/GymnaxProblem/MetaMaze-misc/LearnedES/2.json]\n"
     ]
    },
    {
     "name": "stderr",
     "output_type": "stream",
     "text": [
      "\n",
      "Running ES algorithms: 100%|██████████| 1/1 [00:19<00:00, 19.27s/it]\u001b[A\n",
      "\n",
      "Running ES algorithms:   0%|          | 0/1 [00:00<?, ?it/s]\u001b[A"
     ]
    },
    {
     "name": "stdout",
     "output_type": "stream",
     "text": [
      "running the experiment ... [../experiment_results/GymnaxProblem/MetaMaze-misc/LearnedES/3.json]\n"
     ]
    },
    {
     "name": "stderr",
     "output_type": "stream",
     "text": [
      "\n",
      "Running ES algorithms: 100%|██████████| 1/1 [00:18<00:00, 18.82s/it]\u001b[A\n",
      "\n",
      "Running ES algorithms:   0%|          | 0/1 [00:00<?, ?it/s]\u001b[A"
     ]
    },
    {
     "name": "stdout",
     "output_type": "stream",
     "text": [
      "running the experiment ... [../experiment_results/GymnaxProblem/MetaMaze-misc/LearnedES/4.json]\n"
     ]
    },
    {
     "name": "stderr",
     "output_type": "stream",
     "text": [
      "\n",
      "Running ES algorithms: 100%|██████████| 1/1 [00:18<00:00, 18.90s/it]\u001b[A\n",
      "\n",
      "Running ES algorithms:   0%|          | 0/1 [00:00<?, ?it/s]\u001b[A"
     ]
    },
    {
     "name": "stdout",
     "output_type": "stream",
     "text": [
      "running the experiment ... [../experiment_results/GymnaxProblem/MetaMaze-misc/DiscoveredES/0.json]\n"
     ]
    },
    {
     "name": "stderr",
     "output_type": "stream",
     "text": [
      "\n",
      "Running ES algorithms: 100%|██████████| 1/1 [00:18<00:00, 18.64s/it]\u001b[A\n",
      "\n",
      "Running ES algorithms:   0%|          | 0/1 [00:00<?, ?it/s]\u001b[A"
     ]
    },
    {
     "name": "stdout",
     "output_type": "stream",
     "text": [
      "running the experiment ... [../experiment_results/GymnaxProblem/MetaMaze-misc/DiscoveredES/1.json]\n"
     ]
    },
    {
     "name": "stderr",
     "output_type": "stream",
     "text": [
      "\n",
      "Running ES algorithms: 100%|██████████| 1/1 [00:18<00:00, 18.56s/it]\u001b[A\n",
      "\n",
      "Running ES algorithms:   0%|          | 0/1 [00:00<?, ?it/s]\u001b[A"
     ]
    },
    {
     "name": "stdout",
     "output_type": "stream",
     "text": [
      "running the experiment ... [../experiment_results/GymnaxProblem/MetaMaze-misc/DiscoveredES/2.json]\n"
     ]
    },
    {
     "name": "stderr",
     "output_type": "stream",
     "text": [
      "\n",
      "Running ES algorithms: 100%|██████████| 1/1 [00:18<00:00, 18.45s/it]\u001b[A\n",
      "\n",
      "Running ES algorithms:   0%|          | 0/1 [00:00<?, ?it/s]\u001b[A"
     ]
    },
    {
     "name": "stdout",
     "output_type": "stream",
     "text": [
      "running the experiment ... [../experiment_results/GymnaxProblem/MetaMaze-misc/DiscoveredES/3.json]\n"
     ]
    },
    {
     "name": "stderr",
     "output_type": "stream",
     "text": [
      "\n",
      "Running ES algorithms: 100%|██████████| 1/1 [00:18<00:00, 18.29s/it]\u001b[A\n",
      "\n",
      "Running ES algorithms:   0%|          | 0/1 [00:00<?, ?it/s]\u001b[A"
     ]
    },
    {
     "name": "stdout",
     "output_type": "stream",
     "text": [
      "running the experiment ... [../experiment_results/GymnaxProblem/MetaMaze-misc/DiscoveredES/4.json]\n"
     ]
    },
    {
     "name": "stderr",
     "output_type": "stream",
     "text": [
      "\n",
      "Running ES algorithms: 100%|██████████| 1/1 [00:18<00:00, 18.29s/it]\u001b[A\n",
      "\n",
      "Running ES algorithms:   0%|          | 0/1 [00:00<?, ?it/s]\u001b[A"
     ]
    },
    {
     "name": "stdout",
     "output_type": "stream",
     "text": [
      "running the experiment ... [../experiment_results/GymnaxProblem/MetaMaze-misc/EvoTF_ES/0.json]\n"
     ]
    },
    {
     "name": "stderr",
     "output_type": "stream",
     "text": [
      "2025-08-08 19:49:20.470624: W external/xla/xla/tsl/framework/bfc_allocator.cc:310] Allocator (GPU_0_bfc) ran out of memory trying to allocate 4.17GiB with freed_by_count=0. The caller indicates that this is not a failure, but this may mean that there could be performance gains if more memory were available.\n",
      "Running ES algorithms:   0%|          | 0/1 [00:01<?, ?it/s]\n",
      "Loading Problems ..:  75%|███████▌  | 18/24 [1:09:31<24:42, 247.03s/it]"
     ]
    },
    {
     "name": "stdout",
     "output_type": "stream",
     "text": [
      "Failed to load: MetaMaze-misc RESOURCE_EXHAUSTED: Out of memory while trying to allocate 4476502016 bytes.\n",
      "Successfully loaded: PointRobot-misc\n"
     ]
    },
    {
     "name": "stderr",
     "output_type": "stream",
     "text": [
      "\n",
      "Running ES algorithms:   0%|          | 0/1 [00:00<?, ?it/s]\u001b[A"
     ]
    },
    {
     "name": "stdout",
     "output_type": "stream",
     "text": [
      "running the experiment ... [../experiment_results/GymnaxProblem/PointRobot-misc/SimpleES/0.json]\n"
     ]
    },
    {
     "name": "stderr",
     "output_type": "stream",
     "text": [
      "\n",
      "Running ES algorithms: 100%|██████████| 1/1 [00:16<00:00, 16.67s/it]\u001b[A\n",
      "\n",
      "Running ES algorithms:   0%|          | 0/1 [00:00<?, ?it/s]\u001b[A"
     ]
    },
    {
     "name": "stdout",
     "output_type": "stream",
     "text": [
      "running the experiment ... [../experiment_results/GymnaxProblem/PointRobot-misc/SimpleES/1.json]\n"
     ]
    },
    {
     "name": "stderr",
     "output_type": "stream",
     "text": [
      "\n",
      "Running ES algorithms: 100%|██████████| 1/1 [00:12<00:00, 12.16s/it]\u001b[A\n",
      "\n",
      "Running ES algorithms:   0%|          | 0/1 [00:00<?, ?it/s]\u001b[A"
     ]
    },
    {
     "name": "stdout",
     "output_type": "stream",
     "text": [
      "running the experiment ... [../experiment_results/GymnaxProblem/PointRobot-misc/SimpleES/2.json]\n"
     ]
    },
    {
     "name": "stderr",
     "output_type": "stream",
     "text": [
      "\n",
      "Running ES algorithms: 100%|██████████| 1/1 [00:12<00:00, 12.04s/it]\u001b[A\n",
      "\n",
      "Running ES algorithms:   0%|          | 0/1 [00:00<?, ?it/s]\u001b[A"
     ]
    },
    {
     "name": "stdout",
     "output_type": "stream",
     "text": [
      "running the experiment ... [../experiment_results/GymnaxProblem/PointRobot-misc/SimpleES/3.json]\n"
     ]
    },
    {
     "name": "stderr",
     "output_type": "stream",
     "text": [
      "\n",
      "Running ES algorithms: 100%|██████████| 1/1 [00:12<00:00, 12.24s/it]\u001b[A\n",
      "\n",
      "Running ES algorithms:   0%|          | 0/1 [00:00<?, ?it/s]\u001b[A"
     ]
    },
    {
     "name": "stdout",
     "output_type": "stream",
     "text": [
      "running the experiment ... [../experiment_results/GymnaxProblem/PointRobot-misc/SimpleES/4.json]\n"
     ]
    },
    {
     "name": "stderr",
     "output_type": "stream",
     "text": [
      "\n",
      "Running ES algorithms: 100%|██████████| 1/1 [00:12<00:00, 12.08s/it]\u001b[A\n",
      "\n",
      "Running ES algorithms:   0%|          | 0/1 [00:00<?, ?it/s]\u001b[A"
     ]
    },
    {
     "name": "stdout",
     "output_type": "stream",
     "text": [
      "running the experiment ... [../experiment_results/GymnaxProblem/PointRobot-misc/LearnedES/0.json]\n"
     ]
    },
    {
     "name": "stderr",
     "output_type": "stream",
     "text": [
      "\n",
      "Running ES algorithms: 100%|██████████| 1/1 [00:12<00:00, 12.38s/it]\u001b[A\n",
      "\n",
      "Running ES algorithms:   0%|          | 0/1 [00:00<?, ?it/s]\u001b[A"
     ]
    },
    {
     "name": "stdout",
     "output_type": "stream",
     "text": [
      "running the experiment ... [../experiment_results/GymnaxProblem/PointRobot-misc/LearnedES/1.json]\n"
     ]
    },
    {
     "name": "stderr",
     "output_type": "stream",
     "text": [
      "\n",
      "Running ES algorithms: 100%|██████████| 1/1 [00:12<00:00, 12.26s/it]\u001b[A\n",
      "\n",
      "Running ES algorithms:   0%|          | 0/1 [00:00<?, ?it/s]\u001b[A"
     ]
    },
    {
     "name": "stdout",
     "output_type": "stream",
     "text": [
      "running the experiment ... [../experiment_results/GymnaxProblem/PointRobot-misc/LearnedES/2.json]\n"
     ]
    },
    {
     "name": "stderr",
     "output_type": "stream",
     "text": [
      "\n",
      "Running ES algorithms: 100%|██████████| 1/1 [00:12<00:00, 12.23s/it]\u001b[A\n",
      "\n",
      "Running ES algorithms:   0%|          | 0/1 [00:00<?, ?it/s]\u001b[A"
     ]
    },
    {
     "name": "stdout",
     "output_type": "stream",
     "text": [
      "running the experiment ... [../experiment_results/GymnaxProblem/PointRobot-misc/LearnedES/3.json]\n"
     ]
    },
    {
     "name": "stderr",
     "output_type": "stream",
     "text": [
      "\n",
      "Running ES algorithms: 100%|██████████| 1/1 [00:12<00:00, 12.05s/it]\u001b[A\n",
      "\n",
      "Running ES algorithms:   0%|          | 0/1 [00:00<?, ?it/s]\u001b[A"
     ]
    },
    {
     "name": "stdout",
     "output_type": "stream",
     "text": [
      "running the experiment ... [../experiment_results/GymnaxProblem/PointRobot-misc/LearnedES/4.json]\n"
     ]
    },
    {
     "name": "stderr",
     "output_type": "stream",
     "text": [
      "\n",
      "Running ES algorithms: 100%|██████████| 1/1 [00:12<00:00, 12.27s/it]\u001b[A\n",
      "\n",
      "Running ES algorithms:   0%|          | 0/1 [00:00<?, ?it/s]\u001b[A"
     ]
    },
    {
     "name": "stdout",
     "output_type": "stream",
     "text": [
      "running the experiment ... [../experiment_results/GymnaxProblem/PointRobot-misc/DiscoveredES/0.json]\n"
     ]
    },
    {
     "name": "stderr",
     "output_type": "stream",
     "text": [
      "\n",
      "Running ES algorithms: 100%|██████████| 1/1 [00:11<00:00, 12.00s/it]\u001b[A\n",
      "\n",
      "Running ES algorithms:   0%|          | 0/1 [00:00<?, ?it/s]\u001b[A"
     ]
    },
    {
     "name": "stdout",
     "output_type": "stream",
     "text": [
      "running the experiment ... [../experiment_results/GymnaxProblem/PointRobot-misc/DiscoveredES/1.json]\n"
     ]
    },
    {
     "name": "stderr",
     "output_type": "stream",
     "text": [
      "\n",
      "Running ES algorithms: 100%|██████████| 1/1 [00:12<00:00, 12.10s/it]\u001b[A\n",
      "\n",
      "Running ES algorithms:   0%|          | 0/1 [00:00<?, ?it/s]\u001b[A"
     ]
    },
    {
     "name": "stdout",
     "output_type": "stream",
     "text": [
      "running the experiment ... [../experiment_results/GymnaxProblem/PointRobot-misc/DiscoveredES/2.json]\n"
     ]
    },
    {
     "name": "stderr",
     "output_type": "stream",
     "text": [
      "\n",
      "Running ES algorithms: 100%|██████████| 1/1 [00:12<00:00, 12.07s/it]\u001b[A\n",
      "\n",
      "Running ES algorithms:   0%|          | 0/1 [00:00<?, ?it/s]\u001b[A"
     ]
    },
    {
     "name": "stdout",
     "output_type": "stream",
     "text": [
      "running the experiment ... [../experiment_results/GymnaxProblem/PointRobot-misc/DiscoveredES/3.json]\n"
     ]
    },
    {
     "name": "stderr",
     "output_type": "stream",
     "text": [
      "\n",
      "Running ES algorithms: 100%|██████████| 1/1 [00:11<00:00, 11.96s/it]\u001b[A\n",
      "\n",
      "Running ES algorithms:   0%|          | 0/1 [00:00<?, ?it/s]\u001b[A"
     ]
    },
    {
     "name": "stdout",
     "output_type": "stream",
     "text": [
      "running the experiment ... [../experiment_results/GymnaxProblem/PointRobot-misc/DiscoveredES/4.json]\n"
     ]
    },
    {
     "name": "stderr",
     "output_type": "stream",
     "text": [
      "\n",
      "Running ES algorithms: 100%|██████████| 1/1 [00:11<00:00, 11.92s/it]\u001b[A\n",
      "\n",
      "Running ES algorithms:   0%|          | 0/1 [00:00<?, ?it/s]\u001b[A"
     ]
    },
    {
     "name": "stdout",
     "output_type": "stream",
     "text": [
      "running the experiment ... [../experiment_results/GymnaxProblem/PointRobot-misc/EvoTF_ES/0.json]\n"
     ]
    },
    {
     "name": "stderr",
     "output_type": "stream",
     "text": [
      "Running ES algorithms:   0%|          | 0/1 [00:01<?, ?it/s]\n",
      "Loading Problems ..:  79%|███████▉  | 19/24 [1:12:43<19:13, 230.63s/it]"
     ]
    },
    {
     "name": "stdout",
     "output_type": "stream",
     "text": [
      "Failed to load: PointRobot-misc RESOURCE_EXHAUSTED: Out of memory while trying to allocate 3898146816 bytes.\n",
      "Successfully loaded: BernoulliBandit-misc\n"
     ]
    },
    {
     "name": "stderr",
     "output_type": "stream",
     "text": [
      "\n",
      "Running ES algorithms:   0%|          | 0/1 [00:00<?, ?it/s]\u001b[A"
     ]
    },
    {
     "name": "stdout",
     "output_type": "stream",
     "text": [
      "running the experiment ... [../experiment_results/GymnaxProblem/BernoulliBandit-misc/SimpleES/0.json]\n"
     ]
    },
    {
     "name": "stderr",
     "output_type": "stream",
     "text": [
      "Running ES algorithms:   0%|          | 0/1 [00:01<?, ?it/s]\n",
      "Loading Problems ..:  83%|████████▎ | 20/24 [1:12:47<10:49, 162.47s/it]"
     ]
    },
    {
     "name": "stdout",
     "output_type": "stream",
     "text": [
      "Failed to load: BernoulliBandit-misc Shapes must be 1D sequences of concrete values of integer type, got (1, 100.0).\n",
      "Successfully loaded: GaussianBandit-misc\n"
     ]
    },
    {
     "name": "stderr",
     "output_type": "stream",
     "text": [
      "\n",
      "Running ES algorithms:   0%|          | 0/1 [00:00<?, ?it/s]\u001b[A"
     ]
    },
    {
     "name": "stdout",
     "output_type": "stream",
     "text": [
      "running the experiment ... [../experiment_results/GymnaxProblem/GaussianBandit-misc/SimpleES/0.json]\n"
     ]
    },
    {
     "name": "stderr",
     "output_type": "stream",
     "text": [
      "\n",
      "Running ES algorithms: 100%|██████████| 1/1 [00:13<00:00, 13.13s/it]\u001b[A\n",
      "\n",
      "Running ES algorithms:   0%|          | 0/1 [00:00<?, ?it/s]\u001b[A"
     ]
    },
    {
     "name": "stdout",
     "output_type": "stream",
     "text": [
      "running the experiment ... [../experiment_results/GymnaxProblem/GaussianBandit-misc/SimpleES/1.json]\n"
     ]
    },
    {
     "name": "stderr",
     "output_type": "stream",
     "text": [
      "\n",
      "Running ES algorithms: 100%|██████████| 1/1 [00:10<00:00, 10.48s/it]\u001b[A\n",
      "\n",
      "Running ES algorithms:   0%|          | 0/1 [00:00<?, ?it/s]\u001b[A"
     ]
    },
    {
     "name": "stdout",
     "output_type": "stream",
     "text": [
      "running the experiment ... [../experiment_results/GymnaxProblem/GaussianBandit-misc/SimpleES/2.json]\n"
     ]
    },
    {
     "name": "stderr",
     "output_type": "stream",
     "text": [
      "\n",
      "Running ES algorithms: 100%|██████████| 1/1 [00:10<00:00, 10.42s/it]\u001b[A\n",
      "\n",
      "Running ES algorithms:   0%|          | 0/1 [00:00<?, ?it/s]\u001b[A"
     ]
    },
    {
     "name": "stdout",
     "output_type": "stream",
     "text": [
      "running the experiment ... [../experiment_results/GymnaxProblem/GaussianBandit-misc/SimpleES/3.json]\n"
     ]
    },
    {
     "name": "stderr",
     "output_type": "stream",
     "text": [
      "\n",
      "Running ES algorithms: 100%|██████████| 1/1 [00:10<00:00, 10.31s/it]\u001b[A\n",
      "\n",
      "Running ES algorithms:   0%|          | 0/1 [00:00<?, ?it/s]\u001b[A"
     ]
    },
    {
     "name": "stdout",
     "output_type": "stream",
     "text": [
      "running the experiment ... [../experiment_results/GymnaxProblem/GaussianBandit-misc/SimpleES/4.json]\n"
     ]
    },
    {
     "name": "stderr",
     "output_type": "stream",
     "text": [
      "\n",
      "Running ES algorithms: 100%|██████████| 1/1 [00:10<00:00, 10.38s/it]\u001b[A\n",
      "\n",
      "Running ES algorithms:   0%|          | 0/1 [00:00<?, ?it/s]\u001b[A"
     ]
    },
    {
     "name": "stdout",
     "output_type": "stream",
     "text": [
      "running the experiment ... [../experiment_results/GymnaxProblem/GaussianBandit-misc/LearnedES/0.json]\n"
     ]
    },
    {
     "name": "stderr",
     "output_type": "stream",
     "text": [
      "\n",
      "Running ES algorithms: 100%|██████████| 1/1 [00:10<00:00, 10.87s/it]\u001b[A\n",
      "\n",
      "Running ES algorithms:   0%|          | 0/1 [00:00<?, ?it/s]\u001b[A"
     ]
    },
    {
     "name": "stdout",
     "output_type": "stream",
     "text": [
      "running the experiment ... [../experiment_results/GymnaxProblem/GaussianBandit-misc/LearnedES/1.json]\n"
     ]
    },
    {
     "name": "stderr",
     "output_type": "stream",
     "text": [
      "\n",
      "Running ES algorithms: 100%|██████████| 1/1 [00:10<00:00, 10.68s/it]\u001b[A\n",
      "\n",
      "Running ES algorithms:   0%|          | 0/1 [00:00<?, ?it/s]\u001b[A"
     ]
    },
    {
     "name": "stdout",
     "output_type": "stream",
     "text": [
      "running the experiment ... [../experiment_results/GymnaxProblem/GaussianBandit-misc/LearnedES/2.json]\n"
     ]
    },
    {
     "name": "stderr",
     "output_type": "stream",
     "text": [
      "\n",
      "Running ES algorithms: 100%|██████████| 1/1 [00:10<00:00, 10.58s/it]\u001b[A\n",
      "\n",
      "Running ES algorithms:   0%|          | 0/1 [00:00<?, ?it/s]\u001b[A"
     ]
    },
    {
     "name": "stdout",
     "output_type": "stream",
     "text": [
      "running the experiment ... [../experiment_results/GymnaxProblem/GaussianBandit-misc/LearnedES/3.json]\n"
     ]
    },
    {
     "name": "stderr",
     "output_type": "stream",
     "text": [
      "\n",
      "Running ES algorithms: 100%|██████████| 1/1 [00:10<00:00, 10.72s/it]\u001b[A\n",
      "\n",
      "Running ES algorithms:   0%|          | 0/1 [00:00<?, ?it/s]\u001b[A"
     ]
    },
    {
     "name": "stdout",
     "output_type": "stream",
     "text": [
      "running the experiment ... [../experiment_results/GymnaxProblem/GaussianBandit-misc/LearnedES/4.json]\n"
     ]
    },
    {
     "name": "stderr",
     "output_type": "stream",
     "text": [
      "\n",
      "Running ES algorithms: 100%|██████████| 1/1 [00:10<00:00, 10.76s/it]\u001b[A\n",
      "\n",
      "Running ES algorithms:   0%|          | 0/1 [00:00<?, ?it/s]\u001b[A"
     ]
    },
    {
     "name": "stdout",
     "output_type": "stream",
     "text": [
      "running the experiment ... [../experiment_results/GymnaxProblem/GaussianBandit-misc/DiscoveredES/0.json]\n"
     ]
    },
    {
     "name": "stderr",
     "output_type": "stream",
     "text": [
      "\n",
      "Running ES algorithms: 100%|██████████| 1/1 [00:10<00:00, 10.49s/it]\u001b[A\n",
      "\n",
      "Running ES algorithms:   0%|          | 0/1 [00:00<?, ?it/s]\u001b[A"
     ]
    },
    {
     "name": "stdout",
     "output_type": "stream",
     "text": [
      "running the experiment ... [../experiment_results/GymnaxProblem/GaussianBandit-misc/DiscoveredES/1.json]\n"
     ]
    },
    {
     "name": "stderr",
     "output_type": "stream",
     "text": [
      "\n",
      "Running ES algorithms: 100%|██████████| 1/1 [00:10<00:00, 10.52s/it]\u001b[A\n",
      "\n",
      "Running ES algorithms:   0%|          | 0/1 [00:00<?, ?it/s]\u001b[A"
     ]
    },
    {
     "name": "stdout",
     "output_type": "stream",
     "text": [
      "running the experiment ... [../experiment_results/GymnaxProblem/GaussianBandit-misc/DiscoveredES/2.json]\n"
     ]
    },
    {
     "name": "stderr",
     "output_type": "stream",
     "text": [
      "\n",
      "Running ES algorithms: 100%|██████████| 1/1 [00:10<00:00, 10.51s/it]\u001b[A\n",
      "\n",
      "Running ES algorithms:   0%|          | 0/1 [00:00<?, ?it/s]\u001b[A"
     ]
    },
    {
     "name": "stdout",
     "output_type": "stream",
     "text": [
      "running the experiment ... [../experiment_results/GymnaxProblem/GaussianBandit-misc/DiscoveredES/3.json]\n"
     ]
    },
    {
     "name": "stderr",
     "output_type": "stream",
     "text": [
      "\n",
      "Running ES algorithms: 100%|██████████| 1/1 [00:10<00:00, 10.59s/it]\u001b[A\n",
      "\n",
      "Running ES algorithms:   0%|          | 0/1 [00:00<?, ?it/s]\u001b[A"
     ]
    },
    {
     "name": "stdout",
     "output_type": "stream",
     "text": [
      "running the experiment ... [../experiment_results/GymnaxProblem/GaussianBandit-misc/DiscoveredES/4.json]\n"
     ]
    },
    {
     "name": "stderr",
     "output_type": "stream",
     "text": [
      "\n",
      "Running ES algorithms: 100%|██████████| 1/1 [00:10<00:00, 10.48s/it]\u001b[A\n",
      "\n",
      "Running ES algorithms:   0%|          | 0/1 [00:00<?, ?it/s]\u001b[A"
     ]
    },
    {
     "name": "stdout",
     "output_type": "stream",
     "text": [
      "running the experiment ... [../experiment_results/GymnaxProblem/GaussianBandit-misc/EvoTF_ES/0.json]\n"
     ]
    },
    {
     "name": "stderr",
     "output_type": "stream",
     "text": [
      "Running ES algorithms:   0%|          | 0/1 [00:01<?, ?it/s]\n",
      "Loading Problems ..:  88%|████████▊ | 21/24 [1:15:33<08:10, 163.46s/it]"
     ]
    },
    {
     "name": "stdout",
     "output_type": "stream",
     "text": [
      "Failed to load: GaussianBandit-misc RESOURCE_EXHAUSTED: Out of memory while trying to allocate 3793289216 bytes.\n",
      "Successfully loaded: Reacher-misc\n"
     ]
    },
    {
     "name": "stderr",
     "output_type": "stream",
     "text": [
      "\n",
      "Running ES algorithms:   0%|          | 0/1 [00:00<?, ?it/s]\u001b[A"
     ]
    },
    {
     "name": "stdout",
     "output_type": "stream",
     "text": [
      "running the experiment ... [../experiment_results/GymnaxProblem/Reacher-misc/SimpleES/0.json]\n"
     ]
    },
    {
     "name": "stderr",
     "output_type": "stream",
     "text": [
      "\n",
      "Running ES algorithms: 100%|██████████| 1/1 [00:14<00:00, 14.78s/it]\u001b[A\n",
      "\n",
      "Running ES algorithms:   0%|          | 0/1 [00:00<?, ?it/s]\u001b[A"
     ]
    },
    {
     "name": "stdout",
     "output_type": "stream",
     "text": [
      "running the experiment ... [../experiment_results/GymnaxProblem/Reacher-misc/SimpleES/1.json]\n"
     ]
    },
    {
     "name": "stderr",
     "output_type": "stream",
     "text": [
      "\n",
      "Running ES algorithms: 100%|██████████| 1/1 [00:11<00:00, 11.42s/it]\u001b[A\n",
      "\n",
      "Running ES algorithms:   0%|          | 0/1 [00:00<?, ?it/s]\u001b[A"
     ]
    },
    {
     "name": "stdout",
     "output_type": "stream",
     "text": [
      "running the experiment ... [../experiment_results/GymnaxProblem/Reacher-misc/SimpleES/2.json]\n"
     ]
    },
    {
     "name": "stderr",
     "output_type": "stream",
     "text": [
      "\n",
      "Running ES algorithms: 100%|██████████| 1/1 [00:11<00:00, 11.30s/it]\u001b[A\n",
      "\n",
      "Running ES algorithms:   0%|          | 0/1 [00:00<?, ?it/s]\u001b[A"
     ]
    },
    {
     "name": "stdout",
     "output_type": "stream",
     "text": [
      "running the experiment ... [../experiment_results/GymnaxProblem/Reacher-misc/SimpleES/3.json]\n"
     ]
    },
    {
     "name": "stderr",
     "output_type": "stream",
     "text": [
      "\n",
      "Running ES algorithms: 100%|██████████| 1/1 [00:11<00:00, 11.17s/it]\u001b[A\n",
      "\n",
      "Running ES algorithms:   0%|          | 0/1 [00:00<?, ?it/s]\u001b[A"
     ]
    },
    {
     "name": "stdout",
     "output_type": "stream",
     "text": [
      "running the experiment ... [../experiment_results/GymnaxProblem/Reacher-misc/SimpleES/4.json]\n"
     ]
    },
    {
     "name": "stderr",
     "output_type": "stream",
     "text": [
      "\n",
      "Running ES algorithms: 100%|██████████| 1/1 [00:11<00:00, 11.24s/it]\u001b[A\n",
      "\n",
      "Running ES algorithms:   0%|          | 0/1 [00:00<?, ?it/s]\u001b[A"
     ]
    },
    {
     "name": "stdout",
     "output_type": "stream",
     "text": [
      "running the experiment ... [../experiment_results/GymnaxProblem/Reacher-misc/LearnedES/0.json]\n"
     ]
    },
    {
     "name": "stderr",
     "output_type": "stream",
     "text": [
      "\n",
      "Running ES algorithms: 100%|██████████| 1/1 [00:11<00:00, 11.61s/it]\u001b[A\n",
      "\n",
      "Running ES algorithms:   0%|          | 0/1 [00:00<?, ?it/s]\u001b[A"
     ]
    },
    {
     "name": "stdout",
     "output_type": "stream",
     "text": [
      "running the experiment ... [../experiment_results/GymnaxProblem/Reacher-misc/LearnedES/1.json]\n"
     ]
    },
    {
     "name": "stderr",
     "output_type": "stream",
     "text": [
      "\n",
      "Running ES algorithms: 100%|██████████| 1/1 [00:11<00:00, 11.64s/it]\u001b[A\n",
      "\n",
      "Running ES algorithms:   0%|          | 0/1 [00:00<?, ?it/s]\u001b[A"
     ]
    },
    {
     "name": "stdout",
     "output_type": "stream",
     "text": [
      "running the experiment ... [../experiment_results/GymnaxProblem/Reacher-misc/LearnedES/2.json]\n"
     ]
    },
    {
     "name": "stderr",
     "output_type": "stream",
     "text": [
      "\n",
      "Running ES algorithms: 100%|██████████| 1/1 [00:11<00:00, 11.60s/it]\u001b[A\n",
      "\n",
      "Running ES algorithms:   0%|          | 0/1 [00:00<?, ?it/s]\u001b[A"
     ]
    },
    {
     "name": "stdout",
     "output_type": "stream",
     "text": [
      "running the experiment ... [../experiment_results/GymnaxProblem/Reacher-misc/LearnedES/3.json]\n"
     ]
    },
    {
     "name": "stderr",
     "output_type": "stream",
     "text": [
      "\n",
      "Running ES algorithms: 100%|██████████| 1/1 [00:11<00:00, 11.49s/it]\u001b[A\n",
      "\n",
      "Running ES algorithms:   0%|          | 0/1 [00:00<?, ?it/s]\u001b[A"
     ]
    },
    {
     "name": "stdout",
     "output_type": "stream",
     "text": [
      "running the experiment ... [../experiment_results/GymnaxProblem/Reacher-misc/LearnedES/4.json]\n"
     ]
    },
    {
     "name": "stderr",
     "output_type": "stream",
     "text": [
      "\n",
      "Running ES algorithms: 100%|██████████| 1/1 [00:11<00:00, 11.62s/it]\u001b[A\n",
      "\n",
      "Running ES algorithms:   0%|          | 0/1 [00:00<?, ?it/s]\u001b[A"
     ]
    },
    {
     "name": "stdout",
     "output_type": "stream",
     "text": [
      "running the experiment ... [../experiment_results/GymnaxProblem/Reacher-misc/DiscoveredES/0.json]\n"
     ]
    },
    {
     "name": "stderr",
     "output_type": "stream",
     "text": [
      "\n",
      "Running ES algorithms: 100%|██████████| 1/1 [00:11<00:00, 11.25s/it]\u001b[A\n",
      "\n",
      "Running ES algorithms:   0%|          | 0/1 [00:00<?, ?it/s]\u001b[A"
     ]
    },
    {
     "name": "stdout",
     "output_type": "stream",
     "text": [
      "running the experiment ... [../experiment_results/GymnaxProblem/Reacher-misc/DiscoveredES/1.json]\n"
     ]
    },
    {
     "name": "stderr",
     "output_type": "stream",
     "text": [
      "\n",
      "Running ES algorithms: 100%|██████████| 1/1 [00:11<00:00, 11.20s/it]\u001b[A\n",
      "\n",
      "Running ES algorithms:   0%|          | 0/1 [00:00<?, ?it/s]\u001b[A"
     ]
    },
    {
     "name": "stdout",
     "output_type": "stream",
     "text": [
      "running the experiment ... [../experiment_results/GymnaxProblem/Reacher-misc/DiscoveredES/2.json]\n"
     ]
    },
    {
     "name": "stderr",
     "output_type": "stream",
     "text": [
      "\n",
      "Running ES algorithms: 100%|██████████| 1/1 [00:11<00:00, 11.25s/it]\u001b[A\n",
      "\n",
      "Running ES algorithms:   0%|          | 0/1 [00:00<?, ?it/s]\u001b[A"
     ]
    },
    {
     "name": "stdout",
     "output_type": "stream",
     "text": [
      "running the experiment ... [../experiment_results/GymnaxProblem/Reacher-misc/DiscoveredES/3.json]\n"
     ]
    },
    {
     "name": "stderr",
     "output_type": "stream",
     "text": [
      "\n",
      "Running ES algorithms: 100%|██████████| 1/1 [00:11<00:00, 11.26s/it]\u001b[A\n",
      "\n",
      "Running ES algorithms:   0%|          | 0/1 [00:00<?, ?it/s]\u001b[A"
     ]
    },
    {
     "name": "stdout",
     "output_type": "stream",
     "text": [
      "running the experiment ... [../experiment_results/GymnaxProblem/Reacher-misc/DiscoveredES/4.json]\n"
     ]
    },
    {
     "name": "stderr",
     "output_type": "stream",
     "text": [
      "\n",
      "Running ES algorithms: 100%|██████████| 1/1 [00:12<00:00, 12.18s/it]\u001b[A\n",
      "\n",
      "Running ES algorithms:   0%|          | 0/1 [00:00<?, ?it/s]\u001b[A"
     ]
    },
    {
     "name": "stdout",
     "output_type": "stream",
     "text": [
      "running the experiment ... [../experiment_results/GymnaxProblem/Reacher-misc/EvoTF_ES/0.json]\n"
     ]
    },
    {
     "name": "stderr",
     "output_type": "stream",
     "text": [
      "Running ES algorithms:   0%|          | 0/1 [00:02<?, ?it/s]\n",
      "Loading Problems ..:  92%|█████████▏| 22/24 [1:18:33<05:36, 168.50s/it]"
     ]
    },
    {
     "name": "stdout",
     "output_type": "stream",
     "text": [
      "Failed to load: Reacher-misc RESOURCE_EXHAUSTED: Out of memory while trying to allocate 4003004416 bytes.\n",
      "Successfully loaded: Swimmer-misc\n"
     ]
    },
    {
     "name": "stderr",
     "output_type": "stream",
     "text": [
      "\n",
      "Running ES algorithms:   0%|          | 0/1 [00:00<?, ?it/s]\u001b[A"
     ]
    },
    {
     "name": "stdout",
     "output_type": "stream",
     "text": [
      "running the experiment ... [../experiment_results/GymnaxProblem/Swimmer-misc/SimpleES/0.json]\n"
     ]
    },
    {
     "name": "stderr",
     "output_type": "stream",
     "text": [
      "\n",
      "Running ES algorithms: 100%|██████████| 1/1 [00:35<00:00, 35.57s/it]\u001b[A\n",
      "\n",
      "Running ES algorithms:   0%|          | 0/1 [00:00<?, ?it/s]\u001b[A"
     ]
    },
    {
     "name": "stdout",
     "output_type": "stream",
     "text": [
      "running the experiment ... [../experiment_results/GymnaxProblem/Swimmer-misc/SimpleES/1.json]\n"
     ]
    },
    {
     "name": "stderr",
     "output_type": "stream",
     "text": [
      "\n",
      "Running ES algorithms: 100%|██████████| 1/1 [00:32<00:00, 32.51s/it]\u001b[A\n",
      "\n",
      "Running ES algorithms:   0%|          | 0/1 [00:00<?, ?it/s]\u001b[A"
     ]
    },
    {
     "name": "stdout",
     "output_type": "stream",
     "text": [
      "running the experiment ... [../experiment_results/GymnaxProblem/Swimmer-misc/SimpleES/2.json]\n"
     ]
    },
    {
     "name": "stderr",
     "output_type": "stream",
     "text": [
      "\n",
      "Running ES algorithms: 100%|██████████| 1/1 [00:32<00:00, 32.07s/it]\u001b[A\n",
      "\n",
      "Running ES algorithms:   0%|          | 0/1 [00:00<?, ?it/s]\u001b[A"
     ]
    },
    {
     "name": "stdout",
     "output_type": "stream",
     "text": [
      "running the experiment ... [../experiment_results/GymnaxProblem/Swimmer-misc/SimpleES/3.json]\n"
     ]
    },
    {
     "name": "stderr",
     "output_type": "stream",
     "text": [
      "\n",
      "Running ES algorithms: 100%|██████████| 1/1 [00:32<00:00, 32.39s/it]\u001b[A\n",
      "\n",
      "Running ES algorithms:   0%|          | 0/1 [00:00<?, ?it/s]\u001b[A"
     ]
    },
    {
     "name": "stdout",
     "output_type": "stream",
     "text": [
      "running the experiment ... [../experiment_results/GymnaxProblem/Swimmer-misc/SimpleES/4.json]\n"
     ]
    },
    {
     "name": "stderr",
     "output_type": "stream",
     "text": [
      "\n",
      "Running ES algorithms: 100%|██████████| 1/1 [00:32<00:00, 32.54s/it]\u001b[A\n",
      "\n",
      "Running ES algorithms:   0%|          | 0/1 [00:00<?, ?it/s]\u001b[A"
     ]
    },
    {
     "name": "stdout",
     "output_type": "stream",
     "text": [
      "running the experiment ... [../experiment_results/GymnaxProblem/Swimmer-misc/LearnedES/0.json]\n"
     ]
    },
    {
     "name": "stderr",
     "output_type": "stream",
     "text": [
      "\n",
      "Running ES algorithms: 100%|██████████| 1/1 [00:33<00:00, 33.07s/it]\u001b[A\n",
      "\n",
      "Running ES algorithms:   0%|          | 0/1 [00:00<?, ?it/s]\u001b[A"
     ]
    },
    {
     "name": "stdout",
     "output_type": "stream",
     "text": [
      "running the experiment ... [../experiment_results/GymnaxProblem/Swimmer-misc/LearnedES/1.json]\n"
     ]
    },
    {
     "name": "stderr",
     "output_type": "stream",
     "text": [
      "\n",
      "Running ES algorithms: 100%|██████████| 1/1 [00:32<00:00, 32.67s/it]\u001b[A\n",
      "\n",
      "Running ES algorithms:   0%|          | 0/1 [00:00<?, ?it/s]\u001b[A"
     ]
    },
    {
     "name": "stdout",
     "output_type": "stream",
     "text": [
      "running the experiment ... [../experiment_results/GymnaxProblem/Swimmer-misc/LearnedES/2.json]\n"
     ]
    },
    {
     "name": "stderr",
     "output_type": "stream",
     "text": [
      "\n",
      "Running ES algorithms: 100%|██████████| 1/1 [00:32<00:00, 32.94s/it]\u001b[A\n",
      "\n",
      "Running ES algorithms:   0%|          | 0/1 [00:00<?, ?it/s]\u001b[A"
     ]
    },
    {
     "name": "stdout",
     "output_type": "stream",
     "text": [
      "running the experiment ... [../experiment_results/GymnaxProblem/Swimmer-misc/LearnedES/3.json]\n"
     ]
    },
    {
     "name": "stderr",
     "output_type": "stream",
     "text": [
      "\n",
      "Running ES algorithms: 100%|██████████| 1/1 [00:33<00:00, 33.18s/it]\u001b[A\n",
      "\n",
      "Running ES algorithms:   0%|          | 0/1 [00:00<?, ?it/s]\u001b[A"
     ]
    },
    {
     "name": "stdout",
     "output_type": "stream",
     "text": [
      "running the experiment ... [../experiment_results/GymnaxProblem/Swimmer-misc/LearnedES/4.json]\n"
     ]
    },
    {
     "name": "stderr",
     "output_type": "stream",
     "text": [
      "\n",
      "Running ES algorithms: 100%|██████████| 1/1 [00:32<00:00, 32.62s/it]\u001b[A\n",
      "\n",
      "Running ES algorithms:   0%|          | 0/1 [00:00<?, ?it/s]\u001b[A"
     ]
    },
    {
     "name": "stdout",
     "output_type": "stream",
     "text": [
      "running the experiment ... [../experiment_results/GymnaxProblem/Swimmer-misc/DiscoveredES/0.json]\n"
     ]
    },
    {
     "name": "stderr",
     "output_type": "stream",
     "text": [
      "\n",
      "Running ES algorithms: 100%|██████████| 1/1 [00:32<00:00, 32.51s/it]\u001b[A\n",
      "\n",
      "Running ES algorithms:   0%|          | 0/1 [00:00<?, ?it/s]\u001b[A"
     ]
    },
    {
     "name": "stdout",
     "output_type": "stream",
     "text": [
      "running the experiment ... [../experiment_results/GymnaxProblem/Swimmer-misc/DiscoveredES/1.json]\n"
     ]
    },
    {
     "name": "stderr",
     "output_type": "stream",
     "text": [
      "\n",
      "Running ES algorithms: 100%|██████████| 1/1 [00:32<00:00, 32.93s/it]\u001b[A\n",
      "\n",
      "Running ES algorithms:   0%|          | 0/1 [00:00<?, ?it/s]\u001b[A"
     ]
    },
    {
     "name": "stdout",
     "output_type": "stream",
     "text": [
      "running the experiment ... [../experiment_results/GymnaxProblem/Swimmer-misc/DiscoveredES/2.json]\n"
     ]
    },
    {
     "name": "stderr",
     "output_type": "stream",
     "text": [
      "\n",
      "Running ES algorithms: 100%|██████████| 1/1 [00:32<00:00, 32.41s/it]\u001b[A\n",
      "\n",
      "Running ES algorithms:   0%|          | 0/1 [00:00<?, ?it/s]\u001b[A"
     ]
    },
    {
     "name": "stdout",
     "output_type": "stream",
     "text": [
      "running the experiment ... [../experiment_results/GymnaxProblem/Swimmer-misc/DiscoveredES/3.json]\n"
     ]
    },
    {
     "name": "stderr",
     "output_type": "stream",
     "text": [
      "\n",
      "Running ES algorithms: 100%|██████████| 1/1 [00:31<00:00, 31.93s/it]\u001b[A\n",
      "\n",
      "Running ES algorithms:   0%|          | 0/1 [00:00<?, ?it/s]\u001b[A"
     ]
    },
    {
     "name": "stdout",
     "output_type": "stream",
     "text": [
      "running the experiment ... [../experiment_results/GymnaxProblem/Swimmer-misc/DiscoveredES/4.json]\n"
     ]
    },
    {
     "name": "stderr",
     "output_type": "stream",
     "text": [
      "\n",
      "Running ES algorithms: 100%|██████████| 1/1 [00:32<00:00, 32.14s/it]\u001b[A\n",
      "\n",
      "Running ES algorithms:   0%|          | 0/1 [00:00<?, ?it/s]\u001b[A"
     ]
    },
    {
     "name": "stdout",
     "output_type": "stream",
     "text": [
      "running the experiment ... [../experiment_results/GymnaxProblem/Swimmer-misc/EvoTF_ES/0.json]\n"
     ]
    },
    {
     "name": "stderr",
     "output_type": "stream",
     "text": [
      "Running ES algorithms:   0%|          | 0/1 [00:01<?, ?it/s]\n",
      "Loading Problems ..:  96%|█████████▌| 23/24 [1:26:50<04:27, 267.02s/it]"
     ]
    },
    {
     "name": "stdout",
     "output_type": "stream",
     "text": [
      "Failed to load: Swimmer-misc RESOURCE_EXHAUSTED: Out of memory while trying to allocate 4422434816 bytes.\n"
     ]
    },
    {
     "name": "stderr",
     "output_type": "stream",
     "text": [
      "Loading Problems ..: 100%|██████████| 24/24 [1:26:50<00:00, 217.12s/it]"
     ]
    },
    {
     "name": "stdout",
     "output_type": "stream",
     "text": [
      "Failed to load: Pong-misc select cases must have the same shapes, got [(30, 40), ()].\n"
     ]
    },
    {
     "name": "stderr",
     "output_type": "stream",
     "text": [
      "\n"
     ]
    }
   ],
   "source": [
    "for env_name in tqdm(problems_gymnax, desc=\"Loading Problems ..\"):\n",
    "    try:\n",
    "        action_num, out_fn = get_problem_settings(env_name)\n",
    "        problem = Problem(\n",
    "            env_name=env_name,\n",
    "            policy=MLP(\n",
    "                layer_sizes=(64, 64, action_num),\n",
    "                output_fn=out_fn,\n",
    "            )\n",
    "        )\n",
    "        print(\"Successfully loaded:\", env_name)\n",
    "        for es in es_dict:\n",
    "            for seed in seeds:\n",
    "                key = jax.random.key(seed)\n",
    "                run_experiment_permutations(problems=[problem],\n",
    "                                            es_dict={es: es_dict[es]},\n",
    "                                            num_generations=num_generations,\n",
    "                                            population_size=population_size,\n",
    "                                            seed=seed,\n",
    "                                            result_dir=result_dir, \n",
    "                                            run_again_if_exist=False)\n",
    "    except Exception as e:\n",
    "        print(\"Failed to load:\", env_name, e)\n",
    "        continue"
   ]
  },
  {
   "cell_type": "code",
   "execution_count": null,
   "id": "edeca49d-6f26-4117-be41-2c6e1ac0ad7e",
   "metadata": {},
   "outputs": [],
   "source": []
  }
 ],
 "metadata": {
  "kernelspec": {
   "display_name": "Python 3 (ipykernel)",
   "language": "python",
   "name": "python3"
  },
  "language_info": {
   "codemirror_mode": {
    "name": "ipython",
    "version": 3
   },
   "file_extension": ".py",
   "mimetype": "text/x-python",
   "name": "python",
   "nbconvert_exporter": "python",
   "pygments_lexer": "ipython3",
   "version": "3.10.16"
  }
 },
 "nbformat": 4,
 "nbformat_minor": 5
}
