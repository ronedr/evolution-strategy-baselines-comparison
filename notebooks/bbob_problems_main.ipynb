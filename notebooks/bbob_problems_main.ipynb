{
 "cells": [
  {
   "cell_type": "code",
   "id": "bc96cc7a-8648-4dfd-a2b5-f64dff4f30c6",
   "metadata": {
    "ExecuteTime": {
     "end_time": "2025-08-08T15:16:42.631293Z",
     "start_time": "2025-08-08T15:16:42.602029Z"
    }
   },
   "source": [
    "import sys\n",
    "sys.path.append('/mnt/new_home/ronedr/evolution-strategy-baselines-comparison')"
   ],
   "outputs": [],
   "execution_count": 3
  },
  {
   "cell_type": "code",
   "id": "1d5a2858-24f6-4907-94cd-b2957a8d862e",
   "metadata": {
    "ExecuteTime": {
     "end_time": "2025-08-08T15:16:56.566539Z",
     "start_time": "2025-08-08T15:16:43.222315Z"
    }
   },
   "source": [
    "from tqdm import tqdm\n",
    "from evosax.problems import BBOBProblem as Problem, bbob_fns\n",
    "from experiment.run_experiments import run_experiment_permutations"
   ],
   "outputs": [],
   "execution_count": 4
  },
  {
   "cell_type": "code",
   "id": "b7167a5e-feb0-4096-a817-04f91625c884",
   "metadata": {
    "ExecuteTime": {
     "end_time": "2025-08-08T15:16:56.595961Z",
     "start_time": "2025-08-08T15:16:56.569061Z"
    }
   },
   "source": [
    "num_dims = 2\n",
    "es_dict = {\n",
    "    \"SimpleES\": {},\n",
    "    \"LES\": {},\n",
    "    \"DES\": {},\n",
    "    \"EvoTF_ES\": {},\n",
    "    \"PGPE\": {},\n",
    "    \"Open_ES\": {},\n",
    "    \"SNES\": {},\n",
    "    \"Sep_CMA_ES\": {},\n",
    "    \"CMA_ES\": {},\n",
    "}\n",
    "\n",
    "num_generations = 8_192\n",
    "population_size = 1_024\n",
    "seeds = list(range(0, 5))\n",
    "result_dir = \"../experiment_results\"\n",
    "problems_bbob_fns = list(bbob_fns.keys())"
   ],
   "outputs": [],
   "execution_count": 5
  },
  {
   "cell_type": "code",
   "id": "2208eb8b-8e36-4758-87b7-93d1201b7357",
   "metadata": {
    "scrolled": true,
    "ExecuteTime": {
     "end_time": "2025-08-08T15:17:30.660358Z",
     "start_time": "2025-08-08T15:16:57.830220Z"
    }
   },
   "source": [
    "for bbob_fn in tqdm(problems_bbob_fns, desc=\"Loading Problems ..\"):\n",
    "    try:\n",
    "        problem = Problem(fn_name=bbob_fn, num_dims=num_dims)\n",
    "        print(\"Successfully loaded:\", bbob_fn)\n",
    "        for es in es_dict:\n",
    "            for seed in seeds:\n",
    "                run_experiment_permutations(problems=[problem],\n",
    "                                            es_dict={es: es_dict[es]},\n",
    "                                            num_generations=num_generations,\n",
    "                                            population_size=population_size,\n",
    "                                            seed=seed,\n",
    "                                            result_dir=result_dir,\n",
    "                                            run_again_if_exist=False)\n",
    "    except Exception as e:\n",
    "        print(\"Failed to load:\", bbob_fn, e)\n",
    "        continue"
   ],
   "outputs": [
    {
     "name": "stderr",
     "output_type": "stream",
     "text": [
      "Loading Problems ..:   0%|          | 0/24 [00:00<?, ?it/s]"
     ]
    },
    {
     "name": "stdout",
     "output_type": "stream",
     "text": [
      "Successfully loaded: sphere\n"
     ]
    },
    {
     "name": "stderr",
     "output_type": "stream",
     "text": [
      "\n",
      "Running ES algorithms:   0%|          | 0/1 [00:00<?, ?it/s]\u001B[A"
     ]
    },
    {
     "name": "stdout",
     "output_type": "stream",
     "text": [
      "running the experiment ... [../experiment_results/BBOBProblem/sphere/SimpleES/0.json]\n"
     ]
    },
    {
     "name": "stderr",
     "output_type": "stream",
     "text": [
      "\n",
      "Running ES algorithms: 100%|██████████| 1/1 [00:15<00:00, 15.97s/it]\u001B[A\n",
      "\n",
      "Running ES algorithms:   0%|          | 0/1 [00:00<?, ?it/s]\u001B[A"
     ]
    },
    {
     "name": "stdout",
     "output_type": "stream",
     "text": [
      "running the experiment ... [../experiment_results/BBOBProblem/sphere/SimpleES/1.json]\n"
     ]
    },
    {
     "name": "stderr",
     "output_type": "stream",
     "text": [
      "Running ES algorithms:   0%|          | 0/1 [00:11<?, ?it/s]\n",
      "Loading Problems ..:   0%|          | 0/24 [00:32<?, ?it/s]\n",
      "\n",
      "KeyboardInterrupt\n",
      "\n"
     ]
    }
   ],
   "execution_count": 6
  },
  {
   "metadata": {},
   "cell_type": "code",
   "outputs": [],
   "execution_count": null,
   "source": "",
   "id": "e66055cc2f184159"
  }
 ],
 "metadata": {
  "kernelspec": {
   "display_name": "Python (jax_cpu_env)",
   "language": "python",
   "name": "jax_cpu_env"
  },
  "language_info": {
   "codemirror_mode": {
    "name": "ipython",
    "version": 3
   },
   "file_extension": ".py",
   "mimetype": "text/x-python",
   "name": "python",
   "nbconvert_exporter": "python",
   "pygments_lexer": "ipython3",
   "version": "3.11.7"
  }
 },
 "nbformat": 4,
 "nbformat_minor": 5
}
