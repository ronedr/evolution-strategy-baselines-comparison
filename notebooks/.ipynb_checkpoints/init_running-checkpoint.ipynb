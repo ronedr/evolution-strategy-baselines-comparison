{
 "cells": [
  {
   "cell_type": "code",
   "execution_count": 6,
   "id": "f234bfdb-6f94-4b45-a6ce-31437c4944d9",
   "metadata": {},
   "outputs": [],
   "source": [
    "import sys\n",
    "import os\n",
    "\n",
    "# Add the notebook's directory to the module search path\n",
    "sys.path.append(\"/mnt/new_home/ronedr/evolution-strategy-baselines-comparison/experiment/experiment.py\")\n",
    "sys.path.append(\"/mnt/new_home/ronedr/evolution-strategy-baselines-comparison/experiment/compare_results.py\")\n",
    "sys.path.append(\"/mnt/new_home/ronedr/evolution-strategy-baselines-comparison/experiment/run_experiments.py\")\n"
   ]
  }
 ],
 "metadata": {
  "kernelspec": {
   "display_name": "ronedr_es",
   "language": "python",
   "name": "ronedr_es_env"
  },
  "language_info": {
   "codemirror_mode": {
    "name": "ipython",
    "version": 3
   },
   "file_extension": ".py",
   "mimetype": "text/x-python",
   "name": "python",
   "nbconvert_exporter": "python",
   "pygments_lexer": "ipython3",
   "version": "3.11.7"
  }
 },
 "nbformat": 4,
 "nbformat_minor": 5
}
