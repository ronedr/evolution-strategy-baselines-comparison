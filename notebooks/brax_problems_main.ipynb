{
 "cells": [
  {
   "metadata": {
    "ExecuteTime": {
     "end_time": "2025-07-20T16:26:42.927552Z",
     "start_time": "2025-07-20T16:26:37.339249Z"
    }
   },
   "cell_type": "code",
   "source": [
    "import brax.envs as brax_envs\n",
    "from evosax.problems import BraxProblem as Problem\n",
    "from evosax.problems.networks import MLP, tanh_output_fn\n",
    "\n",
    "policy = MLP(\n",
    "    layer_sizes=(32, 32, 32, 32, 8),\n",
    "    output_fn=tanh_output_fn,\n",
    ")\n",
    "\n",
    "problems = [Problem(env_name=env_name, policy=policy, episode_length=1000, num_rollouts=16, use_normalize_obs=True) for\n",
    "            env_name in list(brax_envs._envs.keys())]\n",
    "\n",
    "es_dict = {\n",
    "    \"LES\": {},\n",
    "    \"DES\": {},\n",
    "    \"SimpleES\": {},\n",
    "    \"PGPE\": {},\n",
    "    \"Open_ES\": {},\n",
    "    \"SNES\": {},\n",
    "    \"Sep_CMA_ES\": {},\n",
    "    \"CMA_ES\": {},\n",
    "}"
   ],
   "id": "7efb354f109e76ad",
   "outputs": [
    {
     "name": "stderr",
     "output_type": "stream",
     "text": [
      "C:\\Users\\USER\\Documents\\ES\\evolution-strategy-baselines-comparison\\.venv\\lib\\site-packages\\brax\\io\\mjcf.py:480: UserWarning:\n",
      "\n",
      "Brax System, piplines and environments are not actively being maintained. Please see MJX for a well maintained JAX-based physics engine: https://github.com/google-deepmind/mujoco/tree/main/mjx. For a host of environments that use MJX, see: https://github.com/google-deepmind/mujoco_playground.\n",
      "\n"
     ]
    }
   ],
   "execution_count": 6
  },
  {
   "metadata": {
    "ExecuteTime": {
     "start_time": "2025-07-20T16:26:44.595254Z"
    }
   },
   "cell_type": "code",
   "source": [
    "from experiment.run_experiments import run_experiment_permutations\n",
    "\n",
    "num_generations = 512\n",
    "population_size = 256\n",
    "seed = 0\n",
    "\n",
    "result_dir = \"../experiment_results\"\n",
    "\n",
    "run_experiment_permutations(problems=problems,\n",
    "                            es_dict=es_dict,\n",
    "                            num_generations=num_generations,\n",
    "                            population_size=population_size,\n",
    "                            seed=seed,\n",
    "                            result_dir=result_dir)"
   ],
   "id": "a84c4791a6f2078f",
   "outputs": [
    {
     "name": "stdout",
     "output_type": "stream",
     "text": [
      "Running LES...\n"
     ]
    }
   ],
   "execution_count": null
  }
 ],
 "metadata": {
  "kernelspec": {
   "display_name": "Python (jax_cpu_env)",
   "language": "python",
   "name": "jax_cpu_env"
  },
  "language_info": {
   "codemirror_mode": {
    "name": "ipython",
    "version": 2
   },
   "file_extension": ".py",
   "mimetype": "text/x-python",
   "name": "python",
   "nbconvert_exporter": "python",
   "pygments_lexer": "ipython2",
   "version": "2.7.6"
  }
 },
 "nbformat": 4,
 "nbformat_minor": 5
}
