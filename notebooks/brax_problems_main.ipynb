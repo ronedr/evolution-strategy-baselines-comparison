{
 "cells": [
  {
   "cell_type": "code",
   "execution_count": 1,
   "id": "f737e819-4932-465e-aeb5-b76dbd37316d",
   "metadata": {},
   "outputs": [],
   "source": [
    "import sys\n",
    "sys.path.append('/mnt/new_home/ronedr/evolution-strategy-baselines-comparison')"
   ]
  },
  {
   "cell_type": "code",
   "execution_count": 2,
   "id": "f6932bd9-9d2f-443e-9214-64700c28c2b9",
   "metadata": {},
   "outputs": [],
   "source": [
    "from tqdm import tqdm\n",
    "import brax.envs as brax_envs\n",
    "from evosax.problems import BraxProblem as Problem\n",
    "from evosax.problems.networks import MLP\n",
    "from utils.problem_utils import get_problem_settings\n",
    "from experiment.run_experiments import run_experiment_permutations"
   ]
  },
  {
   "cell_type": "code",
   "execution_count": 3,
   "id": "cd19dc37-4d6a-4a32-8ed2-4e06502f2990",
   "metadata": {},
   "outputs": [],
   "source": [
    "es_dict = {\n",
    "    \"LES\": {},\n",
    "    \"SimpleES\": {},\n",
    "    \"PGPE\": {},\n",
    "    \"Open_ES\": {},\n",
    "    \"SNES\": {},\n",
    "    \"Sep_CMA_ES\": {},\n",
    "    \"CMA_ES\": {},\n",
    "}\n",
    "\n",
    "num_generations = 512\n",
    "population_size = 128\n",
    "seed = 0\n",
    "\n",
    "result_dir = \"../experiment_results\"\n"
   ]
  },
  {
   "cell_type": "code",
   "execution_count": null,
   "id": "7efb354f109e76ad",
   "metadata": {
    "ExecuteTime": {
     "end_time": "2025-07-25T15:39:02.921057Z",
     "start_time": "2025-07-25T15:36:31.669865Z"
    }
   },
   "outputs": [
    {
     "name": "stderr",
     "output_type": "stream",
     "text": [
      "Loading Problems ..:   0%|          | 0/12 [00:00<?, ?it/s]"
     ]
    },
    {
     "name": "stdout",
     "output_type": "stream",
     "text": [
      "Successfully loaded: ant\n"
     ]
    },
    {
     "name": "stderr",
     "output_type": "stream",
     "text": [
      "Loading Problems ..:   8%|▊         | 1/12 [00:28<05:14, 28.58s/it]"
     ]
    },
    {
     "name": "stdout",
     "output_type": "stream",
     "text": [
      "../experiment_results/BraxProblem/ant/LearnedES.json\n",
      "Path exists\n",
      "../experiment_results/BraxProblem/ant/SimpleES.json\n",
      "Path exists\n",
      "../experiment_results/BraxProblem/ant/PGPE.json\n",
      "Path exists\n",
      "../experiment_results/BraxProblem/ant/Open_ES.json\n",
      "Path exists\n",
      "../experiment_results/BraxProblem/ant/SNES.json\n",
      "Path exists\n",
      "../experiment_results/BraxProblem/ant/Sep_CMA_ES.json\n",
      "Path exists\n",
      "../experiment_results/BraxProblem/ant/CMA_ES.json\n",
      "Path exists\n",
      "Successfully loaded: fast\n"
     ]
    },
    {
     "name": "stderr",
     "output_type": "stream",
     "text": [
      "Loading Problems ..:  17%|█▋        | 2/12 [00:30<02:09, 12.95s/it]"
     ]
    },
    {
     "name": "stdout",
     "output_type": "stream",
     "text": [
      "../experiment_results/BraxProblem/fast/LearnedES.json\n",
      "Path exists\n",
      "../experiment_results/BraxProblem/fast/SimpleES.json\n",
      "Path exists\n",
      "../experiment_results/BraxProblem/fast/PGPE.json\n",
      "Path exists\n",
      "../experiment_results/BraxProblem/fast/Open_ES.json\n",
      "Path exists\n",
      "../experiment_results/BraxProblem/fast/SNES.json\n",
      "Path exists\n",
      "../experiment_results/BraxProblem/fast/Sep_CMA_ES.json\n",
      "Path exists\n",
      "../experiment_results/BraxProblem/fast/CMA_ES.json\n",
      "Path exists\n",
      "Successfully loaded: halfcheetah\n"
     ]
    },
    {
     "name": "stderr",
     "output_type": "stream",
     "text": [
      "Loading Problems ..:  25%|██▌       | 3/12 [00:58<02:56, 19.57s/it]"
     ]
    },
    {
     "name": "stdout",
     "output_type": "stream",
     "text": [
      "../experiment_results/BraxProblem/halfcheetah/LearnedES.json\n",
      "Path exists\n",
      "../experiment_results/BraxProblem/halfcheetah/SimpleES.json\n",
      "Path exists\n",
      "../experiment_results/BraxProblem/halfcheetah/PGPE.json\n",
      "Path exists\n",
      "../experiment_results/BraxProblem/halfcheetah/Open_ES.json\n",
      "Path exists\n",
      "../experiment_results/BraxProblem/halfcheetah/SNES.json\n",
      "Path exists\n",
      "../experiment_results/BraxProblem/halfcheetah/Sep_CMA_ES.json\n",
      "Path exists\n",
      "../experiment_results/BraxProblem/halfcheetah/CMA_ES.json\n",
      "Path exists\n",
      "Successfully loaded: hopper\n"
     ]
    },
    {
     "name": "stderr",
     "output_type": "stream",
     "text": [
      "Loading Problems ..:  33%|███▎      | 4/12 [01:21<02:47, 20.96s/it]"
     ]
    },
    {
     "name": "stdout",
     "output_type": "stream",
     "text": [
      "../experiment_results/BraxProblem/hopper/LearnedES.json\n",
      "Path exists\n",
      "../experiment_results/BraxProblem/hopper/SimpleES.json\n",
      "Path exists\n",
      "../experiment_results/BraxProblem/hopper/PGPE.json\n",
      "Path exists\n",
      "../experiment_results/BraxProblem/hopper/Open_ES.json\n",
      "Path exists\n",
      "../experiment_results/BraxProblem/hopper/SNES.json\n",
      "Path exists\n",
      "../experiment_results/BraxProblem/hopper/Sep_CMA_ES.json\n",
      "Path exists\n",
      "../experiment_results/BraxProblem/hopper/CMA_ES.json\n",
      "Path exists\n",
      "Successfully loaded: humanoid\n",
      "../experiment_results/BraxProblem/humanoid/LearnedES.json\n",
      "Path exists\n",
      "../experiment_results/BraxProblem/humanoid/SimpleES.json\n",
      "Path exists\n",
      "../experiment_results/BraxProblem/humanoid/PGPE.json\n",
      "Path exists\n",
      "../experiment_results/BraxProblem/humanoid/Open_ES.json\n",
      "Path exists\n",
      "../experiment_results/BraxProblem/humanoid/SNES.json\n",
      "Path exists\n",
      "../experiment_results/BraxProblem/humanoid/Sep_CMA_ES.json\n",
      "Path exists\n",
      "../experiment_results/BraxProblem/humanoid/CMA_ES.json\n",
      "Path does not exist\n"
     ]
    },
    {
     "name": "stderr",
     "output_type": "stream",
     "text": [
      "\n",
      "Running ES algorithms:   0%|          | 0/1 [00:00<?, ?it/s]\u001b[A\n",
      "Running ES algorithms: 100%|██████████| 1/1 [2:45:17<00:00, 9917.86s/it]\u001b[A\n",
      "Loading Problems ..:  42%|████▏     | 5/12 [2:47:12<7:00:13, 3601.93s/it]"
     ]
    },
    {
     "name": "stdout",
     "output_type": "stream",
     "text": [
      "Successfully loaded: humanoidstandup\n",
      "../experiment_results/BraxProblem/humanoidstandup/LearnedES.json\n",
      "Path exists\n",
      "../experiment_results/BraxProblem/humanoidstandup/SimpleES.json\n",
      "Path exists\n",
      "../experiment_results/BraxProblem/humanoidstandup/PGPE.json\n",
      "Path exists\n",
      "../experiment_results/BraxProblem/humanoidstandup/Open_ES.json\n",
      "Path exists\n",
      "../experiment_results/BraxProblem/humanoidstandup/SNES.json\n",
      "Path exists\n",
      "../experiment_results/BraxProblem/humanoidstandup/Sep_CMA_ES.json\n",
      "Path exists\n",
      "../experiment_results/BraxProblem/humanoidstandup/CMA_ES.json\n",
      "Path does not exist\n"
     ]
    },
    {
     "name": "stderr",
     "output_type": "stream",
     "text": [
      "\n",
      "Running ES algorithms:   0%|          | 0/1 [00:00<?, ?it/s]\u001b[A2025-07-31 02:56:30.204331: W external/xla/xla/hlo/transforms/simplifiers/hlo_rematerialization.cc:3021] Can't reduce memory use below 4.09GiB (4392749110 bytes) by rematerialization; only reduced to 5.83GiB (6257399920 bytes), down from 5.83GiB (6257407680 bytes) originally\n",
      "2025-07-31 02:58:34.485002: W external/xla/xla/tsl/framework/bfc_allocator.cc:501] Allocator (GPU_0_bfc) ran out of memory trying to allocate 2.00GiB (rounded to 2147477248)requested by op \n",
      "2025-07-31 02:58:34.485784: W external/xla/xla/tsl/framework/bfc_allocator.cc:512] *________________**************************************_*______________*___________*________________\n",
      "E0731 02:58:34.485846  373237 pjrt_stream_executor_client.cc:3026] Execution of replica 0 failed: RESOURCE_EXHAUSTED: Unable to allocate device workspace for syevd\n",
      "Running ES algorithms:   0%|          | 0/1 [02:30<?, ?it/s]\n",
      "Loading Problems ..:  50%|█████     | 6/12 [2:50:10<4:03:46, 2437.77s/it]"
     ]
    },
    {
     "name": "stdout",
     "output_type": "stream",
     "text": [
      "Failed to load: humanoidstandup RESOURCE_EXHAUSTED: Unable to allocate device workspace for syevd\n",
      "Successfully loaded: inverted_pendulum\n",
      "../experiment_results/BraxProblem/inverted_pendulum/LearnedES.json\n",
      "Path exists\n",
      "../experiment_results/BraxProblem/inverted_pendulum/SimpleES.json\n",
      "Path exists\n",
      "../experiment_results/BraxProblem/inverted_pendulum/PGPE.json\n",
      "Path exists\n",
      "../experiment_results/BraxProblem/inverted_pendulum/Open_ES.json\n",
      "Path exists\n",
      "../experiment_results/BraxProblem/inverted_pendulum/SNES.json\n",
      "Path exists\n",
      "../experiment_results/BraxProblem/inverted_pendulum/Sep_CMA_ES.json\n",
      "Path exists\n",
      "../experiment_results/BraxProblem/inverted_pendulum/CMA_ES.json\n",
      "Path does not exist\n"
     ]
    },
    {
     "name": "stderr",
     "output_type": "stream",
     "text": [
      "\n",
      "Running ES algorithms:   0%|          | 0/1 [00:00<?, ?it/s]\u001b[A\n",
      "Running ES algorithms: 100%|██████████| 1/1 [59:36<00:00, 3576.27s/it]\u001b[A\n",
      "Loading Problems ..:  58%|█████▊    | 7/12 [3:49:55<3:54:24, 2812.83s/it]"
     ]
    },
    {
     "name": "stdout",
     "output_type": "stream",
     "text": [
      "Successfully loaded: inverted_double_pendulum\n",
      "../experiment_results/BraxProblem/inverted_double_pendulum/LearnedES.json\n",
      "Path does not exist\n"
     ]
    },
    {
     "name": "stderr",
     "output_type": "stream",
     "text": [
      "\n",
      "Running ES algorithms:   0%|          | 0/1 [00:00<?, ?it/s]\u001b[A\n",
      "Running ES algorithms: 100%|██████████| 1/1 [1:15:48<00:00, 4548.15s/it]\u001b[A\n"
     ]
    },
    {
     "name": "stdout",
     "output_type": "stream",
     "text": [
      "../experiment_results/BraxProblem/inverted_double_pendulum/SimpleES.json\n",
      "Path does not exist\n"
     ]
    },
    {
     "name": "stderr",
     "output_type": "stream",
     "text": [
      "\n",
      "Running ES algorithms:   0%|          | 0/1 [00:00<?, ?it/s]\u001b[A\n",
      "Running ES algorithms: 100%|██████████| 1/1 [1:15:43<00:00, 4543.22s/it]\u001b[A\n"
     ]
    },
    {
     "name": "stdout",
     "output_type": "stream",
     "text": [
      "../experiment_results/BraxProblem/inverted_double_pendulum/PGPE.json\n",
      "Path does not exist\n"
     ]
    },
    {
     "name": "stderr",
     "output_type": "stream",
     "text": [
      "\n",
      "Running ES algorithms:   0%|          | 0/1 [00:00<?, ?it/s]\u001b[A\n",
      "Running ES algorithms: 100%|██████████| 1/1 [1:15:38<00:00, 4538.88s/it]\u001b[A\n"
     ]
    },
    {
     "name": "stdout",
     "output_type": "stream",
     "text": [
      "../experiment_results/BraxProblem/inverted_double_pendulum/Open_ES.json\n",
      "Path does not exist\n"
     ]
    },
    {
     "name": "stderr",
     "output_type": "stream",
     "text": [
      "\n",
      "Running ES algorithms:   0%|          | 0/1 [00:00<?, ?it/s]\u001b[A\n",
      "Running ES algorithms: 100%|██████████| 1/1 [1:16:52<00:00, 4612.07s/it]\u001b[A\n"
     ]
    },
    {
     "name": "stdout",
     "output_type": "stream",
     "text": [
      "../experiment_results/BraxProblem/inverted_double_pendulum/SNES.json\n",
      "Path does not exist\n"
     ]
    },
    {
     "name": "stderr",
     "output_type": "stream",
     "text": [
      "\n",
      "Running ES algorithms:   0%|          | 0/1 [00:00<?, ?it/s]\u001b[A"
     ]
    }
   ],
   "source": [
    "import jax\n",
    "import os\n",
    "from utils.problem_utils import get_problem_name\n",
    "from evosax.algorithms import algorithms\n",
    "\n",
    "for env_name in tqdm(list(brax_envs._envs.keys()), desc=\"Loading Problems ..\"):\n",
    "    action_num, out_fn = get_problem_settings(env_name)\n",
    "    try:\n",
    "        problem = Problem(\n",
    "            env_name=env_name,\n",
    "            policy=MLP(\n",
    "                layer_sizes=(32, 32, 32, 32, action_num),\n",
    "                output_fn=out_fn,\n",
    "            ),\n",
    "            episode_length=1000,\n",
    "            env_kwargs={\"backend\": \"generalized\"},\n",
    "        )\n",
    "        \n",
    "        print(\"Successfully loaded:\", env_name)\n",
    "        for es in es_dict:\n",
    "            key = jax.random.key(seed)\n",
    "            es_path = f\"{result_dir}/{get_problem_name(problem)}/{algorithms[es](population_size=population_size, solution=problem.sample(key)).__class__.__name__}.json\"\n",
    "            print(es_path)\n",
    "            if os.path.exists(es_path):\n",
    "                print(\"Path exists\")\n",
    "            else:\n",
    "                print(\"Path does not exist\")\n",
    "                run_experiment_permutations(problems=[problem],\n",
    "                                    es_dict={es: {}},\n",
    "                                    num_generations=num_generations,\n",
    "                                    population_size=population_size,\n",
    "                                    seed=seed,\n",
    "                                    result_dir=result_dir)\n",
    "    except Exception as e:\n",
    "        print(\"Failed to load:\", env_name, e)\n",
    "        continue\n"
   ]
  },
  {
   "cell_type": "code",
   "execution_count": null,
   "id": "677bdf2e-6a04-4965-89c5-6c1ccd6ed498",
   "metadata": {},
   "outputs": [],
   "source": []
  }
 ],
 "metadata": {
  "kernelspec": {
   "display_name": "ronedr_es",
   "language": "python",
   "name": "ronedr_es_env"
  },
  "language_info": {
   "codemirror_mode": {
    "name": "ipython",
    "version": 3
   },
   "file_extension": ".py",
   "mimetype": "text/x-python",
   "name": "python",
   "nbconvert_exporter": "python",
   "pygments_lexer": "ipython3",
   "version": "3.11.7"
  }
 },
 "nbformat": 4,
 "nbformat_minor": 5
}
