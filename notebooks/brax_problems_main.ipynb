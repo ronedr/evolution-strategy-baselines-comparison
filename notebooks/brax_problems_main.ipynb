{
 "cells": [
  {
   "cell_type": "code",
   "execution_count": 1,
   "id": "f737e819-4932-465e-aeb5-b76dbd37316d",
   "metadata": {
    "ExecuteTime": {
     "end_time": "2025-08-03T14:00:28.106250Z",
     "start_time": "2025-08-03T14:00:28.067653Z"
    }
   },
   "outputs": [],
   "source": [
    "import sys\n",
    "sys.path.append('/mnt/new_home/ronedr/evolution-strategy-baselines-comparison')"
   ]
  },
  {
   "cell_type": "code",
   "execution_count": 2,
   "id": "f6932bd9-9d2f-443e-9214-64700c28c2b9",
   "metadata": {
    "ExecuteTime": {
     "end_time": "2025-08-03T14:00:35.847462Z",
     "start_time": "2025-08-03T14:00:28.116376Z"
    }
   },
   "outputs": [],
   "source": [
    "from tqdm import tqdm\n",
    "import brax.envs as brax_envs\n",
    "from evosax.problems import BraxProblem as Problem\n",
    "from evosax.problems.networks import MLP\n",
    "from utils.problem_utils import get_problem_settings\n",
    "from experiment.run_experiments import run_experiment_permutations\n",
    "import jax"
   ]
  },
  {
   "cell_type": "code",
   "execution_count": 3,
   "id": "cd19dc37-4d6a-4a32-8ed2-4e06502f2990",
   "metadata": {
    "ExecuteTime": {
     "end_time": "2025-08-03T14:00:35.863817Z",
     "start_time": "2025-08-03T14:00:35.848435Z"
    }
   },
   "outputs": [],
   "source": [
    "es_dict = {\n",
    "    \"SimpleES\": {},\n",
    "    \"LES\": {},\n",
    "    \"DES\": {},\n",
    "    \"EvoTF_ES\": {},\n",
    "    \"PGPE\": {},\n",
    "    \"Open_ES\": {},\n",
    "    \"SNES\": {},\n",
    "    \"Sep_CMA_ES\": {},\n",
    "    \"CMA_ES\": {},\n",
    "}\n",
    "\n",
    "\n",
    "num_generations = 512\n",
    "population_size = 128\n",
    "seeds = list(range(0, 5))\n",
    "result_dir = \"../experiment_results\"\n",
    "problems_brax_envs = list(brax_envs._envs.keys())"
   ]
  },
  {
   "cell_type": "code",
   "execution_count": null,
   "id": "9ac97db2704a879a",
   "metadata": {
    "scrolled": true
   },
   "outputs": [
    {
     "name": "stderr",
     "output_type": "stream",
     "text": [
      "Loading Problems ..:   0%|          | 0/12 [00:00<?, ?it/s]"
     ]
    },
    {
     "name": "stdout",
     "output_type": "stream",
     "text": [
      "Successfully loaded: ant\n"
     ]
    },
    {
     "name": "stderr",
     "output_type": "stream",
     "text": [
      "\n",
      "Running ES algorithms:   0%|          | 0/1 [00:00<?, ?it/s]\u001b[A"
     ]
    },
    {
     "name": "stdout",
     "output_type": "stream",
     "text": [
      "running the experiment ... [../experiment_results/BraxProblem/ant/SimpleES/0.json]\n"
     ]
    },
    {
     "name": "stderr",
     "output_type": "stream",
     "text": [
      "\n",
      "Running ES algorithms: 100%|██████████| 1/1 [36:36<00:00, 2196.01s/it]\u001b[A\n",
      "\n",
      "Running ES algorithms:   0%|          | 0/1 [00:00<?, ?it/s]\u001b[A"
     ]
    },
    {
     "name": "stdout",
     "output_type": "stream",
     "text": [
      "running the experiment ... [../experiment_results/BraxProblem/ant/SimpleES/1.json]\n"
     ]
    },
    {
     "name": "stderr",
     "output_type": "stream",
     "text": [
      "\n",
      "Running ES algorithms: 100%|██████████| 1/1 [36:19<00:00, 2179.17s/it]\u001b[A\n",
      "\n",
      "Running ES algorithms:   0%|          | 0/1 [00:00<?, ?it/s]\u001b[A"
     ]
    },
    {
     "name": "stdout",
     "output_type": "stream",
     "text": [
      "running the experiment ... [../experiment_results/BraxProblem/ant/SimpleES/2.json]\n"
     ]
    },
    {
     "name": "stderr",
     "output_type": "stream",
     "text": [
      "\n",
      "Running ES algorithms: 100%|██████████| 1/1 [36:11<00:00, 2171.83s/it]\u001b[A\n",
      "\n",
      "Running ES algorithms:   0%|          | 0/1 [00:00<?, ?it/s]\u001b[A"
     ]
    },
    {
     "name": "stdout",
     "output_type": "stream",
     "text": [
      "running the experiment ... [../experiment_results/BraxProblem/ant/SimpleES/3.json]\n"
     ]
    },
    {
     "name": "stderr",
     "output_type": "stream",
     "text": [
      "\n",
      "Running ES algorithms: 100%|██████████| 1/1 [36:12<00:00, 2172.37s/it]\u001b[A\n",
      "\n",
      "Running ES algorithms:   0%|          | 0/1 [00:00<?, ?it/s]\u001b[A"
     ]
    },
    {
     "name": "stdout",
     "output_type": "stream",
     "text": [
      "running the experiment ... [../experiment_results/BraxProblem/ant/SimpleES/4.json]\n"
     ]
    },
    {
     "name": "stderr",
     "output_type": "stream",
     "text": [
      "\n",
      "Running ES algorithms: 100%|██████████| 1/1 [36:12<00:00, 2172.81s/it]\u001b[A\n",
      "\n",
      "Running ES algorithms:   0%|          | 0/1 [00:00<?, ?it/s]\u001b[A"
     ]
    },
    {
     "name": "stdout",
     "output_type": "stream",
     "text": [
      "running the experiment ... [../experiment_results/BraxProblem/ant/LearnedES/0.json]\n"
     ]
    },
    {
     "name": "stderr",
     "output_type": "stream",
     "text": [
      "\n",
      "Running ES algorithms: 100%|██████████| 1/1 [36:12<00:00, 2172.21s/it]\u001b[A\n",
      "\n",
      "Running ES algorithms:   0%|          | 0/1 [00:00<?, ?it/s]\u001b[A"
     ]
    },
    {
     "name": "stdout",
     "output_type": "stream",
     "text": [
      "running the experiment ... [../experiment_results/BraxProblem/ant/LearnedES/1.json]\n"
     ]
    },
    {
     "name": "stderr",
     "output_type": "stream",
     "text": [
      "\n",
      "Running ES algorithms: 100%|██████████| 1/1 [36:08<00:00, 2168.15s/it]\u001b[A\n",
      "\n",
      "Running ES algorithms:   0%|          | 0/1 [00:00<?, ?it/s]\u001b[A"
     ]
    },
    {
     "name": "stdout",
     "output_type": "stream",
     "text": [
      "running the experiment ... [../experiment_results/BraxProblem/ant/LearnedES/2.json]\n"
     ]
    },
    {
     "name": "stderr",
     "output_type": "stream",
     "text": [
      "\n",
      "Running ES algorithms: 100%|██████████| 1/1 [36:10<00:00, 2170.12s/it]\u001b[A\n",
      "\n",
      "Running ES algorithms:   0%|          | 0/1 [00:00<?, ?it/s]\u001b[A"
     ]
    },
    {
     "name": "stdout",
     "output_type": "stream",
     "text": [
      "running the experiment ... [../experiment_results/BraxProblem/ant/LearnedES/3.json]\n"
     ]
    },
    {
     "name": "stderr",
     "output_type": "stream",
     "text": [
      "\n",
      "Running ES algorithms: 100%|██████████| 1/1 [36:10<00:00, 2170.35s/it]\u001b[A\n",
      "\n",
      "Running ES algorithms:   0%|          | 0/1 [00:00<?, ?it/s]\u001b[A"
     ]
    },
    {
     "name": "stdout",
     "output_type": "stream",
     "text": [
      "running the experiment ... [../experiment_results/BraxProblem/ant/LearnedES/4.json]\n"
     ]
    },
    {
     "name": "stderr",
     "output_type": "stream",
     "text": [
      "\n",
      "Running ES algorithms: 100%|██████████| 1/1 [36:17<00:00, 2177.75s/it]\u001b[A\n",
      "\n",
      "Running ES algorithms:   0%|          | 0/1 [00:00<?, ?it/s]\u001b[A"
     ]
    },
    {
     "name": "stdout",
     "output_type": "stream",
     "text": [
      "running the experiment ... [../experiment_results/BraxProblem/ant/DiscoveredES/0.json]\n"
     ]
    },
    {
     "name": "stderr",
     "output_type": "stream",
     "text": [
      "\n",
      "Running ES algorithms: 100%|██████████| 1/1 [36:14<00:00, 2174.50s/it]\u001b[A\n",
      "\n",
      "Running ES algorithms:   0%|          | 0/1 [00:00<?, ?it/s]\u001b[A"
     ]
    },
    {
     "name": "stdout",
     "output_type": "stream",
     "text": [
      "running the experiment ... [../experiment_results/BraxProblem/ant/DiscoveredES/1.json]\n"
     ]
    },
    {
     "name": "stderr",
     "output_type": "stream",
     "text": [
      "\n",
      "Running ES algorithms: 100%|██████████| 1/1 [36:15<00:00, 2175.69s/it]\u001b[A\n",
      "\n",
      "Running ES algorithms:   0%|          | 0/1 [00:00<?, ?it/s]\u001b[A"
     ]
    },
    {
     "name": "stdout",
     "output_type": "stream",
     "text": [
      "running the experiment ... [../experiment_results/BraxProblem/ant/DiscoveredES/2.json]\n"
     ]
    },
    {
     "name": "stderr",
     "output_type": "stream",
     "text": [
      "\n",
      "Running ES algorithms: 100%|██████████| 1/1 [36:19<00:00, 2179.70s/it]\u001b[A\n",
      "\n",
      "Running ES algorithms:   0%|          | 0/1 [00:00<?, ?it/s]\u001b[A"
     ]
    },
    {
     "name": "stdout",
     "output_type": "stream",
     "text": [
      "running the experiment ... [../experiment_results/BraxProblem/ant/DiscoveredES/3.json]\n"
     ]
    },
    {
     "name": "stderr",
     "output_type": "stream",
     "text": [
      "\n",
      "Running ES algorithms: 100%|██████████| 1/1 [36:24<00:00, 2184.82s/it]\u001b[A\n",
      "\n",
      "Running ES algorithms:   0%|          | 0/1 [00:00<?, ?it/s]\u001b[A"
     ]
    },
    {
     "name": "stdout",
     "output_type": "stream",
     "text": [
      "running the experiment ... [../experiment_results/BraxProblem/ant/DiscoveredES/4.json]\n"
     ]
    },
    {
     "name": "stderr",
     "output_type": "stream",
     "text": [
      "\n",
      "Running ES algorithms: 100%|██████████| 1/1 [36:22<00:00, 2182.52s/it]\u001b[A\n",
      "\n",
      "Running ES algorithms:   0%|          | 0/1 [00:00<?, ?it/s]\u001b[A"
     ]
    },
    {
     "name": "stdout",
     "output_type": "stream",
     "text": [
      "running the experiment ... [../experiment_results/BraxProblem/ant/EvoTF_ES/0.json]\n"
     ]
    },
    {
     "name": "stderr",
     "output_type": "stream",
     "text": [
      "2025-08-09 03:43:01.474188: W external/xla/xla/hlo/transforms/simplifiers/hlo_rematerialization.cc:3021] Can't reduce memory use below 8.52GiB (9149958676 bytes) by rematerialization; only reduced to 9.91GiB (10640687120 bytes), down from 9.91GiB (10640687120 bytes) originally\n",
      "2025-08-09 03:43:02.579674: W external/xla/xla/hlo/transforms/simplifiers/hlo_rematerialization.cc:3021] Can't reduce memory use below 4.62GiB (4965996522 bytes) by rematerialization; only reduced to 27.94GiB (30002427920 bytes), down from 27.94GiB (30002427920 bytes) originally\n",
      "2025-08-09 03:43:02.615637: W external/xla/xla/hlo/transforms/simplifiers/hlo_rematerialization.cc:3021] Can't reduce memory use below 4.62GiB (4965996522 bytes) by rematerialization; only reduced to 13.96GiB (14985267200 bytes), down from 13.96GiB (14985267200 bytes) originally\n",
      "2025-08-09 03:43:02.643782: W external/xla/xla/hlo/transforms/simplifiers/hlo_rematerialization.cc:3021] Can't reduce memory use below 4.62GiB (4965996522 bytes) by rematerialization; only reduced to 13.96GiB (14985267200 bytes), down from 13.96GiB (14985267200 bytes) originally\n",
      "2025-08-09 03:43:02.684816: W external/xla/xla/hlo/transforms/simplifiers/hlo_rematerialization.cc:3021] Can't reduce memory use below 4.62GiB (4965996522 bytes) by rematerialization; only reduced to 13.96GiB (14985267200 bytes), down from 13.96GiB (14985267200 bytes) originally\n",
      "2025-08-09 03:43:02.689381: W external/xla/xla/hlo/transforms/simplifiers/hlo_rematerialization.cc:3021] Can't reduce memory use below 4.62GiB (4965996522 bytes) by rematerialization; only reduced to 13.96GiB (14985267200 bytes), down from 13.96GiB (14985267200 bytes) originally\n",
      "2025-08-09 03:43:02.689404: W external/xla/xla/hlo/transforms/simplifiers/hlo_rematerialization.cc:3021] Can't reduce memory use below 4.62GiB (4965996522 bytes) by rematerialization; only reduced to 13.96GiB (14985267200 bytes), down from 13.96GiB (14985267200 bytes) originally\n",
      "2025-08-09 03:43:02.794852: W external/xla/xla/hlo/transforms/simplifiers/hlo_rematerialization.cc:3021] Can't reduce memory use below 4.62GiB (4965996522 bytes) by rematerialization; only reduced to 13.96GiB (14985267200 bytes), down from 13.96GiB (14985267200 bytes) originally\n",
      "2025-08-09 03:43:02.829688: W external/xla/xla/hlo/transforms/simplifiers/hlo_rematerialization.cc:3021] Can't reduce memory use below 4.62GiB (4965996522 bytes) by rematerialization; only reduced to 13.96GiB (14985267200 bytes), down from 13.96GiB (14985267200 bytes) originally\n",
      "2025-08-09 03:43:02.893411: W external/xla/xla/hlo/transforms/simplifiers/hlo_rematerialization.cc:3021] Can't reduce memory use below 4.62GiB (4965996522 bytes) by rematerialization; only reduced to 13.96GiB (14985267200 bytes), down from 13.96GiB (14985267200 bytes) originally\n",
      "2025-08-09 03:43:02.978220: W external/xla/xla/hlo/transforms/simplifiers/hlo_rematerialization.cc:3021] Can't reduce memory use below 4.62GiB (4965996522 bytes) by rematerialization; only reduced to 13.96GiB (14985267200 bytes), down from 13.96GiB (14985267200 bytes) originally\n",
      "2025-08-09 03:43:03.092923: W external/xla/xla/hlo/transforms/simplifiers/hlo_rematerialization.cc:3021] Can't reduce memory use below 4.62GiB (4965996522 bytes) by rematerialization; only reduced to 13.96GiB (14985267200 bytes), down from 13.96GiB (14985267200 bytes) originally\n",
      "2025-08-09 03:43:03.103773: W external/xla/xla/hlo/transforms/simplifiers/hlo_rematerialization.cc:3021] Can't reduce memory use below 4.62GiB (4965996522 bytes) by rematerialization; only reduced to 13.96GiB (14985267200 bytes), down from 13.96GiB (14985267200 bytes) originally\n",
      "2025-08-09 03:43:03.275364: W external/xla/xla/hlo/transforms/simplifiers/hlo_rematerialization.cc:3021] Can't reduce memory use below 4.62GiB (4965996522 bytes) by rematerialization; only reduced to 13.96GiB (14985267200 bytes), down from 13.96GiB (14985267200 bytes) originally\n",
      "2025-08-09 03:43:03.286178: W external/xla/xla/hlo/transforms/simplifiers/hlo_rematerialization.cc:3021] Can't reduce memory use below 4.62GiB (4965996522 bytes) by rematerialization; only reduced to 13.96GiB (14985267200 bytes), down from 13.96GiB (14985267200 bytes) originally\n",
      "2025-08-09 03:43:03.387542: W external/xla/xla/hlo/transforms/simplifiers/hlo_rematerialization.cc:3021] Can't reduce memory use below 4.62GiB (4965996522 bytes) by rematerialization; only reduced to 13.96GiB (14985267200 bytes), down from 13.96GiB (14985267200 bytes) originally\n",
      "2025-08-09 03:43:03.426775: W external/xla/xla/hlo/transforms/simplifiers/hlo_rematerialization.cc:3021] Can't reduce memory use below 4.62GiB (4965996522 bytes) by rematerialization; only reduced to 13.96GiB (14985267200 bytes), down from 13.96GiB (14985267200 bytes) originally\n",
      "2025-08-09 03:43:03.555673: W external/xla/xla/hlo/transforms/simplifiers/hlo_rematerialization.cc:3021] Can't reduce memory use below 4.62GiB (4965996522 bytes) by rematerialization; only reduced to 13.96GiB (14985267200 bytes), down from 13.96GiB (14985267200 bytes) originally\n",
      "2025-08-09 03:43:03.592754: W external/xla/xla/hlo/transforms/simplifiers/hlo_rematerialization.cc:3021] Can't reduce memory use below 4.62GiB (4965996522 bytes) by rematerialization; only reduced to 13.96GiB (14985267200 bytes), down from 13.96GiB (14985267200 bytes) originally\n",
      "2025-08-09 03:43:03.594616: W external/xla/xla/hlo/transforms/simplifiers/hlo_rematerialization.cc:3021] Can't reduce memory use below 4.62GiB (4965996522 bytes) by rematerialization; only reduced to 13.96GiB (14985267200 bytes), down from 13.96GiB (14985267200 bytes) originally\n",
      "2025-08-09 03:43:03.735099: W external/xla/xla/hlo/transforms/simplifiers/hlo_rematerialization.cc:3021] Can't reduce memory use below 4.62GiB (4965996522 bytes) by rematerialization; only reduced to 13.96GiB (14985267200 bytes), down from 13.96GiB (14985267200 bytes) originally\n",
      "2025-08-09 03:43:03.741399: W external/xla/xla/hlo/transforms/simplifiers/hlo_rematerialization.cc:3021] Can't reduce memory use below 4.62GiB (4965996522 bytes) by rematerialization; only reduced to 13.96GiB (14985267200 bytes), down from 13.96GiB (14985267200 bytes) originally\n",
      "2025-08-09 03:43:03.794267: W external/xla/xla/hlo/transforms/simplifiers/hlo_rematerialization.cc:3021] Can't reduce memory use below 4.62GiB (4965996522 bytes) by rematerialization; only reduced to 13.96GiB (14985267200 bytes), down from 13.96GiB (14985267200 bytes) originally\n",
      "2025-08-09 03:43:03.906188: W external/xla/xla/hlo/transforms/simplifiers/hlo_rematerialization.cc:3021] Can't reduce memory use below 4.62GiB (4965996522 bytes) by rematerialization; only reduced to 13.96GiB (14985267200 bytes), down from 13.96GiB (14985267200 bytes) originally\n",
      "2025-08-09 03:43:04.198565: W external/xla/xla/hlo/transforms/simplifiers/hlo_rematerialization.cc:3021] Can't reduce memory use below 4.62GiB (4965996522 bytes) by rematerialization; only reduced to 13.96GiB (14985267200 bytes), down from 13.96GiB (14985267200 bytes) originally\n",
      "2025-08-09 03:43:16.803539: W external/xla/xla/tsl/framework/bfc_allocator.cc:501] Allocator (GPU_0_bfc) ran out of memory trying to allocate 6.60GiB (rounded to 7090995200)requested by op \n",
      "2025-08-09 03:43:16.804226: W external/xla/xla/tsl/framework/bfc_allocator.cc:512] ****************************************************************************________________________\n",
      "2025-08-09 03:43:16.804286: W external/xla/xla/service/gpu/autotuning/gemm_fusion_autotuner.cc:1239] Autotuning candidate failed with out of memory error. Consider disabling correctness checking (i.e. --xla_gpu_autotune_level=3) to reduce autotuning memory usage.\n",
      "Running ES algorithms:   0%|          | 0/1 [00:21<?, ?it/s]\n",
      "Loading Problems ..:   8%|▊         | 1/12 [9:05:04<99:55:46, 32704.25s/it]"
     ]
    },
    {
     "name": "stdout",
     "output_type": "stream",
     "text": [
      "Failed to load: ant RESOURCE_EXHAUSTED: Out of memory while trying to allocate 7090995200 bytes.\n",
      "Successfully loaded: fast\n"
     ]
    },
    {
     "name": "stderr",
     "output_type": "stream",
     "text": [
      "\n",
      "Running ES algorithms:   0%|          | 0/1 [00:00<?, ?it/s]\u001b[A"
     ]
    },
    {
     "name": "stdout",
     "output_type": "stream",
     "text": [
      "running the experiment ... [../experiment_results/BraxProblem/fast/SimpleES/0.json]\n"
     ]
    },
    {
     "name": "stderr",
     "output_type": "stream",
     "text": [
      "\n",
      "Running ES algorithms: 100%|██████████| 1/1 [00:19<00:00, 19.61s/it]\u001b[A\n",
      "\n",
      "Running ES algorithms:   0%|          | 0/1 [00:00<?, ?it/s]\u001b[A"
     ]
    },
    {
     "name": "stdout",
     "output_type": "stream",
     "text": [
      "running the experiment ... [../experiment_results/BraxProblem/fast/SimpleES/1.json]\n"
     ]
    },
    {
     "name": "stderr",
     "output_type": "stream",
     "text": [
      "\n",
      "Running ES algorithms: 100%|██████████| 1/1 [00:18<00:00, 18.80s/it]\u001b[A\n",
      "\n",
      "Running ES algorithms:   0%|          | 0/1 [00:00<?, ?it/s]\u001b[A"
     ]
    },
    {
     "name": "stdout",
     "output_type": "stream",
     "text": [
      "running the experiment ... [../experiment_results/BraxProblem/fast/SimpleES/2.json]\n"
     ]
    },
    {
     "name": "stderr",
     "output_type": "stream",
     "text": [
      "\n",
      "Running ES algorithms: 100%|██████████| 1/1 [00:18<00:00, 18.82s/it]\u001b[A\n",
      "\n",
      "Running ES algorithms:   0%|          | 0/1 [00:00<?, ?it/s]\u001b[A"
     ]
    },
    {
     "name": "stdout",
     "output_type": "stream",
     "text": [
      "running the experiment ... [../experiment_results/BraxProblem/fast/SimpleES/3.json]\n"
     ]
    },
    {
     "name": "stderr",
     "output_type": "stream",
     "text": [
      "\n",
      "Running ES algorithms: 100%|██████████| 1/1 [00:18<00:00, 18.81s/it]\u001b[A\n",
      "\n",
      "Running ES algorithms:   0%|          | 0/1 [00:00<?, ?it/s]\u001b[A"
     ]
    },
    {
     "name": "stdout",
     "output_type": "stream",
     "text": [
      "running the experiment ... [../experiment_results/BraxProblem/fast/SimpleES/4.json]\n"
     ]
    },
    {
     "name": "stderr",
     "output_type": "stream",
     "text": [
      "\n",
      "Running ES algorithms: 100%|██████████| 1/1 [00:18<00:00, 18.80s/it]\u001b[A\n",
      "\n",
      "Running ES algorithms:   0%|          | 0/1 [00:00<?, ?it/s]\u001b[A"
     ]
    },
    {
     "name": "stdout",
     "output_type": "stream",
     "text": [
      "running the experiment ... [../experiment_results/BraxProblem/fast/LearnedES/0.json]\n"
     ]
    },
    {
     "name": "stderr",
     "output_type": "stream",
     "text": [
      "\n",
      "Running ES algorithms: 100%|██████████| 1/1 [00:19<00:00, 19.13s/it]\u001b[A\n",
      "\n",
      "Running ES algorithms:   0%|          | 0/1 [00:00<?, ?it/s]\u001b[A"
     ]
    },
    {
     "name": "stdout",
     "output_type": "stream",
     "text": [
      "running the experiment ... [../experiment_results/BraxProblem/fast/LearnedES/1.json]\n"
     ]
    },
    {
     "name": "stderr",
     "output_type": "stream",
     "text": [
      "\n",
      "Running ES algorithms: 100%|██████████| 1/1 [00:19<00:00, 19.06s/it]\u001b[A\n",
      "\n",
      "Running ES algorithms:   0%|          | 0/1 [00:00<?, ?it/s]\u001b[A"
     ]
    },
    {
     "name": "stdout",
     "output_type": "stream",
     "text": [
      "running the experiment ... [../experiment_results/BraxProblem/fast/LearnedES/2.json]\n"
     ]
    },
    {
     "name": "stderr",
     "output_type": "stream",
     "text": [
      "\n",
      "Running ES algorithms: 100%|██████████| 1/1 [00:19<00:00, 19.09s/it]\u001b[A\n",
      "\n",
      "Running ES algorithms:   0%|          | 0/1 [00:00<?, ?it/s]\u001b[A"
     ]
    },
    {
     "name": "stdout",
     "output_type": "stream",
     "text": [
      "running the experiment ... [../experiment_results/BraxProblem/fast/LearnedES/3.json]\n"
     ]
    },
    {
     "name": "stderr",
     "output_type": "stream",
     "text": [
      "\n",
      "Running ES algorithms: 100%|██████████| 1/1 [00:19<00:00, 19.06s/it]\u001b[A\n",
      "\n",
      "Running ES algorithms:   0%|          | 0/1 [00:00<?, ?it/s]\u001b[A"
     ]
    },
    {
     "name": "stdout",
     "output_type": "stream",
     "text": [
      "running the experiment ... [../experiment_results/BraxProblem/fast/LearnedES/4.json]\n"
     ]
    },
    {
     "name": "stderr",
     "output_type": "stream",
     "text": [
      "\n",
      "Running ES algorithms: 100%|██████████| 1/1 [00:19<00:00, 19.12s/it]\u001b[A\n",
      "\n",
      "Running ES algorithms:   0%|          | 0/1 [00:00<?, ?it/s]\u001b[A"
     ]
    },
    {
     "name": "stdout",
     "output_type": "stream",
     "text": [
      "running the experiment ... [../experiment_results/BraxProblem/fast/DiscoveredES/0.json]\n"
     ]
    },
    {
     "name": "stderr",
     "output_type": "stream",
     "text": [
      "\n",
      "Running ES algorithms: 100%|██████████| 1/1 [00:18<00:00, 18.77s/it]\u001b[A\n",
      "\n",
      "Running ES algorithms:   0%|          | 0/1 [00:00<?, ?it/s]\u001b[A"
     ]
    },
    {
     "name": "stdout",
     "output_type": "stream",
     "text": [
      "running the experiment ... [../experiment_results/BraxProblem/fast/DiscoveredES/1.json]\n"
     ]
    },
    {
     "name": "stderr",
     "output_type": "stream",
     "text": [
      "\n",
      "Running ES algorithms: 100%|██████████| 1/1 [00:18<00:00, 18.79s/it]\u001b[A\n",
      "\n",
      "Running ES algorithms:   0%|          | 0/1 [00:00<?, ?it/s]\u001b[A"
     ]
    },
    {
     "name": "stdout",
     "output_type": "stream",
     "text": [
      "running the experiment ... [../experiment_results/BraxProblem/fast/DiscoveredES/2.json]\n"
     ]
    },
    {
     "name": "stderr",
     "output_type": "stream",
     "text": [
      "\n",
      "Running ES algorithms: 100%|██████████| 1/1 [00:19<00:00, 19.15s/it]\u001b[A\n",
      "\n",
      "Running ES algorithms:   0%|          | 0/1 [00:00<?, ?it/s]\u001b[A"
     ]
    },
    {
     "name": "stdout",
     "output_type": "stream",
     "text": [
      "running the experiment ... [../experiment_results/BraxProblem/fast/DiscoveredES/3.json]\n"
     ]
    },
    {
     "name": "stderr",
     "output_type": "stream",
     "text": [
      "\n",
      "Running ES algorithms: 100%|██████████| 1/1 [00:18<00:00, 18.79s/it]\u001b[A\n",
      "\n",
      "Running ES algorithms:   0%|          | 0/1 [00:00<?, ?it/s]\u001b[A"
     ]
    },
    {
     "name": "stdout",
     "output_type": "stream",
     "text": [
      "running the experiment ... [../experiment_results/BraxProblem/fast/DiscoveredES/4.json]\n"
     ]
    },
    {
     "name": "stderr",
     "output_type": "stream",
     "text": [
      "\n",
      "Running ES algorithms: 100%|██████████| 1/1 [00:18<00:00, 18.78s/it]\u001b[A\n",
      "\n",
      "Running ES algorithms:   0%|          | 0/1 [00:00<?, ?it/s]\u001b[A"
     ]
    },
    {
     "name": "stdout",
     "output_type": "stream",
     "text": [
      "running the experiment ... [../experiment_results/BraxProblem/fast/EvoTF_ES/0.json]\n"
     ]
    },
    {
     "name": "stderr",
     "output_type": "stream",
     "text": [
      "2025-08-09 03:48:05.665757: W external/xla/xla/hlo/transforms/simplifiers/hlo_rematerialization.cc:3021] Can't reduce memory use below 10.20GiB (10953178482 bytes) by rematerialization; only reduced to 16.22GiB (17417629520 bytes), down from 16.22GiB (17417629520 bytes) originally\n",
      "2025-08-09 03:48:21.153004: W external/xla/xla/tsl/framework/bfc_allocator.cc:501] Allocator (GPU_0_bfc) ran out of memory trying to allocate 8.10GiB (rounded to 8696167424)requested by op \n",
      "2025-08-09 03:48:21.153819: W external/xla/xla/tsl/framework/bfc_allocator.cc:512] ********************************************************____________________________________________\n",
      "2025-08-09 03:48:21.153845: W external/xla/xla/service/gpu/autotuning/gemm_fusion_autotuner.cc:1239] Autotuning candidate failed with out of memory error. Consider disabling correctness checking (i.e. --xla_gpu_autotune_level=3) to reduce autotuning memory usage.\n",
      "Running ES algorithms:   0%|          | 0/1 [00:17<?, ?it/s]\n",
      "Loading Problems ..:  17%|█▋        | 2/12 [9:10:08<37:54:12, 13645.25s/it]"
     ]
    },
    {
     "name": "stdout",
     "output_type": "stream",
     "text": [
      "Failed to load: fast RESOURCE_EXHAUSTED: Out of memory while trying to allocate 8696167200 bytes.\n",
      "Successfully loaded: halfcheetah\n"
     ]
    },
    {
     "name": "stderr",
     "output_type": "stream",
     "text": [
      "\n",
      "Running ES algorithms:   0%|          | 0/1 [00:00<?, ?it/s]\u001b[A"
     ]
    },
    {
     "name": "stdout",
     "output_type": "stream",
     "text": [
      "running the experiment ... [../experiment_results/BraxProblem/halfcheetah/SimpleES/0.json]\n"
     ]
    },
    {
     "name": "stderr",
     "output_type": "stream",
     "text": [
      "\n",
      "Running ES algorithms: 100%|██████████| 1/1 [1:26:16<00:00, 5176.09s/it]\u001b[A\n",
      "\n",
      "Running ES algorithms:   0%|          | 0/1 [00:00<?, ?it/s]\u001b[A"
     ]
    },
    {
     "name": "stdout",
     "output_type": "stream",
     "text": [
      "running the experiment ... [../experiment_results/BraxProblem/halfcheetah/SimpleES/1.json]\n"
     ]
    },
    {
     "name": "stderr",
     "output_type": "stream",
     "text": [
      "\n",
      "Running ES algorithms: 100%|██████████| 1/1 [1:26:05<00:00, 5165.59s/it]\u001b[A\n",
      "\n",
      "Running ES algorithms:   0%|          | 0/1 [00:00<?, ?it/s]\u001b[A"
     ]
    },
    {
     "name": "stdout",
     "output_type": "stream",
     "text": [
      "running the experiment ... [../experiment_results/BraxProblem/halfcheetah/SimpleES/2.json]\n"
     ]
    },
    {
     "name": "stderr",
     "output_type": "stream",
     "text": [
      "\n",
      "Running ES algorithms: 100%|██████████| 1/1 [1:26:05<00:00, 5165.89s/it]\u001b[A\n",
      "\n",
      "Running ES algorithms:   0%|          | 0/1 [00:00<?, ?it/s]\u001b[A"
     ]
    },
    {
     "name": "stdout",
     "output_type": "stream",
     "text": [
      "running the experiment ... [../experiment_results/BraxProblem/halfcheetah/SimpleES/3.json]\n"
     ]
    },
    {
     "name": "stderr",
     "output_type": "stream",
     "text": [
      "\n",
      "Running ES algorithms: 100%|██████████| 1/1 [1:26:08<00:00, 5168.55s/it]\u001b[A\n",
      "\n",
      "Running ES algorithms:   0%|          | 0/1 [00:00<?, ?it/s]\u001b[A"
     ]
    },
    {
     "name": "stdout",
     "output_type": "stream",
     "text": [
      "running the experiment ... [../experiment_results/BraxProblem/halfcheetah/SimpleES/4.json]\n"
     ]
    },
    {
     "name": "stderr",
     "output_type": "stream",
     "text": [
      "\n",
      "Running ES algorithms: 100%|██████████| 1/1 [1:26:16<00:00, 5176.58s/it]\u001b[A\n",
      "\n",
      "Running ES algorithms:   0%|          | 0/1 [00:00<?, ?it/s]\u001b[A"
     ]
    },
    {
     "name": "stdout",
     "output_type": "stream",
     "text": [
      "running the experiment ... [../experiment_results/BraxProblem/halfcheetah/LearnedES/0.json]\n"
     ]
    },
    {
     "name": "stderr",
     "output_type": "stream",
     "text": [
      "\n",
      "Running ES algorithms: 100%|██████████| 1/1 [1:26:21<00:00, 5181.20s/it]\u001b[A\n",
      "\n",
      "Running ES algorithms:   0%|          | 0/1 [00:00<?, ?it/s]\u001b[A"
     ]
    },
    {
     "name": "stdout",
     "output_type": "stream",
     "text": [
      "running the experiment ... [../experiment_results/BraxProblem/halfcheetah/LearnedES/1.json]\n"
     ]
    },
    {
     "name": "stderr",
     "output_type": "stream",
     "text": [
      "\n",
      "Running ES algorithms: 100%|██████████| 1/1 [1:26:15<00:00, 5175.82s/it]\u001b[A\n",
      "\n",
      "Running ES algorithms:   0%|          | 0/1 [00:00<?, ?it/s]\u001b[A"
     ]
    },
    {
     "name": "stdout",
     "output_type": "stream",
     "text": [
      "running the experiment ... [../experiment_results/BraxProblem/halfcheetah/LearnedES/2.json]\n"
     ]
    },
    {
     "name": "stderr",
     "output_type": "stream",
     "text": [
      "\n",
      "Running ES algorithms: 100%|██████████| 1/1 [1:26:06<00:00, 5166.52s/it]\u001b[A\n",
      "\n",
      "Running ES algorithms:   0%|          | 0/1 [00:00<?, ?it/s]\u001b[A"
     ]
    },
    {
     "name": "stdout",
     "output_type": "stream",
     "text": [
      "running the experiment ... [../experiment_results/BraxProblem/halfcheetah/LearnedES/3.json]\n"
     ]
    },
    {
     "name": "stderr",
     "output_type": "stream",
     "text": [
      "\n",
      "Running ES algorithms: 100%|██████████| 1/1 [1:26:28<00:00, 5188.19s/it]\u001b[A\n",
      "\n",
      "Running ES algorithms:   0%|          | 0/1 [00:00<?, ?it/s]\u001b[A"
     ]
    },
    {
     "name": "stdout",
     "output_type": "stream",
     "text": [
      "running the experiment ... [../experiment_results/BraxProblem/halfcheetah/LearnedES/4.json]\n"
     ]
    },
    {
     "name": "stderr",
     "output_type": "stream",
     "text": [
      "\n",
      "Running ES algorithms: 100%|██████████| 1/1 [1:26:21<00:00, 5181.71s/it]\u001b[A\n",
      "\n",
      "Running ES algorithms:   0%|          | 0/1 [00:00<?, ?it/s]\u001b[A"
     ]
    },
    {
     "name": "stdout",
     "output_type": "stream",
     "text": [
      "running the experiment ... [../experiment_results/BraxProblem/halfcheetah/DiscoveredES/0.json]\n"
     ]
    },
    {
     "name": "stderr",
     "output_type": "stream",
     "text": [
      "\n",
      "Running ES algorithms: 100%|██████████| 1/1 [1:26:20<00:00, 5180.30s/it]\u001b[A\n",
      "\n",
      "Running ES algorithms:   0%|          | 0/1 [00:00<?, ?it/s]\u001b[A"
     ]
    },
    {
     "name": "stdout",
     "output_type": "stream",
     "text": [
      "running the experiment ... [../experiment_results/BraxProblem/halfcheetah/DiscoveredES/1.json]\n"
     ]
    },
    {
     "name": "stderr",
     "output_type": "stream",
     "text": [
      "\n",
      "Running ES algorithms: 100%|██████████| 1/1 [1:26:35<00:00, 5195.55s/it]\u001b[A\n",
      "\n",
      "Running ES algorithms:   0%|          | 0/1 [00:00<?, ?it/s]\u001b[A"
     ]
    },
    {
     "name": "stdout",
     "output_type": "stream",
     "text": [
      "running the experiment ... [../experiment_results/BraxProblem/halfcheetah/DiscoveredES/2.json]\n"
     ]
    },
    {
     "name": "stderr",
     "output_type": "stream",
     "text": [
      "\n",
      "Running ES algorithms: 100%|██████████| 1/1 [1:26:38<00:00, 5198.94s/it]\u001b[A\n",
      "\n",
      "Running ES algorithms:   0%|          | 0/1 [00:00<?, ?it/s]\u001b[A"
     ]
    },
    {
     "name": "stdout",
     "output_type": "stream",
     "text": [
      "running the experiment ... [../experiment_results/BraxProblem/halfcheetah/DiscoveredES/3.json]\n"
     ]
    },
    {
     "name": "stderr",
     "output_type": "stream",
     "text": [
      "\n",
      "Running ES algorithms: 100%|██████████| 1/1 [1:26:39<00:00, 5199.37s/it]\u001b[A\n",
      "\n",
      "Running ES algorithms:   0%|          | 0/1 [00:00<?, ?it/s]\u001b[A"
     ]
    },
    {
     "name": "stdout",
     "output_type": "stream",
     "text": [
      "running the experiment ... [../experiment_results/BraxProblem/halfcheetah/DiscoveredES/4.json]\n"
     ]
    }
   ],
   "source": [
    "for env_name in tqdm(problems_brax_envs, desc=\"Loading Problems ..\"):\n",
    "    action_num, out_fn = get_problem_settings(env_name)\n",
    "    try:\n",
    "        problem = Problem(\n",
    "            env_name=env_name,\n",
    "            policy=MLP(\n",
    "                layer_sizes=(32, 32, 32, 32, action_num),\n",
    "                output_fn=out_fn,\n",
    "            ),\n",
    "            episode_length=1000,\n",
    "            env_kwargs={\"backend\": \"generalized\"},\n",
    "        )\n",
    "        \n",
    "        print(\"Successfully loaded:\", env_name)\n",
    "        for es in es_dict:\n",
    "            for seed in seeds:\n",
    "                key = jax.random.key(seed)\n",
    "                run_experiment_permutations(problems=[problem],\n",
    "                                            es_dict={es: es_dict[es]},\n",
    "                                            num_generations=num_generations,\n",
    "                                            population_size=population_size,\n",
    "                                            seed=seed,\n",
    "                                            result_dir=result_dir, \n",
    "                                            run_again_if_exist=False)\n",
    "    except Exception as e:\n",
    "        print(\"Failed to load:\", env_name, e)\n",
    "        continue\n"
   ]
  },
  {
   "cell_type": "code",
   "execution_count": null,
   "id": "07b275ec-adea-4195-81f0-81284e47c25d",
   "metadata": {},
   "outputs": [],
   "source": []
  }
 ],
 "metadata": {
  "kernelspec": {
   "display_name": "Python 3 (ipykernel)",
   "language": "python",
   "name": "python3"
  },
  "language_info": {
   "codemirror_mode": {
    "name": "ipython",
    "version": 3
   },
   "file_extension": ".py",
   "mimetype": "text/x-python",
   "name": "python",
   "nbconvert_exporter": "python",
   "pygments_lexer": "ipython3",
   "version": "3.10.16"
  }
 },
 "nbformat": 4,
 "nbformat_minor": 5
}
