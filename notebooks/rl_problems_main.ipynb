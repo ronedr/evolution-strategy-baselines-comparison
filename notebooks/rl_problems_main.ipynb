{
 "cells": [
  {
   "metadata": {
    "ExecuteTime": {
     "end_time": "2025-07-19T21:16:25.537867Z",
     "start_time": "2025-07-19T21:16:22.400812Z"
    }
   },
   "cell_type": "code",
   "source": [
    "import gymnax\n",
    "import optax\n",
    "from evosax.problems import GymnaxProblem as Problem\n",
    "from evosax.problems.networks import MLP, categorical_output_fn\n",
    "\n",
    "policy = MLP(\n",
    "    layer_sizes=(64, 64, 2),\n",
    "    output_fn=categorical_output_fn,\n",
    ")\n",
    "\n",
    "problems = [Problem(env_name=rl_env,\n",
    "                    policy=policy,\n",
    "                    episode_length=200,\n",
    "                    num_rollouts=16,\n",
    "                    use_normalize_obs=True) for rl_env in gymnax.registered_envs[:3]]\n",
    "\n",
    "es_dict = {\n",
    "    \"SNES\": {},\n",
    "    \"SimpleES\": {},\n",
    "    \"PGPE\": {},\n",
    "    \"Open_ES\": {},\n",
    "    \"Sep_CMA_ES\": {},\n",
    "    \"CMA_ES\": {},\n",
    "}"
   ],
   "id": "ed71d091470424",
   "outputs": [],
   "execution_count": 9
  },
  {
   "metadata": {},
   "cell_type": "code",
   "outputs": [],
   "execution_count": null,
   "source": [
    "from experiment.run_experiments import run_experiment_permutations\n",
    "\n",
    "num_generations = 1000\n",
    "population_size = 128\n",
    "seed = 0\n",
    "\n",
    "result_dir = \"../experiment_results\"\n",
    "\n",
    "run_experiment_permutations(problems=problems,\n",
    "                            es_dict=es_dict,\n",
    "                            num_generations=num_generations,\n",
    "                            population_size=population_size,\n",
    "                            seed=seed,\n",
    "                            result_dir=result_dir)"
   ],
   "id": "e1c07c97d972147d"
  }
 ],
 "metadata": {
  "kernelspec": {
   "display_name": "Python (jax_cpu_env)",
   "language": "python",
   "name": "jax_cpu_env"
  },
  "language_info": {
   "codemirror_mode": {
    "name": "ipython",
    "version": 2
   },
   "file_extension": ".py",
   "mimetype": "text/x-python",
   "name": "python",
   "nbconvert_exporter": "python",
   "pygments_lexer": "ipython2",
   "version": "2.7.6"
  }
 },
 "nbformat": 4,
 "nbformat_minor": 5
}
