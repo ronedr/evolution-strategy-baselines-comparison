{
 "cells": [
  {
   "cell_type": "code",
   "execution_count": 5,
   "id": "b9a9bbc0-7ac5-41dd-a86a-53a3815db1e5",
   "metadata": {
    "ExecuteTime": {
     "end_time": "2025-07-27T20:32:34.270643Z",
     "start_time": "2025-07-27T20:32:34.229836Z"
    }
   },
   "outputs": [],
   "source": [
    "import sys\n",
    "sys.path.append('/mnt/new_home/ronedr/evolution-strategy-baselines-comparison')"
   ]
  },
  {
   "cell_type": "code",
   "execution_count": 11,
   "id": "546c57de037e0c46",
   "metadata": {
    "ExecuteTime": {
     "end_time": "2025-07-27T20:32:40.174826Z",
     "start_time": "2025-07-27T20:32:34.270936Z"
    }
   },
   "outputs": [],
   "source": [
    "from tqdm import tqdm\n",
    "import gymnax\n",
    "from evosax.problems import GymnaxProblem as Problem\n",
    "from evosax.problems.networks import MLP\n",
    "import jax\n",
    "from utils.problem_utils import get_problem_settings\n",
    "from experiment.run_experiments import run_experiment_permutations"
   ]
  },
  {
   "cell_type": "code",
   "execution_count": 12,
   "id": "b35076e453198a11",
   "metadata": {
    "ExecuteTime": {
     "end_time": "2025-07-27T20:32:40.199650Z",
     "start_time": "2025-07-27T20:32:40.174826Z"
    }
   },
   "outputs": [],
   "source": [
    "es_dict = {\n",
    "    \"LES\": {},\n",
    "    \"SimpleES\": {},\n",
    "    \"PGPE\": {},\n",
    "    \"Open_ES\": {},\n",
    "    \"SNES\": {},\n",
    "    \"Sep_CMA_ES\": {},\n",
    "    \"CMA_ES\": {}\n",
    "}\n",
    "\n",
    "num_generations = 1000\n",
    "population_size = 128\n",
    "seed = 0\n",
    "\n",
    "result_dir = \"../experiment_results\""
   ]
  },
  {
   "cell_type": "code",
   "execution_count": null,
   "id": "ed71d091470424",
   "metadata": {
    "ExecuteTime": {
     "start_time": "2025-07-27T20:32:40.580219Z"
    }
   },
   "outputs": [
    {
     "name": "stderr",
     "output_type": "stream",
     "text": [
      "Loading Problems ..:   0%|          | 0/20 [00:00<?, ?it/s]"
     ]
    },
    {
     "name": "stdout",
     "output_type": "stream",
     "text": [
      "Successfully loaded: MountainCarContinuous-v0\n",
      "../experiment_results/GymnaxProblem/MountainCarContinuous-v0/LearnedES.json\n",
      "Path exists\n",
      "../experiment_results/GymnaxProblem/MountainCarContinuous-v0/SimpleES.json\n",
      "Path exists\n",
      "../experiment_results/GymnaxProblem/MountainCarContinuous-v0/PGPE.json\n",
      "Path exists\n",
      "../experiment_results/GymnaxProblem/MountainCarContinuous-v0/Open_ES.json\n",
      "Path does not exist\n"
     ]
    },
    {
     "name": "stderr",
     "output_type": "stream",
     "text": [
      "\n",
      "Running ES algorithms:   0%|          | 0/7 [00:00<?, ?it/s]\u001b[A\n",
      "Running ES algorithms:  14%|█▍        | 1/7 [00:26<02:37, 26.28s/it]\u001b[A\n",
      "Running ES algorithms:  29%|██▊       | 2/7 [00:48<01:59, 23.90s/it]\u001b[A\n",
      "Running ES algorithms:  43%|████▎     | 3/7 [01:10<01:32, 23.12s/it]\u001b[A\n",
      "Running ES algorithms:  57%|█████▋    | 4/7 [01:32<01:08, 22.74s/it]\u001b[A\n",
      "Running ES algorithms:  71%|███████▏  | 5/7 [01:55<00:45, 22.67s/it]\u001b[A\n",
      "Running ES algorithms:  86%|████████▌ | 6/7 [02:19<00:23, 23.16s/it]\u001b[A\n",
      "Running ES algorithms: 100%|██████████| 7/7 [08:53<00:00, 76.21s/it] \u001b[A\n",
      "Loading Problems ..:   5%|▌         | 1/20 [08:55<2:49:33, 535.45s/it]"
     ]
    },
    {
     "name": "stdout",
     "output_type": "stream",
     "text": [
      "Successfully run experiments.\n",
      "../experiment_results/GymnaxProblem/MountainCarContinuous-v0/SNES.json\n",
      "Path exists\n",
      "../experiment_results/GymnaxProblem/MountainCarContinuous-v0/Sep_CMA_ES.json\n",
      "Path exists\n",
      "../experiment_results/GymnaxProblem/MountainCarContinuous-v0/CMA_ES.json\n",
      "Path exists\n"
     ]
    },
    {
     "name": "stderr",
     "output_type": "stream",
     "text": [
      "Loading Problems ..:  10%|█         | 2/20 [08:55<1:06:11, 220.63s/it]"
     ]
    },
    {
     "name": "stdout",
     "output_type": "stream",
     "text": [
      "Failed to load: Asterix-MinAtar Incompatible shapes for broadcasting: shapes=[(5,), (10, 10)]\n"
     ]
    },
    {
     "name": "stderr",
     "output_type": "stream",
     "text": [
      "Loading Problems ..:  15%|█▌        | 3/20 [08:56<34:01, 120.10s/it]  "
     ]
    },
    {
     "name": "stdout",
     "output_type": "stream",
     "text": [
      "Failed to load: Breakout-MinAtar select `which` must be scalar or have the same shape as cases, got `which` shape (10, 10) but case shape ().\n"
     ]
    },
    {
     "name": "stderr",
     "output_type": "stream",
     "text": [
      "Loading Problems ..:  20%|██        | 4/20 [08:59<19:42, 73.93s/it] "
     ]
    },
    {
     "name": "stdout",
     "output_type": "stream",
     "text": [
      "Failed to load: Freeway-MinAtar select `which` must be scalar or have the same shape as cases, got `which` shape (10, 10) but case shape ().\n"
     ]
    },
    {
     "name": "stderr",
     "output_type": "stream",
     "text": [
      "Loading Problems ..:  25%|██▌       | 5/20 [08:59<11:51, 47.45s/it]"
     ]
    },
    {
     "name": "stdout",
     "output_type": "stream",
     "text": [
      "Failed to load: SpaceInvaders-MinAtar select `which` must be scalar or have the same shape as cases, got `which` shape (10, 10) but case shape ().\n"
     ]
    },
    {
     "name": "stderr",
     "output_type": "stream",
     "text": [
      "Loading Problems ..:  30%|███       | 6/20 [09:01<07:24, 31.73s/it]"
     ]
    },
    {
     "name": "stdout",
     "output_type": "stream",
     "text": [
      "Failed to load: Catch-bsuite select cases must have the same shapes, got [(10,), ()].\n"
     ]
    },
    {
     "name": "stderr",
     "output_type": "stream",
     "text": [
      "Loading Problems ..:  35%|███▌      | 7/20 [09:02<04:42, 21.75s/it]"
     ]
    },
    {
     "name": "stdout",
     "output_type": "stream",
     "text": [
      "Failed to load: DeepSea-bsuite select `which` must be scalar or have the same shape as cases, got `which` shape (8,) but case shape ().\n",
      "Successfully loaded: MemoryChain-bsuite\n",
      "../experiment_results/GymnaxProblem/MemoryChain-bsuite/LearnedES.json\n",
      "Path does not exist\n"
     ]
    },
    {
     "name": "stderr",
     "output_type": "stream",
     "text": [
      "\n",
      "Running ES algorithms:   0%|          | 0/7 [00:00<?, ?it/s]\u001b[A\n",
      "Running ES algorithms:  14%|█▍        | 1/7 [00:37<03:46, 37.68s/it]\u001b[A\n",
      "Running ES algorithms:  29%|██▊       | 2/7 [01:12<03:01, 36.23s/it]\u001b[A\n",
      "Running ES algorithms:  43%|████▎     | 3/7 [01:48<02:22, 35.73s/it]\u001b[A\n",
      "Running ES algorithms:  57%|█████▋    | 4/7 [02:22<01:45, 35.25s/it]\u001b[A\n",
      "Running ES algorithms:  71%|███████▏  | 5/7 [02:57<01:10, 35.13s/it]\u001b[A\n",
      "Running ES algorithms:  86%|████████▌ | 6/7 [03:32<00:35, 35.21s/it]\u001b[A\n",
      "Running ES algorithms: 100%|██████████| 7/7 [10:42<00:00, 91.80s/it] \u001b[A\n",
      "Loading Problems ..:  40%|████      | 8/20 [19:47<44:03, 220.27s/it]"
     ]
    },
    {
     "name": "stdout",
     "output_type": "stream",
     "text": [
      "Successfully run experiments.\n",
      "../experiment_results/GymnaxProblem/MemoryChain-bsuite/SimpleES.json\n",
      "Path exists\n",
      "../experiment_results/GymnaxProblem/MemoryChain-bsuite/PGPE.json\n",
      "Path exists\n",
      "../experiment_results/GymnaxProblem/MemoryChain-bsuite/Open_ES.json\n",
      "Path exists\n",
      "../experiment_results/GymnaxProblem/MemoryChain-bsuite/SNES.json\n",
      "Path exists\n",
      "../experiment_results/GymnaxProblem/MemoryChain-bsuite/Sep_CMA_ES.json\n",
      "Path exists\n",
      "../experiment_results/GymnaxProblem/MemoryChain-bsuite/CMA_ES.json\n",
      "Path exists\n",
      "Successfully loaded: UmbrellaChain-bsuite\n",
      "../experiment_results/GymnaxProblem/UmbrellaChain-bsuite/LearnedES.json\n",
      "Path does not exist\n"
     ]
    },
    {
     "name": "stderr",
     "output_type": "stream",
     "text": [
      "\n",
      "Running ES algorithms:   0%|          | 0/7 [00:00<?, ?it/s]\u001b[A\n",
      "Running ES algorithms:  14%|█▍        | 1/7 [00:10<01:00, 10.10s/it]\u001b[A\n",
      "Running ES algorithms:  29%|██▊       | 2/7 [00:17<00:41,  8.33s/it]\u001b[A\n",
      "Running ES algorithms:  43%|████▎     | 3/7 [00:24<00:31,  7.83s/it]\u001b[A\n",
      "Running ES algorithms:  57%|█████▋    | 4/7 [00:31<00:22,  7.45s/it]\u001b[A\n",
      "Running ES algorithms:  71%|███████▏  | 5/7 [00:38<00:14,  7.43s/it]\u001b[A\n",
      "Running ES algorithms:  86%|████████▌ | 6/7 [00:46<00:07,  7.52s/it]\u001b[A\n",
      "Running ES algorithms: 100%|██████████| 7/7 [07:05<00:00, 60.76s/it] \u001b[A\n",
      "Loading Problems ..:  45%|████▌     | 9/20 [26:55<52:16, 285.12s/it]"
     ]
    },
    {
     "name": "stdout",
     "output_type": "stream",
     "text": [
      "Successfully run experiments.\n",
      "../experiment_results/GymnaxProblem/UmbrellaChain-bsuite/SimpleES.json\n",
      "Path exists\n",
      "../experiment_results/GymnaxProblem/UmbrellaChain-bsuite/PGPE.json\n",
      "Path exists\n",
      "../experiment_results/GymnaxProblem/UmbrellaChain-bsuite/Open_ES.json\n",
      "Path exists\n",
      "../experiment_results/GymnaxProblem/UmbrellaChain-bsuite/SNES.json\n",
      "Path exists\n",
      "../experiment_results/GymnaxProblem/UmbrellaChain-bsuite/Sep_CMA_ES.json\n",
      "Path exists\n",
      "../experiment_results/GymnaxProblem/UmbrellaChain-bsuite/CMA_ES.json\n",
      "Path exists\n",
      "Successfully loaded: DiscountingChain-bsuite\n",
      "../experiment_results/GymnaxProblem/DiscountingChain-bsuite/LearnedES.json\n",
      "Path does not exist\n"
     ]
    },
    {
     "name": "stderr",
     "output_type": "stream",
     "text": [
      "\n",
      "Running ES algorithms:   0%|          | 0/7 [00:00<?, ?it/s]\u001b[A\n",
      "Running ES algorithms:  14%|█▍        | 1/7 [00:08<00:48,  8.03s/it]\u001b[A\n",
      "Running ES algorithms:  29%|██▊       | 2/7 [00:14<00:34,  6.99s/it]\u001b[A\n",
      "Running ES algorithms:  43%|████▎     | 3/7 [00:20<00:27,  6.79s/it]\u001b[A\n",
      "Running ES algorithms:  57%|█████▋    | 4/7 [00:26<00:19,  6.51s/it]\u001b[A\n",
      "Running ES algorithms:  71%|███████▏  | 5/7 [00:33<00:12,  6.43s/it]\u001b[A\n",
      "Running ES algorithms:  86%|████████▌ | 6/7 [00:40<00:06,  6.68s/it]\u001b[A"
     ]
    }
   ],
   "source": [
    "import jax\n",
    "import os\n",
    "from utils.problem_utils import get_problem_name\n",
    "from evosax.algorithms import algorithms\n",
    "\n",
    "for env_name in tqdm(gymnax.registered_envs[4:], desc=\"Loading Problems ..\"):\n",
    "    try:\n",
    "        action_num, out_fn = get_problem_settings(env_name)\n",
    "        problem = Problem(\n",
    "            env_name=env_name,\n",
    "            policy=MLP(\n",
    "                layer_sizes=(64, 64, action_num),\n",
    "                output_fn=out_fn,\n",
    "            )\n",
    "        )\n",
    "        print(\"Successfully loaded:\", env_name)\n",
    "        for es in es_dict:\n",
    "            key = jax.random.key(seed)\n",
    "            es_path = f\"{result_dir}/{get_problem_name(problem)}/{algorithms[es](population_size=population_size, solution=problem.sample(key)).__class__.__name__}.json\"\n",
    "            print(es_path)\n",
    "            if os.path.exists(es_path):\n",
    "                print(\"Path exists\")\n",
    "            else:\n",
    "                print(\"Path does not exist\")\n",
    "                run_experiment_permutations(problems=[problem],\n",
    "                                            es_dict={es: {}},\n",
    "                                            num_generations=num_generations,\n",
    "                                            population_size=population_size,\n",
    "                                            seed=seed,\n",
    "                                            result_dir=result_dir)\n",
    "                print(\"Successfully run experiments.\")\n",
    "    except Exception as e:\n",
    "        print(\"Failed to load:\", env_name, e)\n",
    "        continue"
   ]
  },
  {
   "cell_type": "code",
   "execution_count": null,
   "id": "edeca49d-6f26-4117-be41-2c6e1ac0ad7e",
   "metadata": {},
   "outputs": [],
   "source": []
  }
 ],
 "metadata": {
  "kernelspec": {
   "display_name": "ronedr_es",
   "language": "python",
   "name": "ronedr_es_env"
  },
  "language_info": {
   "codemirror_mode": {
    "name": "ipython",
    "version": 3
   },
   "file_extension": ".py",
   "mimetype": "text/x-python",
   "name": "python",
   "nbconvert_exporter": "python",
   "pygments_lexer": "ipython3",
   "version": "3.11.7"
  }
 },
 "nbformat": 4,
 "nbformat_minor": 5
}
