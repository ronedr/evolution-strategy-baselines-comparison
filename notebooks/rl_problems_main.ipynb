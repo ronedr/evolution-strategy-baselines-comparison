{
 "cells": [
  {
   "cell_type": "code",
   "id": "b9a9bbc0-7ac5-41dd-a86a-53a3815db1e5",
   "metadata": {
    "ExecuteTime": {
     "end_time": "2025-08-03T12:39:44.084906Z",
     "start_time": "2025-08-03T12:39:44.046019Z"
    }
   },
   "source": [
    "import sys\n",
    "\n",
    "sys.path.append('/mnt/new_home/ronedr/evolution-strategy-baselines-comparison')"
   ],
   "outputs": [],
   "execution_count": 1
  },
  {
   "cell_type": "code",
   "id": "546c57de037e0c46",
   "metadata": {
    "ExecuteTime": {
     "end_time": "2025-08-03T12:39:52.316258Z",
     "start_time": "2025-08-03T12:39:44.087432Z"
    }
   },
   "source": [
    "from tqdm import tqdm\n",
    "import gymnax\n",
    "from evosax.problems import GymnaxProblem as Problem\n",
    "from evosax.problems.networks import MLP\n",
    "import jax\n",
    "from utils.problem_utils import get_problem_settings\n",
    "from experiment.run_experiments import run_experiment_permutations"
   ],
   "outputs": [],
   "execution_count": 2
  },
  {
   "cell_type": "code",
   "id": "b35076e453198a11",
   "metadata": {
    "ExecuteTime": {
     "end_time": "2025-08-03T12:39:52.346360Z",
     "start_time": "2025-08-03T12:39:52.316258Z"
    }
   },
   "source": [
    "es_dict = {\n",
    "    \"SimpleES\": {},\n",
    "    \"LES\": {},\n",
    "    \"DES\": {},\n",
    "    \"EvoTF_ES\": {},\n",
    "    \"PGPE\": {},\n",
    "    \"Open_ES\": {},\n",
    "    \"SNES\": {},\n",
    "    \"Sep_CMA_ES\": {},\n",
    "    \"CMA_ES\": {},\n",
    "}\n",
    "\n",
    "num_generations = 1000\n",
    "population_size = 128\n",
    "seeds = list(range(0, 5))\n",
    "result_dir = \"../experiment_results\"\n",
    "problems_gymnax = gymnax.registered_envs"
   ],
   "outputs": [],
   "execution_count": 3
  },
  {
   "cell_type": "code",
   "id": "ed71d091470424",
   "metadata": {
    "ExecuteTime": {
     "end_time": "2025-08-03T13:08:50.474270Z",
     "start_time": "2025-08-03T13:08:48.470943Z"
    }
   },
   "source": [
    "\n",
    "for env_name in tqdm(problems_gymnax, desc=\"Loading Problems ..\"):\n",
    "    try:\n",
    "        action_num, out_fn = get_problem_settings(env_name)\n",
    "        problem = Problem(\n",
    "            env_name=env_name,\n",
    "            policy=MLP(\n",
    "                layer_sizes=(64, 64, action_num),\n",
    "                output_fn=out_fn,\n",
    "            )\n",
    "        )\n",
    "        print(\"Successfully loaded:\", env_name)\n",
    "        for es in es_dict:\n",
    "            for seed in seeds:\n",
    "                key = jax.random.key(seed)\n",
    "                run_experiment_permutations(problems=[problem],\n",
    "                                            es_dict={es: es_dict[es]},\n",
    "                                            num_generations=num_generations,\n",
    "                                            population_size=population_size,\n",
    "                                            seed=seed,\n",
    "                                            result_dir=result_dir, \n",
    "                                            run_again_if_exist=False)\n",
    "    except Exception as e:\n",
    "        print(\"Failed to load:\", env_name, e)\n",
    "        continue"
   ],
   "outputs": [
    {
     "name": "stderr",
     "output_type": "stream",
     "text": [
      "Loading Problems ..:   0%|          | 0/24 [00:01<?, ?it/s]\n",
      "\n",
      "KeyboardInterrupt\n",
      "\n"
     ]
    }
   ],
   "execution_count": 5
  },
  {
   "cell_type": "code",
   "execution_count": null,
   "id": "edeca49d-6f26-4117-be41-2c6e1ac0ad7e",
   "metadata": {},
   "outputs": [],
   "source": []
  }
 ],
 "metadata": {
  "kernelspec": {
   "display_name": "Python 3 (ipykernel)",
   "language": "python",
   "name": "python3"
  },
  "language_info": {
   "codemirror_mode": {
    "name": "ipython",
    "version": 3
   },
   "file_extension": ".py",
   "mimetype": "text/x-python",
   "name": "python",
   "nbconvert_exporter": "python",
   "pygments_lexer": "ipython3",
   "version": "3.11.7"
  }
 },
 "nbformat": 4,
 "nbformat_minor": 5
}
