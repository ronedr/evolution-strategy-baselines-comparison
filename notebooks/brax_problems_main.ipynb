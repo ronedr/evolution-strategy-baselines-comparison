{
 "cells": [
  {
   "cell_type": "code",
   "id": "f737e819-4932-465e-aeb5-b76dbd37316d",
   "metadata": {
    "ExecuteTime": {
     "end_time": "2025-08-03T14:00:28.106250Z",
     "start_time": "2025-08-03T14:00:28.067653Z"
    }
   },
   "source": [
    "import sys\n",
    "sys.path.append('/mnt/new_home/ronedr/evolution-strategy-baselines-comparison')"
   ],
   "outputs": [],
   "execution_count": 1
  },
  {
   "cell_type": "code",
   "id": "f6932bd9-9d2f-443e-9214-64700c28c2b9",
   "metadata": {
    "ExecuteTime": {
     "end_time": "2025-08-03T14:00:35.847462Z",
     "start_time": "2025-08-03T14:00:28.116376Z"
    }
   },
   "source": [
    "from tqdm import tqdm\n",
    "import brax.envs as brax_envs\n",
    "from evosax.problems import BraxProblem as Problem\n",
    "from evosax.problems.networks import MLP\n",
    "from utils.problem_utils import get_problem_settings\n",
    "from experiment.run_experiments import run_experiment_permutations\n",
    "import jax"
   ],
   "outputs": [],
   "execution_count": 2
  },
  {
   "cell_type": "code",
   "id": "cd19dc37-4d6a-4a32-8ed2-4e06502f2990",
   "metadata": {
    "ExecuteTime": {
     "end_time": "2025-08-03T14:00:35.863817Z",
     "start_time": "2025-08-03T14:00:35.848435Z"
    }
   },
   "source": [
    "es_dict = {\n",
    "    \"SimpleES\": {},\n",
    "    \"LES\": {},\n",
    "    \"DES\": {},\n",
    "    \"EvoTF_ES\": {},\n",
    "    \"PGPE\": {},\n",
    "    \"Open_ES\": {},\n",
    "    \"SNES\": {},\n",
    "    \"Sep_CMA_ES\": {},\n",
    "    \"CMA_ES\": {},\n",
    "}\n",
    "\n",
    "\n",
    "num_generations = 512\n",
    "population_size = 128\n",
    "seeds = list(range(0, 5))\n",
    "result_dir = \"../experiment_results\"\n",
    "problems_brax_envs = list(brax_envs._envs.keys())"
   ],
   "outputs": [],
   "execution_count": 3
  },
  {
   "metadata": {},
   "cell_type": "code",
   "outputs": [],
   "execution_count": null,
   "source": [
    "for env_name in tqdm(problems_brax_envs, desc=\"Loading Problems ..\"):\n",
    "    action_num, out_fn = get_problem_settings(env_name)\n",
    "    try:\n",
    "        problem = Problem(\n",
    "            env_name=env_name,\n",
    "            policy=MLP(\n",
    "                layer_sizes=(32, 32, 32, 32, action_num),\n",
    "                output_fn=out_fn,\n",
    "            ),\n",
    "            episode_length=1000,\n",
    "            env_kwargs={\"backend\": \"generalized\"},\n",
    "        )\n",
    "        \n",
    "        print(\"Successfully loaded:\", env_name)\n",
    "        for es in es_dict:\n",
    "            for seed in seeds:\n",
    "                key = jax.random.key(seed)\n",
    "                run_experiment_permutations(problems=[problem],\n",
    "                                            es_dict={es: es_dict[es]},\n",
    "                                            num_generations=num_generations,\n",
    "                                            population_size=population_size,\n",
    "                                            seed=seed,\n",
    "                                            result_dir=result_dir, \n",
    "                                            run_again_if_exist=False)\n",
    "    except Exception as e:\n",
    "        print(\"Failed to load:\", env_name, e)\n",
    "        continue\n"
   ],
   "id": "9ac97db2704a879a"
  }
 ],
 "metadata": {
  "kernelspec": {
   "display_name": "Python 3 (ipykernel)",
   "language": "python",
   "name": "python3"
  },
  "language_info": {
   "codemirror_mode": {
    "name": "ipython",
    "version": 3
   },
   "file_extension": ".py",
   "mimetype": "text/x-python",
   "name": "python",
   "nbconvert_exporter": "python",
   "pygments_lexer": "ipython3",
   "version": "3.11.7"
  }
 },
 "nbformat": 4,
 "nbformat_minor": 5
}
