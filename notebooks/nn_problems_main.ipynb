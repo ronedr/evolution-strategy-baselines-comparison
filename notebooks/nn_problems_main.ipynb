{
 "cells": [
  {
   "metadata": {
    "ExecuteTime": {
     "end_time": "2025-07-19T21:23:32.042039Z",
     "start_time": "2025-07-19T21:23:26.428326Z"
    }
   },
   "cell_type": "code",
   "source": "import optax",
   "id": "9bd6649e693d131d",
   "outputs": [],
   "execution_count": 1
  },
  {
   "metadata": {
    "ExecuteTime": {
     "end_time": "2025-07-19T21:23:32.071684Z",
     "start_time": "2025-07-19T21:23:32.048164Z"
    }
   },
   "cell_type": "code",
   "source": [
    "num_generations = 64\n",
    "population_size = 128\n",
    "seed = 0\n",
    "result_dir = \"../experiment_results\""
   ],
   "id": "2e3670c52eb2df19",
   "outputs": [],
   "execution_count": 2
  },
  {
   "metadata": {
    "ExecuteTime": {
     "start_time": "2025-07-20T16:08:27.871427Z"
    }
   },
   "cell_type": "code",
   "source": [
    "from evosax.problems import CNN, TorchVisionProblem as Problem, identity_output_fn\n",
    "\n",
    "network = CNN(\n",
    "    num_filters=[8, 16],\n",
    "    kernel_sizes=[(5, 5), (5, 5)],\n",
    "    strides=[(1, 1), (1, 1)],\n",
    "    mlp_layer_sizes=[10],\n",
    "    output_fn=identity_output_fn,\n",
    ")\n",
    "\n",
    "problems = [Problem(task_name=\"MNIST\", network=network, batch_size=1024),\n",
    "            Problem(task_name=\"FashionMNIST\", network=network, batch_size=1024),\n",
    "            Problem(task_name=\"CIFAR10\", network=network, batch_size=1024),\n",
    "            Problem(task_name=\"SVHN\", network=network, batch_size=1024)]\n",
    "\n",
    "lr_schedule = optax.exponential_decay(\n",
    "    init_value=0.01,\n",
    "    transition_steps=num_generations,\n",
    "    decay_rate=0.1,\n",
    ")\n",
    "std_schedule = optax.exponential_decay(\n",
    "    init_value=0.05,\n",
    "    transition_steps=num_generations,\n",
    "    decay_rate=0.2,\n",
    ")\n",
    "\n",
    "es_dict = {\n",
    "    \"LES\": {},\n",
    "    \"EvoTF_ES\": {},\n",
    "    \"DES\": {},\n",
    "    \"SimpleES\": {},\n",
    "    \"PGPE\": {},\n",
    "    \"Open_ES\": {},\n",
    "    \"SNES\": {},\n",
    "    \"Sep_CMA_ES\": {},\n",
    "    \"CMA_ES\": {},\n",
    "}"
   ],
   "id": "initial_id",
   "outputs": [],
   "execution_count": null
  },
  {
   "metadata": {},
   "cell_type": "code",
   "outputs": [],
   "execution_count": null,
   "source": [
    "from experiment.run_experiments import run_experiment_permutations\n",
    "\n",
    "run_experiment_permutations(problems=problems,\n",
    "                            es_dict=es_dict,\n",
    "                            num_generations=num_generations,\n",
    "                            population_size=population_size,\n",
    "                            seed=seed,\n",
    "                            result_dir=result_dir)"
   ],
   "id": "c361565a98d1a023"
  }
 ],
 "metadata": {
  "kernelspec": {
   "display_name": "Python (jax_cpu_env)",
   "language": "python",
   "name": "jax_cpu_env"
  },
  "language_info": {
   "codemirror_mode": {
    "name": "ipython",
    "version": 2
   },
   "file_extension": ".py",
   "mimetype": "text/x-python",
   "name": "python",
   "nbconvert_exporter": "python",
   "pygments_lexer": "ipython2",
   "version": "2.7.6"
  }
 },
 "nbformat": 4,
 "nbformat_minor": 5
}
