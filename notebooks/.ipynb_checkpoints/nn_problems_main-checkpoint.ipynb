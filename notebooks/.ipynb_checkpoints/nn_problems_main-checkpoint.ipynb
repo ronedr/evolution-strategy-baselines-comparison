{
 "cells": [
  {
   "cell_type": "code",
   "execution_count": 1,
   "id": "9bd6649e693d131d",
   "metadata": {
    "ExecuteTime": {
     "end_time": "2025-07-19T21:23:32.042039Z",
     "start_time": "2025-07-19T21:23:26.428326Z"
    }
   },
   "outputs": [],
   "source": [
    "import sys\n",
    "sys.path.append('/mnt/new_home/ronedr/evolution-strategy-baselines-comparison')"
   ]
  },
  {
   "cell_type": "code",
   "execution_count": null,
   "id": "62050126-03a2-4c1d-9d56-5fff032637d9",
   "metadata": {},
   "outputs": [],
   "source": [
    "import optax\n",
    "from tqdm import tqdm\n",
    "import brax.envs as brax_envs\n",
    "from evosax.problems import BraxProblem as Problem\n",
    "from evosax.problems.networks import MLP\n",
    "from utils.problem_utils import get_problem_settings\n",
    "from experiment.run_experiments import run_experiment_permutations"
   ]
  },
  {
   "cell_type": "code",
   "execution_count": null,
   "id": "2e3670c52eb2df19",
   "metadata": {
    "ExecuteTime": {
     "end_time": "2025-07-19T21:23:32.071684Z",
     "start_time": "2025-07-19T21:23:32.048164Z"
    }
   },
   "outputs": [],
   "source": [
    "num_generations = 64\n",
    "population_size = 128\n",
    "seed = 0\n",
    "result_dir = \"../experiment_results\""
   ]
  },
  {
   "cell_type": "code",
   "execution_count": null,
   "id": "initial_id",
   "metadata": {
    "ExecuteTime": {
     "start_time": "2025-07-20T16:08:27.871427Z"
    }
   },
   "outputs": [],
   "source": [
    "from evosax.problems import CNN, TorchVisionProblem as Problem, identity_output_fn\n",
    "\n",
    "network = CNN(\n",
    "    num_filters=[8, 16],\n",
    "    kernel_sizes=[(5, 5), (5, 5)],\n",
    "    strides=[(1, 1), (1, 1)],\n",
    "    mlp_layer_sizes=[10],\n",
    "    output_fn=identity_output_fn,\n",
    ")\n",
    "\n",
    "es_dict = {\n",
    "    \"LES\": {},\n",
    "    \"SimpleES\": {},\n",
    "    \"PGPE\": {},\n",
    "    \"Open_ES\": {},\n",
    "    \"SNES\": {},\n",
    "    \"Sep_CMA_ES\": {},\n",
    "    \"CMA_ES\": {},\n",
    "}"
   ]
  },
  {
   "cell_type": "code",
   "execution_count": null,
   "id": "c361565a98d1a023",
   "metadata": {
    "scrolled": true
   },
   "outputs": [],
   "source": [
    "import jax\n",
    "import os\n",
    "from utils.problem_utils import get_problem_name\n",
    "from evosax.algorithms import algorithms\n",
    "\n",
    "for task_name in tqdm([\"MNIST\", \"FashionMNIST\", \"CIFAR10\", \"SVHN\"], desc=\"Loading Problems ..\"):\n",
    "    try:\n",
    "        problem = Problem(task_name=task_name, network=network, batch_size=1024)\n",
    "        print(\"Successfully loaded:\", task_name)\n",
    "        for es in es_dict:\n",
    "            key = jax.random.key(seed)\n",
    "            es_path = f\"{result_dir}/{get_problem_name(problem)}/{algorithms[es](population_size=population_size, solution=problem.sample(key)).__class__.__name__}.json\"\n",
    "            print(es_path)\n",
    "            if os.path.exists(es_path):\n",
    "                print(\"Path exists\")\n",
    "            else:\n",
    "                print(\"Path does not exist\")\n",
    "                run_experiment_permutations(problems=[problem],\n",
    "                                            es_dict={es: {}},\n",
    "                                            num_generations=num_generations,\n",
    "                                            population_size=population_size,\n",
    "                                            seed=seed,\n",
    "                                            result_dir=result_dir)\n",
    "    except Exception as e:\n",
    "        print(\"Failed to load:\", task_name, e)\n",
    "        continue"
   ]
  },
  {
   "cell_type": "code",
   "execution_count": null,
   "id": "e964e0ae-3af8-4eac-985e-92d56d3ddf76",
   "metadata": {},
   "outputs": [],
   "source": []
  }
 ],
 "metadata": {
  "kernelspec": {
   "display_name": "ronedr_es",
   "language": "python",
   "name": "ronedr_es_env"
  },
  "language_info": {
   "codemirror_mode": {
    "name": "ipython",
    "version": 3
   },
   "file_extension": ".py",
   "mimetype": "text/x-python",
   "name": "python",
   "nbconvert_exporter": "python",
   "pygments_lexer": "ipython3",
   "version": "3.11.7"
  }
 },
 "nbformat": 4,
 "nbformat_minor": 5
}
