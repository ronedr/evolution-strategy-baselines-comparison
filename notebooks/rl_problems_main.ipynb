{
 "cells": [
  {
   "metadata": {
    "ExecuteTime": {
     "end_time": "2025-07-25T15:35:52.543770Z",
     "start_time": "2025-07-25T15:35:26.506481Z"
    }
   },
   "cell_type": "code",
   "source": [
    "import sys\n",
    "\n",
    "sys.path.append('/mnt/new_home/ronedr/evolution-strategy-baselines-comparison')\n",
    "\n",
    "from tqdm import tqdm\n",
    "import gymnax\n",
    "from evosax.problems import GymnaxProblem as Problem\n",
    "from evosax.problems.networks import MLP\n",
    "\n",
    "from utils.problem_utils import get_problem_settings\n",
    "\n",
    "problems = []\n",
    "for env_name in tqdm(gymnax.registered_envs, desc=\"Loading Problems ..\"):\n",
    "    action_num, out_fn = get_problem_settings(env_name)\n",
    "    try:\n",
    "        problems.append(Problem(\n",
    "            env_name=env_name,\n",
    "            policy=MLP(\n",
    "                layer_sizes=(64, 64, action_num),\n",
    "                output_fn=out_fn,\n",
    "            )\n",
    "        ))\n",
    "        print(\"Successfully loaded:\", env_name)\n",
    "    except Exception as e:\n",
    "        print(\"Failed to load:\", env_name, e)\n",
    "        continue\n",
    "\n",
    "es_dict = {\n",
    "    \"LES\": {},\n",
    "    \"SimpleES\": {},\n",
    "    \"PGPE\": {},\n",
    "    \"Open_ES\": {},\n",
    "    \"SNES\": {},\n",
    "    \"Sep_CMA_ES\": {},\n",
    "    \"CMA_ES\": {}\n",
    "}"
   ],
   "id": "ed71d091470424",
   "outputs": [
    {
     "name": "stdout",
     "output_type": "stream",
     "text": [
      "Successfully loaded: CartPole-v1\n",
      "Successfully loaded: Pendulum-v1\n",
      "Successfully loaded: Acrobot-v1\n",
      "Successfully loaded: MountainCar-v0\n",
      "Successfully loaded: MountainCarContinuous-v0\n",
      "Failed to load: Asterix-MinAtar\n"
     ]
    },
    {
     "name": "stderr",
     "output_type": "stream",
     "text": [
      "C:\\Users\\USER\\Documents\\ES\\evolution-strategy-baselines-comparison\\.venv\\lib\\site-packages\\jax\\_src\\ops\\scatter.py:93: FutureWarning: scatter inputs have incompatible types: cannot safely cast value from dtype=float32 to dtype=bool with jax_numpy_dtype_promotion='standard'. In future JAX releases this will result in an error.\n",
      "  warnings.warn(\n"
     ]
    },
    {
     "name": "stdout",
     "output_type": "stream",
     "text": [
      "Failed to load: Breakout-MinAtar\n"
     ]
    },
    {
     "name": "stderr",
     "output_type": "stream",
     "text": [
      "C:\\Users\\USER\\Documents\\ES\\evolution-strategy-baselines-comparison\\.venv\\lib\\site-packages\\gymnax\\environments\\minatar\\freeway.py:284: UserWarning: Explicitly requested dtype <class 'jax.numpy.int64'> requested in array is not available, and will be truncated to dtype int32. To enable more dtypes, set the jax_enable_x64 configuration option or the JAX_ENABLE_X64 shell environment variable. See https://github.com/jax-ml/jax#current-gotchas for more.\n",
      "  return jnp.array(cars, dtype=jnp.int32)\n"
     ]
    },
    {
     "name": "stdout",
     "output_type": "stream",
     "text": [
      "Failed to load: Freeway-MinAtar\n",
      "Failed to load: SpaceInvaders-MinAtar\n",
      "Failed to load: Catch-bsuite\n",
      "Failed to load: DeepSea-bsuite\n",
      "Successfully loaded: MemoryChain-bsuite\n",
      "Successfully loaded: UmbrellaChain-bsuite\n",
      "Successfully loaded: DiscountingChain-bsuite\n",
      "Failed to load: MNISTBandit-bsuite\n",
      "Failed to load: SimpleBandit-bsuite\n"
     ]
    },
    {
     "name": "stderr",
     "output_type": "stream",
     "text": [
      "C:\\Users\\USER\\Documents\\ES\\evolution-strategy-baselines-comparison\\.venv\\lib\\site-packages\\jax\\_src\\numpy\\array_methods.py:122: UserWarning: Explicitly requested dtype <class 'jax.numpy.int64'> requested in astype is not available, and will be truncated to dtype int32. To enable more dtypes, set the jax_enable_x64 configuration option or the JAX_ENABLE_X64 shell environment variable. See https://github.com/jax-ml/jax#current-gotchas for more.\n",
      "  return lax_numpy.astype(self, dtype, copy=copy, device=device)\n"
     ]
    },
    {
     "name": "stdout",
     "output_type": "stream",
     "text": [
      "Successfully loaded: FourRooms-misc\n",
      "Successfully loaded: MetaMaze-misc\n",
      "Successfully loaded: PointRobot-misc\n",
      "Successfully loaded: BernoulliBandit-misc\n",
      "Successfully loaded: GaussianBandit-misc\n",
      "Successfully loaded: Reacher-misc\n",
      "Successfully loaded: Swimmer-misc\n",
      "Failed to load: Pong-misc\n"
     ]
    }
   ],
   "execution_count": 3
  },
  {
   "metadata": {},
   "cell_type": "code",
   "outputs": [],
   "execution_count": null,
   "source": [
    "from experiment.run_experiments import run_experiment_permutations\n",
    "\n",
    "num_generations = 1000\n",
    "population_size = 128\n",
    "seed = 0\n",
    "\n",
    "result_dir = \"../experiment_results\"\n",
    "\n",
    "run_experiment_permutations(problems=problems,\n",
    "                            es_dict=es_dict,\n",
    "                            num_generations=num_generations,\n",
    "                            population_size=population_size,\n",
    "                            seed=seed,\n",
    "                            result_dir=result_dir)"
   ],
   "id": "e1c07c97d972147d"
  }
 ],
 "metadata": {
  "kernelspec": {
   "display_name": "Python (jax_cpu_env)",
   "language": "python",
   "name": "jax_cpu_env"
  },
  "language_info": {
   "codemirror_mode": {
    "name": "ipython",
    "version": 2
   },
   "file_extension": ".py",
   "mimetype": "text/x-python",
   "name": "python",
   "nbconvert_exporter": "python",
   "pygments_lexer": "ipython2",
   "version": "2.7.6"
  }
 },
 "nbformat": 4,
 "nbformat_minor": 5
}
